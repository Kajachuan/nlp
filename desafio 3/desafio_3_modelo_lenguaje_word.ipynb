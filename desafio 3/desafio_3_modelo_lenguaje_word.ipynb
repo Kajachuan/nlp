{
  "cells": [
    {
      "cell_type": "markdown",
      "metadata": {
        "id": "g3yeJGnCYxuF"
      },
      "source": [
        "<img src=\"https://github.com/hernancontigiani/ceia_memorias_especializacion/raw/master/Figures/logoFIUBA.jpg\" width=\"500\" align=\"center\">\n",
        "\n",
        "\n",
        "# Procesamiento de lenguaje natural"
      ]
    },
    {
      "cell_type": "markdown",
      "source": [
        "## Desafío 3 - Modelo de lenguaje con tokenización por palabras"
      ],
      "metadata": {
        "id": "iNzIa8dHM2h0"
      }
    },
    {
      "cell_type": "markdown",
      "metadata": {
        "id": "Iv5PEwGzZA9-"
      },
      "source": [
        "### Consigna\n",
        "- Seleccionar un corpus de texto sobre el cual entrenar el modelo de lenguaje.\n",
        "- Realizar el pre-procesamiento adecuado para tokenizar el corpus, estructurar el dataset y separar entre datos de entrenamiento y validación.\n",
        "- Proponer arquitecturas de redes neuronales basadas en unidades recurrentes para implementar un modelo de lenguaje.\n",
        "- Con el o los modelos que consideren adecuados, generar nuevas secuencias a partir de secuencias de contexto con las estrategias de greedy search y beam search determístico y estocástico. En este último caso observar el efecto de la temperatura en la generación de secuencias.\n",
        "\n",
        "\n",
        "### Sugerencias\n",
        "- Durante el entrenamiento, guiarse por el descenso de la perplejidad en los datos de validación para finalizar el entrenamiento. Para ello se provee un callback.\n",
        "- Explorar utilizar SimpleRNN (celda de Elman), LSTM y GRU.\n",
        "- rmsprop es el optimizador recomendado para la buena convergencia. No obstante se pueden explorar otros.\n"
      ]
    },
    {
      "cell_type": "code",
      "source": [
        "# Se puede usar gradio para probar el modelo\n",
        "# Gradio es una herramienta muy útil para crear interfaces para ensayar modelos\n",
        "# https://gradio.app/\n",
        "\n",
        "!pip install -q gradio"
      ],
      "metadata": {
        "colab": {
          "base_uri": "https://localhost:8080/"
        },
        "id": "YuKFgwtcG57C",
        "outputId": "049fa7ce-4bc6-4764-abe1-948353c27a12"
      },
      "execution_count": 1,
      "outputs": [
        {
          "output_type": "stream",
          "name": "stdout",
          "text": [
            "\u001b[2K   \u001b[90m━━━━━━━━━━━━━━━━━━━━━━━━━━━━━━━━━━━━━━━━\u001b[0m \u001b[32m57.1/57.1 MB\u001b[0m \u001b[31m20.2 MB/s\u001b[0m eta \u001b[36m0:00:00\u001b[0m\n",
            "\u001b[2K   \u001b[90m━━━━━━━━━━━━━━━━━━━━━━━━━━━━━━━━━━━━━━━━\u001b[0m \u001b[32m320.1/320.1 kB\u001b[0m \u001b[31m27.5 MB/s\u001b[0m eta \u001b[36m0:00:00\u001b[0m\n",
            "\u001b[2K   \u001b[90m━━━━━━━━━━━━━━━━━━━━━━━━━━━━━━━━━━━━━━━━\u001b[0m \u001b[32m94.9/94.9 kB\u001b[0m \u001b[31m8.8 MB/s\u001b[0m eta \u001b[36m0:00:00\u001b[0m\n",
            "\u001b[2K   \u001b[90m━━━━━━━━━━━━━━━━━━━━━━━━━━━━━━━━━━━━━━━━\u001b[0m \u001b[32m11.1/11.1 MB\u001b[0m \u001b[31m113.1 MB/s\u001b[0m eta \u001b[36m0:00:00\u001b[0m\n",
            "\u001b[2K   \u001b[90m━━━━━━━━━━━━━━━━━━━━━━━━━━━━━━━━━━━━━━━━\u001b[0m \u001b[32m73.3/73.3 kB\u001b[0m \u001b[31m7.4 MB/s\u001b[0m eta \u001b[36m0:00:00\u001b[0m\n",
            "\u001b[2K   \u001b[90m━━━━━━━━━━━━━━━━━━━━━━━━━━━━━━━━━━━━━━━━\u001b[0m \u001b[32m63.7/63.7 kB\u001b[0m \u001b[31m5.4 MB/s\u001b[0m eta \u001b[36m0:00:00\u001b[0m\n",
            "\u001b[2K   \u001b[90m━━━━━━━━━━━━━━━━━━━━━━━━━━━━━━━━━━━━━━━━\u001b[0m \u001b[32m130.2/130.2 kB\u001b[0m \u001b[31m12.0 MB/s\u001b[0m eta \u001b[36m0:00:00\u001b[0m\n",
            "\u001b[?25h"
          ]
        }
      ]
    },
    {
      "cell_type": "code",
      "execution_count": 2,
      "metadata": {
        "id": "Y-QdFbHZYj7C"
      },
      "outputs": [],
      "source": [
        "import random\n",
        "import io\n",
        "import pickle\n",
        "\n",
        "import numpy as np\n",
        "import pandas as pd\n",
        "import matplotlib.pyplot as plt\n",
        "from sklearn.model_selection import train_test_split\n",
        "\n",
        "from tensorflow import keras\n",
        "from tensorflow.keras import layers\n",
        "from keras.utils import to_categorical\n",
        "from keras.models import Sequential\n",
        "from keras.layers import Dense, LSTM, Embedding, Dropout, SimpleRNN, GRU\n",
        "from tensorflow.keras.losses import SparseCategoricalCrossentropy\n",
        "\n",
        "import gradio as gr"
      ]
    },
    {
      "cell_type": "markdown",
      "metadata": {
        "id": "xTvXlEKQZdqx"
      },
      "source": [
        "### Datos\n",
        "Utilizo como dataset los dos libros de Don Quijote de la Mancha de Miguel de Cervantes Saavedra."
      ]
    },
    {
      "cell_type": "code",
      "execution_count": 3,
      "metadata": {
        "id": "Gb39v3PaZmRH",
        "colab": {
          "base_uri": "https://localhost:8080/",
          "height": 206
        },
        "outputId": "aa541f7f-77d8-4242-83ef-ad2a31acb49d"
      },
      "outputs": [
        {
          "output_type": "execute_result",
          "data": {
            "text/plain": [
              "                                                   0\n",
              "0      El ingenioso hidalgo don Quijote de la Mancha\n",
              "1                                               TASA\n",
              "2  Yo, Juan Gallo de Andrada, escribano de Cámara...\n",
              "3  los que residen en su Consejo, certifico y doy...\n",
              "4  compuesto por Miguel de Cervantes Saavedra, ta..."
            ],
            "text/html": [
              "\n",
              "  <div id=\"df-6079007d-1a4c-4dbf-a333-09875f26c363\" class=\"colab-df-container\">\n",
              "    <div>\n",
              "<style scoped>\n",
              "    .dataframe tbody tr th:only-of-type {\n",
              "        vertical-align: middle;\n",
              "    }\n",
              "\n",
              "    .dataframe tbody tr th {\n",
              "        vertical-align: top;\n",
              "    }\n",
              "\n",
              "    .dataframe thead th {\n",
              "        text-align: right;\n",
              "    }\n",
              "</style>\n",
              "<table border=\"1\" class=\"dataframe\">\n",
              "  <thead>\n",
              "    <tr style=\"text-align: right;\">\n",
              "      <th></th>\n",
              "      <th>0</th>\n",
              "    </tr>\n",
              "  </thead>\n",
              "  <tbody>\n",
              "    <tr>\n",
              "      <th>0</th>\n",
              "      <td>El ingenioso hidalgo don Quijote de la Mancha</td>\n",
              "    </tr>\n",
              "    <tr>\n",
              "      <th>1</th>\n",
              "      <td>TASA</td>\n",
              "    </tr>\n",
              "    <tr>\n",
              "      <th>2</th>\n",
              "      <td>Yo, Juan Gallo de Andrada, escribano de Cámara...</td>\n",
              "    </tr>\n",
              "    <tr>\n",
              "      <th>3</th>\n",
              "      <td>los que residen en su Consejo, certifico y doy...</td>\n",
              "    </tr>\n",
              "    <tr>\n",
              "      <th>4</th>\n",
              "      <td>compuesto por Miguel de Cervantes Saavedra, ta...</td>\n",
              "    </tr>\n",
              "  </tbody>\n",
              "</table>\n",
              "</div>\n",
              "    <div class=\"colab-df-buttons\">\n",
              "\n",
              "  <div class=\"colab-df-container\">\n",
              "    <button class=\"colab-df-convert\" onclick=\"convertToInteractive('df-6079007d-1a4c-4dbf-a333-09875f26c363')\"\n",
              "            title=\"Convert this dataframe to an interactive table.\"\n",
              "            style=\"display:none;\">\n",
              "\n",
              "  <svg xmlns=\"http://www.w3.org/2000/svg\" height=\"24px\" viewBox=\"0 -960 960 960\">\n",
              "    <path d=\"M120-120v-720h720v720H120Zm60-500h600v-160H180v160Zm220 220h160v-160H400v160Zm0 220h160v-160H400v160ZM180-400h160v-160H180v160Zm440 0h160v-160H620v160ZM180-180h160v-160H180v160Zm440 0h160v-160H620v160Z\"/>\n",
              "  </svg>\n",
              "    </button>\n",
              "\n",
              "  <style>\n",
              "    .colab-df-container {\n",
              "      display:flex;\n",
              "      gap: 12px;\n",
              "    }\n",
              "\n",
              "    .colab-df-convert {\n",
              "      background-color: #E8F0FE;\n",
              "      border: none;\n",
              "      border-radius: 50%;\n",
              "      cursor: pointer;\n",
              "      display: none;\n",
              "      fill: #1967D2;\n",
              "      height: 32px;\n",
              "      padding: 0 0 0 0;\n",
              "      width: 32px;\n",
              "    }\n",
              "\n",
              "    .colab-df-convert:hover {\n",
              "      background-color: #E2EBFA;\n",
              "      box-shadow: 0px 1px 2px rgba(60, 64, 67, 0.3), 0px 1px 3px 1px rgba(60, 64, 67, 0.15);\n",
              "      fill: #174EA6;\n",
              "    }\n",
              "\n",
              "    .colab-df-buttons div {\n",
              "      margin-bottom: 4px;\n",
              "    }\n",
              "\n",
              "    [theme=dark] .colab-df-convert {\n",
              "      background-color: #3B4455;\n",
              "      fill: #D2E3FC;\n",
              "    }\n",
              "\n",
              "    [theme=dark] .colab-df-convert:hover {\n",
              "      background-color: #434B5C;\n",
              "      box-shadow: 0px 1px 3px 1px rgba(0, 0, 0, 0.15);\n",
              "      filter: drop-shadow(0px 1px 2px rgba(0, 0, 0, 0.3));\n",
              "      fill: #FFFFFF;\n",
              "    }\n",
              "  </style>\n",
              "\n",
              "    <script>\n",
              "      const buttonEl =\n",
              "        document.querySelector('#df-6079007d-1a4c-4dbf-a333-09875f26c363 button.colab-df-convert');\n",
              "      buttonEl.style.display =\n",
              "        google.colab.kernel.accessAllowed ? 'block' : 'none';\n",
              "\n",
              "      async function convertToInteractive(key) {\n",
              "        const element = document.querySelector('#df-6079007d-1a4c-4dbf-a333-09875f26c363');\n",
              "        const dataTable =\n",
              "          await google.colab.kernel.invokeFunction('convertToInteractive',\n",
              "                                                    [key], {});\n",
              "        if (!dataTable) return;\n",
              "\n",
              "        const docLinkHtml = 'Like what you see? Visit the ' +\n",
              "          '<a target=\"_blank\" href=https://colab.research.google.com/notebooks/data_table.ipynb>data table notebook</a>'\n",
              "          + ' to learn more about interactive tables.';\n",
              "        element.innerHTML = '';\n",
              "        dataTable['output_type'] = 'display_data';\n",
              "        await google.colab.output.renderOutput(dataTable, element);\n",
              "        const docLink = document.createElement('div');\n",
              "        docLink.innerHTML = docLinkHtml;\n",
              "        element.appendChild(docLink);\n",
              "      }\n",
              "    </script>\n",
              "  </div>\n",
              "\n",
              "\n",
              "<div id=\"df-2a39c10f-eba0-40bf-9503-e21965470a01\">\n",
              "  <button class=\"colab-df-quickchart\" onclick=\"quickchart('df-2a39c10f-eba0-40bf-9503-e21965470a01')\"\n",
              "            title=\"Suggest charts\"\n",
              "            style=\"display:none;\">\n",
              "\n",
              "<svg xmlns=\"http://www.w3.org/2000/svg\" height=\"24px\"viewBox=\"0 0 24 24\"\n",
              "     width=\"24px\">\n",
              "    <g>\n",
              "        <path d=\"M19 3H5c-1.1 0-2 .9-2 2v14c0 1.1.9 2 2 2h14c1.1 0 2-.9 2-2V5c0-1.1-.9-2-2-2zM9 17H7v-7h2v7zm4 0h-2V7h2v10zm4 0h-2v-4h2v4z\"/>\n",
              "    </g>\n",
              "</svg>\n",
              "  </button>\n",
              "\n",
              "<style>\n",
              "  .colab-df-quickchart {\n",
              "      --bg-color: #E8F0FE;\n",
              "      --fill-color: #1967D2;\n",
              "      --hover-bg-color: #E2EBFA;\n",
              "      --hover-fill-color: #174EA6;\n",
              "      --disabled-fill-color: #AAA;\n",
              "      --disabled-bg-color: #DDD;\n",
              "  }\n",
              "\n",
              "  [theme=dark] .colab-df-quickchart {\n",
              "      --bg-color: #3B4455;\n",
              "      --fill-color: #D2E3FC;\n",
              "      --hover-bg-color: #434B5C;\n",
              "      --hover-fill-color: #FFFFFF;\n",
              "      --disabled-bg-color: #3B4455;\n",
              "      --disabled-fill-color: #666;\n",
              "  }\n",
              "\n",
              "  .colab-df-quickchart {\n",
              "    background-color: var(--bg-color);\n",
              "    border: none;\n",
              "    border-radius: 50%;\n",
              "    cursor: pointer;\n",
              "    display: none;\n",
              "    fill: var(--fill-color);\n",
              "    height: 32px;\n",
              "    padding: 0;\n",
              "    width: 32px;\n",
              "  }\n",
              "\n",
              "  .colab-df-quickchart:hover {\n",
              "    background-color: var(--hover-bg-color);\n",
              "    box-shadow: 0 1px 2px rgba(60, 64, 67, 0.3), 0 1px 3px 1px rgba(60, 64, 67, 0.15);\n",
              "    fill: var(--button-hover-fill-color);\n",
              "  }\n",
              "\n",
              "  .colab-df-quickchart-complete:disabled,\n",
              "  .colab-df-quickchart-complete:disabled:hover {\n",
              "    background-color: var(--disabled-bg-color);\n",
              "    fill: var(--disabled-fill-color);\n",
              "    box-shadow: none;\n",
              "  }\n",
              "\n",
              "  .colab-df-spinner {\n",
              "    border: 2px solid var(--fill-color);\n",
              "    border-color: transparent;\n",
              "    border-bottom-color: var(--fill-color);\n",
              "    animation:\n",
              "      spin 1s steps(1) infinite;\n",
              "  }\n",
              "\n",
              "  @keyframes spin {\n",
              "    0% {\n",
              "      border-color: transparent;\n",
              "      border-bottom-color: var(--fill-color);\n",
              "      border-left-color: var(--fill-color);\n",
              "    }\n",
              "    20% {\n",
              "      border-color: transparent;\n",
              "      border-left-color: var(--fill-color);\n",
              "      border-top-color: var(--fill-color);\n",
              "    }\n",
              "    30% {\n",
              "      border-color: transparent;\n",
              "      border-left-color: var(--fill-color);\n",
              "      border-top-color: var(--fill-color);\n",
              "      border-right-color: var(--fill-color);\n",
              "    }\n",
              "    40% {\n",
              "      border-color: transparent;\n",
              "      border-right-color: var(--fill-color);\n",
              "      border-top-color: var(--fill-color);\n",
              "    }\n",
              "    60% {\n",
              "      border-color: transparent;\n",
              "      border-right-color: var(--fill-color);\n",
              "    }\n",
              "    80% {\n",
              "      border-color: transparent;\n",
              "      border-right-color: var(--fill-color);\n",
              "      border-bottom-color: var(--fill-color);\n",
              "    }\n",
              "    90% {\n",
              "      border-color: transparent;\n",
              "      border-bottom-color: var(--fill-color);\n",
              "    }\n",
              "  }\n",
              "</style>\n",
              "\n",
              "  <script>\n",
              "    async function quickchart(key) {\n",
              "      const quickchartButtonEl =\n",
              "        document.querySelector('#' + key + ' button');\n",
              "      quickchartButtonEl.disabled = true;  // To prevent multiple clicks.\n",
              "      quickchartButtonEl.classList.add('colab-df-spinner');\n",
              "      try {\n",
              "        const charts = await google.colab.kernel.invokeFunction(\n",
              "            'suggestCharts', [key], {});\n",
              "      } catch (error) {\n",
              "        console.error('Error during call to suggestCharts:', error);\n",
              "      }\n",
              "      quickchartButtonEl.classList.remove('colab-df-spinner');\n",
              "      quickchartButtonEl.classList.add('colab-df-quickchart-complete');\n",
              "    }\n",
              "    (() => {\n",
              "      let quickchartButtonEl =\n",
              "        document.querySelector('#df-2a39c10f-eba0-40bf-9503-e21965470a01 button');\n",
              "      quickchartButtonEl.style.display =\n",
              "        google.colab.kernel.accessAllowed ? 'block' : 'none';\n",
              "    })();\n",
              "  </script>\n",
              "</div>\n",
              "\n",
              "    </div>\n",
              "  </div>\n"
            ],
            "application/vnd.google.colaboratory.intrinsic+json": {
              "type": "dataframe",
              "variable_name": "df",
              "summary": "{\n  \"name\": \"df\",\n  \"rows\": 1171,\n  \"fields\": [\n    {\n      \"column\": 0,\n      \"properties\": {\n        \"dtype\": \"string\",\n        \"num_unique_values\": 1164,\n        \"samples\": [\n          \"A estas voces salieron todos, y, como conocieron los unos a su amigo, las otras a su amo y t\\u00edo, que a\\u00fan no se hab\\u00eda apeado del jumento, porque no\",\n          \"algunos pedantes y bachilleres que por detr\\u00e1s os muerdan y murmuren desta verdad, no se os d\\u00e9 dos maraved\\u00eds; porque, ya que os averig\\u00fcen la mentira,\",\n          \"-\\u00a1Ta, ta! -dijo el cura-. \\u00bfJayanes hay en la danza? Para mi santiguada, que\"\n        ],\n        \"semantic_type\": \"\",\n        \"description\": \"\"\n      }\n    }\n  ]\n}"
            }
          },
          "metadata": {},
          "execution_count": 3
        }
      ],
      "source": [
        "# Armar el dataset utilizando salto de línea para separar las oraciones/docs\n",
        "df = pd.read_csv('quijote_1_renglon.txt', sep='/n', header=None, engine='python')\n",
        "df.head()"
      ]
    },
    {
      "cell_type": "markdown",
      "metadata": {
        "id": "VeMpWpiyG5Ya"
      },
      "source": [
        "Consideraremos que cada secuencia para este dataset es un párrafo.\n",
        "\n",
        "Una de las primeras decisiones que hay que tomar es el tamaño de contexto de tokens máximo que puede consumir el modelo. Este podría ser un hiperparámetro del problema.\n",
        "\n",
        "Para elegir el tamaño de contexto máximo para este problema se puede explorar el dataset, para ello:\n",
        "- se consideran las palabras como términos.\n",
        "- se segmentará el texto de todos los párrafos del dataset y se explorará la cantidad de términos presentes.\n",
        "\n"
      ]
    },
    {
      "cell_type": "code",
      "execution_count": 4,
      "metadata": {
        "id": "riT898QlZnmF",
        "colab": {
          "base_uri": "https://localhost:8080/"
        },
        "outputId": "4bd9f731-cd97-46bb-f380-28977cbbbcb9"
      },
      "outputs": [
        {
          "output_type": "stream",
          "name": "stdout",
          "text": [
            "Cantidad de documentos: 1171\n"
          ]
        }
      ],
      "source": [
        "print(\"Cantidad de documentos:\", df.shape[0])"
      ]
    },
    {
      "cell_type": "markdown",
      "metadata": {
        "id": "cP1JdiOIKQWi"
      },
      "source": [
        "### Elegir el tamaño del contexto"
      ]
    },
    {
      "cell_type": "code",
      "execution_count": 5,
      "metadata": {
        "id": "m5FeTaGvbDbw"
      },
      "outputs": [],
      "source": [
        "# Usaremos las utilidades de procesamiento de textos y secuencias de Keras\n",
        "from tensorflow.keras.preprocessing.text import Tokenizer # equivalente a ltokenizer de nltk\n",
        "from tensorflow.keras.preprocessing.text import text_to_word_sequence # equivalente a word_tokenize de nltk\n",
        "from tensorflow.keras.utils import pad_sequences # se utilizará para padding\n"
      ]
    },
    {
      "cell_type": "code",
      "execution_count": 6,
      "metadata": {
        "id": "jveeyMVKHn9J",
        "colab": {
          "base_uri": "https://localhost:8080/"
        },
        "outputId": "c322afec-29f8-4060-e280-43d7c3e35232"
      },
      "outputs": [
        {
          "output_type": "execute_result",
          "data": {
            "text/plain": [
              "['El ingenioso hidalgo don Quijote de la Mancha',\n",
              " 'TASA',\n",
              " 'Yo, Juan Gallo de Andrada, escribano de Cámara del Rey nuestro señor, de',\n",
              " 'los que residen en su Consejo, certifico y doy fe que, habiendo visto por los señores dél un libro intitulado El ingenioso hidalgo de la Mancha,',\n",
              " 'compuesto por Miguel de Cervantes Saavedra, tasaron cada pliego del dicho libro a tres maravedís y medio; el cual tiene ochenta y tres pliegos, que',\n",
              " 'al dicho precio monta el dicho libro docientos y noventa maravedís y medio, en que se ha de vender en papel; y dieron licencia para que a este precio',\n",
              " 'se pueda vender, y mandaron que esta tasa se ponga al principio del dicho libro, y no se pueda vender sin ella. Y, para que dello conste, di la',\n",
              " 'presente en Valladolid, a veinte días del mes de deciembre de mil y seiscientos y cuatro años.',\n",
              " 'Juan Gallo de Andrada.',\n",
              " 'TESTIMONIO DE LAS ERRATAS',\n",
              " 'Este libro no tiene cosa digna que no corresponda a su original; en',\n",
              " 'testimonio de lo haber correcto, di esta fee. En el Colegio de la Madre de Dios de los Teólogos de la Universidad de Alcalá, en primero de diciembre',\n",
              " 'de 1604 años.',\n",
              " 'El licenciado Francisco Murcia de la Llana.',\n",
              " 'EL REY',\n",
              " 'Por cuanto por parte de vos, Miguel de Cervantes, nos fue fecha relación que habíades compuesto un libro intitulado El ingenioso hidalgo de la',\n",
              " 'Mancha, el cual os había costado mucho trabajo y era muy útil y provechoso, nos pedistes y suplicastes os mandásemos dar licencia y facultad para le',\n",
              " 'poder imprimir, y previlegio por el tiempo que fuésemos servidos, o como la nuestra merced fuese; lo cual visto por los del nuestro Consejo, por cuanto',\n",
              " 'en el dicho libro se hicieron las diligencias que la premática últimamente por nos fecha sobre la impresión de los libros dispone, fue acordado que',\n",
              " 'debíamos mandar dar esta nuestra cédula para vos, en la dicha razón; y nos tuvímoslo por bien. Por la cual, por os hacer bien y merced, os damos',\n",
              " 'licencia y facultad para que vos, o la persona que vuestro poder hubiere, y no otra alguna, podáis imprimir el dicho libro, intitulado El ingenioso',\n",
              " 'hidalgo de la Mancha, que desuso se hace mención, en todos estos nuestros reinos de Castilla, por tiempo y espacio de diez años, que corran y se',\n",
              " 'cuenten desde el dicho día de la data desta nuestra cédula; so pena que la persona o personas que, sin tener vuestro poder, lo imprimiere o vendiere,',\n",
              " 'o hiciere imprimir o vender, por el mesmo caso pierda la impresión que hiciere, con los moldes y aparejos della; y más, incurra en pena de',\n",
              " 'cincuenta mil maravedís cada vez que lo contrario hiciere. La cual dicha pena sea la tercia parte para la persona que lo acusare, y la otra tercia',\n",
              " 'parte para nuestra Cámara, y la otra tercia parte para el juez que lo sentenciare. Con tanto que todas las veces que hubiéredes de hacer imprimir',\n",
              " 'el dicho libro, durante el tiempo de los dichos diez años, le traigáis al nuestro Consejo, juntamente con el original que en él fue visto, que va',\n",
              " 'rubricado cada plana y firmado al fin dél de Juan Gallo de Andrada, nuestro Escribano de Cámara, de los que en él residen, para saber si la dicha',\n",
              " 'impresión está conforme el original; o traigáis fe en pública forma de cómo por corretor nombrado por nuestro mandado, se vio y corrigió la dicha',\n",
              " 'impresión por el original, y se imprimió conforme a él, y quedan impresas las erratas por él apuntadas, para cada un libro de los que así fueren',\n",
              " 'impresos, para que se tase el precio que por cada volume hubiéredes de haber. Y mandamos al impresor que así imprimiere el dicho libro, no imprima',\n",
              " 'el principio ni el primer pliego dél, ni entregue más de un solo libro con el original al autor, o persona a cuya costa lo imprimiere, ni otro alguno,',\n",
              " 'para efeto de la dicha correción y tasa, hasta que antes y primero el dicho libro esté corregido y tasado por los del nuestro Consejo; y, estando',\n",
              " 'hecho, y no de otra manera, pueda imprimir el dicho principio y primer pliego, y sucesivamente ponga esta nuestra cédula y la aprobación, tasa y',\n",
              " 'erratas, so pena de caer e incurrir en las penas contenidas en las leyes y premáticas destos nuestros reinos. Y mandamos a los del nuestro Consejo, y',\n",
              " 'a otras cualesquier justicias dellos, guarden y cumplan esta nuestra cédula y lo en ella contenido. Fecha en Valladolid, a veinte y seis días del mes',\n",
              " 'de setiembre de mil y seiscientos y cuatro años.',\n",
              " 'YO, EL REY.',\n",
              " 'Por mandado del Rey nuestro señor:',\n",
              " 'Juan de Amezqueta.',\n",
              " 'AL DUQUE DE BÉJAR,',\n",
              " 'marqués de Gibraleón, conde de Benalcázar y Bañares, vizconde de La Puebla de Alcocer, señor de las villas de Capilla, Curiel y Burguillos',\n",
              " 'En fe del buen acogimiento y honra que hace Vuestra Excelencia a toda',\n",
              " 'suerte de libros, como príncipe tan inclinado a favorecer las buenas artes, mayormente las que por su nobleza no se abaten al servicio y granjerías del',\n",
              " 'vulgo, he determinado de sacar a luz al Ingenioso hidalgo don Quijote de la Mancha, al abrigo del clarísimo nombre de Vuestra Excelencia, a quien, con',\n",
              " 'el acatamiento que debo a tanta grandeza, suplico le reciba agradablemente en su protección, para que a su sombra, aunque desnudo de aquel precioso',\n",
              " 'ornamento de elegancia y erudición de que suelen andar vestidas las obras que se componen en las casas de los hombres que saben, ose parecer',\n",
              " 'seguramente en el juicio de algunos que, continiéndose en los límites de su ignorancia, suelen condenar con más rigor y menos justicia los trabajos',\n",
              " 'ajenos; que, poniendo los ojos la prudencia de Vuestra Excelencia en mi buen deseo, fío que no desdeñará la cortedad de tan humilde servicio.',\n",
              " 'Miguel de Cervantes Saavedra.',\n",
              " 'PRÓLOGO',\n",
              " 'Desocupado lector: sin juramento me podrás creer que quisiera que este',\n",
              " 'libro, como hijo del entendimiento, fuera el más hermoso, el más gallardo y más discreto que pudiera imaginarse. Pero no he podido yo contravenir al',\n",
              " 'orden de naturaleza; que en ella cada cosa engendra su semejante. Y así, ¿qué podrá engendrar el estéril y mal cultivado ingenio mío, sino la',\n",
              " 'historia de un hijo seco, avellanado, antojadizo y lleno de pensamientos varios y nunca imaginados de otro alguno, bien como quien se engendró en',\n",
              " 'una cárcel, donde toda incomodidad tiene su asiento y donde todo triste ruido hace su habitación? El sosiego, el lugar apacible, la amenidad de los',\n",
              " 'campos, la serenidad de los cielos, el murmurar de las fuentes, la quietud del espíritu son grande parte para que las musas más estériles se muestren',\n",
              " 'fecundas y ofrezcan partos al mundo que le colmen de maravilla y de contento. Acontece tener un padre un hijo feo y sin gracia alguna, y el',\n",
              " 'amor que le tiene le pone una venda en los ojos para que no vea sus faltas, antes las juzga por discreciones y lindezas y las cuenta a sus amigos por',\n",
              " 'agudezas y donaires. Pero yo, que, aunque parezco padre, soy padrastro de Don Quijote, no quiero irme con la corriente del uso, ni suplicarte, casi',\n",
              " 'con las lágrimas en los ojos, como otros hacen, lector carísimo, que perdones o disimules las faltas que en este mi hijo vieres; y ni eres su',\n",
              " 'pariente ni su amigo, y tienes tu alma en tu cuerpo y tu libre albedrío como el más pintado, y estás en tu casa, donde eres señor della, como el',\n",
              " 'rey de sus alcabalas, y sabes lo que comúnmente se dice: que debajo de mi manto, al rey mato. Todo lo cual te esenta y hace libre de todo respecto y',\n",
              " 'obligación; y así, puedes decir de la historia todo aquello que te pareciere, sin temor que te calunien por el mal ni te premien por el bien',\n",
              " 'que dijeres della.',\n",
              " 'Sólo quisiera dártela monda y desnuda, sin el ornato de prólogo, ni de la inumerabilidad y catálogo de los acostumbrados sonetos, epigramas y elogios',\n",
              " 'que al principio de los libros suelen ponerse. Porque te sé decir que, aunque me costó algún trabajo componerla, ninguno tuve por mayor que hacer',\n",
              " 'esta prefación que vas leyendo. Muchas veces tomé la pluma para escribille, y muchas la dejé, por no saber lo que escribiría; y, estando una suspenso,',\n",
              " 'con el papel delante, la pluma en la oreja, el codo en el bufete y la mano en la mejilla, pensando lo que diría, entró a deshora un amigo mío,',\n",
              " 'gracioso y bien entendido, el cual, viéndome tan imaginativo, me preguntó la causa; y, no encubriéndosela yo, le dije que pensaba en el prólogo que',\n",
              " 'había de hacer a la historia de don Quijote, y que me tenía de suerte que ni quería hacerle, ni menos sacar a luz las hazañas de tan noble caballero.',\n",
              " '-Porque, ¿cómo queréis vos que no me tenga confuso el qué dirá el antiguo',\n",
              " 'legislador que llaman vulgo cuando vea que, al cabo de tantos años como ha que duermo en el silencio del olvido, salgo ahora, con todos mis años a',\n",
              " 'cuestas, con una leyenda seca como un esparto, ajena de invención, menguada de estilo, pobre de concetos y falta de toda erudición y doctrina; sin',\n",
              " 'acotaciones en las márgenes y sin anotaciones en el fin del libro, como veo que están otros libros, aunque sean fabulosos y profanos, tan llenos de',\n",
              " 'sentencias de Aristóteles, de Platón y de toda la caterva de filósofos, que admiran a los leyentes y tienen a sus autores por hombres leídos, eruditos',\n",
              " 'y elocuentes? ¡Pues qué, cuando citan la Divina Escritura! No dirán sino que son unos santos Tomases y otros doctores de la Iglesia; guardando en',\n",
              " 'esto un decoro tan ingenioso, que en un renglón han pintado un enamorado destraído y en otro hacen un sermoncico cristiano, que es un contento y un',\n",
              " 'regalo oílle o leelle. De todo esto ha de carecer mi libro, porque ni tengo qué acotar en el margen, ni qué anotar en el fin, ni menos sé qué autores',\n",
              " 'sigo en él, para ponerlos al principio, como hacen todos, por las letras del A.B.C., comenzando en Aristóteles y acabando en Xenofonte y en Zoílo o',\n",
              " 'Zeuxis, aunque fue maldiciente el uno y pintor el otro. También ha de carecer mi libro de sonetos al principio, a lo menos de sonetos cuyos',\n",
              " 'autores sean duques, marqueses, condes, obispos, damas o poetas celebérrimos; aunque, si yo los pidiese a dos o tres oficiales amigos, yo',\n",
              " 'sé que me los darían, y tales, que no les igualasen los de aquellos que tienen más nombre en nuestra España. En fin, señor y amigo mío -proseguí-,',\n",
              " 'yo determino que el señor don Quijote se quede sepultado en sus archivos en la Mancha, hasta que el cielo depare quien le adorne de tantas cosas como',\n",
              " 'le faltan; porque yo me hallo incapaz de remediarlas, por mi insuficiencia y pocas letras, y porque naturalmente soy poltrón y perezoso de andarme',\n",
              " 'buscando autores que digan lo que yo me sé decir sin ellos. De aquí nace la suspensión y elevamiento, amigo, en que me hallastes; bastante causa para',\n",
              " 'ponerme en ella la que de mí habéis oído.',\n",
              " 'Oyendo lo cual mi amigo, dándose una palmada en la frente y disparando en una carga de risa, me dijo:',\n",
              " '-Por Dios, hermano, que agora me acabo de desengañar de un engaño en que he',\n",
              " 'estado todo el mucho tiempo que ha que os conozco, en el cual siempre os he tenido por discreto y prudente en todas vuestras aciones. Pero agora veo',\n",
              " 'que estáis tan lejos de serlo como lo está el cielo de la tierra. ¿Cómo que es posible que cosas de tan poco momento y tan fáciles de remediar puedan',\n",
              " 'tener fuerzas de suspender y absortar un ingenio tan maduro como el vuestro, y tan hecho a romper y atropellar por otras dificultades mayores?',\n",
              " 'A la fe, esto no nace de falta de habilidad, sino de sobra de pereza y penuria de discurso. ¿Queréis ver si es verdad lo que digo? Pues estadme',\n",
              " 'atento y veréis cómo, en un abrir y cerrar de ojos, confundo todas vuestras dificultades y remedio todas las faltas que decís que os suspenden y',\n",
              " 'acobardan para dejar de sacar a la luz del mundo la historia de vuestro famoso don Quijote, luz y espejo de toda la caballería andante.',\n",
              " '-Decid -le repliqué yo, oyendo lo que me decía-: ¿de qué modo pensáis',\n",
              " 'llenar el vacío de mi temor y reducir a claridad el caos de mi confusión?',\n",
              " 'A lo cual él dijo:',\n",
              " '-Lo primero en que reparáis de los sonetos, epigramas o elogios que os faltan para el principio, y que sean de personajes graves y de título, se',\n",
              " 'puede remediar en que vos mesmo toméis algún trabajo en hacerlos, y después los podéis bautizar y poner el nombre que quisiéredes, ahijándolos al',\n",
              " 'Preste Juan de las Indias o al Emperador de Trapisonda, de quien yo sé que hay noticia que fueron famosos poetas; y cuando no lo hayan sido y hubiere',\n",
              " 'algunos pedantes y bachilleres que por detrás os muerdan y murmuren desta verdad, no se os dé dos maravedís; porque, ya que os averigüen la mentira,',\n",
              " 'no os han de cortar la mano con que lo escribistes.',\n",
              " '»En lo de citar en las márgenes los libros y autores de donde sacáredes las sentencias y dichos que pusiéredes en vuestra historia, no hay más sino',\n",
              " 'hacer, de manera que venga a pelo, algunas sentencias o latines que vos sepáis de memoria, o, a lo menos, que os cuesten poco trabajo el buscalle;',\n",
              " 'como será poner, tratando de libertad y cautiverio:',\n",
              " 'Non bene pro toto libertas venditur auro.',\n",
              " 'Y luego, en el margen, citar a Horacio, o a quien lo dijo. Si tratáredes del poder de la muerte, acudir luego con:',\n",
              " 'Pallida mors aequo pulsat pede pauperum tabernas,',\n",
              " 'Regumque turres.',\n",
              " 'Si de la amistad y amor que Dios manda que se tenga al enemigo, entraros luego al punto por la Escritura Divina, que lo podéis hacer con tantico de',\n",
              " 'curiosidad, y decir las palabras, por lo menos, del mismo Dios: Ego autem dico vobis: diligite inimicos vestros. Si tratáredes de malos pensamientos,',\n",
              " 'acudid con el Evangelio: De corde exeunt cogitationes malae. Si de la instabilidad de los amigos, ahí está Catón, que os dará su dístico:',\n",
              " 'Donec eris felix, multos numerabis amicos,',\n",
              " 'tempora si fuerint nubila, solus eris.',\n",
              " 'Y con estos latinicos y otros tales os tendrán siquiera por gramático, que el serlo no es de poca honra y provecho el día de hoy.',\n",
              " '»En lo que toca el poner anotaciones al fin del libro, seguramente lo',\n",
              " 'podéis hacer desta manera: si nombráis algún gigante en vuestro libro, hacelde que sea el gigante Golías, y con sólo esto, que os costará casi',\n",
              " 'nada, tenéis una grande anotación, pues podéis poner: El gigante Golías, o Goliat, fue un filisteo a quien el pastor David mató de una gran pedrada en',\n",
              " 'el valle de Terebinto, según se cuenta en el Libro de los Reyes, en el capítulo que vos halláredes que se escribe. Tras esto, para mostraros',\n",
              " 'hombre erudito en letras humanas y cosmógrafo, haced de modo como en vuestra historia se nombre el río Tajo, y veréisos luego con otra famosa',\n",
              " 'anotación, poniendo: El río Tajo fue así dicho por un rey de las Españas; tiene su nacimiento en tal lugar y muere en el mar océano, besando los',\n",
              " 'muros de la famosa ciudad de Lisboa; y es opinión que tiene las arenas de oro, etc. Si tratáredes de ladrones, yo os diré la historia de Caco, que la',\n",
              " 'sé de coro; si de mujeres rameras, ahí está el obispo de Mondoñedo, que os prestará a Lamia, Laida y Flora, cuya anotación os dará gran crédito; si de',\n",
              " 'crueles, Ovidio os entregará a Medea; si de encantadores y hechiceras, Homero tiene a Calipso, y Virgilio a Circe; si de capitanes valerosos, el',\n",
              " 'mesmo Julio César os prestará a sí mismo en sus Comentarios, y Plutarco os dará mil Alejandros. Si tratáredes de amores, con dos onzas que sepáis de',\n",
              " 'la lengua toscana, toparéis con León Hebreo, que os hincha las medidas. Y si no queréis andaros por tierras extrañas, en vuestra casa tenéis a',\n",
              " 'Fonseca, Del amor de Dios, donde se cifra todo lo que vos y el más ingenioso acertare a desear en tal materia. En resolución, no hay más sino',\n",
              " 'que vos procuréis nombrar estos nombres, o tocar estas historias en la vuestra, que aquí he dicho, y dejadme a mí el cargo de poner las',\n",
              " 'anotaciones y acotaciones; que yo os voto a tal de llenaros las márgenes y de gastar cuatro pliegos en el fin del libro.',\n",
              " '»Vengamos ahora a la citación de los autores que los otros libros tienen,',\n",
              " 'que en el vuestro os faltan. El remedio que esto tiene es muy fácil, porque no habéis de hacer otra cosa que buscar un libro que los acote todos, desde',\n",
              " 'la A hasta la Z, como vos decís. Pues ese mismo abecedario pondréis vos en vuestro libro; que, puesto que a la clara se vea la mentira, por la poca',\n",
              " 'necesidad que vos teníades de aprovecharos dellos, no importa nada; y quizá alguno habrá tan simple, que crea que de todos os habéis aprovechado en la',\n",
              " 'simple y sencilla historia vuestra; y, cuando no sirva de otra cosa, por lo menos servirá aquel largo catálogo de autores a dar de improviso autoridad',\n",
              " 'al libro. Y más, que no habrá quien se ponga a averiguar si los seguistes o no los seguistes, no yéndole nada en ello. Cuanto más que, si bien caigo en',\n",
              " 'la cuenta, este vuestro libro no tiene necesidad de ninguna cosa de aquellas que vos decís que le falta, porque todo él es una invectiva contra',\n",
              " 'los libros de caballerías, de quien nunca se acordó Aristóteles, ni dijo nada San Basilio, ni alcanzó Cicerón; ni caen debajo de la cuenta de sus',\n",
              " 'fabulosos disparates las puntualidades de la verdad, ni las observaciones de la astrología; ni le son de importancia las medidas geométricas, ni la',\n",
              " 'confutación de los argumentos de quien se sirve la retórica; ni tiene para qué predicar a ninguno, mezclando lo humano con lo divino, que es un género',\n",
              " 'de mezcla de quien no se ha de vestir ningún cristiano entendimiento. Sólo tiene que aprovecharse de la imitación en lo que fuere escribiendo; que,',\n",
              " 'cuanto ella fuere más perfecta, tanto mejor será lo que se escribiere. Y, pues esta vuestra escritura no mira a más que a deshacer la autoridad y',\n",
              " 'cabida que en el mundo y en el vulgo tienen los libros de caballerías, no hay para qué andéis mendigando sentencias de filósofos, consejos de la',\n",
              " 'Divina Escritura, fábulas de poetas, oraciones de retóricos, milagros de santos, sino procurar que a la llana, con palabras significantes, honestas',\n",
              " 'y bien colocadas, salga vuestra oración y período sonoro y festivo; pintando, en todo lo que alcanzáredes y fuere posible, vuestra intención,',\n",
              " 'dando a entender vuestros conceptos sin intricarlos y escurecerlos. Procurad también que, leyendo vuestra historia, el melancólico se mueva a',\n",
              " 'risa, el risueño la acreciente, el simple no se enfade, el discreto se admire de la invención, el grave no la desprecie, ni el prudente deje de',\n",
              " 'alabarla. En efecto, llevad la mira puesta a derribar la máquina mal fundada destos caballerescos libros, aborrecidos de tantos y alabados de',\n",
              " 'muchos más; que si esto alcanzásedes, no habríades alcanzado poco.',\n",
              " 'Con silencio grande estuve escuchando lo que mi amigo me decía, y de tal manera se imprimieron en mí sus razones que, sin ponerlas en disputa, las',\n",
              " 'aprobé por buenas y de ellas mismas quise hacer este prólogo; en el cual verás, lector suave, la discreción de mi amigo, la buena ventura mía en',\n",
              " 'hallar en tiempo tan necesitado tal consejero, y el alivio tuyo en hallar tan sincera y tan sin revueltas la historia del famoso don Quijote de la',\n",
              " 'Mancha, de quien hay opinión, por todos los habitadores del distrito del campo de Montiel, que fue el más casto enamorado y el más valiente',\n",
              " 'caballero que de muchos años a esta parte se vio en aquellos contornos. Yo no quiero encarecerte el servicio que te hago en darte a conocer tan noble',\n",
              " 'y tan honrado caballero, pero quiero que me agradezcas el conocimiento que tendrás del famoso Sancho Panza, su escudero, en quien, a mi parecer, te',\n",
              " 'doy cifradas todas las gracias escuderiles que en la caterva de los libros vanos de caballerías están esparcidas.',\n",
              " 'Y con esto, Dios te dé salud, y a mí no olvide. Vale.',\n",
              " 'AL LIBRO DE DON QUIJOTE DE LA MANCHA',\n",
              " 'Urganda la desconocida',\n",
              " 'Si de llegarte a los bue-, libro, fueres con letu-,',\n",
              " 'no te dirá el boquirru- que no pones bien los de-.',\n",
              " 'Mas si el pan no se te cue- por ir a manos de idio-,',\n",
              " 'verás de manos a bo-, aun no dar una en el cla-,',\n",
              " 'si bien se comen las ma- por mostrar que son curio-.',\n",
              " 'Y, pues la expiriencia ense- que el que a buen árbol se arri-',\n",
              " 'buena sombra le cobi-, en Béjar tu buena estre-',\n",
              " 'un árbol real te ofre- que da príncipes por fru-,',\n",
              " 'en el cual floreció un du- que es nuevo Alejandro Ma-:',\n",
              " 'llega a su sombra, que a osa- favorece la fortu-.',\n",
              " 'De un noble hidalgo manche- contarás las aventu-,',\n",
              " 'a quien ociosas letu-, trastornaron la cabe-:',\n",
              " 'damas, armas, caballe-, le provocaron de mo-,',\n",
              " 'que, cual Orlando furio-, templado a lo enamora-,',\n",
              " 'alcanzó a fuerza de bra- a Dulcinea del Tobo-.',\n",
              " 'No indiscretos hieroglí- estampes en el escu-,',\n",
              " 'que, cuando es todo figu-, con ruines puntos se envi-.',\n",
              " 'Si en la dirección te humi-,',\n",
              " \"no dirá, mofante, algu-: ''¡Qué don Álvaro de Lu-,\",\n",
              " 'qué Anibal el de Carta-, qué rey Francisco en Espa-',\n",
              " \"se queja de la Fortu-!'' Pues al cielo no le plu-\",\n",
              " 'que salieses tan ladi- como el negro Juan Lati-,',\n",
              " 'hablar latines rehú-. No me despuntes de agu-,',\n",
              " 'ni me alegues con filó-, porque, torciendo la bo-,',\n",
              " 'dirá el que entiende la le-, no un palmo de las ore-:',\n",
              " \"''¿Para qué conmigo flo-?'' No te metas en dibu-,\",\n",
              " 'ni en saber vidas aje-, que, en lo que no va ni vie-,',\n",
              " 'pasar de largo es cordu-.',\n",
              " 'Que suelen en caperu- darles a los que grace-;',\n",
              " 'mas tú quémate las ce- sólo en cobrar buena fa-;',\n",
              " 'que el que imprime neceda- dalas a censo perpe-.',\n",
              " 'Advierte que es desati-, siendo de vidrio el teja-,',\n",
              " 'tomar piedras en las ma- para tirar al veci-.',\n",
              " 'Deja que el hombre de jui-, en las obras que compo-,',\n",
              " 'se vaya con pies de plo-; que el que saca a luz pape-',\n",
              " 'para entretener donce- escribe a tontas y a lo-.',\n",
              " 'AMADÍS DE GAULA A DON QUIJOTE DE LA MANCHA',\n",
              " 'Soneto',\n",
              " 'Tú, que imitaste la llorosa vida',\n",
              " 'que tuve, ausente y desdeñado sobre el gran ribazo de la Peña Pobre,',\n",
              " 'de alegre a penitencia reducida; tú, a quien los ojos dieron la bebida',\n",
              " 'de abundante licor, aunque salobre, y alzándote la plata, estaño y cobre,',\n",
              " 'te dio la tierra en tierra la comida, vive seguro de que eternamente,',\n",
              " 'en tanto, al menos, que en la cuarta esfera, sus caballos aguije el rubio Apolo,',\n",
              " 'tendrás claro renombre de valiente; tu patria será en todas la primera;',\n",
              " 'tu sabio autor, al mundo único y solo.',\n",
              " 'DON BELIANÍS DE GRECIA A DON QUIJOTE DE LA MANCHA',\n",
              " 'Soneto',\n",
              " 'Rompí, corté, abollé, y dije y hice más que en el orbe caballero andante;',\n",
              " 'fui diestro, fui valiente, fui arrogante; mil agravios vengué, cien mil deshice.',\n",
              " 'Hazañas di a la Fama que eternice; fui comedido y regalado amante;',\n",
              " 'fue enano para mí todo gigante, y al duelo en cualquier punto satisfice.',\n",
              " 'Tuve a mis pies postrada la Fortuna, y trajo del copete mi cordura',\n",
              " 'a la calva Ocasión al estricote. Más, aunque sobre el cuerno de la luna',\n",
              " 'siempre se vio encumbrada mi ventura, tus proezas envidio, ¡oh gran Quijote!',\n",
              " 'LA SEÑORA ORIANA A DULCINEA DEL TOBOSO',\n",
              " 'Soneto',\n",
              " '¡Oh, quién tuviera, hermosa Dulcinea,',\n",
              " 'por más comodidad y más reposo, a Miraflores puesto en el Toboso,',\n",
              " 'y trocara sus Londres con tu aldea! ¡Oh, quién de tus deseos y librea',\n",
              " 'alma y cuerpo adornara, y del famoso caballero que hiciste venturoso',\n",
              " 'mirara alguna desigual pelea! ¡Oh, quién tan castamente se escapara',\n",
              " 'del señor Amadís como tú hiciste del comedido hidalgo don Quijote!',\n",
              " 'Que así envidiada fuera, y no envidiara, y fuera alegre el tiempo que fue triste,',\n",
              " 'y gozara los gustos sin escote.',\n",
              " 'GANDALÍN, ESCUDERO DE AMADÍS DE GAULA, A SANCHO PANZA, ESCUDERO DE DON QUIJOTE',\n",
              " 'Soneto',\n",
              " 'Salve, varón famoso, a quien Fortuna, cuando en el trato escuderil te puso,',\n",
              " 'tan blanda y cuerdamente lo dispuso, que lo pasaste sin desgracia alguna.',\n",
              " 'Ya la azada o la hoz poco repugna al andante ejercicio; ya está en uso',\n",
              " 'la llaneza escudera, con que acuso al soberbio que intenta hollar la luna.',\n",
              " 'Envidio a tu jumento y a tu nombre, y a tus alforjas igualmente invidio,',\n",
              " 'que mostraron tu cuerda providencia. Salve otra vez, ¡oh Sancho!, tan buen hombre,',\n",
              " 'que a solo tú nuestro español Ovidio con buzcorona te hace reverencia.',\n",
              " 'DEL DONOSO, POETA ENTREVERADO, A SANCHO PANZA Y ROCINANTE',\n",
              " 'Soy Sancho Panza, escude-',\n",
              " 'del manchego don Quijo-. Puse pies en polvoro-,',\n",
              " 'por vivir a lo discre-; que el tácito Villadie-',\n",
              " 'toda su razón de esta- cifró en una retira-,',\n",
              " 'según siente Celesti-, libro, en mi opinión, divi-',\n",
              " 'si encubriera más lo huma-. A Rocinante',\n",
              " 'Soy Rocinante, el famo- bisnieto del gran Babie-.',\n",
              " 'Por pecados de flaque-, fui a poder de un don Quijo-.',\n",
              " 'Parejas corrí a lo flo-; mas, por uña de caba-,',\n",
              " 'no se me escapó ceba-; que esto saqué a Lazari-',\n",
              " 'cuando, para hurtar el vi- al ciego, le di la pa-.',\n",
              " 'ORLANDO FURIOSO A DON QUIJOTE DE LA MANCHA',\n",
              " 'Soneto',\n",
              " 'Si no eres par, tampoco le has tenido:',\n",
              " 'que par pudieras ser entre mil pares; ni puede haberle donde tú te hallares,',\n",
              " 'invito vencedor, jamás vencido. Orlando soy, Quijote, que, perdido',\n",
              " 'por Angélica, vi remotos mares, ofreciendo a la Fama en sus altares',\n",
              " 'aquel valor que respetó el olvido. No puedo ser tu igual; que este decoro',\n",
              " 'se debe a tus proezas y a tu fama, puesto que, como yo, perdiste el seso.',\n",
              " 'Mas serlo has mío, si al soberbio moro y cita fiero domas, que hoy nos llama',\n",
              " 'iguales en amor con mal suceso.',\n",
              " 'EL CABALLERO DEL FEBO A DON QUIJOTE DE LA MANCHA',\n",
              " 'Soneto',\n",
              " 'A vuestra espada no igualó la mía, Febo español, curioso cortesano,',\n",
              " 'ni a la alta gloria de valor mi mano, que rayo fue do nace y muere el día.',\n",
              " 'Imperios desprecié; la monarquía que me ofreció el Oriente rojo en vano',\n",
              " 'dejé, por ver el rostro soberano de Claridiana, aurora hermosa mía.',\n",
              " 'Améla por milagro único y raro, y, ausente en su desgracia, el propio infierno',\n",
              " 'temió mi brazo, que domó su rabia. Mas vos, godo Quijote, ilustre y claro,',\n",
              " 'por Dulcinea sois al mundo eterno, y ella, por vos, famosa, honesta y sabia.',\n",
              " 'DE SOLISDÁN A DON QUIJOTE DE LA MANCHA',\n",
              " 'Soneto',\n",
              " 'Maguer, señor Quijote, que sandeces',\n",
              " 'vos tengan el cerbelo derrumbado, nunca seréis de alguno reprochado',\n",
              " 'por home de obras viles y soeces. Serán vuesas fazañas los joeces,',\n",
              " 'pues tuertos desfaciendo habéis andado, siendo vegadas mil apaleado',\n",
              " 'por follones cautivos y raheces. Y si la vuesa linda Dulcinea',\n",
              " 'desaguisado contra vos comete, ni a vuesas cuitas muestra buen talante,',\n",
              " 'en tal desmán, vueso conorte sea que Sancho Panza fue mal alcagüete,',\n",
              " 'necio él, dura ella, y vos no amante.',\n",
              " 'DIÁLOGO ENTRE BABIECA Y ROCINANTE',\n",
              " 'Soneto',\n",
              " 'B. ¿Cómo estáis, Rocinante, tan delgado? R. Porque nunca se come, y se trabaja.',\n",
              " 'B. Pues, ¿qué es de la cebada y de la paja? R. No me deja mi amo ni un bocado.',\n",
              " 'B. Andá, señor, que estáis muy mal criado, pues vuestra lengua de asno al amo ultraja.',\n",
              " 'R. Asno se es de la cuna a la mortaja. ¿Queréislo ver? Miraldo enamorado.',\n",
              " 'B. ¿Es necedad amar? R. No es gran prudencia. B. Metafísico estáis. R. Es que no como.',\n",
              " 'B. Quejaos del escudero. R. No es bastante. ¿Cómo me he de quejar en mi dolencia,',\n",
              " 'si el amo y escudero o mayordomo son tan rocines como Rocinante?',\n",
              " 'Primera parte del ingenioso hidalgo don Quijote de la Mancha',\n",
              " 'Capítulo primero. Que trata de la condición y ejercicio del famoso hidalgo',\n",
              " 'don Quijote de la Mancha',\n",
              " 'En un lugar de la Mancha, de cuyo nombre no quiero acordarme, no ha mucho',\n",
              " 'tiempo que vivía un hidalgo de los de lanza en astillero, adarga antigua, rocín flaco y galgo corredor. Una olla de algo más vaca que carnero,',\n",
              " 'salpicón las más noches, duelos y quebrantos los sábados, lantejas los viernes, algún palomino de añadidura los domingos, consumían las tres',\n",
              " 'partes de su hacienda. El resto della concluían sayo de velarte, calzas de velludo para las fiestas, con sus pantuflos de lo mesmo, y los días de',\n",
              " 'entresemana se honraba con su vellorí de lo más fino. Tenía en su casa una ama que pasaba de los cuarenta, y una sobrina que no llegaba a los veinte,',\n",
              " 'y un mozo de campo y plaza, que así ensillaba el rocín como tomaba la podadera. Frisaba la edad de nuestro hidalgo con los cincuenta años; era de',\n",
              " 'complexión recia, seco de carnes, enjuto de rostro, gran madrugador y amigo de la caza. Quieren decir que tenía el sobrenombre de Quijada, o Quesada,',\n",
              " 'que en esto hay alguna diferencia en los autores que deste caso escriben; aunque, por conjeturas verosímiles, se deja entender que se llamaba',\n",
              " 'Quejana. Pero esto importa poco a nuestro cuento; basta que en la narración dél no se salga un punto de la verdad.',\n",
              " 'Es, pues, de saber que este sobredicho hidalgo, los ratos que estaba',\n",
              " 'ocioso, que eran los más del año, se daba a leer libros de caballerías, con tanta afición y gusto, que olvidó casi de todo punto el ejercicio de la',\n",
              " 'caza, y aun la administración de su hacienda. Y llegó a tanto su curiosidad y desatino en esto, que vendió muchas hanegas de tierra de sembradura para',\n",
              " 'comprar libros de caballerías en que leer, y así, llevó a su casa todos cuantos pudo haber dellos; y de todos, ningunos le parecían tan bien como',\n",
              " 'los que compuso el famoso Feliciano de Silva, porque la claridad de su prosa y aquellas entricadas razones suyas le parecían de perlas, y más',\n",
              " 'cuando llegaba a leer aquellos requiebros y cartas de desafíos, donde en muchas partes hallaba escrito: La razón de la sinrazón que a mi razón se',\n",
              " 'hace, de tal manera mi razón enflaquece, que con razón me quejo de la vuestra fermosura. Y también cuando leía: ...los altos cielos que de',\n",
              " 'vuestra divinidad divinamente con las estrellas os fortifican, y os hacen merecedora del merecimiento que merece la vuestra grandeza.',\n",
              " 'Con estas razones perdía el pobre caballero el juicio, y desvelábase por',\n",
              " 'entenderlas y desentrañarles el sentido, que no se lo sacara ni las entendiera el mesmo Aristóteles, si resucitara para sólo ello. No estaba',\n",
              " 'muy bien con las heridas que don Belianís daba y recebía, porque se imaginaba que, por grandes maestros que le hubiesen curado, no dejaría de',\n",
              " 'tener el rostro y todo el cuerpo lleno de cicatrices y señales. Pero, con todo, alababa en su autor aquel acabar su libro con la promesa de aquella',\n",
              " 'inacabable aventura, y muchas veces le vino deseo de tomar la pluma y dalle fin al pie de la letra, como allí se promete; y sin duda alguna lo hiciera,',\n",
              " 'y aun saliera con ello, si otros mayores y continuos pensamientos no se lo estorbaran. Tuvo muchas veces competencia con el cura de su lugar -que era',\n",
              " 'hombre docto, graduado en Sigüenza-, sobre cuál había sido mejor caballero: Palmerín de Ingalaterra o Amadís de Gaula; mas maese Nicolás, barbero del',\n",
              " 'mesmo pueblo, decía que ninguno llegaba al Caballero del Febo, y que si alguno se le podía comparar, era don Galaor, hermano de Amadís de Gaula,',\n",
              " 'porque tenía muy acomodada condición para todo; que no era caballero melindroso, ni tan llorón como su hermano, y que en lo de la valentía no le',\n",
              " 'iba en zaga.',\n",
              " 'En resolución, él se enfrascó tanto en su letura, que se le pasaban las noches leyendo de claro en claro, y los días de turbio en turbio; y así,',\n",
              " 'del poco dormir y del mucho leer, se le secó el celebro, de manera que vino a perder el juicio. Llenósele la fantasía de todo aquello que leía en los',\n",
              " 'libros, así de encantamentos como de pendencias, batallas, desafíos, heridas, requiebros, amores, tormentas y disparates imposibles; y',\n",
              " 'asentósele de tal modo en la imaginación que era verdad toda aquella máquina de aquellas sonadas soñadas invenciones que leía, que para él no',\n",
              " 'había otra historia más cierta en el mundo. Decía él que el Cid Ruy Díaz había sido muy buen caballero, pero que no tenía que ver con el Caballero',\n",
              " 'de la Ardiente Espada, que de sólo un revés había partido por medio dos fieros y descomunales gigantes. Mejor estaba con Bernardo del Carpio,',\n",
              " 'porque en Roncesvalles había muerto a Roldán el encantado, valiéndose de la industria de Hércules, cuando ahogó a Anteo, el hijo de la Tierra, entre',\n",
              " 'los brazos. Decía mucho bien del gigante Morgante, porque, con ser de aquella generación gigantea, que todos son soberbios y descomedidos, él',\n",
              " 'solo era afable y bien criado. Pero, sobre todos, estaba bien con Reinaldos de Montalbán, y más cuando le veía salir de su castillo y robar cuantos',\n",
              " 'topaba, y cuando en allende robó aquel ídolo de Mahoma que era todo de oro, según dice su historia. Diera él, por dar una mano de coces al traidor de',\n",
              " 'Galalón, al ama que tenía, y aun a su sobrina de añadidura.',\n",
              " 'En efeto, rematado ya su juicio, vino a dar en el más estraño pensamiento que jamás dio loco en el mundo; y fue que le pareció convenible y',\n",
              " 'necesario, así para el aumento de su honra como para el servicio de su república, hacerse caballero andante, y irse por todo el mundo con sus',\n",
              " 'armas y caballo a buscar las aventuras y a ejercitarse en todo aquello que él había leído que los caballeros andantes se ejercitaban, deshaciendo todo',\n",
              " 'género de agravio, y poniéndose en ocasiones y peligros donde, acabándolos, cobrase eterno nombre y fama. Imaginábase el pobre ya coronado por el valor',\n",
              " 'de su brazo, por lo menos, del imperio de Trapisonda; y así, con estos tan agradables pensamientos, llevado del estraño gusto que en ellos sentía, se',\n",
              " 'dio priesa a poner en efeto lo que deseaba.',\n",
              " 'Y lo primero que hizo fue limpiar unas armas que habían sido de sus bisabuelos, que, tomadas de orín y llenas de moho, luengos siglos había que',\n",
              " 'estaban puestas y olvidadas en un rincón. Limpiólas y aderezólas lo mejor que pudo, pero vio que tenían una gran falta, y era que no tenían celada de',\n",
              " 'encaje, sino morrión simple; mas a esto suplió su industria, porque de cartones hizo un modo de media celada, que, encajada con el morrión, hacían',\n",
              " 'una apariencia de celada entera. Es verdad que para probar si era fuerte y podía estar al riesgo de una cuchillada, sacó su espada y le dio dos',\n",
              " 'golpes, y con el primero y en un punto deshizo lo que había hecho en una semana; y no dejó de parecerle mal la facilidad con que la había hecho',\n",
              " 'pedazos, y, por asegurarse deste peligro, la tornó a hacer de nuevo, poniéndole unas barras de hierro por de dentro, de tal manera que él quedó',\n",
              " 'satisfecho de su fortaleza; y, sin querer hacer nueva experiencia della, la diputó y tuvo por celada finísima de encaje.',\n",
              " 'Fue luego a ver su rocín, y, aunque tenía más cuartos que un real y más',\n",
              " 'tachas que el caballo de Gonela, que tantum pellis et ossa fuit, le pareció que ni el Bucéfalo de Alejandro ni Babieca el del Cid con él se igualaban.',\n",
              " 'Cuatro días se le pasaron en imaginar qué nombre le pondría; porque, según se decía él a sí mesmo, no era razón que caballo de caballero tan famoso, y',\n",
              " 'tan bueno él por sí, estuviese sin nombre conocido; y ansí, procuraba acomodársele de manera que declarase quién había sido, antes que fuese de',\n",
              " 'caballero andante, y lo que era entonces; pues estaba muy puesto en razón que, mudando su señor estado, mudase él también el nombre, y le cobrase',\n",
              " 'famoso y de estruendo, como convenía a la nueva orden y al nuevo ejercicio que ya profesaba. Y así, después de muchos nombres que formó, borró y',\n",
              " 'quitó, añadió, deshizo y tornó a hacer en su memoria e imaginación, al fin le vino a llamar Rocinante: nombre, a su parecer, alto, sonoro y',\n",
              " 'significativo de lo que había sido cuando fue rocín, antes de lo que ahora era, que era antes y primero de todos los rocines del mundo.',\n",
              " 'Puesto nombre, y tan a su gusto, a su caballo, quiso ponérsele a sí mismo,',\n",
              " 'y en este pensamiento duró otros ocho días, y al cabo se vino a llamar don Quijote; de donde -como queda dicho- tomaron ocasión los autores desta tan',\n",
              " 'verdadera historia que, sin duda, se debía de llamar Quijada, y no Quesada, como otros quisieron decir. Pero, acordándose que el valeroso Amadís no',\n",
              " 'sólo se había contentado con llamarse Amadís a secas, sino que añadió el nombre de su reino y patria, por Hepila famosa, y se llamó Amadís de Gaula,',\n",
              " 'así quiso, como buen caballero, añadir al suyo el nombre de la suya y llamarse don Quijote de la Mancha, con que, a su parecer, declaraba muy al',\n",
              " 'vivo su linaje y patria, y la honraba con tomar el sobrenombre della.',\n",
              " 'Limpias, pues, sus armas, hecho del morrión celada, puesto nombre a su rocín y confirmándose a sí mismo, se dio a entender que no le faltaba otra',\n",
              " 'cosa sino buscar una dama de quien enamorarse; porque el caballero andante sin amores era árbol sin hojas y sin fruto y cuerpo sin alma. Decíase él',\n",
              " 'a sí:',\n",
              " '-Si yo, por malos de mis pecados, o por mi buena suerte, me encuentro por ahí con algún gigante, como de ordinario les acontece a los caballeros',\n",
              " 'andantes, y le derribo de un encuentro, o le parto por mitad del cuerpo, o, finalmente, le venzo y le rindo, ¿no será bien tener a quien enviarle',\n",
              " \"presentado y que entre y se hinque de rodillas ante mi dulce señora, y diga con voz humilde y rendido: ''Yo, señora, soy el gigante Caraculiambro,\",\n",
              " 'señor de la ínsula Malindrania, a quien venció en singular batalla el jamás como se debe alabado caballero don Quijote de la Mancha, el cual me',\n",
              " \"mandó que me presentase ante vuestra merced, para que la vuestra grandeza disponga de mí a su talante''?\",\n",
              " '¡Oh, cómo se holgó nuestro buen caballero cuando hubo hecho este discurso,',\n",
              " 'y más cuando halló a quien dar nombre de su dama! Y fue, a lo que se cree, que en un lugar cerca del suyo había una moza labradora de muy buen',\n",
              " 'parecer, de quien él un tiempo anduvo enamorado, aunque, según se entiende, ella jamás lo supo, ni le dio cata dello. Llamábase Aldonza Lorenzo, y a',\n",
              " 'ésta le pareció ser bien darle título de señora de sus pensamientos; y, buscándole nombre que no desdijese mucho del suyo, y que tirase y se',\n",
              " 'encaminase al de princesa y gran señora, vino a llamarla Dulcinea del Toboso, porque era natural del Toboso; nombre, a su parecer, músico y',\n",
              " 'peregrino y significativo, como todos los demás que a él y a sus cosas había puesto.',\n",
              " 'Capítulo II. Que trata de la primera salida que de su tierra hizo el',\n",
              " 'ingenioso don Quijote',\n",
              " 'Hechas, pues, estas prevenciones, no quiso aguardar más tiempo a poner en',\n",
              " 'efeto su pensamiento, apretándole a ello la falta que él pensaba que hacía en el mundo su tardanza, según eran los agravios que pensaba deshacer,',\n",
              " 'tuertos que enderezar, sinrazones que emendar, y abusos que mejorar y deudas que satisfacer. Y así, sin dar parte a persona alguna de su',\n",
              " 'intención, y sin que nadie le viese, una mañana, antes del día, que era uno de los calurosos del mes de julio, se armó de todas sus armas, subió sobre',\n",
              " 'Rocinante, puesta su mal compuesta celada, embrazó su adarga, tomó su lanza, y, por la puerta falsa de un corral, salió al campo con grandísimo',\n",
              " 'contento y alborozo de ver con cuánta facilidad había dado principio a su buen deseo. Mas, apenas se vio en el campo, cuando le asaltó un pensamiento',\n",
              " 'terrible, y tal, que por poco le hiciera dejar la comenzada empresa; y fue que le vino a la memoria que no era armado caballero, y que, conforme a ley',\n",
              " 'de caballería, ni podía ni debía tomar armas con ningún caballero; y, puesto que lo fuera, había de llevar armas blancas, como novel caballero,',\n",
              " 'sin empresa en el escudo, hasta que por su esfuerzo la ganase. Estos pensamientos le hicieron titubear en su propósito; mas, pudiendo más su',\n",
              " 'locura que otra razón alguna, propuso de hacerse armar caballero del primero que topase, a imitación de otros muchos que así lo hicieron, según',\n",
              " 'él había leído en los libros que tal le tenían. En lo de las armas blancas, pensaba limpiarlas de manera, en teniendo lugar, que lo fuesen más que un',\n",
              " 'armiño; y con esto se quietó y prosiguió su camino, sin llevar otro que aquel que su caballo quería, creyendo que en aquello consistía la fuerza de',\n",
              " 'las aventuras.',\n",
              " 'Yendo, pues, caminando nuestro flamante aventurero, iba hablando consigo mesmo y diciendo:',\n",
              " '-¿Quién duda sino que en los venideros tiempos, cuando salga a luz la',\n",
              " 'verdadera historia de mis famosos hechos, que el sabio que los escribiere no ponga, cuando llegue a contar esta mi primera salidad tan de mañana,',\n",
              " 'desta manera?: «Apenas había el rubicundo Apolo tendido por la faz de la ancha y espaciosa tierra las doradas hebras de sus hermosos cabellos, y',\n",
              " 'apenas los pequeños y pintados pajarillos con sus arpadas lenguas habían saludado con dulce y meliflua armonía la venida de la rosada aurora, que,',\n",
              " 'dejando la blanda cama del celoso marido, por las puertas y balcones del manchego horizonte a los mortales se mostraba, cuando el famoso caballero',\n",
              " 'don Quijote de la Mancha, dejando las ociosas plumas, subió sobre su famoso caballo Rocinante, y comenzó a caminar por el antiguo y conocido campo de',\n",
              " 'Montiel».',\n",
              " 'Y era la verdad que por él caminaba. Y añadió diciendo:',\n",
              " '-Dichosa edad, y siglo dichoso aquel adonde saldrán a luz las famosas hazañas mías, dignas de entallarse en bronces, esculpirse en mármoles y',\n",
              " 'pintarse en tablas para memoria en lo futuro. ¡Oh tú, sabio encantador, quienquiera que seas, a quien ha de tocar el ser coronista desta peregrina',\n",
              " 'historia, ruégote que no te olvides de mi buen Rocinante, compañero eterno mío en todos mis caminos y carreras!',\n",
              " 'Luego volvía diciendo, como si verdaderamente fuera enamorado:',\n",
              " '-¡Oh princesa Dulcinea, señora deste cautivo corazón!, mucho agravio me',\n",
              " 'habedes fecho en despedirme y reprocharme con el riguroso afincamiento de mandarme no parecer ante la vuestra fermosura. Plégaos, señora, de',\n",
              " 'membraros deste vuestro sujeto corazón, que tantas cuitas por vuestro amor padece.',\n",
              " 'Con éstos iba ensartando otros disparates, todos al modo de los que sus',\n",
              " 'libros le habían enseñado, imitando en cuanto podía su lenguaje. Con esto, caminaba tan despacio, y el sol entraba tan apriesa y con tanto ardor, que',\n",
              " 'fuera bastante a derretirle los sesos, si algunos tuviera.',\n",
              " 'Casi todo aquel día caminó sin acontecerle cosa que de contar fuese, de lo cual se desesperaba, porque quisiera topar luego luego con quien hacer',\n",
              " 'experiencia del valor de su fuerte brazo. Autores hay que dicen que la primera aventura que le avino fue la del Puerto Lápice; otros dicen que la',\n",
              " 'de los molinos de viento; pero, lo que yo he podido averiguar en este caso, y lo que he hallado escrito en los Anales de la Mancha, es que él anduvo',\n",
              " 'todo aquel día, y, al anochecer, su rocín y él se hallaron cansados y muertos de hambre; y que, mirando a todas partes por ver si descubriría',\n",
              " 'algún castillo o alguna majada de pastores donde recogerse y adonde pudiese remediar su mucha hambre y necesidad, vio, no lejos del camino por donde',\n",
              " 'iba, una venta, que fue como si viera una estrella que, no a los portales, sino a los alcázares de su redención le encaminaba. Diose priesa a caminar,',\n",
              " 'y llegó a ella a tiempo que anochecía.',\n",
              " 'Estaban acaso a la puerta dos mujeres mozas, destas que llaman del partido, las cuales iban a Sevilla con unos arrieros que en la venta aquella noche',\n",
              " 'acertaron a hacer jornada; y, como a nuestro aventurero todo cuanto pensaba, veía o imaginaba le parecía ser hecho y pasar al modo de lo que',\n",
              " 'había leído, luego que vio la venta, se le representó que era un castillo con sus cuatro torres y chapiteles de luciente plata, sin faltarle su',\n",
              " 'puente levadiza y honda cava, con todos aquellos adherentes que semejantes castillos se pintan. Fuese llegando a la venta, que a él le parecía',\n",
              " 'castillo, y a poco trecho della detuvo las riendas a Rocinante, esperando que algún enano se pusiese entre las almenas a dar señal con alguna',\n",
              " 'trompeta de que llegaba caballero al castillo. Pero, como vio que se tardaban y que Rocinante se daba priesa por llegar a la caballeriza, se',\n",
              " 'llegó a la puerta de la venta, y vio a las dos destraídas mozas que allí estaban, que a él le parecieron dos hermosas doncellas o dos graciosas',\n",
              " 'damas que delante de la puerta del castillo se estaban solazando. En esto, sucedió acaso que un porquero que andaba recogiendo de unos rastrojos una',\n",
              " 'manada de puercos -que, sin perdón, así se llaman- tocó un cuerno, a cuya señal ellos se recogen, y al instante se le representó a don Quijote lo que',\n",
              " 'deseaba, que era que algún enano hacía señal de su venida; y así, con estraño contento, llegó a la venta y a las damas, las cuales, como vieron',\n",
              " 'venir un hombre de aquella suerte, armado y con lanza y adarga, llenas de miedo, se iban a entrar en la venta; pero don Quijote, coligiendo por su',\n",
              " 'huida su miedo, alzándose la visera de papelón y descubriendo su seco y polvoroso rostro, con gentil talante y voz reposada, les dijo:',\n",
              " '-No fuyan las vuestras mercedes ni teman desaguisado alguno; ca a la orden',\n",
              " 'de caballería que profeso non toca ni atañe facerle a ninguno, cuanto más a tan altas doncellas como vuestras presencias demuestran.',\n",
              " 'Mirábanle las mozas, y andaban con los ojos buscándole el rostro, que la',\n",
              " 'mala visera le encubría; mas, como se oyeron llamar doncellas, cosa tan fuera de su profesión, no pudieron tener la risa, y fue de manera que don',\n",
              " 'Quijote vino a correrse y a decirles:',\n",
              " '-Bien parece la mesura en las fermosas, y es mucha sandez además la risa que de leve causa procede; pero no vos lo digo porque os acuitedes ni',\n",
              " 'mostredes mal talante; que el mío non es de ál que de serviros.',\n",
              " 'El lenguaje, no entendido de las señoras, y el mal talle de nuestro caballero acrecentaba en ellas la risa y en él el enojo; y pasara muy',\n",
              " 'adelante si a aquel punto no saliera el ventero, hombre que, por ser muy gordo, era muy pacífico, el cual, viendo aquella figura contrahecha, armada',\n",
              " 'de armas tan desiguales como eran la brida, lanza, adarga y coselete, no estuvo en nada en acompañar a las doncellas en las muestras de su contento.',\n",
              " 'Mas, en efeto, temiendo la máquina de tantos pertrechos, determinó de hablarle comedidamente; y así, le dijo:',\n",
              " '-Si vuestra merced, señor caballero, busca posada, amén del lecho (porque',\n",
              " 'en esta venta no hay ninguno), todo lo demás se hallará en ella en mucha abundancia.',\n",
              " 'Viendo don Quijote la humildad del alcaide de la fortaleza, que tal le',\n",
              " 'pareció a él el ventero y la venta, respondió:',\n",
              " '-Para mí, señor castellano, cualquiera cosa basta, porque mis arreos son las armas,',\n",
              " 'mi descanso el pelear, etc.',\n",
              " 'Pensó el huésped que el haberle llamado castellano había sido por haberle parecido de los sanos de Castilla, aunque él era andaluz, y de los de la',\n",
              " 'playa de Sanlúcar, no menos ladrón que Caco, ni menos maleante que estudiantado paje; y así, le respondió:',\n",
              " '-Según eso, las camas de vuestra merced serán duras peñas, y su dormir,',\n",
              " 'siempre velar; y siendo así, bien se puede apear, con seguridad de hallar en esta choza ocasión y ocasiones para no dormir en todo un año, cuanto más',\n",
              " 'en una noche.',\n",
              " 'Y, diciendo esto, fue a tener el estribo a don Quijote, el cual se apeó con mucha dificultad y trabajo, como aquel que en todo aquel día no se había',\n",
              " 'desayunado.',\n",
              " 'Dijo luego al huésped que le tuviese mucho cuidado de su caballo, porque era la mejor pieza que comía pan en el mundo. Miróle el ventero, y no le',\n",
              " 'pareció tan bueno como don Quijote decía, ni aun la mitad; y, acomodándole en la caballeriza, volvió a ver lo que su huésped mandaba, al cual estaban',\n",
              " 'desarmando las doncellas, que ya se habían reconciliado con él; las cuales, aunque le habían quitado el peto y el espaldar, jamás supieron ni pudieron',\n",
              " 'desencajarle la gola, ni quitalle la contrahecha celada, que traía atada con unas cintas verdes, y era menester cortarlas, por no poderse quitar los',\n",
              " 'ñudos; mas él no lo quiso consentir en ninguna manera, y así, se quedó toda aquella noche con la celada puesta, que era la más graciosa y estraña',\n",
              " 'figura que se pudiera pensar; y, al desarmarle, como él se imaginaba que aquellas traídas y llevadas que le desarmaban eran algunas principales',\n",
              " 'señoras y damas de aquel castillo, les dijo con mucho donaire:',\n",
              " '-Nunca fuera caballero de damas tan bien servido',\n",
              " 'como fuera don Quijote cuando de su aldea vino:',\n",
              " 'doncellas curaban dél; princesas, del su rocino,',\n",
              " 'o Rocinante, que éste es el nombre, señoras mías, de mi caballo, y don',\n",
              " 'Quijote de la Mancha el mío; que, puesto que no quisiera descubrirme fasta que las fazañas fechas en vuestro servicio y pro me descubrieran, la fuerza',\n",
              " 'de acomodar al propósito presente este romance viejo de Lanzarote ha sido causa que sepáis mi nombre antes de toda sazón; pero, tiempo vendrá en que',\n",
              " 'las vuestras señorías me manden y yo obedezca, y el valor de mi brazo descubra el deseo que tengo de serviros.',\n",
              " 'Las mozas, que no estaban hechas a oír semejantes retóricas, no respondían',\n",
              " 'palabra; sólo le preguntaron si quería comer alguna cosa.',\n",
              " '-Cualquiera yantaría yo -respondió don Quijote-, porque, a lo que entiendo, me haría mucho al caso.',\n",
              " 'A dicha, acertó a ser viernes aquel día, y no había en toda la venta sino',\n",
              " 'unas raciones de un pescado que en Castilla llaman abadejo, y en Andalucía bacallao, y en otras partes curadillo, y en otras truchuela. Preguntáronle',\n",
              " 'si por ventura comería su merced truchuela, que no había otro pescado que dalle a comer.',\n",
              " '-Como haya muchas truchuelas -respondió don Quijote-, podrán servir de una',\n",
              " 'trucha, porque eso se me da que me den ocho reales en sencillos que en una pieza de a ocho. Cuanto más, que podría ser que fuesen estas truchuelas',\n",
              " 'como la ternera, que es mejor que la vaca, y el cabrito que el cabrón. Pero, sea lo que fuere, venga luego, que el trabajo y peso de las armas no',\n",
              " 'se puede llevar sin el gobierno de las tripas.',\n",
              " 'Pusiéronle la mesa a la puerta de la venta, por el fresco, y trújole el huésped una porción del mal remojado y peor cocido bacallao, y un pan tan',\n",
              " 'negro y mugriento como sus armas; pero era materia de grande risa verle comer, porque, como tenía puesta la celada y alzada la visera, no podía',\n",
              " 'poner nada en la boca con sus manos si otro no se lo daba y ponía; y ansí, una de aquellas señoras servía deste menester. Mas, al darle de beber, no',\n",
              " 'fue posible, ni lo fuera si el ventero no horadara una caña, y puesto el un cabo en la boca, por el otro le iba echando el vino; y todo esto lo recebía',\n",
              " 'en paciencia, a trueco de no romper las cintas de la celada.',\n",
              " 'Estando en esto, llegó acaso a la venta un castrador de puercos; y, así como llegó, sonó su silbato de cañas cuatro o cinco veces, con lo cual',\n",
              " 'acabó de confirmar don Quijote que estaba en algún famoso castillo, y que le servían con música, y que el abadejo eran truchas; el pan, candeal; y',\n",
              " 'las rameras, damas; y el ventero, castellano del castillo, y con esto daba por bien empleada su determinación y salida. Mas lo que más le fatigaba era',\n",
              " 'el no verse armado caballero, por parecerle que no se podría poner legítimamente en aventura alguna sin recebir la orden de caballería.',\n",
              " 'Capítulo III. Donde se cuenta la graciosa manera que tuvo don Quijote en',\n",
              " 'armarse caballero',\n",
              " 'Y así, fatigado deste pensamiento, abrevió su venteril y limitada cena; la',\n",
              " 'cual acabada, llamó al ventero, y, encerrándose con él en la caballeriza, se hincó de rodillas ante él, diciéndole:',\n",
              " '-No me levantaré jamás de donde estoy, valeroso caballero, fasta que la',\n",
              " 'vuestra cortesía me otorgue un don que pedirle quiero, el cual redundará en alabanza vuestra y en pro del género humano.',\n",
              " 'El ventero, que vio a su huésped a sus pies y oyó semejantes razones,',\n",
              " 'estaba confuso mirándole, sin saber qué hacerse ni decirle, y porfiaba con él que se levantase, y jamás quiso, hasta que le hubo de decir que él le',\n",
              " 'otorgaba el don que le pedía.',\n",
              " '-No esperaba yo menos de la gran magnificencia vuestra, señor mío -respondió don Quijote-; y así, os digo que el don que os he pedido, y de',\n",
              " 'vuestra liberalidad me ha sido otorgado, es que mañana en aquel día me habéis de armar caballero, y esta noche en la capilla deste vuestro',\n",
              " 'castillo velaré las armas; y mañana, como tengo dicho, se cumplirá lo que tanto deseo, para poder, como se debe, ir por todas las cuatro partes del',\n",
              " 'mundo buscando las aventuras, en pro de los menesterosos, como está a cargo de la caballería y de los caballeros andantes, como yo soy, cuyo deseo a',\n",
              " 'semejantes fazañas es inclinado.',\n",
              " 'El ventero, que, como está dicho, era un poco socarrón y ya tenía algunos barruntos de la falta de juicio de su huésped, acabó de creerlo cuando',\n",
              " 'acabó de oírle semejantes razones, y, por tener qué reír aquella noche, determinó de seguirle el humor; y así, le dijo que andaba muy acertado en',\n",
              " 'lo que deseaba y pedía, y que tal prosupuesto era propio y natural de los caballeros tan principales como él parecía y como su gallarda presencia',\n",
              " 'mostraba; y que él, ansimesmo, en los años de su mocedad, se había dado a aquel honroso ejercicio, andando por diversas partes del mundo buscando sus',\n",
              " 'aventuras, sin que hubiese dejado los Percheles de Málaga, Islas de Riarán, Compás de Sevilla, Azoguejo de Segovia, la Olivera de Valencia, Rondilla de',\n",
              " 'Granada, Playa de Sanlúcar, Potro de Córdoba y las Ventillas de Toledo y otras diversas partes, donde había ejercitado la ligereza de sus pies,',\n",
              " 'sutileza de sus manos, haciendo muchos tuertos, recuestando muchas viudas, deshaciendo algunas doncellas y engañando a algunos pupilos, y, finalmente,',\n",
              " 'dándose a conocer por cuantas audiencias y tribunales hay casi en toda España; y que, a lo último, se había venido a recoger a aquel su castillo,',\n",
              " 'donde vivía con su hacienda y con las ajenas, recogiendo en él a todos los caballeros andantes, de cualquiera calidad y condición que fuesen, sólo por',\n",
              " 'la mucha afición que les tenía y porque partiesen con él de sus haberes, en pago de su buen deseo.',\n",
              " 'Díjole también que en aquel su castillo no había capilla alguna donde poder',\n",
              " 'velar las armas, porque estaba derribada para hacerla de nuevo; pero que, en caso de necesidad, él sabía que se podían velar dondequiera, y que',\n",
              " 'aquella noche las podría velar en un patio del castillo; que a la mañana, siendo Dios servido, se harían las debidas ceremonias, de manera que él',\n",
              " 'quedase armado caballero, y tan caballero que no pudiese ser más en el mundo.',\n",
              " 'Preguntóle si traía dineros; respondió don Quijote que no traía blanca,',\n",
              " 'porque él nunca había leído en las historias de los caballeros andantes que ninguno los hubiese traído. A esto dijo el ventero que se engañaba; que,',\n",
              " 'puesto caso que en las historias no se escribía, por haberles parecido a los autores dellas que no era menester escrebir una cosa tan clara y tan',\n",
              " 'necesaria de traerse como eran dineros y camisas limpias, no por eso se había de creer que no los trujeron; y así, tuviese por cierto y averiguado',\n",
              " 'que todos los caballeros andantes, de que tantos libros están llenos y atestados, llevaban bien herradas las bolsas, por lo que pudiese',\n",
              " 'sucederles; y que asimismo llevaban camisas y una arqueta pequeña llena de ungüentos para curar las heridas que recebían, porque no todas veces en los',\n",
              " 'campos y desiertos donde se combatían y salían heridos había quien los curase, si ya no era que tenían algún sabio encantador por amigo, que luego',\n",
              " 'los socorría, trayendo por el aire, en alguna nube, alguna doncella o enano con alguna redoma de agua de tal virtud que, en gustando alguna gota della,',\n",
              " 'luego al punto quedaban sanos de sus llagas y heridas, como si mal alguno hubiesen tenido. Mas que, en tanto que esto no hubiese, tuvieron los',\n",
              " 'pasados caballeros por cosa acertada que sus escuderos fuesen proveídos de dineros y de otras cosas necesarias, como eran hilas y ungüentos para',\n",
              " 'curarse; y, cuando sucedía que los tales caballeros no tenían escuderos, que eran pocas y raras veces, ellos mesmos lo llevaban todo en unas',\n",
              " 'alforjas muy sutiles, que casi no se parecían, a las ancas del caballo, como que era otra cosa de más importancia; porque, no siendo por ocasión',\n",
              " 'semejante, esto de llevar alforjas no fue muy admitido entre los caballeros andantes; y por esto le daba por consejo, pues aún se lo podía mandar como',\n",
              " 'a su ahijado, que tan presto lo había de ser, que no caminase de allí adelante sin dineros y sin las prevenciones referidas, y que vería cuán',\n",
              " 'bien se hallaba con ellas cuando menos se pensase.',\n",
              " 'Prometióle don Quijote de hacer lo que se le aconsejaba con toda puntualidad; y así, se dio luego orden como velase las armas en un corral',\n",
              " 'grande que a un lado de la venta estaba; y, recogiéndolas don Quijote todas, las puso sobre una pila que junto a un pozo estaba, y, embrazando su',\n",
              " 'adarga, asió de su lanza y con gentil continente se comenzó a pasear delante de la pila; y cuando comenzó el paseo comenzaba a cerrar la noche.',\n",
              " 'Contó el ventero a todos cuantos estaban en la venta la locura de su',\n",
              " 'huésped, la vela de las armas y la armazón de caballería que esperaba. Admiráronse de tan estraño género de locura y fuéronselo a mirar desde',\n",
              " 'lejos, y vieron que, con sosegado ademán, unas veces se paseaba; otras, arrimado a su lanza, ponía los ojos en las armas, sin quitarlos por un buen',\n",
              " 'espacio dellas. Acabó de cerrar la noche, pero con tanta claridad de la luna, que podía competir con el que se la prestaba, de manera que cuanto el',\n",
              " 'novel caballero hacía era bien visto de todos. Antojósele en esto a uno de los arrieros que estaban en la venta ir a dar agua a su recua, y fue',\n",
              " 'menester quitar las armas de don Quijote, que estaban sobre la pila; el cual, viéndole llegar, en voz alta le dijo:',\n",
              " '-¡Oh tú, quienquiera que seas, atrevido caballero, que llegas a tocar las',\n",
              " 'armas del más valeroso andante que jamás se ciñó espada!, mira lo que haces y no las toques, si no quieres dejar la vida en pago de tu atrevimiento.',\n",
              " 'No se curó el arriero destas razones (y fuera mejor que se curara, porque',\n",
              " 'fuera curarse en salud); antes, trabando de las correas, las arrojó gran trecho de sí. Lo cual visto por don Quijote, alzó los ojos al cielo, y,',\n",
              " 'puesto el pensamiento -a lo que pareció- en su señora Dulcinea, dijo:',\n",
              " '-Acorredme, señora mía, en esta primera afrenta que a este vuestro avasallado pecho se le ofrece; no me desfallezca en este primero trance',\n",
              " 'vuestro favor y amparo.',\n",
              " 'Y, diciendo estas y otras semejantes razones, soltando la adarga, alzó la lanza a dos manos y dio con ella tan gran golpe al arriero en la cabeza,',\n",
              " 'que le derribó en el suelo, tan maltrecho que, si segundara con otro, no tuviera necesidad de maestro que le curara. Hecho esto, recogió sus armas y',\n",
              " 'tornó a pasearse con el mismo reposo que primero. Desde allí a poco, sin saberse lo que había pasado (porque aún estaba aturdido el arriero), llegó',\n",
              " 'otro con la mesma intención de dar agua a sus mulos; y, llegando a quitar las armas para desembarazar la pila, sin hablar don Quijote palabra y sin',\n",
              " 'pedir favor a nadie, soltó otra vez la adarga y alzó otra vez la lanza, y, sin hacerla pedazos, hizo más de tres la cabeza del segundo arriero, porque',\n",
              " 'se la abrió por cuatro. Al ruido acudió toda la gente de la venta, y entre ellos el ventero. Viendo esto don Quijote, embrazó su adarga, y, puesta',\n",
              " 'mano a su espada, dijo:',\n",
              " '-¡Oh señora de la fermosura, esfuerzo y vigor del debilitado corazón mío! Ahora es tiempo que vuelvas los ojos de tu grandeza a este tu cautivo',\n",
              " 'caballero, que tamaña aventura está atendiendo.',\n",
              " 'Con esto cobró, a su parecer, tanto ánimo, que si le acometieran todos los arrieros del mundo, no volviera el pie atrás. Los compañeros de los',\n",
              " 'heridos, que tales los vieron, comenzaron desde lejos a llover piedras sobre don Quijote, el cual, lo mejor que podía, se reparaba con su adarga,',\n",
              " 'y no se osaba apartar de la pila por no desamparar las armas. El ventero daba voces que le dejasen, porque ya les había dicho como era loco, y que',\n",
              " 'por loco se libraría, aunque los matase a todos. También don Quijote las daba, mayores, llamándolos de alevosos y traidores, y que el señor del',\n",
              " 'castillo era un follón y mal nacido caballero, pues de tal manera consentía que se tratasen los andantes caballeros; y que si él hubiera recebido la',\n",
              " 'orden de caballería, que él le diera a entender su alevosía:',\n",
              " '-Pero de vosotros, soez y baja canalla, no hago caso alguno: tirad, llegad, venid y ofendedme en cuanto pudiéredes, que vosotros veréis el pago que',\n",
              " 'lleváis de vuestra sandez y demasía.',\n",
              " 'Decía esto con tanto brío y denuedo, que infundió un terrible temor en los que le acometían; y, así por esto como por las persuasiones del ventero, le',\n",
              " 'dejaron de tirar, y él dejó retirar a los heridos y tornó a la vela de sus armas con la misma quietud y sosiego que primero.',\n",
              " 'No le parecieron bien al ventero las burlas de su huésped, y determinó',\n",
              " 'abreviar y darle la negra orden de caballería luego, antes que otra desgracia sucediese. Y así, llegándose a él, se desculpó de la insolencia',\n",
              " 'que aquella gente baja con él había usado, sin que él supiese cosa alguna; pero que bien castigados quedaban de su atrevimiento. Díjole como ya le',\n",
              " 'había dicho que en aquel castillo no había capilla, y para lo que restaba de hacer tampoco era necesaria; que todo el toque de quedar armado',\n",
              " 'caballero consistía en la pescozada y en el espaldarazo, según él tenía noticia del ceremonial de la orden, y que aquello en mitad de un campo se',\n",
              " 'podía hacer, y que ya había cumplido con lo que tocaba al velar de las armas, que con solas dos horas de vela se cumplía, cuanto más, que él había',\n",
              " 'estado más de cuatro. Todo se lo creyó don Quijote, y dijo que él estaba allí pronto para obedecerle, y que concluyese con la mayor brevedad que',\n",
              " 'pudiese; porque si fuese otra vez acometido y se viese armado caballero, no pensaba dejar persona viva en el castillo, eceto aquellas que él le',\n",
              " 'mandase, a quien por su respeto dejaría.',\n",
              " 'Advertido y medroso desto el castellano, trujo luego un libro donde asentaba la paja y cebada que daba a los arrieros, y con un cabo de vela',\n",
              " 'que le traía un muchacho, y con las dos ya dichas doncellas, se vino adonde don Quijote estaba, al cual mandó hincar de rodillas; y, leyendo en su',\n",
              " 'manual, como que decía alguna devota oración, en mitad de la leyenda alzó la mano y diole sobre el cuello un buen golpe, y tras él, con su mesma',\n",
              " 'espada, un gentil espaldazaro, siempre murmurando entre dientes, como que rezaba. Hecho esto, mandó a una de aquellas damas que le ciñese la espada,',\n",
              " 'la cual lo hizo con mucha desenvoltura y discreción, porque no fue menester poca para no reventar de risa a cada punto de las ceremonias; pero las',\n",
              " 'proezas que ya habían visto del novel caballero les tenía la risa a raya. Al ceñirle la espada, dijo la buena señora:',\n",
              " '-Dios haga a vuestra merced muy venturoso caballero y le dé ventura en',\n",
              " 'lides.',\n",
              " 'Don Quijote le preguntó cómo se llamaba, porque él supiese de allí adelante a quién quedaba obligado por la merced recebida; porque pensaba darle',\n",
              " 'alguna parte de la honra que alcanzase por el valor de su brazo. Ella respondió con mucha humildad que se llamaba la Tolosa, y que era hija de un',\n",
              " 'remendón natural de Toledo que vivía a las tendillas de Sancho Bienaya, y que dondequiera que ella estuviese le serviría y le tendría por señor. Don',\n",
              " 'Quijote le replicó que, por su amor, le hiciese merced que de allí adelante se pusiese don y se llamase doña Tolosa. Ella se lo prometió, y la otra le',\n",
              " 'calzó la espuela, con la cual le pasó casi el mismo coloquio que con la de la espada: preguntóle su nombre, y dijo que se llamaba la Molinera, y que',\n",
              " 'era hija de un honrado molinero de Antequera; a la cual también rogó don Quijote que se pusiese don y se llamase doña Molinera, ofreciéndole nuevos',\n",
              " 'servicios y mercedes.',\n",
              " 'Hechas, pues, de galope y aprisa las hasta allí nunca vistas ceremonias, no vio la hora don Quijote de verse a caballo y salir buscando las aventuras;',\n",
              " 'y, ensillando luego a Rocinante, subió en él, y, abrazando a su huésped, le dijo cosas tan estrañas, agradeciéndole la merced de haberle armado',\n",
              " 'caballero, que no es posible acertar a referirlas. El ventero, por verle ya fuera de la venta, con no menos retóricas, aunque con más breves palabras,',\n",
              " 'respondió a las suyas, y, sin pedirle la costa de la posada, le dejó ir a la buen hora.',\n",
              " 'Capítulo IV. De lo que le sucedió a nuestro caballero cuando salió de la',\n",
              " 'venta',\n",
              " 'La del alba sería cuando don Quijote salió de la venta, tan contento, tan',\n",
              " 'gallardo, tan alborozado por verse ya armado caballero, que el gozo le reventaba por las cinchas del caballo. Mas, viniéndole a la memoria los',\n",
              " 'consejos de su huésped cerca de las prevenciones tan necesarias que había de llevar consigo, especial la de los dineros y camisas, determinó volver a',\n",
              " 'su casa y acomodarse de todo, y de un escudero, haciendo cuenta de recebir a un labrador vecino suyo, que era pobre y con hijos, pero muy a propósito',\n",
              " 'para el oficio escuderil de la caballería. Con este pensamiento guió a Rocinante hacia su aldea, el cual, casi conociendo la querencia, con tanta',\n",
              " 'gana comenzó a caminar, que parecía que no ponía los pies en el suelo.',\n",
              " 'No había andado mucho, cuando le pareció que a su diestra mano, de la espesura de un bosque que allí estaba, salían unas voces delicadas, como de',\n",
              " 'persona que se quejaba; y apenas las hubo oído, cuando dijo:',\n",
              " '-Gracias doy al cielo por la merced que me hace, pues tan presto me pone ocasiones delante donde yo pueda cumplir con lo que debo a mi profesión, y',\n",
              " 'donde pueda coger el fruto de mis buenos deseos. Estas voces, sin duda, son de algún menesteroso o menesterosa, que ha menester mi favor y ayuda.',\n",
              " 'Y, volviendo las riendas, encaminó a Rocinante hacia donde le pareció que',\n",
              " 'las voces salían. Y, a pocos pasos que entró por el bosque, vio atada una yegua a una encina, y atado en otra a un muchacho, desnudo de medio cuerpo',\n",
              " 'arriba, hasta de edad de quince años, que era el que las voces daba; y no sin causa, porque le estaba dando con una pretina muchos azotes un labrador',\n",
              " 'de buen talle, y cada azote le acompañaba con una reprehensión y consejo. Porque decía:',\n",
              " '-La lengua queda y los ojos listos.',\n",
              " 'Y el muchacho respondía:',\n",
              " '-No lo haré otra vez, señor mío; por la pasión de Dios, que no lo haré otra',\n",
              " 'vez; y yo prometo de tener de aquí adelante más cuidado con el hato.',\n",
              " 'Y, viendo don Quijote lo que pasaba, con voz airada dijo:',\n",
              " '-Descortés caballero, mal parece tomaros con quien defender no se puede; subid sobre vuestro caballo y tomad vuestra lanza -que también tenía una',\n",
              " 'lanza arrimada a la encima adonde estaba arrendada la yegua-, que yo os haré conocer ser de cobardes lo que estáis haciendo.',\n",
              " 'El labrador, que vio sobre sí aquella figura llena de armas blandiendo la',\n",
              " 'lanza sobre su rostro, túvose por muerto, y con buenas palabras respondió:',\n",
              " '-Señor caballero, este muchacho que estoy castigando es un mi criado, que me sirve de guardar una manada de ovejas que tengo en estos contornos, el',\n",
              " 'cual es tan descuidado, que cada día me falta una; y, porque castigo su descuido, o bellaquería, dice que lo hago de miserable, por no pagalle la',\n",
              " 'soldada que le debo, y en Dios y en mi ánima que miente.',\n",
              " '-¿\"Miente\", delante de mí, ruin villano? -dijo don Quijote-. Por el sol que nos alumbra, que estoy por pasaros de parte a parte con esta lanza. Pagadle',\n",
              " 'luego sin más réplica; si no, por el Dios que nos rige, que os concluya y aniquile en este punto. Desatadlo luego.',\n",
              " 'El labrador bajó la cabeza y, sin responder palabra, desató a su criado, al',\n",
              " 'cual preguntó don Quijote que cuánto le debía su amo. Él dijo que nueve meses, a siete reales cada mes. Hizo la cuenta don Quijote y halló que',\n",
              " 'montaban setenta y tres reales, y díjole al labrador que al momento los desembolsase, si no quería morir por ello. Respondió el medroso villano que',\n",
              " 'para el paso en que estaba y juramento que había hecho -y aún no había jurado nada-, que no eran tantos, porque se le habían de descontar y',\n",
              " 'recebir en cuenta tres pares de zapatos que le había dado y un real de dos sangrías que le habían hecho estando enfermo.',\n",
              " '-Bien está todo eso -replicó don Quijote-, pero quédense los zapatos y las',\n",
              " 'sangrías por los azotes que sin culpa le habéis dado; que si él rompió el cuero de los zapatos que vos pagastes, vos le habéis rompido el de su',\n",
              " 'cuerpo; y si le sacó el barbero sangre estando enfermo, vos en sanidad se la habéis sacado; ansí que, por esta parte, no os debe nada.',\n",
              " '-El daño está, señor caballero, en que no tengo aquí dineros: véngase',\n",
              " 'Andrés conmigo a mi casa, que yo se los pagaré un real sobre otro.',\n",
              " '-¿Irme yo con él? -dijo el muchacho-. Mas, ¡mal año! No, señor, ni por pienso; porque, en viéndose solo, me desuelle como a un San Bartolomé.',\n",
              " '-No hará tal -replicó don Quijote-: basta que yo se lo mande para que me',\n",
              " 'tenga respeto; y con que él me lo jure por la ley de caballería que ha recebido, le dejaré ir libre y aseguraré la paga.',\n",
              " '-Mire vuestra merced, señor, lo que dice -dijo el muchacho-, que este mi',\n",
              " 'amo no es caballero ni ha recebido orden de caballería alguna; que es Juan Haldudo el rico, el vecino del Quintanar.',\n",
              " '-Importa eso poco -respondió don Quijote-, que Haldudos puede haber',\n",
              " 'caballeros; cuanto más, que cada uno es hijo de sus obras.',\n",
              " '-Así es verdad -dijo Andrés-; pero este mi amo, ¿de qué obras es hijo, pues me niega mi soldada y mi sudor y trabajo?',\n",
              " '-No niego, hermano Andrés -respondió el labrador-; y hacedme placer de',\n",
              " 'veniros conmigo, que yo juro por todas las órdenes que de caballerías hay en el mundo de pagaros, como tengo dicho, un real sobre otro, y aun',\n",
              " 'sahumados.',\n",
              " '-Del sahumerio os hago gracia -dijo don Quijote-; dádselos en reales, que con eso me contento; y mirad que lo cumpláis como lo habéis jurado; si no,',\n",
              " 'por el mismo juramento os juro de volver a buscaros y a castigaros, y que os tengo de hallar, aunque os escondáis más que una lagartija. Y si queréis',\n",
              " 'saber quién os manda esto, para quedar con más veras obligado a cumplirlo, sabed que yo soy el valeroso don Quijote de la Mancha, el desfacedor de',\n",
              " 'agravios y sinrazones; y a Dios quedad, y no se os parta de las mientes lo prometido y jurado, so pena de la pena pronunciada.',\n",
              " 'Y, en diciendo esto, picó a su Rocinante, y en breve espacio se apartó',\n",
              " 'dellos. Siguióle el labrador con los ojos, y, cuando vio que había traspuesto del bosque y que ya no parecía, volvióse a su criado Andrés y',\n",
              " 'díjole:',\n",
              " '-Venid acá, hijo mío, que os quiero pagar lo que os debo, como aquel deshacedor de agravios me dejó mandado.',\n",
              " '-Eso juro yo -dijo Andrés-; y ¡cómo que andará vuestra merced acertado en',\n",
              " 'cumplir el mandamiento de aquel buen caballero, que mil años viva; que, según es de valeroso y de buen juez, vive Roque, que si no me paga, que',\n",
              " 'vuelva y ejecute lo que dijo!',\n",
              " '-También lo juro yo -dijo el labrador-; pero, por lo mucho que os quiero, quiero acrecentar la deuda por acrecentar la paga.',\n",
              " 'Y, asiéndole del brazo, le tornó a atar a la encina, donde le dio tantos',\n",
              " 'azotes, que le dejó por muerto.',\n",
              " '-Llamad, señor Andrés, ahora -decía el labrador- al desfacedor de agravios, veréis cómo no desface aquéste; aunque creo que no está acabado de hacer,',\n",
              " 'porque me viene gana de desollaros vivo, como vos temíades.',\n",
              " 'Pero, al fin, le desató y le dio licencia que fuese a buscar su juez, para que ejecutase la pronunciada sentencia. Andrés se partió algo mohíno,',\n",
              " 'jurando de ir a buscar al valeroso don Quijote de la Mancha y contalle punto por punto lo que había pasado, y que se lo había de pagar con las',\n",
              " 'setenas. Pero, con todo esto, él se partió llorando y su amo se quedó riendo.',\n",
              " 'Y desta manera deshizo el agravio el valeroso don Quijote; el cual,',\n",
              " 'contentísimo de lo sucedido, pareciéndole que había dado felicísimo y alto principio a sus caballerías, con gran satisfación de sí mismo iba caminando',\n",
              " 'hacia su aldea, diciendo a media voz:',\n",
              " '-Bien te puedes llamar dichosa sobre cuantas hoy viven en la tierra, ¡oh sobre las bellas bella Dulcinea del Toboso!, pues te cupo en suerte tener',\n",
              " 'sujeto y rendido a toda tu voluntad e talante a un tan valiente y tan nombrado caballero como lo es y será don Quijote de la Mancha, el cual,',\n",
              " 'como todo el mundo sabe, ayer rescibió la orden de caballería, y hoy ha desfecho el mayor tuerto y agravio que formó la sinrazón y cometió la',\n",
              " 'crueldad: hoy quitó el látigo de la mano a aquel despiadado enemigo que tan sin ocasión vapulaba a aquel delicado infante.',\n",
              " 'En esto, llegó a un camino que en cuatro se dividía, y luego se le vino a',\n",
              " 'la imaginación las encrucejadas donde los caballeros andantes se ponían a pensar cuál camino de aquéllos tomarían, y, por imitarlos, estuvo un rato',\n",
              " 'quedo; y, al cabo de haberlo muy bien pensado, soltó la rienda a Rocinante, dejando a la voluntad del rocín la suya, el cual siguió su primer intento,',\n",
              " 'que fue el irse camino de su caballeriza.',\n",
              " 'Y, habiendo andado como dos millas, descubrió don Quijote un grande tropel de gente, que, como después se supo, eran unos mercaderes toledanos que',\n",
              " 'iban a comprar seda a Murcia. Eran seis, y venían con sus quitasoles, con otros cuatro criados a caballo y tres mozos de mulas a pie. Apenas los',\n",
              " 'divisó don Quijote, cuando se imaginó ser cosa de nueva aventura; y, por imitar en todo cuanto a él le parecía posible los pasos que había leído en',\n",
              " 'sus libros, le pareció venir allí de molde uno que pensaba hacer. Y así, con gentil continente y denuedo, se afirmó bien en los estribos, apretó la',\n",
              " 'lanza, llegó la adarga al pecho, y, puesto en la mitad del camino, estuvo esperando que aquellos caballeros andantes llegasen, que ya él por tales',\n",
              " 'los tenía y juzgaba; y, cuando llegaron a trecho que se pudieron ver y oír, levantó don Quijote la voz, y con ademán arrogante dijo:',\n",
              " '-Todo el mundo se tenga, si todo el mundo no confiesa que no hay en el',\n",
              " 'mundo todo doncella más hermosa que la emperatriz de la Mancha, la sin par Dulcinea del Toboso.',\n",
              " 'Paráronse los mercaderes al son destas razones, y a ver la estraña figura',\n",
              " 'del que las decía; y, por la figura y por las razones, luego echaron de ver la locura de su dueño; mas quisieron ver despacio en qué paraba aquella',\n",
              " 'confesión que se les pedía, y uno dellos, que era un poco burlón y muy mucho discreto, le dijo:',\n",
              " '-Señor caballero, nosotros no conocemos quién sea esa buena señora que',\n",
              " 'decís; mostrádnosla: que si ella fuere de tanta hermosura como significáis, de buena gana y sin apremio alguno confesaremos la verdad que por parte',\n",
              " 'vuestra nos es pedida.',\n",
              " '-Si os la mostrara -replicó don Quijote-, ¿qué hiciérades vosotros en confesar una verdad tan notoria? La importancia está en que sin verla lo',\n",
              " 'habéis de creer, confesar, afirmar, jurar y defender; donde no, conmigo sois en batalla, gente descomunal y soberbia. Que, ahora vengáis uno a uno,',\n",
              " 'como pide la orden de caballería, ora todos juntos, como es costumbre y mala usanza de los de vuestra ralea, aquí os aguardo y espero, confiado en',\n",
              " 'la razón que de mi parte tengo.',\n",
              " '-Señor caballero -replicó el mercader-, suplico a vuestra merced, en nombre de todos estos príncipes que aquí estamos, que, porque no encarguemos',\n",
              " 'nuestras conciencias confesando una cosa por nosotros jamás vista ni oída, y más siendo tan en perjuicio de las emperatrices y reinas del Alcarria y',\n",
              " 'Estremadura, que vuestra merced sea servido de mostrarnos algún retrato de esa señora, aunque sea tamaño como un grano de trigo; que por el hilo se',\n",
              " 'sacará el ovillo, y quedaremos con esto satisfechos y seguros, y vuestra merced quedará contento y pagado; y aun creo que estamos ya tan de su parte',\n",
              " 'que, aunque su retrato nos muestre que es tuerta de un ojo y que del otro le mana bermellón y piedra azufre, con todo eso, por complacer a vuestra',\n",
              " 'merced, diremos en su favor todo lo que quisiere.',\n",
              " '-No le mana, canalla infame -respondió don Quijote, encendido en cólera-; no le mana, digo, eso que decís, sino ámbar y algalia entre algodones; y no',\n",
              " 'es tuerta ni corcovada, sino más derecha que un huso de Guadarrama. Pero vosotros pagaréis la grande blasfemia que habéis dicho contra tamaña beldad',\n",
              " 'como es la de mi señora.',\n",
              " 'Y, en diciendo esto, arremetió con la lanza baja contra el que lo había dicho, con tanta furia y enojo que, si la buena suerte no hiciera que en la',\n",
              " 'mitad del camino tropezara y cayera Rocinante, lo pasara mal el atrevido mercader. Cayó Rocinante, y fue rodando su amo una buena pieza por el',\n",
              " 'campo; y, queriéndose levantar, jamás pudo: tal embarazo le causaban la lanza, adarga, espuelas y celada, con el peso de las antiguas armas. Y,',\n",
              " 'entretanto que pugnaba por levantarse y no podía, estaba diciendo:',\n",
              " '-¡Non fuyáis, gente cobarde; gente cautiva, atended!; que no por culpa mía, sino de mi caballo, estoy aquí tendido.',\n",
              " 'Un mozo de mulas de los que allí venían, que no debía de ser muy bien',\n",
              " 'intencionado, oyendo decir al pobre caído tantas arrogancias, no lo pudo sufrir sin darle la respuesta en las costillas. Y, llegándose a él, tomó la',\n",
              " 'lanza, y, después de haberla hecho pedazos, con uno dellos comenzó a dar a nuestro don Quijote tantos palos que, a despecho y pesar de sus armas, le',\n",
              " 'molió como cibera. Dábanle voces sus amos que no le diese tanto y que le dejase, pero estaba ya el mozo picado y no quiso dejar el juego hasta',\n",
              " 'envidar todo el resto de su cólera; y, acudiendo por los demás trozos de la lanza, los acabó de deshacer sobre el miserable caído, que, con toda',\n",
              " 'aquella tempestad de palos que sobre él vía, no cerraba la boca, amenazando al cielo y a la tierra, y a los malandrines, que tal le parecían.',\n",
              " 'Cansóse el mozo, y los mercaderes siguieron su camino, llevando qué contar',\n",
              " 'en todo él del pobre apaleado. El cual, después que se vio solo, tornó a probar si podía levantarse; pero si no lo pudo hacer cuando sano y bueno,',\n",
              " '¿cómo lo haría molido y casi deshecho? Y aún se tenía por dichoso, pareciéndole que aquélla era propia desgracia de caballeros andantes, y',\n",
              " 'toda la atribuía a la falta de su caballo, y no era posible levantarse, según tenía brumado todo el cuerpo.',\n",
              " 'Capítulo V. Donde se prosigue la narración de la desgracia de nuestro',\n",
              " 'caballero',\n",
              " 'Viendo, pues, que, en efeto, no podía menearse, acordó de acogerse a su',\n",
              " 'ordinario remedio, que era pensar en algún paso de sus libros; y trújole su locura a la memoria aquel de Valdovinos y del marqués de Mantua, cuando',\n",
              " 'Carloto le dejó herido en la montiña, historia sabida de los niños, no ignorada de los mozos, celebrada y aun creída de los viejos; y, con todo',\n",
              " 'esto, no más verdadera que los milagros de Mahoma. Ésta, pues, le pareció a él que le venía de molde para el paso en que se hallaba; y así, con',\n",
              " 'muestras de grande sentimiento, se comenzó a volcar por la tierra y a decir con debilitado aliento lo mesmo que dicen decía el herido caballero del',\n",
              " 'bosque:',\n",
              " '-¿Donde estás, señora mía, que no te duele mi mal?',\n",
              " 'O no lo sabes, señora, o eres falsa y desleal.',\n",
              " 'Y, desta manera, fue prosiguiendo el romance hasta aquellos versos que',\n",
              " 'dicen:',\n",
              " '-¡Oh noble marqués de Mantua, mi tío y señor carnal!',\n",
              " 'Y quiso la suerte que, cuando llegó a este verso, acertó a pasar por allí',\n",
              " 'un labrador de su mesmo lugar y vecino suyo, que venía de llevar una carga de trigo al molino; el cual, viendo aquel hombre allí tendido, se llegó a',\n",
              " 'él y le preguntó que quién era y qué mal sentía que tan tristemente se quejaba. Don Quijote creyó, sin duda, que aquél era el marqués de Mantua,',\n",
              " 'su tío; y así, no le respondió otra cosa si no fue proseguir en su romance, donde le daba cuenta de su desgracia y de los amores del hijo del Emperante',\n",
              " 'con su esposa, todo de la mesma manera que el romance lo canta.',\n",
              " 'El labrador estaba admirado oyendo aquellos disparates; y, quitándole la visera, que ya estaba hecha pedazos de los palos, le limpió el rostro, que',\n",
              " 'le tenía cubierto de polvo; y apenas le hubo limpiado, cuando le conoció y le dijo:',\n",
              " '-Señor Quijana -que así se debía de llamar cuando él tenía juicio y no',\n",
              " 'había pasado de hidalgo sosegado a caballero andante-, ¿quién ha puesto a vuestra merced desta suerte?',\n",
              " 'Pero él seguía con su romance a cuanto le preguntaba. Viendo esto el buen',\n",
              " 'hombre, lo mejor que pudo le quitó el peto y espaldar, para ver si tenía alguna herida; pero no vio sangre ni señal alguna. Procuró levantarle del',\n",
              " 'suelo, y no con poco trabajo le subió sobre su jumento, por parecer caballería más sosegada. Recogió las armas, hasta las astillas de la lanza,',\n",
              " 'y liólas sobre Rocinante, al cual tomó de la rienda, y del cabestro al asno, y se encaminó hacia su pueblo, bien pensativo de oír los disparates',\n",
              " 'que don Quijote decía; y no menos iba don Quijote, que, de puro molido y quebrantado, no se podía tener sobre el borrico, y de cuando en cuando daba',\n",
              " 'unos suspiros que los ponía en el cielo; de modo que de nuevo obligó a que el labrador le preguntase le dijese qué mal sentía; y no parece sino que el',\n",
              " 'diablo le traía a la memoria los cuentos acomodados a sus sucesos, porque, en aquel punto, olvidándose de Valdovinos, se acordó del moro Abindarráez,',\n",
              " 'cuando el alcaide de Antequera, Rodrigo de Narváez, le prendió y llevó cautivo a su alcaidía. De suerte que, cuando el labrador le volvió a',\n",
              " 'preguntar que cómo estaba y qué sentía, le respondió las mesmas palabras y razones que el cautivo Abencerraje respondía a Rodrigo de Narváez, del',\n",
              " 'mesmo modo que él había leído la historia en La Diana, de Jorge de Montemayor, donde se escribe; aprovechándose della tan a propósito, que el',\n",
              " 'labrador se iba dando al diablo de oír tanta máquina de necedades; por donde conoció que su vecino estaba loco, y dábale priesa a llegar al',\n",
              " 'pueblo, por escusar el enfado que don Quijote le causaba con su larga arenga. Al cabo de lo cual, dijo:',\n",
              " '-Sepa vuestra merced, señor don Rodrigo de Narváez, que esta hermosa Jarifa',\n",
              " 'que he dicho es ahora la linda Dulcinea del Toboso, por quien yo he hecho, hago y haré los más famosos hechos de caballerías que se han visto, vean ni',\n",
              " 'verán en el mundo.',\n",
              " 'A esto respondió el labrador:',\n",
              " '-Mire vuestra merced, señor, pecador de mí, que yo no soy don Rodrigo de Narváez, ni el marqués de Mantua, sino Pedro Alonso, su vecino; ni vuestra',\n",
              " 'merced es Valdovinos, ni Abindarráez, sino el honrado hidalgo del señor Quijana.',\n",
              " '-Yo sé quién soy -respondió don Quijote-; y sé que puedo ser no sólo los',\n",
              " 'que he dicho, sino todos los Doce Pares de Francia, y aun todos los Nueve de la Fama, pues a todas las hazañas que ellos todos juntos y cada uno por',\n",
              " 'sí hicieron, se aventajarán las mías.',\n",
              " 'En estas pláticas y en otras semejantes, llegaron al lugar a la hora que anochecía, pero el labrador aguardó a que fuese algo más noche, porque no',\n",
              " 'viesen al molido hidalgo tan mal caballero. Llegada, pues, la hora que le pareció, entró en el pueblo, y en la casa de don Quijote, la cual halló',\n",
              " 'toda alborotada; y estaban en ella el cura y el barbero del lugar, que eran grandes amigos de don Quijote, que estaba diciéndoles su ama a voces:',\n",
              " '-¿Qué le parece a vuestra merced, señor licenciado Pero Pérez -que así se',\n",
              " 'llamaba el cura-, de la desgracia de mi señor? Tres días ha que no parecen él, ni el rocín, ni la adarga, ni la lanza ni las armas. ¡Desventurada de',\n",
              " 'mí!, que me doy a entender, y así es ello la verdad como nací para morir, que estos malditos libros de caballerías que él tiene y suele leer tan de',\n",
              " 'ordinario le han vuelto el juicio; que ahora me acuerdo haberle oído decir muchas veces, hablando entre sí, que quería hacerse caballero andante e',\n",
              " 'irse a buscar las aventuras por esos mundos. Encomendados sean a Satanás y a Barrabás tales libros, que así han echado a perder el más delicado',\n",
              " 'entendimiento que había en toda la Mancha.',\n",
              " 'La sobrina decía lo mesmo, y aun decía más:',\n",
              " '-Sepa, señor maese Nicolás -que éste era el nombre del barbero-, que muchas veces le aconteció a mi señor tío estarse leyendo en estos desalmados',\n",
              " 'libros de desventuras dos días con sus noches, al cabo de los cuales, arrojaba el libro de las manos, y ponía mano a la espada y andaba a',\n",
              " 'cuchilladas con las paredes; y cuando estaba muy cansado, decía que había muerto a cuatro gigantes como cuatro torres, y el sudor que sudaba del',\n",
              " 'cansancio decía que era sangre de las feridas que había recebido en la batalla; y bebíase luego un gran jarro de agua fría, y quedaba sano y',\n",
              " 'sosegado, diciendo que aquella agua era una preciosísima bebida que le había traído el sabio Esquife, un grande encantador y amigo suyo. Mas yo me',\n",
              " 'tengo la culpa de todo, que no avisé a vuestras mercedes de los disparates de mi señor tío, para que lo remediaran antes de llegar a lo que ha',\n",
              " 'llegado, y quemaran todos estos descomulgados libros, que tiene muchos, que bien merecen ser abrasados, como si fuesen de herejes.',\n",
              " '-Esto digo yo también -dijo el cura-, y a fee que no se pase el día de',\n",
              " 'mañana sin que dellos no se haga acto público y sean condenados al fuego, porque no den ocasión a quien los leyere de hacer lo que mi buen amigo debe',\n",
              " 'de haber hecho.',\n",
              " 'Todo esto estaban oyendo el labrador y don Quijote, con que acabó de entender el labrador la enfermedad de su vecino; y así, comenzó a decir a',\n",
              " 'voces:',\n",
              " '-Abran vuestras mercedes al señor Valdovinos y al señor marqués de Mantua, que viene malferido, y al señor moro Abindarráez, que trae cautivo el',\n",
              " 'valeroso Rodrigo de Narváez, alcaide de Antequera.',\n",
              " 'A estas voces salieron todos, y, como conocieron los unos a su amigo, las otras a su amo y tío, que aún no se había apeado del jumento, porque no',\n",
              " 'podía, corrieron a abrazarle. Él dijo:',\n",
              " '-Ténganse todos, que vengo malferido por la culpa de mi caballo. Llévenme a mi lecho y llámese, si fuere posible, a la sabia Urganda, que cure y cate',\n",
              " 'de mis feridas.',\n",
              " '-¡Mirá, en hora maza -dijo a este punto el ama-, si me decía a mí bien mi corazón del pie que cojeaba mi señor! Suba vuestra merced en buen hora,',\n",
              " 'que, sin que venga esa Hurgada, le sabremos aquí curar. ¡Malditos, digo, sean otra vez y otras ciento estos libros de caballerías, que tal han',\n",
              " 'parado a vuestra merced!',\n",
              " 'Lleváronle luego a la cama, y, catándole las feridas, no le hallaron ninguna; y él dijo que todo era molimiento, por haber dado una gran caída',\n",
              " 'con Rocinante, su caballo, combatiéndose con diez jayanes, los más desaforados y atrevidos que se pudieran fallar en gran parte de la tierra.',\n",
              " '-¡Ta, ta! -dijo el cura-. ¿Jayanes hay en la danza? Para mi santiguada, que',\n",
              " 'yo los queme mañana antes que llegue la noche.',\n",
              " 'Hiciéronle a don Quijote mil preguntas, y a ninguna quiso responder otra cosa sino que le diesen de comer y le dejasen dormir, que era lo que más le',\n",
              " 'importaba. Hízose así, y el cura se informó muy a la larga del labrador del modo que había hallado a don Quijote. Él se lo contó todo, con los',\n",
              " 'disparates que al hallarle y al traerle había dicho; que fue poner más deseo en el licenciado de hacer lo que otro día hizo, que fue llamar a su',\n",
              " 'amigo el barbero maese Nicolás, con el cual se vino a casa de don Quijote,',\n",
              " 'Capítulo VI. Del donoso y grande escrutinio que el cura y el barbero hicieron en la librería de nuestro ingenioso hidalgo',\n",
              " 'el cual aún todavía dormía. Pidió las llaves, a la sobrina, del aposento donde estaban los libros, autores del daño, y ella se las dio de muy buena',\n",
              " 'gana. Entraron dentro todos, y la ama con ellos, y hallaron más de cien cuerpos de libros grandes, muy bien encuadernados, y otros pequeños; y, así',\n",
              " 'como el ama los vio, volvióse a salir del aposento con gran priesa, y tornó luego con una escudilla de agua bendita y un hisopo, y dijo:',\n",
              " '-Tome vuestra merced, señor licenciado: rocíe este aposento, no esté aquí',\n",
              " 'algún encantador de los muchos que tienen estos libros, y nos encanten, en pena de las que les queremos dar echándolos del mundo.',\n",
              " 'Causó risa al licenciado la simplicidad del ama, y mandó al barbero que le',\n",
              " 'fuese dando de aquellos libros uno a uno, para ver de qué trataban, pues podía ser hallar algunos que no mereciesen castigo de fuego.',\n",
              " '-No -dijo la sobrina-, no hay para qué perdonar a ninguno, porque todos han',\n",
              " 'sido los dañadores; mejor será arrojarlos por las ventanas al patio, y hacer un rimero dellos y pegarles fuego; y si no, llevarlos al corral, y',\n",
              " 'allí se hará la hoguera, y no ofenderá el humo.',\n",
              " 'Lo mismo dijo el ama: tal era la gana que las dos tenían de la muerte de aquellos inocentes; mas el cura no vino en ello sin primero leer siquiera',\n",
              " 'los títulos. Y el primero que maese Nicolás le dio en las manos fue Los cuatro de Amadís de Gaula, y dijo el cura:',\n",
              " '-Parece cosa de misterio ésta; porque, según he oído decir, este libro fue',\n",
              " 'el primero de caballerías que se imprimió en España, y todos los demás han tomado principio y origen déste; y así, me parece que, como a dogmatizador',\n",
              " 'de una secta tan mala, le debemos, sin escusa alguna, condenar al fuego.',\n",
              " '-No, señor -dijo el barbero-, que también he oído decir que es el mejor de todos los libros que de este género se han compuesto; y así, como a único',\n",
              " 'en su arte, se debe perdonar.',\n",
              " '-Así es verdad -dijo el cura-, y por esa razón se le otorga la vida por ahora. Veamos esotro que está junto a él.',\n",
              " '-Es -dijo el barbero- las Sergas de Esplandián, hijo legítimo de Amadís de',\n",
              " 'Gaula.',\n",
              " '-Pues, en verdad -dijo el cura- que no le ha de valer al hijo la bondad del padre. Tomad, señora ama: abrid esa ventana y echadle al corral, y dé',\n",
              " 'principio al montón de la hoguera que se ha de hacer.',\n",
              " 'Hízolo así el ama con mucho contento, y el bueno de Esplandián fue volando al corral, esperando con toda paciencia el fuego que le amenazaba.',\n",
              " '-Adelante -dijo el cura.',\n",
              " '-Este que viene -dijo el barbero- es Amadís de Grecia; y aun todos los',\n",
              " 'deste lado, a lo que creo, son del mesmo linaje de Amadís.',\n",
              " '-Pues vayan todos al corral -dijo el cura-; que, a trueco de quemar a la reina Pintiquiniestra, y al pastor Darinel, y a sus églogas, y a las',\n",
              " 'endiabladas y revueltas razones de su autor, quemaré con ellos al padre que me engendró, si anduviera en figura de caballero andante.',\n",
              " '-De ese parecer soy yo -dijo el barbero.',\n",
              " '-Y aun yo -añadió la sobrina.',\n",
              " '-Pues así es -dijo el ama-, vengan, y al corral con ellos.',\n",
              " 'Diéronselos, que eran muchos, y ella ahorró la escalera y dio con ellos por',\n",
              " 'la ventana abajo.',\n",
              " '-¿Quién es ese tonel? -dijo el cura.',\n",
              " '-Éste es -respondió el barbero- Don Olivante de Laura.',\n",
              " '-El autor de ese libro -dijo el cura- fue el mesmo que compuso a Jardín de flores; y en verdad que no sepa determinar cuál de los dos libros es más',\n",
              " 'verdadero, o, por decir mejor, menos mentiroso; sólo sé decir que éste irá al corral por disparatado y arrogante.',\n",
              " '-Éste que se sigue es Florimorte de Hircania -dijo el barbero.',\n",
              " '-¿Ahí está el señor Florimorte? -replicó el cura-. Pues a fe que ha de',\n",
              " 'parar presto en el corral, a pesar de su estraño nacimiento y sonadas aventuras; que no da lugar a otra cosa la dureza y sequedad de su estilo.',\n",
              " 'Al corral con él y con esotro, señora ama.',\n",
              " '-Que me place, señor mío -respondía ella; y con mucha alegría ejecutaba lo que le era mandado.',\n",
              " '-Éste es El Caballero Platir -dijo el barbero.',\n",
              " '-Antiguo libro es éste -dijo el cura-, y no hallo en él cosa que merezca',\n",
              " 'venia. Acompañe a los demás sin réplica.',\n",
              " 'Y así fue hecho. Abrióse otro libro y vieron que tenía por título El Caballero de la Cruz.',\n",
              " '-Por nombre tan santo como este libro tiene, se podía perdonar su',\n",
              " 'ignorancia; mas también se suele decir: \"tras la cruz está el diablo\"; vaya al fuego.',\n",
              " 'Tomando el barbero otro libro, dijo:',\n",
              " '-Éste es Espejo de caballerías.',\n",
              " '-Ya conozco a su merced -dijo el cura-. Ahí anda el señor Reinaldos de',\n",
              " 'Montalbán con sus amigos y compañeros, más ladrones que Caco, y los doce Pares, con el verdadero historiador Turpín; y en verdad que estoy por',\n",
              " 'condenarlos no más que a destierro perpetuo, siquiera porque tienen parte de la invención del famoso Mateo Boyardo, de donde también tejió su tela el',\n",
              " 'cristiano poeta Ludovico Ariosto; al cual, si aquí le hallo, y que habla en otra lengua que la suya, no le guardaré respeto alguno; pero si habla en su',\n",
              " 'idioma, le pondré sobre mi cabeza.',\n",
              " '-Pues yo le tengo en italiano -dijo el barbero-, mas no le entiendo.',\n",
              " '-Ni aun fuera bien que vos le entendiérades -respondió el cura-, y aquí le perdonáramos al señor capitán que no le hubiera traído a España y hecho',\n",
              " 'castellano; que le quitó mucho de su natural valor, y lo mesmo harán todos aquellos que los libros de verso quisieren volver en otra lengua: que, por',\n",
              " 'mucho cuidado que pongan y habilidad que muestren, jamás llegarán al punto que ellos tienen en su primer nacimiento. Digo, en efeto, que este libro, y',\n",
              " 'todos los que se hallaren que tratan destas cosas de Francia, se echen y depositen en un pozo seco, hasta que con más acuerdo se vea lo que se ha de',\n",
              " 'hacer dellos, ecetuando a un Bernardo del Carpio que anda por ahí y a otro llamado Roncesvalles; que éstos, en llegando a mis manos, han de estar en',\n",
              " 'las del ama, y dellas en las del fuego, sin remisión alguna.',\n",
              " 'Todo lo confirmó el barbero, y lo tuvo por bien y por cosa muy acertada, por entender que era el cura tan buen cristiano y tan amigo de la verdad,',\n",
              " 'que no diría otra cosa por todas las del mundo. Y, abriendo otro libro, vio que era Palmerín de Oliva, y junto a él estaba otro que se llamaba Palmerín',\n",
              " 'de Ingalaterra; lo cual visto por el licenciado, dijo:',\n",
              " '-Esa oliva se haga luego rajas y se queme, que aun no queden della las cenizas; y esa palma de Ingalaterra se guarde y se conserve como a cosa',\n",
              " 'única, y se haga para ello otra caja como la que halló Alejandro en los despojos de Dario, que la diputó para guardar en ella las obras del poeta',\n",
              " 'Homero. Este libro, señor compadre, tiene autoridad por dos cosas: la una, porque él por sí es muy bueno, y la otra, porque es fama que le compuso un',\n",
              " 'discreto rey de Portugal. Todas las aventuras del castillo de Miraguarda son bonísimas y de grande artificio; las razones, cortesanas y claras, que',\n",
              " 'guardan y miran el decoro del que habla con mucha propriedad y entendimiento. Digo, pues, salvo vuestro buen parecer, señor maese Nicolás,',\n",
              " 'que éste y Amadís de Gaula queden libres del fuego, y todos los demás, sin hacer más cala y cata, perezcan.',\n",
              " '-No, señor compadre -replicó el barbero-; que éste que aquí tengo es el',\n",
              " 'afamado Don Belianís.',\n",
              " '-Pues ése -replicó el cura-, con la segunda, tercera y cuarta parte, tienen necesidad de un poco de ruibarbo para purgar la demasiada cólera suya, y es',\n",
              " 'menester quitarles todo aquello del castillo de la Fama y otras impertinencias de más importancia, para lo cual se les da término',\n",
              " 'ultramarino, y como se enmendaren, así se usará con ellos de misericordia o de justicia; y en tanto, tenedlos vos, compadre, en vuestra casa, mas no',\n",
              " 'los dejéis leer a ninguno.',\n",
              " '-Que me place -respondió el barbero.',\n",
              " 'Y, sin querer cansarse más en leer libros de caballerías, mandó al ama que tomase todos los grandes y diese con ellos en el corral. No se dijo a tonta',\n",
              " 'ni a sorda, sino a quien tenía más gana de quemallos que de echar una tela, por grande y delgada que fuera; y, asiendo casi ocho de una vez, los arrojó',\n",
              " 'por la ventana. Por tomar muchos juntos, se le cayó uno a los pies del barbero, que le tomó gana de ver de quién era, y vio que decía: Historia',\n",
              " 'del famoso caballero Tirante el Blanco.',\n",
              " '-¡Válame Dios! -dijo el cura, dando una gran voz-. ¡Que aquí esté Tirante el Blanco! Dádmele acá, compadre; que hago cuenta que he hallado en él un',\n",
              " 'tesoro de contento y una mina de pasatiempos. Aquí está don Quirieleisón de Montalbán, valeroso caballero, y su hermano Tomás de Montalbán, y el',\n",
              " 'caballero Fonseca, con la batalla que el valiente de Tirante hizo con el alano, y las agudezas de la doncella Placerdemivida, con los amores y',\n",
              " 'embustes de la viuda Reposada, y la señora Emperatriz, enamorada de Hipólito, su escudero. Dígoos verdad, señor compadre, que, por su estilo,',\n",
              " 'es éste el mejor libro del mundo: aquí comen los caballeros, y duermen, y mueren en sus camas, y hacen testamento antes de su muerte, con estas cosas',\n",
              " 'de que todos los demás libros deste género carecen. Con todo eso, os digo que merecía el que le compuso, pues no hizo tantas necedades de industria,',\n",
              " 'que le echaran a galeras por todos los días de su vida. Llevadle a casa y leedle, y veréis que es verdad cuanto dél os he dicho.',\n",
              " '-Así será -respondió el barbero-; pero, ¿qué haremos destos pequeños libros',\n",
              " 'que quedan?',\n",
              " '-Éstos -dijo el cura- no deben de ser de caballerías, sino de poesía.',\n",
              " 'Y abriendo uno, vio que era La Diana, de Jorge de Montemayor, y dijo, creyendo que todos los demás eran del mesmo género:',\n",
              " '-Éstos no merecen ser quemados, como los demás, porque no hacen ni harán el',\n",
              " 'daño que los de caballerías han hecho; que son libros de entendimiento, sin perjuicio de tercero.',\n",
              " '-¡Ay señor! -dijo la sobrina-, bien los puede vuestra merced mandar quemar,',\n",
              " 'como a los demás, porque no sería mucho que, habiendo sanado mi señor tío de la enfermedad caballeresca, leyendo éstos, se le antojase de hacerse',\n",
              " 'pastor y andarse por los bosques y prados cantando y tañendo; y, lo que sería peor, hacerse poeta; que, según dicen, es enfermedad incurable y',\n",
              " 'pegadiza.',\n",
              " '-Verdad dice esta doncella -dijo el cura-, y será bien quitarle a nuestro amigo este tropiezo y ocasión delante. Y, pues comenzamos por La Diana de',\n",
              " 'Montemayor, soy de parecer que no se queme, sino que se le quite todo aquello que trata de la sabia Felicia y de la agua encantada, y casi todos',\n",
              " 'los versos mayores, y quédesele en hora buena la prosa, y la honra de ser primero en semejantes libros.',\n",
              " '-Éste que se sigue -dijo el barbero- es La Diana llamada segunda del',\n",
              " 'Salmantino; y éste, otro que tiene el mesmo nombre, cuyo autor es Gil Polo.',\n",
              " '-Pues la del Salmantino -respondió el cura-, acompañe y acreciente el número de los condenados al corral, y la de Gil Polo se guarde como si',\n",
              " 'fuera del mesmo Apolo; y pase adelante, señor compadre, y démonos prisa, que se va haciendo tarde.',\n",
              " '-Este libro es -dijo el barbero, abriendo otro- Los diez libros de Fortuna',\n",
              " 'de Amor, compuestos por Antonio de Lofraso, poeta sardo.',\n",
              " '-Por las órdenes que recebí -dijo el cura-, que, desde que Apolo fue Apolo, y las musas musas, y los poetas poetas, tan gracioso ni tan disparatado',\n",
              " 'libro como ése no se ha compuesto, y que, por su camino, es el mejor y el más único de cuantos deste género han salido a la luz del mundo; y el que',\n",
              " 'no le ha leído puede hacer cuenta que no ha leído jamás cosa de gusto. Dádmele acá, compadre, que precio más haberle hallado que si me dieran una',\n",
              " 'sotana de raja de Florencia.',\n",
              " 'Púsole aparte con grandísimo gusto, y el barbero prosiguió diciendo:',\n",
              " '-Estos que se siguen son El Pastor de Iberia, Ninfas de Henares y Desengaños de celos.',\n",
              " '-Pues no hay más que hacer -dijo el cura-, sino entregarlos al brazo seglar',\n",
              " 'del ama; y no se me pregunte el porqué, que sería nunca acabar.',\n",
              " '-Este que viene es El Pastor de Fílida.',\n",
              " '-No es ése pastor -dijo el cura-, sino muy discreto cortesano; guárdese como joya preciosa.',\n",
              " '-Este grande que aquí viene se intitula -dijo el barbero- Tesoro de varias',\n",
              " 'poesías.',\n",
              " '-Como ellas no fueran tantas -dijo el cura-, fueran más estimadas; menester es que este libro se escarde y limpie de algunas bajezas que entre sus',\n",
              " 'grandezas tiene. Guárdese, porque su autor es amigo mío, y por respeto de otras más heroicas y levantadas obras que ha escrito.',\n",
              " '-Éste es -siguió el barbero- El Cancionero de López Maldonado.',\n",
              " '-También el autor de ese libro -replicó el cura- es grande amigo mío, y sus',\n",
              " 'versos en su boca admiran a quien los oye; y tal es la suavidad de la voz con que los canta, que encanta. Algo largo es en las églogas, pero nunca lo',\n",
              " 'bueno fue mucho: guárdese con los escogidos. Pero, ¿qué libro es ese que está junto a él?',\n",
              " '-La Galatea, de Miguel de Cervantes -dijo el barbero.',\n",
              " '-Muchos años ha que es grande amigo mío ese Cervantes, y sé que es más',\n",
              " 'versado en desdichas que en versos. Su libro tiene algo de buena invención; propone algo, y no concluye nada: es menester esperar la segunda parte que',\n",
              " 'promete; quizá con la emienda alcanzará del todo la misericordia que ahora se le niega; y, entre tanto que esto se ve, tenedle recluso en vuestra',\n",
              " 'posada, señor compadre.',\n",
              " '-Que me place -respondió el barbero-. Y aquí vienen tres, todos juntos: La Araucana, de don Alonso de Ercilla; La Austríada, de Juan Rufo, jurado de',\n",
              " 'Córdoba, y El Monserrato, de Cristóbal de Virués, poeta valenciano.',\n",
              " '-Todos esos tres libros -dijo el cura- son los mejores que, en verso heroico, en lengua castellana están escritos, y pueden competir con los más',\n",
              " 'famosos de Italia: guárdense como las más ricas prendas de poesía que tiene España.',\n",
              " 'Cansóse el cura de ver más libros; y así, a carga cerrada, quiso que todos',\n",
              " 'los demás se quemasen; pero ya tenía abierto uno el barbero, que se llamaba Las lágrimas de Angélica.',\n",
              " '-Lloráralas yo -dijo el cura en oyendo el nombre- si tal libro hubiera',\n",
              " 'mandado quemar; porque su autor fue uno de los famosos poetas del mundo, no sólo de España, y fue felicísimo en la tradución de algunas fábulas de',\n",
              " 'Ovidio.',\n",
              " 'Capítulo VII. De la segunda salida de nuestro buen caballero don Quijote de la Mancha',\n",
              " 'Estando en esto, comenzó a dar voces don Quijote, diciendo:',\n",
              " '-Aquí, aquí, valerosos caballeros; aquí es menester mostrar la fuerza de vuestros valerosos brazos, que los cortesanos llevan lo mejor del torneo.',\n",
              " 'Por acudir a este ruido y estruendo, no se pasó adelante con el escrutinio',\n",
              " 'de los demás libros que quedaban; y así, se cree que fueron al fuego, sin ser vistos ni oídos, La Carolea y León de España, con Los Hechos del',\n",
              " 'Emperador, compuestos por don Luis de Ávila, que, sin duda, debían de estar entre los que quedaban; y quizá, si el cura los viera, no pasaran por tan',\n",
              " 'rigurosa sentencia.',\n",
              " 'Cuando llegaron a don Quijote, ya él estaba levantado de la cama, y proseguía en sus voces y en sus desatinos, dando cuchilladas y reveses a',\n",
              " 'todas partes, estando tan despierto como si nunca hubiera dormido. Abrazáronse con él, y por fuerza le volvieron al lecho; y, después que hubo',\n",
              " 'sosegado un poco, volviéndose a hablar con el cura, le dijo:',\n",
              " '-Por cierto, señor arzobispo Turpín, que es gran mengua de los que nos llamamos doce Pares dejar, tan sin más ni más, llevar la vitoria deste',\n",
              " 'torneo a los caballeros cortesanos, habiendo nosotros los aventureros ganado el prez en los tres días antecedentes.',\n",
              " '-Calle vuestra merced, señor compadre -dijo el cura-, que Dios será servido',\n",
              " 'que la suerte se mude, y que lo que hoy se pierde se gane mañana; y atienda vuestra merced a su salud por agora, que me parece que debe de estar',\n",
              " 'demasiadamente cansado, si ya no es que está malferido.',\n",
              " '-Ferido no -dijo don Quijote-, pero molido y quebrantado, no hay duda en ello; porque aquel bastardo de don Roldán me ha molido a palos con el',\n",
              " 'tronco de una encina, y todo de envidia, porque ve que yo solo soy el opuesto de sus valentías. Mas no me llamaría yo Reinaldos de Montalbán si,',\n",
              " 'en levantándome deste lecho, no me lo pagare, a pesar de todos sus encantamentos; y, por agora, tráiganme de yantar, que sé que es lo que más',\n",
              " 'me hará al caso, y quédese lo del vengarme a mi cargo.',\n",
              " 'Hiciéronlo ansí: diéronle de comer, y quedóse otra vez dormido, y ellos, admirados de su locura.',\n",
              " 'Aquella noche quemó y abrasó el ama cuantos libros había en el corral y en',\n",
              " 'toda la casa, y tales debieron de arder que merecían guardarse en perpetuos archivos; mas no lo permitió su suerte y la pereza del escrutiñador; y así,',\n",
              " 'se cumplió el refrán en ellos de que pagan a las veces justos por pecadores.',\n",
              " 'Uno de los remedios que el cura y el barbero dieron, por entonces, para el',\n",
              " 'mal de su amigo, fue que le murasen y tapiasen el aposento de los libros, porque cuando se levantase no los hallase -quizá quitando la causa, cesaría',\n",
              " 'el efeto-, y que dijesen que un encantador se los había llevado, y el aposento y todo; y así fue hecho con mucha presteza. De allí a dos días se',\n",
              " 'levantó don Quijote, y lo primero que hizo fue ir a',\n",
              " 'ver sus libros; y, como no hallaba el aposento donde le había dejado, andaba de una en otra parte buscándole. Llegaba adonde solía tener la',\n",
              " 'puerta, y tentábala con las manos, y volvía y revolvía los ojos por todo, sin decir palabra; pero, al cabo de una buena pieza, preguntó a su ama que',\n",
              " 'hacia qué parte estaba el aposento de sus libros. El ama, que ya estaba bien advertida de lo que había de responder, le dijo:',\n",
              " '-¿Qué aposento, o qué nada, busca vuestra merced? Ya no hay aposento ni',\n",
              " 'libros en esta casa, porque todo se lo llevó el mesmo diablo.',\n",
              " '-No era diablo -replicó la sobrina-, sino un encantador que vino sobre una nube una noche, después del día que vuestra merced de aquí se partió, y,',\n",
              " 'apeándose de una sierpe en que venía caballero, entró en el aposento, y no sé lo que se hizo dentro, que a cabo de poca pieza salió volando por el',\n",
              " 'tejado, y dejó la casa llena de humo; y, cuando acordamos a mirar lo que dejaba hecho, no vimos libro ni aposento alguno; sólo se nos acuerda muy',\n",
              " 'bien a mí y al ama que, al tiempo del partirse aquel mal viejo, dijo en altas voces que, por enemistad secreta que tenía al dueño de aquellos',\n",
              " 'libros y aposento, dejaba hecho el daño en aquella casa que después se vería. Dijo también que se llamaba el sabio Muñatón.',\n",
              " '-Frestón diría -dijo don Quijote.',\n",
              " '-No sé -respondió el ama- si se llamaba Frestón o Fritón; sólo sé que acabó',\n",
              " 'en tón su nombre.',\n",
              " '-Así es -dijo don Quijote-; que ése es un sabio encantador, grande enemigo mío, que me tiene ojeriza, porque sabe por sus artes y letras que tengo de',\n",
              " 'venir, andando los tiempos, a pelear en singular batalla con un caballero a quien él favorece, y le tengo de vencer, sin que él lo pueda estorbar, y',\n",
              " 'por esto procura hacerme todos los sinsabores que puede; y mándole yo que mal podrá él contradecir ni evitar lo que por el cielo está ordenado.',\n",
              " '-¿Quién duda de eso? -dijo la sobrina-. Pero, ¿quién le mete a vuestra',\n",
              " 'merced, señor tío, en esas pendencias? ¿No será mejor estarse pacífico en su casa y no irse por el mundo a buscar pan de trastrigo, sin considerar',\n",
              " 'que muchos van por lana y vuelven tresquilados?',\n",
              " '-¡Oh sobrina mía -respondió don Quijote-, y cuán mal que estás en la cuenta! Primero que a mí me tresquilen, tendré peladas y quitadas las',\n",
              " 'barbas a cuantos imaginaren tocarme en la punta de un solo cabello.',\n",
              " 'No quisieron las dos replicarle más, porque vieron que se le encendía la cólera.',\n",
              " 'Es, pues, el caso que él estuvo quince días en casa muy sosegado, sin dar',\n",
              " 'muestras de querer segundar sus primeros devaneos, en los cuales días pasó graciosísimos cuentos con sus dos compadres el cura y el barbero, sobre que',\n",
              " 'él decía que la cosa de que más necesidad tenía el mundo era de caballeros andantes y de que en él se resucitase la caballería andantesca. El cura',\n",
              " 'algunas veces le contradecía y otras concedía, porque si no guardaba este artificio, no había poder averiguarse con él.',\n",
              " 'En este tiempo, solicitó don Quijote a un labrador vecino suyo, hombre de',\n",
              " 'bien -si es que este título se puede dar al que es pobre-, pero de muy poca sal en la mollera. En resolución, tanto le dijo, tanto le persuadió y',\n",
              " 'prometió, que el pobre villano se determinó de salirse con él y servirle de escudero. Decíale, entre otras cosas, don Quijote que se dispusiese a ir',\n",
              " 'con él de buena gana, porque tal vez le podía suceder aventura que ganase, en quítame allá esas pajas, alguna ínsula, y le dejase a él por gobernador',\n",
              " 'della. Con estas promesas y otras tales, Sancho Panza, que así se llamaba el labrador, dejó su mujer y hijos y asentó por escudero de su vecino.',\n",
              " 'Dio luego don Quijote orden en buscar dineros; y, vendiendo una cosa y',\n",
              " 'empeñando otra, y malbaratándolas todas, llegó una razonable cantidad. Acomodóse asimesmo de una rodela, que pidió prestada a un su amigo, y,',\n",
              " 'pertrechando su rota celada lo mejor que pudo, avisó a su escudero Sancho del día y la hora que pensaba ponerse en camino, para que él se acomodase',\n",
              " 'de lo que viese que más le era menester. Sobre todo le encargó que llevase alforjas; e dijo que sí llevaría, y que ansimesmo pensaba llevar un asno',\n",
              " 'que tenía muy bueno, porque él no estaba duecho a andar mucho a pie. En lo del asno reparó un poco don Quijote, imaginando si se le acordaba si algún',\n",
              " 'caballero andante había traído escudero caballero asnalmente, pero nunca le vino alguno a la memoria; mas, con todo esto, determinó que le llevase, con',\n",
              " 'presupuesto de acomodarle de más honrada caballería en habiendo ocasión para ello, quitándole el caballo al primer descortés caballero que topase.',\n",
              " 'Proveyóse de camisas y de las demás cosas que él pudo, conforme al consejo que el ventero le había dado; todo lo cual hecho y cumplido, sin despedirse',\n",
              " 'Panza de sus hijos y mujer, ni don Quijote de su ama y sobrina, una noche se salieron del lugar sin que persona los viese; en la cual caminaron',\n",
              " 'tanto, que al amanecer se tuvieron por seguros de que no los hallarían aunque los buscasen.',\n",
              " 'Iba Sancho Panza sobre su jumento como un patriarca, con sus alforjas y su',\n",
              " 'bota, y con mucho deseo de verse ya gobernador de la ínsula que su amo le había prometido. Acertó don Quijote a tomar la misma derrota y camino que',\n",
              " 'el que él había tomado en su primer viaje, que fue por el campo de Montiel, por el cual caminaba con menos pesadumbre que la vez pasada, porque, por',\n",
              " 'ser la hora de la mañana y herirles a soslayo los rayos del sol, no les fatigaban. Dijo en esto Sancho Panza a su amo:',\n",
              " '-Mire vuestra merced, señor caballero andante, que no se le olvide lo que',\n",
              " ...]"
            ]
          },
          "metadata": {},
          "execution_count": 6
        }
      ],
      "source": [
        "# cada renglón lo guardamos en una lista\n",
        "text = list(df.loc[:,0])\n",
        "text"
      ]
    },
    {
      "cell_type": "code",
      "execution_count": 7,
      "metadata": {
        "id": "CMu9CX34J8RQ"
      },
      "outputs": [],
      "source": [
        "# segmentamos el texto con la utilidad de Keras\n",
        "segmented_sentences = [text_to_word_sequence(sentence, filters='«»¡!\"#$%&()*+,-./:;<=>¿?@[\\\\]^_`{|}~\\t\\n—') for sentence in text]"
      ]
    },
    {
      "cell_type": "code",
      "source": [
        "text[0]"
      ],
      "metadata": {
        "id": "neCJEVNvkkjE",
        "colab": {
          "base_uri": "https://localhost:8080/",
          "height": 35
        },
        "outputId": "3e812fde-ede8-41ac-f927-22753f41755a"
      },
      "execution_count": 8,
      "outputs": [
        {
          "output_type": "execute_result",
          "data": {
            "text/plain": [
              "'El ingenioso hidalgo don Quijote de la Mancha'"
            ],
            "application/vnd.google.colaboratory.intrinsic+json": {
              "type": "string"
            }
          },
          "metadata": {},
          "execution_count": 8
        }
      ]
    },
    {
      "cell_type": "code",
      "source": [
        "segmented_sentences[0]"
      ],
      "metadata": {
        "id": "duxuc-DVkcpP",
        "colab": {
          "base_uri": "https://localhost:8080/"
        },
        "outputId": "73e47ee3-456b-411d-d00e-f387e9016cce"
      },
      "execution_count": 9,
      "outputs": [
        {
          "output_type": "execute_result",
          "data": {
            "text/plain": [
              "['el', 'ingenioso', 'hidalgo', 'don', 'quijote', 'de', 'la', 'mancha']"
            ]
          },
          "metadata": {},
          "execution_count": 9
        }
      ]
    },
    {
      "cell_type": "code",
      "execution_count": 10,
      "metadata": {
        "id": "x35rV7QZH49n"
      },
      "outputs": [],
      "source": [
        "# calculamos la longitud de cada secuencia\n",
        "length_sentences = [len(sentence) for sentence in segmented_sentences]"
      ]
    },
    {
      "cell_type": "code",
      "execution_count": 11,
      "metadata": {
        "id": "R8P8vDXRII4c",
        "colab": {
          "base_uri": "https://localhost:8080/",
          "height": 430
        },
        "outputId": "ba02f825-111b-437c-eae4-a7ab82d639e9"
      },
      "outputs": [
        {
          "output_type": "display_data",
          "data": {
            "text/plain": [
              "<Figure size 640x480 with 1 Axes>"
            ],
            "image/png": "[encoded data removed]"
          },
          "metadata": {}
        }
      ],
      "source": [
        "# podemos ver su distribución\n",
        "plt.hist(length_sentences, bins=50, edgecolor='black')\n",
        "plt.show()"
      ]
    },
    {
      "cell_type": "code",
      "execution_count": 12,
      "metadata": {
        "id": "wumBNwdjJM3j",
        "colab": {
          "base_uri": "https://localhost:8080/"
        },
        "outputId": "6722568e-c69a-4422-92da-ba4d1ae0cc75"
      },
      "outputs": [
        {
          "output_type": "stream",
          "name": "stdout",
          "text": [
            "max_context_size: 28\n"
          ]
        }
      ],
      "source": [
        "# a partir de la distribución de longitudes de secuencias elegimos algún criterio\n",
        "# para determinar el máximo tamaño de contexto. En este caso es un percentil, pero\n",
        "# otros criterios también pueden ser válidos con la justificación adecuada.\n",
        "# También puede ser una selección \"a mano\"\n",
        "\n",
        "# el -1 es porque el último token será el target\n",
        "max_context_size = int(np.percentile(length_sentences, 90) - 1)\n",
        "\n",
        "# max_context_size = int(np.ceil(np.mean(length_sentences))) # criterio de media\n",
        "# max_context_size = int(np.ceil(np.median(length_sentences))) # criterio de mediana\n",
        "print(f'max_context_size: {max_context_size}')"
      ]
    },
    {
      "cell_type": "markdown",
      "metadata": {
        "id": "2oIUjVU0LB0r"
      },
      "source": [
        "###  Tokenizar"
      ]
    },
    {
      "cell_type": "code",
      "execution_count": 13,
      "metadata": {
        "id": "_XKQIpRiLNbg"
      },
      "outputs": [],
      "source": [
        "# instanciamos el tokenizador\n",
        "tok = Tokenizer()\n",
        "\n",
        "# El tokenizer \"aprende\" las palabras que se usaran\n",
        "# Se construye (fit) una vez por proyecto, se aplica N veces (tal cual un encoder)\n",
        "# El token 0 es reservado y no es asignado. Se utiliza para designar a palabras\n",
        "# fuera del vocabulario aprendido\n",
        "tok.fit_on_texts(segmented_sentences)\n",
        "\n",
        "# Convertimos las palabras a números\n",
        "# entran palabras -> salen números\n",
        "tokenized_sentences = tok.texts_to_sequences(segmented_sentences)"
      ]
    },
    {
      "cell_type": "code",
      "source": [
        "tokenized_sentences[0]"
      ],
      "metadata": {
        "id": "AK2wfHyslrTz",
        "colab": {
          "base_uri": "https://localhost:8080/"
        },
        "outputId": "1123d1e4-0fc0-4681-b1fb-21d0199366b6"
      },
      "execution_count": 14,
      "outputs": [
        {
          "output_type": "execute_result",
          "data": {
            "text/plain": [
              "[5, 270, 145, 18, 20, 2, 4, 81]"
            ]
          },
          "metadata": {},
          "execution_count": 14
        }
      ]
    },
    {
      "cell_type": "code",
      "source": [
        "segmented_sentences[0]"
      ],
      "metadata": {
        "id": "s-93u9lxlwlP",
        "colab": {
          "base_uri": "https://localhost:8080/"
        },
        "outputId": "cbea854b-d4a3-44ad-ee68-1ff762e50705"
      },
      "execution_count": 15,
      "outputs": [
        {
          "output_type": "execute_result",
          "data": {
            "text/plain": [
              "['el', 'ingenioso', 'hidalgo', 'don', 'quijote', 'de', 'la', 'mancha']"
            ]
          },
          "metadata": {},
          "execution_count": 15
        }
      ]
    },
    {
      "cell_type": "markdown",
      "metadata": {
        "id": "pfpYcaypKcI9"
      },
      "source": [
        "### Organizando y estructurando el dataset"
      ]
    },
    {
      "cell_type": "markdown",
      "metadata": {
        "id": "l3iPTx-UJl6r"
      },
      "source": [
        "En este punto tenemos en la variable `tokenized_sentences` los versos tokenizados. Vamos a quedarnos con un conjunto de validación que utilizaremos para medir la calidad de la generación de secuencias con la métrica de Perplejidad."
      ]
    },
    {
      "cell_type": "code",
      "execution_count": 16,
      "metadata": {
        "id": "cSeqVGyV_wz5"
      },
      "outputs": [],
      "source": [
        "tokenized_sentences_train, tokenized_sentences_val, _, _ = train_test_split(tokenized_sentences, tokenized_sentences, test_size=0.2, random_state=42)"
      ]
    },
    {
      "cell_type": "markdown",
      "metadata": {
        "id": "gmsoPbV6LxcW"
      },
      "source": [
        "Vamos a splitear las oraciones que tienen tamaño mayor al contexto máximo, para generarnos más secuencias de entrenamiento. Este paso puede obviarse si el tamaño de contexto máximo es muy grande.\n",
        "\n",
        "Por ejemplo, si tenemos el texto *La bella y graciosa moza marchóse a lavar la ropa* y nuestro contexto es de 5 palabras, tendremos:\n",
        "\n",
        "- *La bella y graciosa moza*\n",
        "- *bella y graciosa moza marchóse*\n",
        "- *y graciosa moza marchóse a*\n",
        "- *graciosa moza marchóse a lavar*\n",
        "- *moza marchóse a lavar la*\n",
        "- *marchóse a lavar la ropa*"
      ]
    },
    {
      "cell_type": "code",
      "execution_count": 17,
      "metadata": {
        "id": "E5BPO4qPPnNR"
      },
      "outputs": [],
      "source": [
        "tok_sent = []\n",
        "\n",
        "for sent in tokenized_sentences_train:\n",
        "\n",
        "  # si la secuencia tiene más términos que el tamaño de contexto máximo,\n",
        "  # armo varias sub-secuencias de tamaño máximo\n",
        "  if len(sent) > (max_context_size+1):\n",
        "    extra = len(sent)-(max_context_size+1) + 1\n",
        "    for i in range(extra):\n",
        "      tok_sent.append(sent[i:i+max_context_size+1])\n",
        "  else: # si la secuencia tiene menos términos el tamaño de contexto máximo, dejo la secuencia como está\n",
        "    tok_sent.append(sent)\n"
      ]
    },
    {
      "cell_type": "code",
      "execution_count": 18,
      "metadata": {
        "id": "RiEt0AAz_64v",
        "colab": {
          "base_uri": "https://localhost:8080/"
        },
        "outputId": "8e814056-dafc-4042-ec6f-e49b4d532adf"
      },
      "outputs": [
        {
          "output_type": "execute_result",
          "data": {
            "text/plain": [
              "1011"
            ]
          },
          "metadata": {},
          "execution_count": 18
        }
      ],
      "source": [
        "len(tok_sent)"
      ]
    },
    {
      "cell_type": "markdown",
      "metadata": {
        "id": "QnwSC7A_LWfd"
      },
      "source": [
        "Ahora aumentamos los datos aprovechando que de una secuencia grande se pueden generar varias más pequeñas:\n",
        "\n",
        "- *La hermosa casa en el prado*\n",
        "- *La hermosa*\n",
        "- *La hermosa casa*\n",
        "- *La hermosa casa en*\n",
        "- *La hermosa casa en el*\n",
        "- *La hermosa casa en el prado*"
      ]
    },
    {
      "cell_type": "code",
      "execution_count": 19,
      "metadata": {
        "id": "lWdhVV04htki"
      },
      "outputs": [],
      "source": [
        "tok_sent_augm = []\n",
        "\n",
        "for sent in tok_sent:\n",
        "\n",
        "  # generamos todas las sub-secuencias\n",
        "  subseq = [sent[:i+2] for i in range(len(sent)-1)]\n",
        "  # en esta línea paddeamos al tamaño de contexto máximo\n",
        "  tok_sent_augm.append(pad_sequences(subseq, maxlen=max_context_size+1, padding='pre'))\n"
      ]
    },
    {
      "cell_type": "code",
      "execution_count": 20,
      "metadata": {
        "id": "THXXBya1tnZ8"
      },
      "outputs": [],
      "source": [
        "# finalmente concatenamos todas las secuencias en un único array de numpy\n",
        "train_seqs = np.concatenate(tok_sent_augm, axis=0)"
      ]
    },
    {
      "cell_type": "code",
      "execution_count": 21,
      "metadata": {
        "id": "o5Uiflnwt10J",
        "colab": {
          "base_uri": "https://localhost:8080/"
        },
        "outputId": "d3ff29c4-ee5c-4422-8377-7ac1eb2ea12a"
      },
      "outputs": [
        {
          "output_type": "execute_result",
          "data": {
            "text/plain": [
              "(19175, 29)"
            ]
          },
          "metadata": {},
          "execution_count": 21
        }
      ],
      "source": [
        "train_seqs.shape"
      ]
    },
    {
      "cell_type": "code",
      "execution_count": 22,
      "metadata": {
        "id": "yprwJHiMBQIS"
      },
      "outputs": [],
      "source": [
        "# y de aquí sacamos las entradas y los targets que consumirá nuestro sistema en\n",
        "# tiempo de entrenamiento\n",
        "X = train_seqs[:,:-1]\n",
        "y = train_seqs[:,1:]"
      ]
    },
    {
      "cell_type": "markdown",
      "source": [
        "Nótese que estamos estructurando el problema de aprendizaje como *many-to-many*:\n",
        "\n",
        "Entrada: secuencia de tokens [$x_0$, $x_1$, ..., $x_N$]\n",
        "\n",
        "Target: secuencia de tokens [$x_1$, $x_2$, ..., $x_{N+1}$]\n",
        "\n",
        "De manera que la red tiene que aprender que su salida deben ser los tokens desplazados en una posición y un nuevo token predicho (el N+1).\n",
        "\n",
        "La ventaja de estructurar el aprendizaje de esta manera es que para cada token de target se propaga una señal de gradiente por el grafo de cómputo recurrente, que es mejor que estructurar el problema como *many-to-one* en donde sólo una señal de gradiente se propaga."
      ],
      "metadata": {
        "id": "YxuKNI05Ttct"
      }
    },
    {
      "cell_type": "code",
      "source": [
        "y.shape"
      ],
      "metadata": {
        "id": "KFAyA4zCWE-5",
        "colab": {
          "base_uri": "https://localhost:8080/"
        },
        "outputId": "44d4eff6-ddb7-45fe-bd72-81f19aac8ab7"
      },
      "execution_count": 23,
      "outputs": [
        {
          "output_type": "execute_result",
          "data": {
            "text/plain": [
              "(19175, 28)"
            ]
          },
          "metadata": {},
          "execution_count": 23
        }
      ]
    },
    {
      "cell_type": "code",
      "execution_count": 24,
      "metadata": {
        "id": "1D9ESMGyB_QD",
        "colab": {
          "base_uri": "https://localhost:8080/"
        },
        "outputId": "7d6cda81-8cfc-4726-a2a1-19a877f42a70"
      },
      "outputs": [
        {
          "output_type": "execute_result",
          "data": {
            "text/plain": [
              "{1: 'que',\n",
              " 2: 'de',\n",
              " 3: 'y',\n",
              " 4: 'la',\n",
              " 5: 'el',\n",
              " 6: 'a',\n",
              " 7: 'en',\n",
              " 8: 'no',\n",
              " 9: 'se',\n",
              " 10: 'por',\n",
              " 11: 'le',\n",
              " 12: 'los',\n",
              " 13: 'con',\n",
              " 14: 'su',\n",
              " 15: 'lo',\n",
              " 16: 'las',\n",
              " 17: 'del',\n",
              " 18: 'don',\n",
              " 19: 'al',\n",
              " 20: 'quijote',\n",
              " 21: 'un',\n",
              " 22: 'como',\n",
              " 23: 'él',\n",
              " 24: 'más',\n",
              " 25: 'si',\n",
              " 26: 'es',\n",
              " 27: 'dijo',\n",
              " 28: 'tan',\n",
              " 29: 'sin',\n",
              " 30: 'me',\n",
              " 31: 'porque',\n",
              " 32: 'caballero',\n",
              " 33: 'ni',\n",
              " 34: 'había',\n",
              " 35: 'para',\n",
              " 36: 'una',\n",
              " 37: 'todo',\n",
              " 38: 'sus',\n",
              " 39: 'así',\n",
              " 40: 'yo',\n",
              " 41: 'era',\n",
              " 42: 'vuestra',\n",
              " 43: 'señor',\n",
              " 44: 'mi',\n",
              " 45: 'esto',\n",
              " 46: 'bien',\n",
              " 47: 'o',\n",
              " 48: 'pero',\n",
              " 49: 'cual',\n",
              " 50: 'cuando',\n",
              " 51: 'os',\n",
              " 52: 'todos',\n",
              " 53: 'libro',\n",
              " 54: 'fue',\n",
              " 55: 'libros',\n",
              " 56: 'este',\n",
              " 57: 'respondió',\n",
              " 58: 'pues',\n",
              " 59: 'muy',\n",
              " 60: 'merced',\n",
              " 61: 'cura',\n",
              " 62: 'ya',\n",
              " 63: 'sancho',\n",
              " 64: 'aquel',\n",
              " 65: 'estaba',\n",
              " 66: 'otra',\n",
              " 67: 'qué',\n",
              " 68: 'donde',\n",
              " 69: 'sino',\n",
              " 70: 'sobre',\n",
              " 71: 'hacer',\n",
              " 72: 'quien',\n",
              " 73: 'ser',\n",
              " 74: 'cosa',\n",
              " 75: 'ha',\n",
              " 76: 'alguna',\n",
              " 77: 'barbero',\n",
              " 78: 'dicho',\n",
              " 79: 'dos',\n",
              " 80: 'mas',\n",
              " 81: 'mancha',\n",
              " 82: 'mundo',\n",
              " 83: 'luego',\n",
              " 84: 'tal',\n",
              " 85: 'armas',\n",
              " 86: 'nombre',\n",
              " 87: 'te',\n",
              " 88: 'señora',\n",
              " 89: 'aunque',\n",
              " 90: 'mal',\n",
              " 91: 'tenía',\n",
              " 92: 'rocinante',\n",
              " 93: 'lanza',\n",
              " 94: 'caballeros',\n",
              " 95: 'vio',\n",
              " 96: 'buen',\n",
              " 97: 'ella',\n",
              " 98: 'dios',\n",
              " 99: 'parte',\n",
              " 100: 'vos',\n",
              " 101: 'decía',\n",
              " 102: 'mucho',\n",
              " 103: 'verdad',\n",
              " 104: 'esta',\n",
              " 105: 'otro',\n",
              " 106: 'manera',\n",
              " 107: 'toda',\n",
              " 108: 'amigo',\n",
              " 109: 'poco',\n",
              " 110: 'allí',\n",
              " 111: 'nuestro',\n",
              " 112: 'tiene',\n",
              " 113: 'mesmo',\n",
              " 114: 'hecho',\n",
              " 115: 'aquí',\n",
              " 116: 'gran',\n",
              " 117: 'ama',\n",
              " 118: 'podía',\n",
              " 119: 'caballo',\n",
              " 120: 'está',\n",
              " 121: 'menos',\n",
              " 122: 'historia',\n",
              " 123: 'uno',\n",
              " 124: 'labrador',\n",
              " 125: 'dar',\n",
              " 126: 'tu',\n",
              " 127: 'mejor',\n",
              " 128: 'dio',\n",
              " 129: 'aquella',\n",
              " 130: 'camino',\n",
              " 131: 'primero',\n",
              " 132: 'día',\n",
              " 133: 'tanto',\n",
              " 134: 'he',\n",
              " 135: 'son',\n",
              " 136: 'decir',\n",
              " 137: 'algún',\n",
              " 138: 'ellos',\n",
              " 139: 'panza',\n",
              " 140: 'escudero',\n",
              " 141: 'espada',\n",
              " 142: 'eran',\n",
              " 143: 'castillo',\n",
              " 144: 'venta',\n",
              " 145: 'hidalgo',\n",
              " 146: 'vuestro',\n",
              " 147: 'todas',\n",
              " 148: 'mío',\n",
              " 149: 'grande',\n",
              " 150: 'ver',\n",
              " 151: 'caballería',\n",
              " 152: 'hay',\n",
              " 153: 'cuanto',\n",
              " 154: 'otras',\n",
              " 155: 'mí',\n",
              " 156: 'punto',\n",
              " 157: 'buena',\n",
              " 158: 'amo',\n",
              " 159: 'diciendo',\n",
              " 160: 'antes',\n",
              " 161: 'fuera',\n",
              " 162: 'otros',\n",
              " 163: 'casa',\n",
              " 164: 'tengo',\n",
              " 165: 'también',\n",
              " 166: 'aquellos',\n",
              " 167: 'puesto',\n",
              " 168: 'aun',\n",
              " 169: 'quién',\n",
              " 170: 'vino',\n",
              " 171: 'iba',\n",
              " 172: 'noche',\n",
              " 173: 'ventero',\n",
              " 174: 'días',\n",
              " 175: 'cuatro',\n",
              " 176: 'tiempo',\n",
              " 177: 'hasta',\n",
              " 178: 'sé',\n",
              " 179: 'cosas',\n",
              " 180: 'famoso',\n",
              " 181: 'caballerías',\n",
              " 182: 'razones',\n",
              " 183: 'dulcinea',\n",
              " 184: 'entre',\n",
              " 185: 'andantes',\n",
              " 186: 'demás',\n",
              " 187: 'voces',\n",
              " 188: 'estos',\n",
              " 189: 'tener',\n",
              " 190: 'orden',\n",
              " 191: 'soy',\n",
              " 192: 'sólo',\n",
              " 193: 'tierra',\n",
              " 194: 'sí',\n",
              " 195: 'oh',\n",
              " 196: 'hizo',\n",
              " 197: 'estaban',\n",
              " 198: 'éste',\n",
              " 199: 'coche',\n",
              " 200: 'cada',\n",
              " 201: 'tres',\n",
              " 202: 'años',\n",
              " 203: 'desta',\n",
              " 204: 'veces',\n",
              " 205: 'cuenta',\n",
              " 206: 'casi',\n",
              " 207: 'muchas',\n",
              " 208: 'han',\n",
              " 209: 'habéis',\n",
              " 210: 'digo',\n",
              " 211: 'andante',\n",
              " 212: 'según',\n",
              " 213: 'amadís',\n",
              " 214: 'jamás',\n",
              " 215: 'deste',\n",
              " 216: 'daba',\n",
              " 217: 'llegó',\n",
              " 218: 'aventuras',\n",
              " 219: 'corral',\n",
              " 220: 'eso',\n",
              " 221: 'menester',\n",
              " 222: 'aposento',\n",
              " 223: 'nos',\n",
              " 224: 'vez',\n",
              " 225: 'cómo',\n",
              " 226: 'alguno',\n",
              " 227: 'dellos',\n",
              " 228: 'parecer',\n",
              " 229: 'ojos',\n",
              " 230: 'nunca',\n",
              " 231: 'lugar',\n",
              " 232: 'ahora',\n",
              " 233: 'autores',\n",
              " 234: 'tales',\n",
              " 235: 'les',\n",
              " 236: 'puede',\n",
              " 237: 'muchos',\n",
              " 238: 'adarga',\n",
              " 239: 'pudo',\n",
              " 240: 'pareció',\n",
              " 241: 'celada',\n",
              " 242: 'mucha',\n",
              " 243: 'replicó',\n",
              " 244: 'vizcaíno',\n",
              " 245: 'rey',\n",
              " 246: 'principio',\n",
              " 247: 'mil',\n",
              " 248: 'razón',\n",
              " 249: 'della',\n",
              " 250: 'fin',\n",
              " 251: 'autor',\n",
              " 252: 'suerte',\n",
              " 253: 'hijo',\n",
              " 254: 'mano',\n",
              " 255: 'cabo',\n",
              " 256: 'modo',\n",
              " 257: 'poner',\n",
              " 258: 'sido',\n",
              " 259: 'será',\n",
              " 260: 'mismo',\n",
              " 261: 'estas',\n",
              " 262: 'tú',\n",
              " 263: 'sobrina',\n",
              " 264: 'duda',\n",
              " 265: 'leído',\n",
              " 266: 'quiso',\n",
              " 267: 'batalla',\n",
              " 268: 'viento',\n",
              " 269: 'gente',\n",
              " 270: 'ingenioso',\n",
              " 271: 'visto',\n",
              " 272: 'poder',\n",
              " 273: 'persona',\n",
              " 274: 'caso',\n",
              " 275: 'sea',\n",
              " 276: 'solo',\n",
              " 277: 'contento',\n",
              " 278: 'aquello',\n",
              " 279: 'pensaba',\n",
              " 280: 'mis',\n",
              " 281: 'después',\n",
              " 282: 'nada',\n",
              " 283: 'ello',\n",
              " 284: 'campo',\n",
              " 285: 'manos',\n",
              " 286: 'toboso',\n",
              " 287: 'llamaba',\n",
              " 288: 'valeroso',\n",
              " 289: 'voz',\n",
              " 290: 'llevar',\n",
              " 291: 'comenzó',\n",
              " 292: 'adelante',\n",
              " 293: 'huésped',\n",
              " 294: 'hora',\n",
              " 295: 'trabajo',\n",
              " 296: 'fuese',\n",
              " 297: 'tanta',\n",
              " 298: 'algunos',\n",
              " 299: 'deseo',\n",
              " 300: 'quiero',\n",
              " 301: 'ninguno',\n",
              " 302: 'pobre',\n",
              " 303: 'falta',\n",
              " 304: 'cielo',\n",
              " 305: 'risa',\n",
              " 306: 'capítulo',\n",
              " 307: 'hombre',\n",
              " 308: 'ese',\n",
              " 309: 'contra',\n",
              " 310: 'debe',\n",
              " 311: 'rostro',\n",
              " 312: 'aventura',\n",
              " 313: 'gigantes',\n",
              " 314: 'dejó',\n",
              " 315: 'tornó',\n",
              " 316: 'mañana',\n",
              " 317: 'armado',\n",
              " 318: 'semejantes',\n",
              " 319: 'parece',\n",
              " 320: 'viendo',\n",
              " 321: 'agua',\n",
              " 322: 'suelo',\n",
              " 323: 'gana',\n",
              " 324: 'fuego',\n",
              " 325: 'compadre',\n",
              " 326: 'juan',\n",
              " 327: 'consejo',\n",
              " 328: 'haber',\n",
              " 329: 'hace',\n",
              " 330: 'desde',\n",
              " 331: 'saber',\n",
              " 332: 'efeto',\n",
              " 333: 'estando',\n",
              " 334: 'luz',\n",
              " 335: 'obras',\n",
              " 336: 'cuerpo',\n",
              " 337: 'tantos',\n",
              " 338: 'tienen',\n",
              " 339: 'damas',\n",
              " 340: 'españa',\n",
              " 341: 'vuestras',\n",
              " 342: 'posible',\n",
              " 343: 'dejar',\n",
              " 344: 'memoria',\n",
              " 345: 'ahí',\n",
              " 346: 'gigante',\n",
              " 347: 'buscar',\n",
              " 348: 'género',\n",
              " 349: 'mía',\n",
              " 350: 'ir',\n",
              " 351: 'gaula',\n",
              " 352: 'soneto',\n",
              " 353: 'sabio',\n",
              " 354: 'ocasión',\n",
              " 355: 'brazo',\n",
              " 356: 'rocín',\n",
              " 357: 'partes',\n",
              " 358: 'leer',\n",
              " 359: 'habían',\n",
              " 360: 'bueno',\n",
              " 361: 'halló',\n",
              " 362: 'dado',\n",
              " 363: 'apenas',\n",
              " 364: 'molinos',\n",
              " 365: 'doncellas',\n",
              " 366: 'vecino',\n",
              " 367: 'esa',\n",
              " 368: 'diablo',\n",
              " 369: 'medio',\n",
              " 370: 'pueda',\n",
              " 371: 'nuestra',\n",
              " 372: 'pena',\n",
              " 373: 'marqués',\n",
              " 374: 'juicio',\n",
              " 375: 'amor',\n",
              " 376: 'hacen',\n",
              " 377: 'dice',\n",
              " 378: 'delante',\n",
              " 379: 'unos',\n",
              " 380: 'b',\n",
              " 381: 'algunas',\n",
              " 382: 'lengua',\n",
              " 383: 'necesidad',\n",
              " 384: 'aquellas',\n",
              " 385: 'disparates',\n",
              " 386: 'entender',\n",
              " 387: 'tomar',\n",
              " 388: 'pies',\n",
              " 389: 'primera',\n",
              " 390: 'fama',\n",
              " 391: 'desgracia',\n",
              " 392: 'haberle',\n",
              " 393: 'valor',\n",
              " 394: 'asno',\n",
              " 395: 'algo',\n",
              " 396: 'pensamiento',\n",
              " 397: 'unas',\n",
              " 398: 'llamar',\n",
              " 399: 'suyo',\n",
              " 400: 'mitad',\n",
              " 401: 'fuesen',\n",
              " 402: 'encantador',\n",
              " 403: 'venir',\n",
              " 404: 'figura',\n",
              " 405: 'determinó',\n",
              " 406: 'acabó',\n",
              " 407: 'dineros',\n",
              " 408: 'aún',\n",
              " 409: 'andrés',\n",
              " 410: 'mire',\n",
              " 411: 'tío',\n",
              " 412: 'dél',\n",
              " 413: 'licenciado',\n",
              " 414: 'dicha',\n",
              " 415: 'espacio',\n",
              " 416: 'primer',\n",
              " 417: 'servicio',\n",
              " 418: 'quisiera',\n",
              " 419: 'discreto',\n",
              " 420: 'pensamientos',\n",
              " 421: 'leyendo',\n",
              " 422: 'causa',\n",
              " 423: 'quería',\n",
              " 424: 'hazañas',\n",
              " 425: 'sean',\n",
              " 426: 'poetas',\n",
              " 427: 'oyendo',\n",
              " 428: 'hermano',\n",
              " 429: 'palabras',\n",
              " 430: 'hoy',\n",
              " 431: 'pastor',\n",
              " 432: 'ninguna',\n",
              " 433: 'fuere',\n",
              " 434: 'dando',\n",
              " 435: 'ellas',\n",
              " 436: 'hallar',\n",
              " 437: 'hago',\n",
              " 438: 'nuevo',\n",
              " 439: 'siendo',\n",
              " 440: 'puso',\n",
              " 441: 'alforjas',\n",
              " 442: 'poeta',\n",
              " 443: 'r',\n",
              " 444: 'gusto',\n",
              " 445: 'cuantos',\n",
              " 446: 'pie',\n",
              " 447: 'hacerse',\n",
              " 448: 'tenían',\n",
              " 449: 'puerta',\n",
              " 450: 'locura',\n",
              " 451: 'cautivo',\n",
              " 452: 'corazón',\n",
              " 453: 'cuales',\n",
              " 454: 'parecía',\n",
              " 455: 'comer',\n",
              " 456: 'cabeza',\n",
              " 457: 'muchacho',\n",
              " 458: 'haré',\n",
              " 459: 'pienso',\n",
              " 460: 'venían',\n",
              " 461: 'venía',\n",
              " 462: 'frailes',\n",
              " 463: 'fe',\n",
              " 464: 'habiendo',\n",
              " 465: 'cervantes',\n",
              " 466: 'maravedís',\n",
              " 467: 'licencia',\n",
              " 468: 'original',\n",
              " 469: 'imprimir',\n",
              " 470: 'hicieron',\n",
              " 471: 'va',\n",
              " 472: 'mandado',\n",
              " 473: 'e',\n",
              " 474: 'honra',\n",
              " 475: 'suelen',\n",
              " 476: 'entendimiento',\n",
              " 477: 'seco',\n",
              " 478: 'amigos',\n",
              " 479: 'eres',\n",
              " 480: 'estás',\n",
              " 481: 'preguntó',\n",
              " 482: 'tenga',\n",
              " 483: 'llaman',\n",
              " 484: 'están',\n",
              " 485: 'enamorado',\n",
              " 486: 'cristiano',\n",
              " 487: 'tantas',\n",
              " 488: 'buscando',\n",
              " 489: 'oído',\n",
              " 490: 'estáis',\n",
              " 491: 'lejos',\n",
              " 492: 'mayores',\n",
              " 493: 'decís',\n",
              " 494: 'título',\n",
              " 495: 'famosos',\n",
              " 496: 'non',\n",
              " 497: 'poca',\n",
              " 498: 'tras',\n",
              " 499: 'famosa',\n",
              " 500: 'amores',\n",
              " 501: 'quizá',\n",
              " 502: 'san',\n",
              " 503: 'puesta',\n",
              " 504: 'ventura',\n",
              " 505: 'valiente',\n",
              " 506: 'pan',\n",
              " 507: 'real',\n",
              " 508: 'fuerza',\n",
              " 509: 'conmigo',\n",
              " 510: 'deja',\n",
              " 511: 'vida',\n",
              " 512: 'apolo',\n",
              " 513: 'fui',\n",
              " 514: 'agravios',\n",
              " 515: 'tus',\n",
              " 516: 'hermosa',\n",
              " 517: 'ejercicio',\n",
              " 518: 'jumento',\n",
              " 519: 'has',\n",
              " 520: 'pares',\n",
              " 521: 'talante',\n",
              " 522: 'criado',\n",
              " 523: 'noches',\n",
              " 524: 'llegaba',\n",
              " 525: 'fermosura',\n",
              " 526: 'grandes',\n",
              " 527: 'tuvo',\n",
              " 528: 'maese',\n",
              " 529: 'nicolás',\n",
              " 530: 'dormir',\n",
              " 531: 'muerto',\n",
              " 532: 'brazos',\n",
              " 533: 'montalbán',\n",
              " 534: 'estraño',\n",
              " 535: 'priesa',\n",
              " 536: 'pedazos',\n",
              " 537: 'ansí',\n",
              " 538: 'quitó',\n",
              " 539: 'debía',\n",
              " 540: 'ante',\n",
              " 541: 'mandó',\n",
              " 542: 'hubo',\n",
              " 543: 'ésta',\n",
              " 544: 'darle',\n",
              " 545: 'hacía',\n",
              " 546: 'hablando',\n",
              " 547: 'adonde',\n",
              " 548: 'éstos',\n",
              " 549: 'dicen',\n",
              " 550: 'destas',\n",
              " 551: 'vieron',\n",
              " 552: 'mala',\n",
              " 553: 'señoras',\n",
              " 554: 'castellano',\n",
              " 555: 'velar',\n",
              " 556: 'pieza',\n",
              " 557: 'traía',\n",
              " 558: 'quitar',\n",
              " 559: 'romance',\n",
              " 560: 'oír',\n",
              " 561: 'podría',\n",
              " 562: 'ponía',\n",
              " 563: 'estoy',\n",
              " 564: 'haciendo',\n",
              " 565: 'díjole',\n",
              " 566: 'escuderos',\n",
              " 567: 'presto',\n",
              " 568: 'pila',\n",
              " 569: 'junto',\n",
              " 570: 'sosegado',\n",
              " 571: 'golpe',\n",
              " 572: 'hubiera',\n",
              " 573: 'recebido',\n",
              " 574: 'baja',\n",
              " 575: 'haga',\n",
              " 576: 'hacia',\n",
              " 577: 'encina',\n",
              " 578: 'daño',\n",
              " 579: 'juro',\n",
              " 580: 'viene',\n",
              " 581: 'mozos',\n",
              " 582: 'arremetió',\n",
              " 583: 'molido',\n",
              " 584: 'mantua',\n",
              " 585: 'rodrigo',\n",
              " 586: 'narváez',\n",
              " 587: 'segunda',\n",
              " 588: 'rodela',\n",
              " 589: 'tasa',\n",
              " 590: 'doy',\n",
              " 591: 'compuesto',\n",
              " 592: 'miguel',\n",
              " 593: 'precio',\n",
              " 594: 'vender',\n",
              " 595: 'dieron',\n",
              " 596: 'ponga',\n",
              " 597: 'di',\n",
              " 598: 'mes',\n",
              " 599: 'impresión',\n",
              " 600: 'cédula',\n",
              " 601: 'reinos',\n",
              " 602: 'diez',\n",
              " 603: 'conforme',\n",
              " 604: 'esté',\n",
              " 605: 'leyes',\n",
              " 606: 'capilla',\n",
              " 607: 'sacar',\n",
              " 608: 'debo',\n",
              " 609: 'grandeza',\n",
              " 610: 'andar',\n",
              " 611: 'prólogo',\n",
              " 612: 'creer',\n",
              " 613: 'padre',\n",
              " 614: 'vea',\n",
              " 615: 'alma',\n",
              " 616: 'sonetos',\n",
              " 617: 'entró',\n",
              " 618: 'noble',\n",
              " 619: 'queréis',\n",
              " 620: 'dirá',\n",
              " 621: 'invención',\n",
              " 622: 'sentencias',\n",
              " 623: 'aristóteles',\n",
              " 624: 'escritura',\n",
              " 625: 'letras',\n",
              " 626: 'agora',\n",
              " 627: 'siempre',\n",
              " 628: 'remediar',\n",
              " 629: 'veréis',\n",
              " 630: 'podéis',\n",
              " 631: 'dé',\n",
              " 632: 'pro',\n",
              " 633: 'tratáredes',\n",
              " 634: 'muerte',\n",
              " 635: 'enemigo',\n",
              " 636: 'dará',\n",
              " 637: 'resolución',\n",
              " 638: 'cargo',\n",
              " 639: 'simple',\n",
              " 640: 'importancia',\n",
              " 641: 'mira',\n",
              " 642: 'deshacer',\n",
              " 643: 'máquina',\n",
              " 644: 'verás',\n",
              " 645: 'da',\n",
              " 646: \"''\",\n",
              " 647: 'pasar',\n",
              " 648: 'claro',\n",
              " 649: 'único',\n",
              " 650: 'enano',\n",
              " 651: 'aldea',\n",
              " 652: 'par',\n",
              " 653: 'mozo',\n",
              " 654: 'llevó',\n",
              " 655: 'parecían',\n",
              " 656: 'compuso',\n",
              " 657: 'hallaba',\n",
              " 658: 'escrito',\n",
              " 659: 'heridas',\n",
              " 660: 'hiciera',\n",
              " 661: 'pueblo',\n",
              " 662: 'imaginación',\n",
              " 663: 'loco',\n",
              " 664: 'irse',\n",
              " 665: 'agravio',\n",
              " 666: 'sentía',\n",
              " 667: 'estar',\n",
              " 668: 'quedó',\n",
              " 669: 'querer',\n",
              " 670: 'entonces',\n",
              " 671: 'añadió',\n",
              " 672: 'ocho',\n",
              " 673: 'suya',\n",
              " 674: 'ínsula',\n",
              " 675: 'cerca',\n",
              " 676: 'natural',\n",
              " 677: 'viese',\n",
              " 678: 'subió',\n",
              " 679: 'tomó',\n",
              " 680: 'salió',\n",
              " 681: 'propósito',\n",
              " 682: 'tendido',\n",
              " 683: 'sol',\n",
              " 684: 'hallado',\n",
              " 685: 'pudiese',\n",
              " 686: 'mozas',\n",
              " 687: 'iban',\n",
              " 688: 'arrieros',\n",
              " 689: 'llegando',\n",
              " 690: 'esperando',\n",
              " 691: 'señal',\n",
              " 692: 'llegar',\n",
              " 693: 'caballeriza',\n",
              " 694: 'andaba',\n",
              " 695: 'visera',\n",
              " 696: 'gentil',\n",
              " 697: 'mercedes',\n",
              " 698: 'altas',\n",
              " 699: 'estuvo',\n",
              " 700: 'lecho',\n",
              " 701: 'servido',\n",
              " 702: 'palabra',\n",
              " 703: 'reales',\n",
              " 704: 'peor',\n",
              " 705: 'boca',\n",
              " 706: 'determinación',\n",
              " 707: 'verse',\n",
              " 708: 'recebir',\n",
              " 709: 'hubiese',\n",
              " 710: 'pago',\n",
              " 711: 'traído',\n",
              " 712: 'camisas',\n",
              " 713: 'llevaban',\n",
              " 714: 'doncella',\n",
              " 715: 'quedaban',\n",
              " 716: 'vela',\n",
              " 717: 'arriero',\n",
              " 718: 'alzó',\n",
              " 719: 'favor',\n",
              " 720: 'vosotros',\n",
              " 721: 'canalla',\n",
              " 722: 'denuedo',\n",
              " 723: 'respeto',\n",
              " 724: 'pasó',\n",
              " 725: 'sería',\n",
              " 726: 'hijos',\n",
              " 727: 'bosque',\n",
              " 728: 'paso',\n",
              " 729: 'jurado',\n",
              " 730: 'culpa',\n",
              " 731: 'creo',\n",
              " 732: 'mulas',\n",
              " 733: 'llegaron',\n",
              " 734: 'nosotros',\n",
              " 735: 'juntos',\n",
              " 736: 'cólera',\n",
              " 737: 'levantarse',\n",
              " 738: 'palos',\n",
              " 739: 'valdovinos',\n",
              " 740: 'versos',\n",
              " 741: 'diana',\n",
              " 742: 'sepa',\n",
              " 743: 'parecen',\n",
              " 744: 'malferido',\n",
              " 745: 'despojos',\n",
              " 746: 'ése',\n",
              " 747: 'fueran',\n",
              " 748: 'fraile',\n",
              " 749: 'mula',\n",
              " 750: 'gallo',\n",
              " 751: 'andrada',\n",
              " 752: 'cámara',\n",
              " 753: 'intitulado',\n",
              " 754: 'pliego',\n",
              " 755: 'veinte',\n",
              " 756: 'erratas',\n",
              " 757: 'fecha',\n",
              " 758: 'mandar',\n",
              " 759: 'castilla',\n",
              " 760: 'so',\n",
              " 761: 'imprimiere',\n",
              " 762: 'hiciere',\n",
              " 763: 'tercia',\n",
              " 764: 'juez',\n",
              " 765: 'cuya',\n",
              " 766: 'destos',\n",
              " 767: 'seis',\n",
              " 768: 'excelencia',\n",
              " 769: 'buenas',\n",
              " 770: 'artes',\n",
              " 771: 'vulgo',\n",
              " 772: 'sombra',\n",
              " 773: 'lector',\n",
              " 774: 'juramento',\n",
              " 775: 'pudiera',\n",
              " 776: 'lleno',\n",
              " 777: 'ruido',\n",
              " 778: 'sosiego',\n",
              " 779: 'musas',\n",
              " 780: 'faltas',\n",
              " 781: 'libre',\n",
              " 782: 'sabes',\n",
              " 783: 'puedes',\n",
              " 784: 'temor',\n",
              " 785: 'tuve',\n",
              " 786: 'mayor',\n",
              " 787: 'pluma',\n",
              " 788: 'diría',\n",
              " 789: 'dije',\n",
              " 790: 'antiguo',\n",
              " 791: 'olvido',\n",
              " 792: 'estilo',\n",
              " 793: 'márgenes',\n",
              " 794: 'anotaciones',\n",
              " 795: 'divina',\n",
              " 796: 'decoro',\n",
              " 797: 'archivos',\n",
              " 798: 'faltan',\n",
              " 799: 'hallo',\n",
              " 800: 'nace',\n",
              " 801: 'bastante',\n",
              " 802: 'carga',\n",
              " 803: 'estado',\n",
              " 804: 'conozco',\n",
              " 805: 'tenido',\n",
              " 806: 'serlo',\n",
              " 807: 'discurso',\n",
              " 808: 'cerrar',\n",
              " 809: 'remedio',\n",
              " 810: 'claridad',\n",
              " 811: 'fueron',\n",
              " 812: 'detrás',\n",
              " 813: 'venga',\n",
              " 814: 'sepáis',\n",
              " 815: 'malos',\n",
              " 816: 'siquiera',\n",
              " 817: 'anotación',\n",
              " 818: 'escribe',\n",
              " 819: 'nacimiento',\n",
              " 820: 'opinión',\n",
              " 821: 'caco',\n",
              " 822: 'ovidio',\n",
              " 823: 'valerosos',\n",
              " 824: 'tocar',\n",
              " 825: 'historias',\n",
              " 826: 'importa',\n",
              " 827: 'largo',\n",
              " 828: 'autoridad',\n",
              " 829: 'acordó',\n",
              " 830: 'ningún',\n",
              " 831: 'salga',\n",
              " 832: 'oración',\n",
              " 833: 'intención',\n",
              " 834: 'vuestros',\n",
              " 835: 'montiel',\n",
              " 836: 'conocer',\n",
              " 837: 'honrado',\n",
              " 838: 'salud',\n",
              " 839: 'ma',\n",
              " 840: 'árbol',\n",
              " 841: 'alejandro',\n",
              " 842: 'orlando',\n",
              " 843: 'hablar',\n",
              " 844: 'entiende',\n",
              " 845: 'patria',\n",
              " 846: 'belianís',\n",
              " 847: 'arrogante',\n",
              " 848: 'fortuna',\n",
              " 849: 'luna',\n",
              " 850: 'proezas',\n",
              " 851: 'tuviera',\n",
              " 852: 'español',\n",
              " 853: 'vi',\n",
              " 854: 'moro',\n",
              " 855: 'suceso',\n",
              " 856: 'febo',\n",
              " 857: 'alta',\n",
              " 858: 'eterno',\n",
              " 859: 'sabia',\n",
              " 860: 'fazañas',\n",
              " 861: 'tuertos',\n",
              " 862: 'andado',\n",
              " 863: 'trata',\n",
              " 864: 'condición',\n",
              " 865: 'cuyo',\n",
              " 866: 'vivía',\n",
              " 867: 'hacienda',\n",
              " 868: 'pasaba',\n",
              " 869: 'edad',\n",
              " 870: 'sobrenombre',\n",
              " 871: 'basta',\n",
              " 872: 'año',\n",
              " 873: 'suyas',\n",
              " 874: 'leía',\n",
              " 875: 'imaginaba',\n",
              " 876: 'hubiesen',\n",
              " 877: 'acabar',\n",
              " 878: 'cuál',\n",
              " 879: 'palmerín',\n",
              " 880: 'ingalaterra',\n",
              " 881: 'pendencias',\n",
              " 882: 'industria',\n",
              " 883: 'reinaldos',\n",
              " 884: 'veía',\n",
              " 885: 'salir',\n",
              " 886: 'ocasiones',\n",
              " 887: 'deseaba',\n",
              " 888: 'morrión',\n",
              " 889: 'fuerte',\n",
              " 890: 'sacó',\n",
              " 891: 'deshizo',\n",
              " 892: 'parecerle',\n",
              " 893: 'facilidad',\n",
              " 894: 'dentro',\n",
              " 895: 'nueva',\n",
              " 896: 'estuviese',\n",
              " 897: 'alto',\n",
              " 898: 'verdadera',\n",
              " 899: 'quisieron',\n",
              " 900: 'vivo',\n",
              " 901: 'ordinario',\n",
              " 902: 'rodillas',\n",
              " 903: 'supo',\n",
              " 904: 'buscándole',\n",
              " 905: 'princesa',\n",
              " 906: 'salida',\n",
              " 907: 'hechas',\n",
              " 908: 'prevenciones',\n",
              " 909: 'embrazó',\n",
              " 910: 'novel',\n",
              " 911: 'ganase',\n",
              " 912: 'caminando',\n",
              " 913: 'aventurero',\n",
              " 914: 'hechos',\n",
              " 915: 'contar',\n",
              " 916: 'pequeños',\n",
              " 917: 'venida',\n",
              " 918: 'dejando',\n",
              " 919: 'cama',\n",
              " 920: 'caminar',\n",
              " 921: 'caminaba',\n",
              " 922: 'mías',\n",
              " 923: 'seas',\n",
              " 924: 'compañero',\n",
              " 925: 'puerto',\n",
              " 926: 'lápice',\n",
              " 927: 'hallaron',\n",
              " 928: 'acaso',\n",
              " 929: 'sevilla',\n",
              " 930: 'trecho',\n",
              " 931: 'riendas',\n",
              " 932: 'pusiese',\n",
              " 933: 'miedo',\n",
              " 934: 'pudieron',\n",
              " 935: 'sandez',\n",
              " 936: 'pacífico',\n",
              " 937: 'muestras',\n",
              " 938: 'posada',\n",
              " 939: 'alcaide',\n",
              " 940: 'cualquiera',\n",
              " 941: 'llamado',\n",
              " 942: 'tuviese',\n",
              " 943: 'cuidado',\n",
              " 944: 'volvió',\n",
              " 945: 'pensar',\n",
              " 946: 'princesas',\n",
              " 947: 'acertó',\n",
              " 948: 'servir',\n",
              " 949: 'pedía',\n",
              " 950: 'ansimesmo',\n",
              " 951: 'diversas',\n",
              " 952: 'ceremonias',\n",
              " 953: 'dellas',\n",
              " 954: 'cierto',\n",
              " 955: 'llena',\n",
              " 956: 'salían',\n",
              " 957: 'heridos',\n",
              " 958: 'cuán',\n",
              " 959: 'lado',\n",
              " 960: 'mirar',\n",
              " 961: 'atrevimiento',\n",
              " 962: 'trance',\n",
              " 963: 'pasado',\n",
              " 964: 'mesma',\n",
              " 965: 'segundo',\n",
              " 966: 'doña',\n",
              " 967: 'antequera',\n",
              " 968: 'volver',\n",
              " 969: 'azotes',\n",
              " 970: 'respondía',\n",
              " 971: 'defender',\n",
              " 972: 'encima',\n",
              " 973: 'castigo',\n",
              " 974: 'villano',\n",
              " 975: 'responder',\n",
              " 976: 'zapatos',\n",
              " 977: 'sangre',\n",
              " 978: 'hará',\n",
              " 979: 'paga',\n",
              " 980: 'mientes',\n",
              " 981: 'prometido',\n",
              " 982: 'picó',\n",
              " 983: 'acá',\n",
              " 984: 'pagar',\n",
              " 985: 'partió',\n",
              " 986: 'sabe',\n",
              " 987: 'mercaderes',\n",
              " 988: 'molde',\n",
              " 989: 'mana',\n",
              " 990: 'furia',\n",
              " 991: 'pesar',\n",
              " 992: 'siguieron',\n",
              " 993: 'verso',\n",
              " 994: 'molino',\n",
              " 995: 'cubierto',\n",
              " 996: 'abindarráez',\n",
              " 997: 'montemayor',\n",
              " 998: 'doce',\n",
              " 999: 'acuerdo',\n",
              " 1000: 'feridas',\n",
              " ...}"
            ]
          },
          "metadata": {},
          "execution_count": 24
        }
      ],
      "source": [
        "# Palabras del vocabulario\n",
        "tok.index_word"
      ]
    },
    {
      "cell_type": "code",
      "execution_count": 25,
      "metadata": {
        "id": "WtzINYjWCMf1",
        "colab": {
          "base_uri": "https://localhost:8080/"
        },
        "outputId": "4a0e97ff-5dd5-4a49-d6d9-459d1d2ce706"
      },
      "outputs": [
        {
          "output_type": "execute_result",
          "data": {
            "text/plain": [
              "4350"
            ]
          },
          "metadata": {},
          "execution_count": 25
        }
      ],
      "source": [
        "# Cantidad de palabras en el vocabulario\n",
        "vocab_size = len(tok.word_counts)\n",
        "vocab_size"
      ]
    },
    {
      "cell_type": "code",
      "execution_count": 26,
      "metadata": {
        "id": "spTBxmFQc6h8",
        "colab": {
          "base_uri": "https://localhost:8080/"
        },
        "outputId": "11ae71b9-4fa8-4dda-a85c-00b8e5d3f074"
      },
      "outputs": [
        {
          "output_type": "stream",
          "name": "stdout",
          "text": [
            "{'que': 1, 'de': 2, 'y': 3, 'la': 4, 'el': 5, 'a': 6, 'en': 7, 'no': 8, 'se': 9, 'por': 10, 'le': 11, 'los': 12, 'con': 13, 'su': 14, 'lo': 15, 'las': 16, 'del': 17, 'don': 18, 'al': 19, 'quijote': 20, 'un': 21, 'como': 22, 'él': 23, 'más': 24, 'si': 25, 'es': 26, 'dijo': 27, 'tan': 28, 'sin': 29, 'me': 30, 'porque': 31, 'caballero': 32, 'ni': 33, 'había': 34, 'para': 35, 'una': 36, 'todo': 37, 'sus': 38, 'así': 39, 'yo': 40, 'era': 41, 'vuestra': 42, 'señor': 43, 'mi': 44, 'esto': 45, 'bien': 46, 'o': 47, 'pero': 48, 'cual': 49, 'cuando': 50, 'os': 51, 'todos': 52, 'libro': 53, 'fue': 54, 'libros': 55, 'este': 56, 'respondió': 57, 'pues': 58, 'muy': 59, 'merced': 60, 'cura': 61, 'ya': 62, 'sancho': 63, 'aquel': 64, 'estaba': 65, 'otra': 66, 'qué': 67, 'donde': 68, 'sino': 69, 'sobre': 70, 'hacer': 71, 'quien': 72, 'ser': 73, 'cosa': 74, 'ha': 75, 'alguna': 76, 'barbero': 77, 'dicho': 78, 'dos': 79, 'mas': 80, 'mancha': 81, 'mundo': 82, 'luego': 83, 'tal': 84, 'armas': 85, 'nombre': 86, 'te': 87, 'señora': 88, 'aunque': 89, 'mal': 90, 'tenía': 91, 'rocinante': 92, 'lanza': 93, 'caballeros': 94, 'vio': 95, 'buen': 96, 'ella': 97, 'dios': 98, 'parte': 99, 'vos': 100, 'decía': 101, 'mucho': 102, 'verdad': 103, 'esta': 104, 'otro': 105, 'manera': 106, 'toda': 107, 'amigo': 108, 'poco': 109, 'allí': 110, 'nuestro': 111, 'tiene': 112, 'mesmo': 113, 'hecho': 114, 'aquí': 115, 'gran': 116, 'ama': 117, 'podía': 118, 'caballo': 119, 'está': 120, 'menos': 121, 'historia': 122, 'uno': 123, 'labrador': 124, 'dar': 125, 'tu': 126, 'mejor': 127, 'dio': 128, 'aquella': 129, 'camino': 130, 'primero': 131, 'día': 132, 'tanto': 133, 'he': 134, 'son': 135, 'decir': 136, 'algún': 137, 'ellos': 138, 'panza': 139, 'escudero': 140, 'espada': 141, 'eran': 142, 'castillo': 143, 'venta': 144, 'hidalgo': 145, 'vuestro': 146, 'todas': 147, 'mío': 148, 'grande': 149, 'ver': 150, 'caballería': 151, 'hay': 152, 'cuanto': 153, 'otras': 154, 'mí': 155, 'punto': 156, 'buena': 157, 'amo': 158, 'diciendo': 159, 'antes': 160, 'fuera': 161, 'otros': 162, 'casa': 163, 'tengo': 164, 'también': 165, 'aquellos': 166, 'puesto': 167, 'aun': 168, 'quién': 169, 'vino': 170, 'iba': 171, 'noche': 172, 'ventero': 173, 'días': 174, 'cuatro': 175, 'tiempo': 176, 'hasta': 177, 'sé': 178, 'cosas': 179, 'famoso': 180, 'caballerías': 181, 'razones': 182, 'dulcinea': 183, 'entre': 184, 'andantes': 185, 'demás': 186, 'voces': 187, 'estos': 188, 'tener': 189, 'orden': 190, 'soy': 191, 'sólo': 192, 'tierra': 193, 'sí': 194, 'oh': 195, 'hizo': 196, 'estaban': 197, 'éste': 198, 'coche': 199, 'cada': 200, 'tres': 201, 'años': 202, 'desta': 203, 'veces': 204, 'cuenta': 205, 'casi': 206, 'muchas': 207, 'han': 208, 'habéis': 209, 'digo': 210, 'andante': 211, 'según': 212, 'amadís': 213, 'jamás': 214, 'deste': 215, 'daba': 216, 'llegó': 217, 'aventuras': 218, 'corral': 219, 'eso': 220, 'menester': 221, 'aposento': 222, 'nos': 223, 'vez': 224, 'cómo': 225, 'alguno': 226, 'dellos': 227, 'parecer': 228, 'ojos': 229, 'nunca': 230, 'lugar': 231, 'ahora': 232, 'autores': 233, 'tales': 234, 'les': 235, 'puede': 236, 'muchos': 237, 'adarga': 238, 'pudo': 239, 'pareció': 240, 'celada': 241, 'mucha': 242, 'replicó': 243, 'vizcaíno': 244, 'rey': 245, 'principio': 246, 'mil': 247, 'razón': 248, 'della': 249, 'fin': 250, 'autor': 251, 'suerte': 252, 'hijo': 253, 'mano': 254, 'cabo': 255, 'modo': 256, 'poner': 257, 'sido': 258, 'será': 259, 'mismo': 260, 'estas': 261, 'tú': 262, 'sobrina': 263, 'duda': 264, 'leído': 265, 'quiso': 266, 'batalla': 267, 'viento': 268, 'gente': 269, 'ingenioso': 270, 'visto': 271, 'poder': 272, 'persona': 273, 'caso': 274, 'sea': 275, 'solo': 276, 'contento': 277, 'aquello': 278, 'pensaba': 279, 'mis': 280, 'después': 281, 'nada': 282, 'ello': 283, 'campo': 284, 'manos': 285, 'toboso': 286, 'llamaba': 287, 'valeroso': 288, 'voz': 289, 'llevar': 290, 'comenzó': 291, 'adelante': 292, 'huésped': 293, 'hora': 294, 'trabajo': 295, 'fuese': 296, 'tanta': 297, 'algunos': 298, 'deseo': 299, 'quiero': 300, 'ninguno': 301, 'pobre': 302, 'falta': 303, 'cielo': 304, 'risa': 305, 'capítulo': 306, 'hombre': 307, 'ese': 308, 'contra': 309, 'debe': 310, 'rostro': 311, 'aventura': 312, 'gigantes': 313, 'dejó': 314, 'tornó': 315, 'mañana': 316, 'armado': 317, 'semejantes': 318, 'parece': 319, 'viendo': 320, 'agua': 321, 'suelo': 322, 'gana': 323, 'fuego': 324, 'compadre': 325, 'juan': 326, 'consejo': 327, 'haber': 328, 'hace': 329, 'desde': 330, 'saber': 331, 'efeto': 332, 'estando': 333, 'luz': 334, 'obras': 335, 'cuerpo': 336, 'tantos': 337, 'tienen': 338, 'damas': 339, 'españa': 340, 'vuestras': 341, 'posible': 342, 'dejar': 343, 'memoria': 344, 'ahí': 345, 'gigante': 346, 'buscar': 347, 'género': 348, 'mía': 349, 'ir': 350, 'gaula': 351, 'soneto': 352, 'sabio': 353, 'ocasión': 354, 'brazo': 355, 'rocín': 356, 'partes': 357, 'leer': 358, 'habían': 359, 'bueno': 360, 'halló': 361, 'dado': 362, 'apenas': 363, 'molinos': 364, 'doncellas': 365, 'vecino': 366, 'esa': 367, 'diablo': 368, 'medio': 369, 'pueda': 370, 'nuestra': 371, 'pena': 372, 'marqués': 373, 'juicio': 374, 'amor': 375, 'hacen': 376, 'dice': 377, 'delante': 378, 'unos': 379, 'b': 380, 'algunas': 381, 'lengua': 382, 'necesidad': 383, 'aquellas': 384, 'disparates': 385, 'entender': 386, 'tomar': 387, 'pies': 388, 'primera': 389, 'fama': 390, 'desgracia': 391, 'haberle': 392, 'valor': 393, 'asno': 394, 'algo': 395, 'pensamiento': 396, 'unas': 397, 'llamar': 398, 'suyo': 399, 'mitad': 400, 'fuesen': 401, 'encantador': 402, 'venir': 403, 'figura': 404, 'determinó': 405, 'acabó': 406, 'dineros': 407, 'aún': 408, 'andrés': 409, 'mire': 410, 'tío': 411, 'dél': 412, 'licenciado': 413, 'dicha': 414, 'espacio': 415, 'primer': 416, 'servicio': 417, 'quisiera': 418, 'discreto': 419, 'pensamientos': 420, 'leyendo': 421, 'causa': 422, 'quería': 423, 'hazañas': 424, 'sean': 425, 'poetas': 426, 'oyendo': 427, 'hermano': 428, 'palabras': 429, 'hoy': 430, 'pastor': 431, 'ninguna': 432, 'fuere': 433, 'dando': 434, 'ellas': 435, 'hallar': 436, 'hago': 437, 'nuevo': 438, 'siendo': 439, 'puso': 440, 'alforjas': 441, 'poeta': 442, 'r': 443, 'gusto': 444, 'cuantos': 445, 'pie': 446, 'hacerse': 447, 'tenían': 448, 'puerta': 449, 'locura': 450, 'cautivo': 451, 'corazón': 452, 'cuales': 453, 'parecía': 454, 'comer': 455, 'cabeza': 456, 'muchacho': 457, 'haré': 458, 'pienso': 459, 'venían': 460, 'venía': 461, 'frailes': 462, 'fe': 463, 'habiendo': 464, 'cervantes': 465, 'maravedís': 466, 'licencia': 467, 'original': 468, 'imprimir': 469, 'hicieron': 470, 'va': 471, 'mandado': 472, 'e': 473, 'honra': 474, 'suelen': 475, 'entendimiento': 476, 'seco': 477, 'amigos': 478, 'eres': 479, 'estás': 480, 'preguntó': 481, 'tenga': 482, 'llaman': 483, 'están': 484, 'enamorado': 485, 'cristiano': 486, 'tantas': 487, 'buscando': 488, 'oído': 489, 'estáis': 490, 'lejos': 491, 'mayores': 492, 'decís': 493, 'título': 494, 'famosos': 495, 'non': 496, 'poca': 497, 'tras': 498, 'famosa': 499, 'amores': 500, 'quizá': 501, 'san': 502, 'puesta': 503, 'ventura': 504, 'valiente': 505, 'pan': 506, 'real': 507, 'fuerza': 508, 'conmigo': 509, 'deja': 510, 'vida': 511, 'apolo': 512, 'fui': 513, 'agravios': 514, 'tus': 515, 'hermosa': 516, 'ejercicio': 517, 'jumento': 518, 'has': 519, 'pares': 520, 'talante': 521, 'criado': 522, 'noches': 523, 'llegaba': 524, 'fermosura': 525, 'grandes': 526, 'tuvo': 527, 'maese': 528, 'nicolás': 529, 'dormir': 530, 'muerto': 531, 'brazos': 532, 'montalbán': 533, 'estraño': 534, 'priesa': 535, 'pedazos': 536, 'ansí': 537, 'quitó': 538, 'debía': 539, 'ante': 540, 'mandó': 541, 'hubo': 542, 'ésta': 543, 'darle': 544, 'hacía': 545, 'hablando': 546, 'adonde': 547, 'éstos': 548, 'dicen': 549, 'destas': 550, 'vieron': 551, 'mala': 552, 'señoras': 553, 'castellano': 554, 'velar': 555, 'pieza': 556, 'traía': 557, 'quitar': 558, 'romance': 559, 'oír': 560, 'podría': 561, 'ponía': 562, 'estoy': 563, 'haciendo': 564, 'díjole': 565, 'escuderos': 566, 'presto': 567, 'pila': 568, 'junto': 569, 'sosegado': 570, 'golpe': 571, 'hubiera': 572, 'recebido': 573, 'baja': 574, 'haga': 575, 'hacia': 576, 'encina': 577, 'daño': 578, 'juro': 579, 'viene': 580, 'mozos': 581, 'arremetió': 582, 'molido': 583, 'mantua': 584, 'rodrigo': 585, 'narváez': 586, 'segunda': 587, 'rodela': 588, 'tasa': 589, 'doy': 590, 'compuesto': 591, 'miguel': 592, 'precio': 593, 'vender': 594, 'dieron': 595, 'ponga': 596, 'di': 597, 'mes': 598, 'impresión': 599, 'cédula': 600, 'reinos': 601, 'diez': 602, 'conforme': 603, 'esté': 604, 'leyes': 605, 'capilla': 606, 'sacar': 607, 'debo': 608, 'grandeza': 609, 'andar': 610, 'prólogo': 611, 'creer': 612, 'padre': 613, 'vea': 614, 'alma': 615, 'sonetos': 616, 'entró': 617, 'noble': 618, 'queréis': 619, 'dirá': 620, 'invención': 621, 'sentencias': 622, 'aristóteles': 623, 'escritura': 624, 'letras': 625, 'agora': 626, 'siempre': 627, 'remediar': 628, 'veréis': 629, 'podéis': 630, 'dé': 631, 'pro': 632, 'tratáredes': 633, 'muerte': 634, 'enemigo': 635, 'dará': 636, 'resolución': 637, 'cargo': 638, 'simple': 639, 'importancia': 640, 'mira': 641, 'deshacer': 642, 'máquina': 643, 'verás': 644, 'da': 645, \"''\": 646, 'pasar': 647, 'claro': 648, 'único': 649, 'enano': 650, 'aldea': 651, 'par': 652, 'mozo': 653, 'llevó': 654, 'parecían': 655, 'compuso': 656, 'hallaba': 657, 'escrito': 658, 'heridas': 659, 'hiciera': 660, 'pueblo': 661, 'imaginación': 662, 'loco': 663, 'irse': 664, 'agravio': 665, 'sentía': 666, 'estar': 667, 'quedó': 668, 'querer': 669, 'entonces': 670, 'añadió': 671, 'ocho': 672, 'suya': 673, 'ínsula': 674, 'cerca': 675, 'natural': 676, 'viese': 677, 'subió': 678, 'tomó': 679, 'salió': 680, 'propósito': 681, 'tendido': 682, 'sol': 683, 'hallado': 684, 'pudiese': 685, 'mozas': 686, 'iban': 687, 'arrieros': 688, 'llegando': 689, 'esperando': 690, 'señal': 691, 'llegar': 692, 'caballeriza': 693, 'andaba': 694, 'visera': 695, 'gentil': 696, 'mercedes': 697, 'altas': 698, 'estuvo': 699, 'lecho': 700, 'servido': 701, 'palabra': 702, 'reales': 703, 'peor': 704, 'boca': 705, 'determinación': 706, 'verse': 707, 'recebir': 708, 'hubiese': 709, 'pago': 710, 'traído': 711, 'camisas': 712, 'llevaban': 713, 'doncella': 714, 'quedaban': 715, 'vela': 716, 'arriero': 717, 'alzó': 718, 'favor': 719, 'vosotros': 720, 'canalla': 721, 'denuedo': 722, 'respeto': 723, 'pasó': 724, 'sería': 725, 'hijos': 726, 'bosque': 727, 'paso': 728, 'jurado': 729, 'culpa': 730, 'creo': 731, 'mulas': 732, 'llegaron': 733, 'nosotros': 734, 'juntos': 735, 'cólera': 736, 'levantarse': 737, 'palos': 738, 'valdovinos': 739, 'versos': 740, 'diana': 741, 'sepa': 742, 'parecen': 743, 'malferido': 744, 'despojos': 745, 'ése': 746, 'fueran': 747, 'fraile': 748, 'mula': 749, 'gallo': 750, 'andrada': 751, 'cámara': 752, 'intitulado': 753, 'pliego': 754, 'veinte': 755, 'erratas': 756, 'fecha': 757, 'mandar': 758, 'castilla': 759, 'so': 760, 'imprimiere': 761, 'hiciere': 762, 'tercia': 763, 'juez': 764, 'cuya': 765, 'destos': 766, 'seis': 767, 'excelencia': 768, 'buenas': 769, 'artes': 770, 'vulgo': 771, 'sombra': 772, 'lector': 773, 'juramento': 774, 'pudiera': 775, 'lleno': 776, 'ruido': 777, 'sosiego': 778, 'musas': 779, 'faltas': 780, 'libre': 781, 'sabes': 782, 'puedes': 783, 'temor': 784, 'tuve': 785, 'mayor': 786, 'pluma': 787, 'diría': 788, 'dije': 789, 'antiguo': 790, 'olvido': 791, 'estilo': 792, 'márgenes': 793, 'anotaciones': 794, 'divina': 795, 'decoro': 796, 'archivos': 797, 'faltan': 798, 'hallo': 799, 'nace': 800, 'bastante': 801, 'carga': 802, 'estado': 803, 'conozco': 804, 'tenido': 805, 'serlo': 806, 'discurso': 807, 'cerrar': 808, 'remedio': 809, 'claridad': 810, 'fueron': 811, 'detrás': 812, 'venga': 813, 'sepáis': 814, 'malos': 815, 'siquiera': 816, 'anotación': 817, 'escribe': 818, 'nacimiento': 819, 'opinión': 820, 'caco': 821, 'ovidio': 822, 'valerosos': 823, 'tocar': 824, 'historias': 825, 'importa': 826, 'largo': 827, 'autoridad': 828, 'acordó': 829, 'ningún': 830, 'salga': 831, 'oración': 832, 'intención': 833, 'vuestros': 834, 'montiel': 835, 'conocer': 836, 'honrado': 837, 'salud': 838, 'ma': 839, 'árbol': 840, 'alejandro': 841, 'orlando': 842, 'hablar': 843, 'entiende': 844, 'patria': 845, 'belianís': 846, 'arrogante': 847, 'fortuna': 848, 'luna': 849, 'proezas': 850, 'tuviera': 851, 'español': 852, 'vi': 853, 'moro': 854, 'suceso': 855, 'febo': 856, 'alta': 857, 'eterno': 858, 'sabia': 859, 'fazañas': 860, 'tuertos': 861, 'andado': 862, 'trata': 863, 'condición': 864, 'cuyo': 865, 'vivía': 866, 'hacienda': 867, 'pasaba': 868, 'edad': 869, 'sobrenombre': 870, 'basta': 871, 'año': 872, 'suyas': 873, 'leía': 874, 'imaginaba': 875, 'hubiesen': 876, 'acabar': 877, 'cuál': 878, 'palmerín': 879, 'ingalaterra': 880, 'pendencias': 881, 'industria': 882, 'reinaldos': 883, 'veía': 884, 'salir': 885, 'ocasiones': 886, 'deseaba': 887, 'morrión': 888, 'fuerte': 889, 'sacó': 890, 'deshizo': 891, 'parecerle': 892, 'facilidad': 893, 'dentro': 894, 'nueva': 895, 'estuviese': 896, 'alto': 897, 'verdadera': 898, 'quisieron': 899, 'vivo': 900, 'ordinario': 901, 'rodillas': 902, 'supo': 903, 'buscándole': 904, 'princesa': 905, 'salida': 906, 'hechas': 907, 'prevenciones': 908, 'embrazó': 909, 'novel': 910, 'ganase': 911, 'caminando': 912, 'aventurero': 913, 'hechos': 914, 'contar': 915, 'pequeños': 916, 'venida': 917, 'dejando': 918, 'cama': 919, 'caminar': 920, 'caminaba': 921, 'mías': 922, 'seas': 923, 'compañero': 924, 'puerto': 925, 'lápice': 926, 'hallaron': 927, 'acaso': 928, 'sevilla': 929, 'trecho': 930, 'riendas': 931, 'pusiese': 932, 'miedo': 933, 'pudieron': 934, 'sandez': 935, 'pacífico': 936, 'muestras': 937, 'posada': 938, 'alcaide': 939, 'cualquiera': 940, 'llamado': 941, 'tuviese': 942, 'cuidado': 943, 'volvió': 944, 'pensar': 945, 'princesas': 946, 'acertó': 947, 'servir': 948, 'pedía': 949, 'ansimesmo': 950, 'diversas': 951, 'ceremonias': 952, 'dellas': 953, 'cierto': 954, 'llena': 955, 'salían': 956, 'heridos': 957, 'cuán': 958, 'lado': 959, 'mirar': 960, 'atrevimiento': 961, 'trance': 962, 'pasado': 963, 'mesma': 964, 'segundo': 965, 'doña': 966, 'antequera': 967, 'volver': 968, 'azotes': 969, 'respondía': 970, 'defender': 971, 'encima': 972, 'castigo': 973, 'villano': 974, 'responder': 975, 'zapatos': 976, 'sangre': 977, 'hará': 978, 'paga': 979, 'mientes': 980, 'prometido': 981, 'picó': 982, 'acá': 983, 'pagar': 984, 'partió': 985, 'sabe': 986, 'mercaderes': 987, 'molde': 988, 'mana': 989, 'furia': 990, 'pesar': 991, 'siguieron': 992, 'verso': 993, 'molino': 994, 'cubierto': 995, 'abindarráez': 996, 'montemayor': 997, 'doce': 998, 'acuerdo': 999, 'feridas': 1000, 'enfermedad': 1001, 'queme': 1002, 'perdonar': 1003, 'bondad': 1004, 'ventana': 1005, 'quemar': 1006, 'reina': 1007, 'place': 1008, 'anda': 1009, 'habla': 1010, 'abriendo': 1011, 'tirante': 1012, 'guárdese': 1013, 'tronco': 1014, 'frestón': 1015, 'esas': 1016, 'llevase': 1017, 'bota': 1018, 'malas': 1019, 'quejarse': 1020, 'benito': 1021, 'almohada': 1022, 'escribano': 1023, 'residen': 1024, 'saavedra': 1025, 'pliegos': 1026, 'papel': 1027, 'dello': 1028, 'presente': 1029, 'valladolid': 1030, 'seiscientos': 1031, 'testimonio': 1032, 'fee': 1033, 'francisco': 1034, 'murcia': 1035, 'llana': 1036, 'facultad': 1037, 'hubiere': 1038, 'nuestros': 1039, 'cincuenta': 1040, 'contrario': 1041, 'hubiéredes': 1042, 'dichos': 1043, 'traigáis': 1044, 'nombrado': 1045, 'imprimió': 1046, 'quedan': 1047, 'fueren': 1048, 'mandamos': 1049, 'costa': 1050, 'caer': 1051, 'béjar': 1052, 'conde': 1053, 'inclinado': 1054, 'determinado': 1055, 'suplico': 1056, 'desnudo': 1057, 'erudición': 1058, 'casas': 1059, 'hombres': 1060, 'seguramente': 1061, 'ignorancia': 1062, 'condenar': 1063, 'justicia': 1064, 'poniendo': 1065, 'prudencia': 1066, 'humilde': 1067, 'gallardo': 1068, 'podido': 1069, 'semejante': 1070, 'podrá': 1071, 'ingenio': 1072, 'engendró': 1073, 'triste': 1074, 'apacible': 1075, 'campos': 1076, 'cielos': 1077, 'quietud': 1078, 'muestren': 1079, 'acontece': 1080, 'gracia': 1081, 'pone': 1082, 'agudezas': 1083, 'irme': 1084, 'uso': 1085, 'lágrimas': 1086, 'vieres': 1087, 'tienes': 1088, 'pintado': 1089, 'debajo': 1090, 'catálogo': 1091, 'epigramas': 1092, 'elogios': 1093, 'ponerse': 1094, 'dejé': 1095, 'pensando': 1096, 'gracioso': 1097, 'entendido': 1098, 'confuso': 1099, 'silencio': 1100, 'leyenda': 1101, 'acotaciones': 1102, 'veo': 1103, 'fabulosos': 1104, 'llenos': 1105, 'caterva': 1106, 'filósofos': 1107, 'admiran': 1108, 'santos': 1109, 'carecer': 1110, 'margen': 1111, 'ponerlos': 1112, 'cuyos': 1113, 'depare': 1114, 'pocas': 1115, 'dándose': 1116, 'engaño': 1117, 'prudente': 1118, 'momento': 1119, 'romper': 1120, 'dificultades': 1121, 'habilidad': 1122, 'pereza': 1123, 'espejo': 1124, 'indias': 1125, 'emperador': 1126, 'trapisonda': 1127, 'noticia': 1128, 'mentira': 1129, 'citar': 1130, 'pelo': 1131, 'latines': 1132, 'libertad': 1133, 'acudir': 1134, 'manda': 1135, 'curiosidad': 1136, 'eris': 1137, 'toca': 1138, 'golías': 1139, 'tenéis': 1140, 'valle': 1141, 'humanas': 1142, 'río': 1143, 'tajo': 1144, 'muere': 1145, 'mar': 1146, 'oro': 1147, 'etc': 1148, 'ladrones': 1149, 'mujeres': 1150, 'rameras': 1151, 'prestará': 1152, 'encantadores': 1153, 'homero': 1154, 'julio': 1155, 'león': 1156, 'medidas': 1157, 'fonseca': 1158, 'desear': 1159, 'materia': 1160, 'nombres': 1161, 'clara': 1162, 'habrá': 1163, 'averiguar': 1164, 'seguistes': 1165, 'alcanzó': 1166, 'sirve': 1167, 'humano': 1168, 'imitación': 1169, 'escribiere': 1170, 'consejos': 1171, 'fábulas': 1172, 'milagros': 1173, 'sonoro': 1174, 'acreciente': 1175, 'discreción': 1176, 'revueltas': 1177, 'contornos': 1178, 'tendrás': 1179, 'gracias': 1180, 'olvide': 1181, 'vale': 1182, 'urganda': 1183, 'letu': 1184, 'bo': 1185, 'comen': 1186, 'mostrar': 1187, 'príncipes': 1188, 'favorece': 1189, 'fortu': 1190, 'ociosas': 1191, 'negro': 1192, 'flo': 1193, 'vidas': 1194, 'advierte': 1195, 'piedras': 1196, 'tirar': 1197, 'vaya': 1198, 'ausente': 1199, 'alegre': 1200, 'bebida': 1201, 'plata': 1202, 'vive': 1203, 'cuarta': 1204, 'grecia': 1205, 'cien': 1206, 'comedido': 1207, 'regalado': 1208, 'amante': 1209, 'cuerno': 1210, 'envidio': 1211, 'reposo': 1212, 'deseos': 1213, 'hiciste': 1214, 'venturoso': 1215, 'desigual': 1216, 'salve': 1217, 'escuderil': 1218, 'blanda': 1219, 'soberbio': 1220, 'donoso': 1221, 'manchego': 1222, 'quijo': 1223, 'pecados': 1224, 'tampoco': 1225, 'angélica': 1226, 'puedo': 1227, 'cortesano': 1228, 'gloria': 1229, 'aurora': 1230, 'milagro': 1231, 'propio': 1232, 'sois': 1233, 'viles': 1234, 'serán': 1235, 'vuesas': 1236, 'apaleado': 1237, 'linda': 1238, 'desaguisado': 1239, 'cuitas': 1240, 'babieca': 1241, 'cebada': 1242, 'paja': 1243, 'quejar': 1244, 'rocines': 1245, 'vaca': 1246, 'viernes': 1247, 'añadidura': 1248, 'resto': 1249, 'honraba': 1250, 'cuarenta': 1251, 'caza': 1252, 'quijada': 1253, 'quesada': 1254, 'narración': 1255, 'afición': 1256, 'comprar': 1257, 'prosa': 1258, 'requiebros': 1259, 'desafíos': 1260, 'sinrazón': 1261, 'quejo': 1262, 'sentido': 1263, 'recebía': 1264, 'dejaría': 1265, 'promesa': 1266, 'dalle': 1267, 'promete': 1268, 'saliera': 1269, 'pasaban': 1270, 'turbio': 1271, 'perder': 1272, 'encantamentos': 1273, 'batallas': 1274, 'sonadas': 1275, 'cid': 1276, 'partido': 1277, 'descomunales': 1278, 'bernardo': 1279, 'carpio': 1280, 'roncesvalles': 1281, 'roldán': 1282, 'robó': 1283, 'mahoma': 1284, 'diera': 1285, 'coces': 1286, 'deshaciendo': 1287, 'peligros': 1288, 'cobrase': 1289, 'llevado': 1290, 'llenas': 1291, 'encaje': 1292, 'media': 1293, 'probar': 1294, 'cuchillada': 1295, 'golpes': 1296, 'peligro': 1297, 'hierro': 1298, 'fortaleza': 1299, 'experiencia': 1300, 'diputó': 1301, 'pasaron': 1302, 'conocido': 1303, 'estruendo': 1304, 'formó': 1305, 'significativo': 1306, 'queda': 1307, 'llamarse': 1308, 'reino': 1309, 'llamó': 1310, 'linaje': 1311, 'limpias': 1312, 'dama': 1313, 'fruto': 1314, 'encuentro': 1315, 'finalmente': 1316, 'dulce': 1317, 'rendido': 1318, 'singular': 1319, 'cree': 1320, 'anduvo': 1321, 'cata': 1322, 'aguardar': 1323, 'sinrazones': 1324, 'satisfacer': 1325, 'nadie': 1326, 'falsa': 1327, 'grandísimo': 1328, 'terrible': 1329, 'empresa': 1330, 'ley': 1331, 'blancas': 1332, 'escudo': 1333, 'esfuerzo': 1334, 'armar': 1335, 'topase': 1336, 'teniendo': 1337, 'prosiguió': 1338, 'creyendo': 1339, 'consistía': 1340, 'consigo': 1341, 'tiempos': 1342, 'llegue': 1343, 'faz': 1344, 'marido': 1345, 'mortales': 1346, 'mostraba': 1347, 'dichosa': 1348, 'dichoso': 1349, 'quienquiera': 1350, 'volvía': 1351, 'fecho': 1352, 'riguroso': 1353, 'sujeto': 1354, 'lenguaje': 1355, 'despacio': 1356, 'hambre': 1357, 'viera': 1358, 'anochecía': 1359, 'representó': 1360, 'torres': 1361, 'adherentes': 1362, 'parecieron': 1363, 'sucedió': 1364, 'recogiendo': 1365, 'manada': 1366, 'puercos': 1367, 'entrar': 1368, 'reposada': 1369, 'profesión': 1370, 'serviros': 1371, 'talle': 1372, 'enojo': 1373, 'pasara': 1374, 'contrahecha': 1375, 'busca': 1376, 'humildad': 1377, 'descanso': 1378, 'pelear': 1379, 'parecido': 1380, 'sanos': 1381, 'playa': 1382, 'sanlúcar': 1383, 'camas': 1384, 'peto': 1385, 'espaldar': 1386, 'atada': 1387, 'cintas': 1388, 'graciosa': 1389, 'estraña': 1390, 'principales': 1391, 'fasta': 1392, 'viejo': 1393, 'retóricas': 1394, 'entiendo': 1395, 'haría': 1396, 'pescado': 1397, 'abadejo': 1398, 'bacallao': 1399, 'truchuela': 1400, 'preguntáronle': 1401, 'haya': 1402, 'truchuelas': 1403, 'podrán': 1404, 'den': 1405, 'peso': 1406, 'tripas': 1407, 'trújole': 1408, 'verle': 1409, 'paciencia': 1410, 'trueco': 1411, 'cinco': 1412, 'diciéndole': 1413, 'pedirle': 1414, 'levantase': 1415, 'esperaba': 1416, 'reír': 1417, 'acertado': 1418, 'honroso': 1419, 'andando': 1420, 'dejado': 1421, 'málaga': 1422, 'córdoba': 1423, 'toledo': 1424, 'cuantas': 1425, 'derribada': 1426, 'hacerla': 1427, 'dondequiera': 1428, 'patio': 1429, 'preguntóle': 1430, 'necesaria': 1431, 'ungüentos': 1432, 'curar': 1433, 'nube': 1434, 'tuvieron': 1435, 'acertada': 1436, 'necesarias': 1437, 'curarse': 1438, 'referidas': 1439, 'vería': 1440, 'pozo': 1441, 'continente': 1442, 'contó': 1443, 'ademán': 1444, 'competir': 1445, 'viéndole': 1446, 'atrevido': 1447, 'curara': 1448, 'arrojó': 1449, 'pecho': 1450, 'maltrecho': 1451, 'recogió': 1452, 'soltó': 1453, 'acudió': 1454, 'debilitado': 1455, 'tamaña': 1456, 'ánimo': 1457, 'compañeros': 1458, 'comenzaron': 1459, 'dejasen': 1460, 'tratasen': 1461, 'venid': 1462, 'lleváis': 1463, 'dejaron': 1464, 'misma': 1465, 'burlas': 1466, 'llegándose': 1467, 'supiese': 1468, 'quedar': 1469, 'cumplido': 1470, 'tocaba': 1471, 'creyó': 1472, 'viva': 1473, 'medroso': 1474, 'raya': 1475, 'quedaba': 1476, 'obligado': 1477, 'tolosa': 1478, 'hija': 1479, 'llamase': 1480, 'prometió': 1481, 'molinera': 1482, 'galope': 1483, 'acomodarse': 1484, 'quejaba': 1485, 'cumplir': 1486, 'ayuda': 1487, 'encaminó': 1488, 'pocos': 1489, 'pasos': 1490, 'yegua': 1491, 'quince': 1492, 'prometo': 1493, 'descortés': 1494, 'tomad': 1495, 'cobardes': 1496, 'guardar': 1497, 'miserable': 1498, 'soldada': 1499, 'miente': 1500, 'réplica': 1501, 'desató': 1502, 'nueve': 1503, 'morir': 1504, 'sangrías': 1505, 'enfermo': 1506, 'niega': 1507, 'sudor': 1508, 'órdenes': 1509, 'sabed': 1510, 'desfacedor': 1511, 'pronunciada': 1512, 'volvióse': 1513, 'acrecentar': 1514, 'asiéndole': 1515, 'sentencia': 1516, 'pareciéndole': 1517, 'felicísimo': 1518, 'voluntad': 1519, 'tuerto': 1520, 'delicado': 1521, 'aquéllos': 1522, 'rienda': 1523, 'siguió': 1524, 'quitasoles': 1525, 'divisó': 1526, 'levantó': 1527, 'emperatriz': 1528, 'dueño': 1529, 'paraba': 1530, 'confesar': 1531, 'descomunal': 1532, 'soberbia': 1533, 'costumbre': 1534, 'usanza': 1535, 'mercader': 1536, 'estamos': 1537, 'nuestras': 1538, 'perjuicio': 1539, 'retrato': 1540, 'trigo': 1541, 'seguros': 1542, 'tuerta': 1543, 'piedra': 1544, 'quisiere': 1545, 'cayera': 1546, 'cayó': 1547, 'rodando': 1548, 'levantar': 1549, 'espuelas': 1550, 'cautiva': 1551, 'caído': 1552, 'respuesta': 1553, 'diese': 1554, 'dejase': 1555, 'cansóse': 1556, 'llevando': 1557, 'sano': 1558, 'herido': 1559, 'viejos': 1560, 'aliento': 1561, 'aquél': 1562, 'canta': 1563, 'quitándole': 1564, 'hecha': 1565, 'conoció': 1566, 'quijana': 1567, 'herida': 1568, 'puro': 1569, 'quebrantado': 1570, 'dijese': 1571, 'cuentos': 1572, 'sucesos': 1573, 'jorge': 1574, 'necedades': 1575, 'larga': 1576, 'alonso': 1577, 'francia': 1578, 'aguardó': 1579, 'pérez': 1580, 'malditos': 1581, 'suele': 1582, 'vuelto': 1583, 'esos': 1584, 'estarse': 1585, 'cuchilladas': 1586, 'cansado': 1587, 'merecen': 1588, 'pase': 1589, 'condenados': 1590, 'salieron': 1591, 'molimiento': 1592, 'caída': 1593, 'jayanes': 1594, 'desaforados': 1595, 'ta': 1596, 'escrutinio': 1597, 'pidió': 1598, 'simplicidad': 1599, 'trataban': 1600, 'hoguera': 1601, 'humo': 1602, 'tomado': 1603, 'esotro': 1604, 'esplandián': 1605, 'volando': 1606, 'églogas': 1607, 'verdadero': 1608, 'disparatado': 1609, 'sigue': 1610, 'florimorte': 1611, 'acompañe': 1612, 'cruz': 1613, 'turpín': 1614, 'tela': 1615, 'guardaré': 1616, 'harán': 1617, 'oliva': 1618, 'queden': 1619, 'guarde': 1620, 'artificio': 1621, 'quitarles': 1622, 'término': 1623, 'misericordia': 1624, 'blanco': 1625, 'válame': 1626, 'dádmele': 1627, 'tesoro': 1628, 'deben': 1629, 'poesía': 1630, 'antojase': 1631, 'quitarle': 1632, 'salmantino': 1633, 'gil': 1634, 'polo': 1635, 'compuestos': 1636, 'esperar': 1637, 've': 1638, 'vienen': 1639, 'castellana': 1640, 'cortesanos': 1641, 'llevan': 1642, 'torneo': 1643, 'vistos': 1644, 'rigurosa': 1645, 'dormido': 1646, 'ganado': 1647, 'admirados': 1648, 'apeándose': 1649, 'dejaba': 1650, 'enemistad': 1651, 'tendré': 1652, 'barbas': 1653, 'suceder': 1654, 'gobernador': 1655, 'mujer': 1656, 'acordaba': 1657, 'pesadumbre': 1658, 'pasada': 1659, 'rayos': 1660, 'daban': 1661, 'tengas': 1662, 'gutiérrez': 1663, 'descubrieron': 1664, 'treinta': 1665, 'ves': 1666, 'guerra': 1667, 'aspas': 1668, 'correr': 1669, 'mirase': 1670, 'subir': 1671, 'vargas': 1672, 'desgajó': 1673, 'ramo': 1674, 'machuca': 1675, 'dolor': 1676, 'memorias': 1677, 'comenzado': 1678, 'obra': 1679, 'ayudarme': 1680, 'acompañaban': 1681, 'vizcaína': 1682, 'forzadas': 1683, 'certifico': 1684, 'señores': 1685, 'tasaron': 1686, 'ochenta': 1687, 'monta': 1688, 'docientos': 1689, 'noventa': 1690, 'mandaron': 1691, 'conste': 1692, 'deciembre': 1693, 'digna': 1694, 'corresponda': 1695, 'correcto': 1696, 'colegio': 1697, 'madre': 1698, 'teólogos': 1699, 'universidad': 1700, 'alcalá': 1701, 'diciembre': 1702, '1604': 1703, 'relación': 1704, 'habíades': 1705, 'costado': 1706, 'útil': 1707, 'provechoso': 1708, 'pedistes': 1709, 'suplicastes': 1710, 'mandásemos': 1711, 'previlegio': 1712, 'fuésemos': 1713, 'servidos': 1714, 'diligencias': 1715, 'premática': 1716, 'últimamente': 1717, 'dispone': 1718, 'acordado': 1719, 'debíamos': 1720, 'tuvímoslo': 1721, 'damos': 1722, 'podáis': 1723, 'desuso': 1724, 'mención': 1725, 'corran': 1726, 'cuenten': 1727, 'data': 1728, 'personas': 1729, 'vendiere': 1730, 'pierda': 1731, 'moldes': 1732, 'aparejos': 1733, 'incurra': 1734, 'acusare': 1735, 'sentenciare': 1736, 'durante': 1737, 'juntamente': 1738, 'rubricado': 1739, 'plana': 1740, 'firmado': 1741, 'pública': 1742, 'forma': 1743, 'corretor': 1744, 'corrigió': 1745, 'impresas': 1746, 'apuntadas': 1747, 'impresos': 1748, 'tase': 1749, 'volume': 1750, 'impresor': 1751, 'imprima': 1752, 'entregue': 1753, 'correción': 1754, 'corregido': 1755, 'tasado': 1756, 'sucesivamente': 1757, 'aprobación': 1758, 'incurrir': 1759, 'penas': 1760, 'contenidas': 1761, 'premáticas': 1762, 'cualesquier': 1763, 'justicias': 1764, 'guarden': 1765, 'cumplan': 1766, 'contenido': 1767, 'setiembre': 1768, 'amezqueta': 1769, 'duque': 1770, 'gibraleón': 1771, 'benalcázar': 1772, 'bañares': 1773, 'vizconde': 1774, 'puebla': 1775, 'alcocer': 1776, 'villas': 1777, 'curiel': 1778, 'burguillos': 1779, 'acogimiento': 1780, 'príncipe': 1781, 'favorecer': 1782, 'mayormente': 1783, 'nobleza': 1784, 'abaten': 1785, 'granjerías': 1786, 'abrigo': 1787, 'clarísimo': 1788, 'acatamiento': 1789, 'reciba': 1790, 'agradablemente': 1791, 'protección': 1792, 'precioso': 1793, 'ornamento': 1794, 'elegancia': 1795, 'vestidas': 1796, 'componen': 1797, 'saben': 1798, 'ose': 1799, 'continiéndose': 1800, 'límites': 1801, 'rigor': 1802, 'trabajos': 1803, 'ajenos': 1804, 'fío': 1805, 'desdeñará': 1806, 'cortedad': 1807, 'desocupado': 1808, 'podrás': 1809, 'hermoso': 1810, 'imaginarse': 1811, 'contravenir': 1812, 'naturaleza': 1813, 'engendra': 1814, 'engendrar': 1815, 'estéril': 1816, 'cultivado': 1817, 'avellanado': 1818, 'antojadizo': 1819, 'varios': 1820, 'imaginados': 1821, 'cárcel': 1822, 'incomodidad': 1823, 'asiento': 1824, 'habitación': 1825, 'amenidad': 1826, 'serenidad': 1827, 'murmurar': 1828, 'fuentes': 1829, 'espíritu': 1830, 'estériles': 1831, 'fecundas': 1832, 'ofrezcan': 1833, 'partos': 1834, 'colmen': 1835, 'maravilla': 1836, 'feo': 1837, 'venda': 1838, 'juzga': 1839, 'discreciones': 1840, 'lindezas': 1841, 'donaires': 1842, 'parezco': 1843, 'padrastro': 1844, 'corriente': 1845, 'suplicarte': 1846, 'carísimo': 1847, 'perdones': 1848, 'disimules': 1849, 'pariente': 1850, 'albedrío': 1851, 'alcabalas': 1852, 'comúnmente': 1853, 'manto': 1854, 'mato': 1855, 'esenta': 1856, 'respecto': 1857, 'obligación': 1858, 'pareciere': 1859, 'calunien': 1860, 'premien': 1861, 'dijeres': 1862, 'dártela': 1863, 'monda': 1864, 'desnuda': 1865, 'ornato': 1866, 'inumerabilidad': 1867, 'acostumbrados': 1868, 'costó': 1869, 'componerla': 1870, 'prefación': 1871, 'vas': 1872, 'tomé': 1873, 'escribille': 1874, 'escribiría': 1875, 'suspenso': 1876, 'oreja': 1877, 'codo': 1878, 'bufete': 1879, 'mejilla': 1880, 'deshora': 1881, 'viéndome': 1882, 'imaginativo': 1883, 'encubriéndosela': 1884, 'hacerle': 1885, 'legislador': 1886, 'duermo': 1887, 'salgo': 1888, 'cuestas': 1889, 'seca': 1890, 'esparto': 1891, 'ajena': 1892, 'menguada': 1893, 'concetos': 1894, 'doctrina': 1895, 'profanos': 1896, 'platón': 1897, 'leyentes': 1898, 'leídos': 1899, 'eruditos': 1900, 'elocuentes': 1901, 'citan': 1902, 'dirán': 1903, 'tomases': 1904, 'doctores': 1905, 'iglesia': 1906, 'guardando': 1907, 'renglón': 1908, 'destraído': 1909, 'sermoncico': 1910, 'regalo': 1911, 'oílle': 1912, 'leelle': 1913, 'acotar': 1914, 'anotar': 1915, 'sigo': 1916, 'c': 1917, 'comenzando': 1918, 'acabando': 1919, 'xenofonte': 1920, 'zoílo': 1921, 'zeuxis': 1922, 'maldiciente': 1923, 'pintor': 1924, 'duques': 1925, 'marqueses': 1926, 'condes': 1927, 'obispos': 1928, 'celebérrimos': 1929, 'pidiese': 1930, 'oficiales': 1931, 'darían': 1932, 'igualasen': 1933, 'proseguí': 1934, 'determino': 1935, 'quede': 1936, 'sepultado': 1937, 'adorne': 1938, 'incapaz': 1939, 'remediarlas': 1940, 'insuficiencia': 1941, 'naturalmente': 1942, 'poltrón': 1943, 'perezoso': 1944, 'andarme': 1945, 'digan': 1946, 'suspensión': 1947, 'elevamiento': 1948, 'hallastes': 1949, 'ponerme': 1950, 'palmada': 1951, 'frente': 1952, 'disparando': 1953, 'acabo': 1954, 'desengañar': 1955, 'aciones': 1956, 'fáciles': 1957, 'puedan': 1958, 'fuerzas': 1959, 'suspender': 1960, 'absortar': 1961, 'maduro': 1962, 'atropellar': 1963, 'sobra': 1964, 'penuria': 1965, 'estadme': 1966, 'atento': 1967, 'abrir': 1968, 'confundo': 1969, 'suspenden': 1970, 'acobardan': 1971, 'decid': 1972, 'repliqué': 1973, 'pensáis': 1974, 'llenar': 1975, 'vacío': 1976, 'reducir': 1977, 'caos': 1978, 'confusión': 1979, 'reparáis': 1980, 'personajes': 1981, 'graves': 1982, 'toméis': 1983, 'hacerlos': 1984, 'bautizar': 1985, 'quisiéredes': 1986, 'ahijándolos': 1987, 'preste': 1988, 'hayan': 1989, 'pedantes': 1990, 'bachilleres': 1991, 'muerdan': 1992, 'murmuren': 1993, 'averigüen': 1994, 'cortar': 1995, 'escribistes': 1996, 'sacáredes': 1997, 'pusiéredes': 1998, 'cuesten': 1999, 'buscalle': 2000, 'tratando': 2001, 'cautiverio': 2002, 'bene': 2003, 'toto': 2004, 'libertas': 2005, 'venditur': 2006, 'auro': 2007, 'horacio': 2008, 'pallida': 2009, 'mors': 2010, 'aequo': 2011, 'pulsat': 2012, 'pede': 2013, 'pauperum': 2014, 'tabernas': 2015, 'regumque': 2016, 'turres': 2017, 'amistad': 2018, 'entraros': 2019, 'tantico': 2020, 'ego': 2021, 'autem': 2022, 'dico': 2023, 'vobis': 2024, 'diligite': 2025, 'inimicos': 2026, 'vestros': 2027, 'acudid': 2028, 'evangelio': 2029, 'corde': 2030, 'exeunt': 2031, 'cogitationes': 2032, 'malae': 2033, 'instabilidad': 2034, 'catón': 2035, 'dístico': 2036, 'donec': 2037, 'felix': 2038, 'multos': 2039, 'numerabis': 2040, 'amicos': 2041, 'tempora': 2042, 'fuerint': 2043, 'nubila': 2044, 'solus': 2045, 'latinicos': 2046, 'tendrán': 2047, 'gramático': 2048, 'provecho': 2049, 'nombráis': 2050, 'hacelde': 2051, 'costará': 2052, 'goliat': 2053, 'filisteo': 2054, 'david': 2055, 'mató': 2056, 'pedrada': 2057, 'terebinto': 2058, 'reyes': 2059, 'halláredes': 2060, 'mostraros': 2061, 'erudito': 2062, 'cosmógrafo': 2063, 'haced': 2064, 'veréisos': 2065, 'españas': 2066, 'océano': 2067, 'besando': 2068, 'muros': 2069, 'ciudad': 2070, 'lisboa': 2071, 'arenas': 2072, 'diré': 2073, 'coro': 2074, 'obispo': 2075, 'mondoñedo': 2076, 'lamia': 2077, 'laida': 2078, 'flora': 2079, 'crédito': 2080, 'crueles': 2081, 'entregará': 2082, 'medea': 2083, 'hechiceras': 2084, 'calipso': 2085, 'virgilio': 2086, 'circe': 2087, 'capitanes': 2088, 'césar': 2089, 'comentarios': 2090, 'plutarco': 2091, 'alejandros': 2092, 'onzas': 2093, 'toscana': 2094, 'toparéis': 2095, 'hebreo': 2096, 'hincha': 2097, 'andaros': 2098, 'tierras': 2099, 'extrañas': 2100, 'cifra': 2101, 'acertare': 2102, 'procuréis': 2103, 'nombrar': 2104, 'dejadme': 2105, 'voto': 2106, 'llenaros': 2107, 'gastar': 2108, 'vengamos': 2109, 'citación': 2110, 'fácil': 2111, 'acote': 2112, 'z': 2113, 'abecedario': 2114, 'pondréis': 2115, 'teníades': 2116, 'aprovecharos': 2117, 'crea': 2118, 'aprovechado': 2119, 'sencilla': 2120, 'sirva': 2121, 'servirá': 2122, 'improviso': 2123, 'yéndole': 2124, 'caigo': 2125, 'invectiva': 2126, 'basilio': 2127, 'cicerón': 2128, 'caen': 2129, 'puntualidades': 2130, 'observaciones': 2131, 'astrología': 2132, 'geométricas': 2133, 'confutación': 2134, 'argumentos': 2135, 'retórica': 2136, 'predicar': 2137, 'mezclando': 2138, 'divino': 2139, 'mezcla': 2140, 'vestir': 2141, 'aprovecharse': 2142, 'escribiendo': 2143, 'perfecta': 2144, 'cabida': 2145, 'andéis': 2146, 'mendigando': 2147, 'oraciones': 2148, 'retóricos': 2149, 'procurar': 2150, 'significantes': 2151, 'honestas': 2152, 'colocadas': 2153, 'período': 2154, 'festivo': 2155, 'pintando': 2156, 'alcanzáredes': 2157, 'conceptos': 2158, 'intricarlos': 2159, 'escurecerlos': 2160, 'procurad': 2161, 'melancólico': 2162, 'mueva': 2163, 'risueño': 2164, 'enfade': 2165, 'admire': 2166, 'grave': 2167, 'desprecie': 2168, 'deje': 2169, 'alabarla': 2170, 'efecto': 2171, 'llevad': 2172, 'derribar': 2173, 'fundada': 2174, 'caballerescos': 2175, 'aborrecidos': 2176, 'alabados': 2177, 'alcanzásedes': 2178, 'habríades': 2179, 'alcanzado': 2180, 'estuve': 2181, 'escuchando': 2182, 'imprimieron': 2183, 'ponerlas': 2184, 'disputa': 2185, 'aprobé': 2186, 'mismas': 2187, 'quise': 2188, 'suave': 2189, 'necesitado': 2190, 'consejero': 2191, 'alivio': 2192, 'tuyo': 2193, 'sincera': 2194, 'habitadores': 2195, 'distrito': 2196, 'casto': 2197, 'encarecerte': 2198, 'darte': 2199, 'agradezcas': 2200, 'conocimiento': 2201, 'cifradas': 2202, 'escuderiles': 2203, 'vanos': 2204, 'esparcidas': 2205, 'desconocida': 2206, 'llegarte': 2207, 'bue': 2208, 'fueres': 2209, 'boquirru': 2210, 'pones': 2211, 'cue': 2212, 'idio': 2213, 'cla': 2214, 'curio': 2215, 'expiriencia': 2216, 'ense': 2217, 'arri': 2218, 'cobi': 2219, 'estre': 2220, 'ofre': 2221, 'fru': 2222, 'floreció': 2223, 'du': 2224, 'llega': 2225, 'osa': 2226, 'manche': 2227, 'contarás': 2228, 'aventu': 2229, 'trastornaron': 2230, 'cabe': 2231, 'caballe': 2232, 'provocaron': 2233, 'mo': 2234, 'furio': 2235, 'templado': 2236, 'enamora': 2237, 'bra': 2238, 'tobo': 2239, 'indiscretos': 2240, 'hieroglí': 2241, 'estampes': 2242, 'escu': 2243, 'figu': 2244, 'ruines': 2245, 'puntos': 2246, 'envi': 2247, 'dirección': 2248, 'humi': 2249, 'mofante': 2250, 'algu': 2251, 'álvaro': 2252, 'lu': 2253, 'anibal': 2254, 'carta': 2255, 'espa': 2256, 'queja': 2257, 'plu': 2258, 'salieses': 2259, 'ladi': 2260, 'lati': 2261, 'rehú': 2262, 'despuntes': 2263, 'agu': 2264, 'alegues': 2265, 'filó': 2266, 'torciendo': 2267, 'palmo': 2268, 'ore': 2269, 'metas': 2270, 'dibu': 2271, 'aje': 2272, 'vie': 2273, 'cordu': 2274, 'caperu': 2275, 'darles': 2276, 'grace': 2277, 'quémate': 2278, 'ce': 2279, 'cobrar': 2280, 'fa': 2281, 'imprime': 2282, 'neceda': 2283, 'dalas': 2284, 'censo': 2285, 'perpe': 2286, 'desati': 2287, 'vidrio': 2288, 'teja': 2289, 'veci': 2290, 'jui': 2291, 'compo': 2292, 'plo': 2293, 'saca': 2294, 'pape': 2295, 'entretener': 2296, 'donce': 2297, 'tontas': 2298, 'imitaste': 2299, 'llorosa': 2300, 'desdeñado': 2301, 'ribazo': 2302, 'peña': 2303, 'penitencia': 2304, 'reducida': 2305, 'abundante': 2306, 'licor': 2307, 'salobre': 2308, 'alzándote': 2309, 'estaño': 2310, 'cobre': 2311, 'comida': 2312, 'seguro': 2313, 'eternamente': 2314, 'esfera': 2315, 'caballos': 2316, 'aguije': 2317, 'rubio': 2318, 'renombre': 2319, 'rompí': 2320, 'corté': 2321, 'abollé': 2322, 'hice': 2323, 'orbe': 2324, 'diestro': 2325, 'vengué': 2326, 'deshice': 2327, 'eternice': 2328, 'duelo': 2329, 'cualquier': 2330, 'satisfice': 2331, 'postrada': 2332, 'trajo': 2333, 'copete': 2334, 'cordura': 2335, 'calva': 2336, 'estricote': 2337, 'encumbrada': 2338, 'oriana': 2339, 'comodidad': 2340, 'miraflores': 2341, 'trocara': 2342, 'londres': 2343, 'librea': 2344, 'adornara': 2345, 'mirara': 2346, 'pelea': 2347, 'castamente': 2348, 'escapara': 2349, 'envidiada': 2350, 'envidiara': 2351, 'gozara': 2352, 'gustos': 2353, 'escote': 2354, 'gandalín': 2355, 'varón': 2356, 'trato': 2357, 'cuerdamente': 2358, 'dispuso': 2359, 'pasaste': 2360, 'azada': 2361, 'hoz': 2362, 'repugna': 2363, 'llaneza': 2364, 'escudera': 2365, 'acuso': 2366, 'intenta': 2367, 'hollar': 2368, 'igualmente': 2369, 'invidio': 2370, 'mostraron': 2371, 'cuerda': 2372, 'providencia': 2373, 'buzcorona': 2374, 'reverencia': 2375, 'entreverado': 2376, 'escude': 2377, 'puse': 2378, 'polvoro': 2379, 'vivir': 2380, 'discre': 2381, 'tácito': 2382, 'villadie': 2383, 'cifró': 2384, 'retira': 2385, 'siente': 2386, 'celesti': 2387, 'divi': 2388, 'encubriera': 2389, 'huma': 2390, 'famo': 2391, 'bisnieto': 2392, 'babie': 2393, 'flaque': 2394, 'parejas': 2395, 'corrí': 2396, 'uña': 2397, 'caba': 2398, 'escapó': 2399, 'ceba': 2400, 'saqué': 2401, 'lazari': 2402, 'hurtar': 2403, 'ciego': 2404, 'pa': 2405, 'furioso': 2406, 'pudieras': 2407, 'hallares': 2408, 'invito': 2409, 'vencedor': 2410, 'vencido': 2411, 'perdido': 2412, 'remotos': 2413, 'mares': 2414, 'ofreciendo': 2415, 'altares': 2416, 'respetó': 2417, 'igual': 2418, 'perdiste': 2419, 'seso': 2420, 'cita': 2421, 'fiero': 2422, 'domas': 2423, 'llama': 2424, 'iguales': 2425, 'igualó': 2426, 'curioso': 2427, 'rayo': 2428, 'do': 2429, 'imperios': 2430, 'desprecié': 2431, 'monarquía': 2432, 'ofreció': 2433, 'oriente': 2434, 'rojo': 2435, 'vano': 2436, 'soberano': 2437, 'claridiana': 2438, 'améla': 2439, 'raro': 2440, 'infierno': 2441, 'temió': 2442, 'domó': 2443, 'rabia': 2444, 'godo': 2445, 'ilustre': 2446, 'honesta': 2447, 'solisdán': 2448, 'maguer': 2449, 'sandeces': 2450, 'tengan': 2451, 'cerbelo': 2452, 'derrumbado': 2453, 'seréis': 2454, 'reprochado': 2455, 'home': 2456, 'soeces': 2457, 'joeces': 2458, 'desfaciendo': 2459, 'vegadas': 2460, 'follones': 2461, 'cautivos': 2462, 'raheces': 2463, 'vuesa': 2464, 'comete': 2465, 'muestra': 2466, 'desmán': 2467, 'vueso': 2468, 'conorte': 2469, 'alcagüete': 2470, 'necio': 2471, 'dura': 2472, 'diálogo': 2473, 'delgado': 2474, 'come': 2475, 'trabaja': 2476, 'bocado': 2477, 'andá': 2478, 'ultraja': 2479, 'cuna': 2480, 'mortaja': 2481, 'queréislo': 2482, 'miraldo': 2483, 'necedad': 2484, 'amar': 2485, 'metafísico': 2486, 'quejaos': 2487, 'dolencia': 2488, 'mayordomo': 2489, 'acordarme': 2490, 'astillero': 2491, 'antigua': 2492, 'flaco': 2493, 'galgo': 2494, 'corredor': 2495, 'olla': 2496, 'carnero': 2497, 'salpicón': 2498, 'duelos': 2499, 'quebrantos': 2500, 'sábados': 2501, 'lantejas': 2502, 'palomino': 2503, 'domingos': 2504, 'consumían': 2505, 'concluían': 2506, 'sayo': 2507, 'velarte': 2508, 'calzas': 2509, 'velludo': 2510, 'fiestas': 2511, 'pantuflos': 2512, 'entresemana': 2513, 'vellorí': 2514, 'fino': 2515, 'plaza': 2516, 'ensillaba': 2517, 'tomaba': 2518, 'podadera': 2519, 'frisaba': 2520, 'complexión': 2521, 'recia': 2522, 'carnes': 2523, 'enjuto': 2524, 'madrugador': 2525, 'quieren': 2526, 'diferencia': 2527, 'escriben': 2528, 'conjeturas': 2529, 'verosímiles': 2530, 'quejana': 2531, 'cuento': 2532, 'sobredicho': 2533, 'ratos': 2534, 'ocioso': 2535, 'olvidó': 2536, 'administración': 2537, 'desatino': 2538, 'vendió': 2539, 'hanegas': 2540, 'sembradura': 2541, 'ningunos': 2542, 'feliciano': 2543, 'silva': 2544, 'entricadas': 2545, 'perlas': 2546, 'cartas': 2547, 'enflaquece': 2548, 'altos': 2549, 'divinidad': 2550, 'divinamente': 2551, 'estrellas': 2552, 'fortifican': 2553, 'merecedora': 2554, 'merecimiento': 2555, 'merece': 2556, 'perdía': 2557, 'desvelábase': 2558, 'entenderlas': 2559, 'desentrañarles': 2560, 'sacara': 2561, 'entendiera': 2562, 'resucitara': 2563, 'maestros': 2564, 'curado': 2565, 'cicatrices': 2566, 'señales': 2567, 'alababa': 2568, 'inacabable': 2569, 'letra': 2570, 'continuos': 2571, 'estorbaran': 2572, 'competencia': 2573, 'docto': 2574, 'graduado': 2575, 'sigüenza': 2576, 'comparar': 2577, 'galaor': 2578, 'acomodada': 2579, 'melindroso': 2580, 'llorón': 2581, 'valentía': 2582, 'zaga': 2583, 'enfrascó': 2584, 'letura': 2585, 'secó': 2586, 'celebro': 2587, 'llenósele': 2588, 'fantasía': 2589, 'tormentas': 2590, 'imposibles': 2591, 'asentósele': 2592, 'soñadas': 2593, 'invenciones': 2594, 'cierta': 2595, 'ruy': 2596, 'díaz': 2597, 'ardiente': 2598, 'revés': 2599, 'fieros': 2600, 'encantado': 2601, 'valiéndose': 2602, 'hércules': 2603, 'ahogó': 2604, 'anteo': 2605, 'morgante': 2606, 'generación': 2607, 'gigantea': 2608, 'soberbios': 2609, 'descomedidos': 2610, 'afable': 2611, 'robar': 2612, 'topaba': 2613, 'allende': 2614, 'ídolo': 2615, 'traidor': 2616, 'galalón': 2617, 'rematado': 2618, 'convenible': 2619, 'necesario': 2620, 'aumento': 2621, 'república': 2622, 'ejercitarse': 2623, 'ejercitaban': 2624, 'poniéndose': 2625, 'acabándolos': 2626, 'imaginábase': 2627, 'coronado': 2628, 'imperio': 2629, 'agradables': 2630, 'limpiar': 2631, 'bisabuelos': 2632, 'tomadas': 2633, 'orín': 2634, 'moho': 2635, 'luengos': 2636, 'siglos': 2637, 'puestas': 2638, 'olvidadas': 2639, 'rincón': 2640, 'limpiólas': 2641, 'aderezólas': 2642, 'suplió': 2643, 'cartones': 2644, 'encajada': 2645, 'hacían': 2646, 'apariencia': 2647, 'entera': 2648, 'riesgo': 2649, 'semana': 2650, 'asegurarse': 2651, 'poniéndole': 2652, 'barras': 2653, 'satisfecho': 2654, 'finísima': 2655, 'cuartos': 2656, 'tachas': 2657, 'gonela': 2658, 'tantum': 2659, 'pellis': 2660, 'et': 2661, 'ossa': 2662, 'fuit': 2663, 'bucéfalo': 2664, 'igualaban': 2665, 'imaginar': 2666, 'pondría': 2667, 'procuraba': 2668, 'acomodársele': 2669, 'declarase': 2670, 'mudando': 2671, 'mudase': 2672, 'convenía': 2673, 'profesaba': 2674, 'borró': 2675, 'ponérsele': 2676, 'duró': 2677, 'tomaron': 2678, 'acordándose': 2679, 'contentado': 2680, 'secas': 2681, 'hepila': 2682, 'añadir': 2683, 'declaraba': 2684, 'confirmándose': 2685, 'faltaba': 2686, 'enamorarse': 2687, 'hojas': 2688, 'decíase': 2689, 'derribo': 2690, 'parto': 2691, 'venzo': 2692, 'rindo': 2693, 'enviarle': 2694, 'presentado': 2695, 'hinque': 2696, 'diga': 2697, \"''yo\": 2698, 'caraculiambro': 2699, 'malindrania': 2700, 'venció': 2701, 'alabado': 2702, 'presentase': 2703, 'disponga': 2704, \"talante''\": 2705, 'holgó': 2706, 'moza': 2707, 'labradora': 2708, 'llamábase': 2709, 'aldonza': 2710, 'lorenzo': 2711, 'desdijese': 2712, 'tirase': 2713, 'encaminase': 2714, 'llamarla': 2715, 'músico': 2716, 'peregrino': 2717, 'ii': 2718, 'apretándole': 2719, 'tardanza': 2720, 'enderezar': 2721, 'emendar': 2722, 'abusos': 2723, 'mejorar': 2724, 'deudas': 2725, 'calurosos': 2726, 'armó': 2727, 'compuesta': 2728, 'alborozo': 2729, 'cuánta': 2730, 'asaltó': 2731, 'comenzada': 2732, 'titubear': 2733, 'pudiendo': 2734, 'propuso': 2735, 'limpiarlas': 2736, 'armiño': 2737, 'quietó': 2738, 'yendo': 2739, 'flamante': 2740, 'venideros': 2741, 'salidad': 2742, 'rubicundo': 2743, 'ancha': 2744, 'espaciosa': 2745, 'doradas': 2746, 'hebras': 2747, 'hermosos': 2748, 'cabellos': 2749, 'pintados': 2750, 'pajarillos': 2751, 'arpadas': 2752, 'lenguas': 2753, 'saludado': 2754, 'meliflua': 2755, 'armonía': 2756, 'rosada': 2757, 'celoso': 2758, 'puertas': 2759, 'balcones': 2760, 'horizonte': 2761, 'plumas': 2762, 'siglo': 2763, 'saldrán': 2764, 'famosas': 2765, 'dignas': 2766, 'entallarse': 2767, 'bronces': 2768, 'esculpirse': 2769, 'mármoles': 2770, 'pintarse': 2771, 'tablas': 2772, 'futuro': 2773, 'coronista': 2774, 'peregrina': 2775, 'ruégote': 2776, 'olvides': 2777, 'caminos': 2778, 'carreras': 2779, 'verdaderamente': 2780, 'habedes': 2781, 'despedirme': 2782, 'reprocharme': 2783, 'afincamiento': 2784, 'mandarme': 2785, 'plégaos': 2786, 'membraros': 2787, 'padece': 2788, 'ensartando': 2789, 'enseñado': 2790, 'imitando': 2791, 'entraba': 2792, 'apriesa': 2793, 'ardor': 2794, 'derretirle': 2795, 'sesos': 2796, 'caminó': 2797, 'acontecerle': 2798, 'desesperaba': 2799, 'topar': 2800, 'avino': 2801, 'anales': 2802, 'anochecer': 2803, 'cansados': 2804, 'muertos': 2805, 'mirando': 2806, 'descubriría': 2807, 'majada': 2808, 'pastores': 2809, 'recogerse': 2810, 'estrella': 2811, 'portales': 2812, 'alcázares': 2813, 'redención': 2814, 'encaminaba': 2815, 'diose': 2816, 'acertaron': 2817, 'jornada': 2818, 'chapiteles': 2819, 'luciente': 2820, 'faltarle': 2821, 'puente': 2822, 'levadiza': 2823, 'honda': 2824, 'cava': 2825, 'castillos': 2826, 'pintan': 2827, 'detuvo': 2828, 'almenas': 2829, 'trompeta': 2830, 'tardaban': 2831, 'destraídas': 2832, 'hermosas': 2833, 'graciosas': 2834, 'solazando': 2835, 'porquero': 2836, 'rastrojos': 2837, 'perdón': 2838, 'tocó': 2839, 'recogen': 2840, 'instante': 2841, 'coligiendo': 2842, 'huida': 2843, 'alzándose': 2844, 'papelón': 2845, 'descubriendo': 2846, 'polvoroso': 2847, 'fuyan': 2848, 'teman': 2849, 'ca': 2850, 'profeso': 2851, 'atañe': 2852, 'facerle': 2853, 'presencias': 2854, 'demuestran': 2855, 'mirábanle': 2856, 'andaban': 2857, 'encubría': 2858, 'oyeron': 2859, 'correrse': 2860, 'decirles': 2861, 'mesura': 2862, 'fermosas': 2863, 'además': 2864, 'leve': 2865, 'procede': 2866, 'acuitedes': 2867, 'mostredes': 2868, 'ál': 2869, 'acrecentaba': 2870, 'gordo': 2871, 'armada': 2872, 'desiguales': 2873, 'brida': 2874, 'coselete': 2875, 'acompañar': 2876, 'temiendo': 2877, 'pertrechos': 2878, 'hablarle': 2879, 'comedidamente': 2880, 'amén': 2881, 'hallará': 2882, 'abundancia': 2883, 'arreos': 2884, 'pensó': 2885, 'andaluz': 2886, 'ladrón': 2887, 'maleante': 2888, 'estudiantado': 2889, 'paje': 2890, 'duras': 2891, 'peñas': 2892, 'apear': 2893, 'seguridad': 2894, 'choza': 2895, 'estribo': 2896, 'apeó': 2897, 'dificultad': 2898, 'desayunado': 2899, 'comía': 2900, 'miróle': 2901, 'acomodándole': 2902, 'mandaba': 2903, 'desarmando': 2904, 'reconciliado': 2905, 'quitado': 2906, 'supieron': 2907, 'desencajarle': 2908, 'gola': 2909, 'quitalle': 2910, 'verdes': 2911, 'cortarlas': 2912, 'poderse': 2913, 'ñudos': 2914, 'consentir': 2915, 'desarmarle': 2916, 'traídas': 2917, 'llevadas': 2918, 'desarmaban': 2919, 'donaire': 2920, 'curaban': 2921, 'rocino': 2922, 'descubrirme': 2923, 'fechas': 2924, 'descubrieran': 2925, 'acomodar': 2926, 'lanzarote': 2927, 'sazón': 2928, 'vendrá': 2929, 'señorías': 2930, 'manden': 2931, 'obedezca': 2932, 'descubra': 2933, 'respondían': 2934, 'preguntaron': 2935, 'yantaría': 2936, 'raciones': 2937, 'andalucía': 2938, 'curadillo': 2939, 'comería': 2940, 'trucha': 2941, 'sencillos': 2942, 'ternera': 2943, 'cabrito': 2944, 'cabrón': 2945, 'gobierno': 2946, 'pusiéronle': 2947, 'mesa': 2948, 'fresco': 2949, 'porción': 2950, 'remojado': 2951, 'cocido': 2952, 'mugriento': 2953, 'alzada': 2954, 'servía': 2955, 'beber': 2956, 'horadara': 2957, 'caña': 2958, 'echando': 2959, 'castrador': 2960, 'sonó': 2961, 'silbato': 2962, 'cañas': 2963, 'confirmar': 2964, 'servían': 2965, 'música': 2966, 'truchas': 2967, 'candeal': 2968, 'empleada': 2969, 'fatigaba': 2970, 'legítimamente': 2971, 'iii': 2972, 'armarse': 2973, 'fatigado': 2974, 'abrevió': 2975, 'venteril': 2976, 'limitada': 2977, 'cena': 2978, 'acabada': 2979, 'encerrándose': 2980, 'hincó': 2981, 'levantaré': 2982, 'cortesía': 2983, 'otorgue': 2984, 'redundará': 2985, 'alabanza': 2986, 'oyó': 2987, 'mirándole': 2988, 'decirle': 2989, 'porfiaba': 2990, 'otorgaba': 2991, 'magnificencia': 2992, 'pedido': 2993, 'liberalidad': 2994, 'otorgado': 2995, 'velaré': 2996, 'cumplirá': 2997, 'menesterosos': 2998, 'socarrón': 2999, 'barruntos': 3000, 'creerlo': 3001, 'oírle': 3002, 'seguirle': 3003, 'humor': 3004, 'prosupuesto': 3005, 'gallarda': 3006, 'presencia': 3007, 'mocedad': 3008, 'percheles': 3009, 'islas': 3010, 'riarán': 3011, 'compás': 3012, 'azoguejo': 3013, 'segovia': 3014, 'olivera': 3015, 'valencia': 3016, 'rondilla': 3017, 'granada': 3018, 'potro': 3019, 'ventillas': 3020, 'ejercitado': 3021, 'ligereza': 3022, 'sutileza': 3023, 'recuestando': 3024, 'viudas': 3025, 'engañando': 3026, 'pupilos': 3027, 'audiencias': 3028, 'tribunales': 3029, 'último': 3030, 'venido': 3031, 'recoger': 3032, 'ajenas': 3033, 'calidad': 3034, 'partiesen': 3035, 'haberes': 3036, 'sabía': 3037, 'podían': 3038, 'harían': 3039, 'debidas': 3040, 'quedase': 3041, 'blanca': 3042, 'engañaba': 3043, 'escribía': 3044, 'haberles': 3045, 'escrebir': 3046, 'traerse': 3047, 'trujeron': 3048, 'averiguado': 3049, 'atestados': 3050, 'herradas': 3051, 'bolsas': 3052, 'sucederles': 3053, 'asimismo': 3054, 'arqueta': 3055, 'pequeña': 3056, 'recebían': 3057, 'desiertos': 3058, 'combatían': 3059, 'curase': 3060, 'socorría': 3061, 'trayendo': 3062, 'aire': 3063, 'redoma': 3064, 'virtud': 3065, 'gustando': 3066, 'gota': 3067, 'llagas': 3068, 'pasados': 3069, 'proveídos': 3070, 'hilas': 3071, 'sucedía': 3072, 'raras': 3073, 'mesmos': 3074, 'sutiles': 3075, 'ancas': 3076, 'admitido': 3077, 'ahijado': 3078, 'caminase': 3079, 'pensase': 3080, 'prometióle': 3081, 'aconsejaba': 3082, 'puntualidad': 3083, 'velase': 3084, 'recogiéndolas': 3085, 'embrazando': 3086, 'asió': 3087, 'pasear': 3088, 'paseo': 3089, 'comenzaba': 3090, 'armazón': 3091, 'admiráronse': 3092, 'fuéronselo': 3093, 'paseaba': 3094, 'arrimado': 3095, 'quitarlos': 3096, 'prestaba': 3097, 'antojósele': 3098, 'recua': 3099, 'llegas': 3100, 'ciñó': 3101, 'haces': 3102, 'toques': 3103, 'quieres': 3104, 'curó': 3105, 'trabando': 3106, 'correas': 3107, 'acorredme': 3108, 'afrenta': 3109, 'avasallado': 3110, 'ofrece': 3111, 'desfallezca': 3112, 'amparo': 3113, 'soltando': 3114, 'derribó': 3115, 'segundara': 3116, 'maestro': 3117, 'pasearse': 3118, 'saberse': 3119, 'aturdido': 3120, 'mulos': 3121, 'desembarazar': 3122, 'pedir': 3123, 'abrió': 3124, 'vigor': 3125, 'vuelvas': 3126, 'atendiendo': 3127, 'cobró': 3128, 'acometieran': 3129, 'volviera': 3130, 'atrás': 3131, 'llover': 3132, 'reparaba': 3133, 'osaba': 3134, 'apartar': 3135, 'desamparar': 3136, 'libraría': 3137, 'matase': 3138, 'llamándolos': 3139, 'alevosos': 3140, 'traidores': 3141, 'follón': 3142, 'nacido': 3143, 'consentía': 3144, 'alevosía': 3145, 'soez': 3146, 'tirad': 3147, 'llegad': 3148, 'ofendedme': 3149, 'pudiéredes': 3150, 'demasía': 3151, 'brío': 3152, 'infundió': 3153, 'acometían': 3154, 'persuasiones': 3155, 'retirar': 3156, 'abreviar': 3157, 'negra': 3158, 'sucediese': 3159, 'desculpó': 3160, 'insolencia': 3161, 'usado': 3162, 'castigados': 3163, 'restaba': 3164, 'toque': 3165, 'pescozada': 3166, 'espaldarazo': 3167, 'ceremonial': 3168, 'solas': 3169, 'horas': 3170, 'cumplía': 3171, 'pronto': 3172, 'obedecerle': 3173, 'concluyese': 3174, 'brevedad': 3175, 'acometido': 3176, 'eceto': 3177, 'mandase': 3178, 'advertido': 3179, 'desto': 3180, 'trujo': 3181, 'asentaba': 3182, 'dichas': 3183, 'hincar': 3184, 'manual': 3185, 'devota': 3186, 'diole': 3187, 'cuello': 3188, 'espaldazaro': 3189, 'murmurando': 3190, 'dientes': 3191, 'rezaba': 3192, 'ciñese': 3193, 'desenvoltura': 3194, 'reventar': 3195, 'ceñirle': 3196, 'lides': 3197, 'recebida': 3198, 'alcanzase': 3199, 'remendón': 3200, 'tendillas': 3201, 'bienaya': 3202, 'serviría': 3203, 'tendría': 3204, 'hiciese': 3205, 'calzó': 3206, 'espuela': 3207, 'coloquio': 3208, 'molinero': 3209, 'rogó': 3210, 'ofreciéndole': 3211, 'nuevos': 3212, 'servicios': 3213, 'aprisa': 3214, 'vistas': 3215, 'ensillando': 3216, 'abrazando': 3217, 'estrañas': 3218, 'agradeciéndole': 3219, 'acertar': 3220, 'referirlas': 3221, 'breves': 3222, 'iv': 3223, 'alba': 3224, 'alborozado': 3225, 'gozo': 3226, 'reventaba': 3227, 'cinchas': 3228, 'viniéndole': 3229, 'especial': 3230, 'oficio': 3231, 'guió': 3232, 'conociendo': 3233, 'querencia': 3234, 'diestra': 3235, 'espesura': 3236, 'delicadas': 3237, 'coger': 3238, 'buenos': 3239, 'menesteroso': 3240, 'menesterosa': 3241, 'volviendo': 3242, 'atado': 3243, 'arriba': 3244, 'pretina': 3245, 'azote': 3246, 'acompañaba': 3247, 'reprehensión': 3248, 'listos': 3249, 'pasión': 3250, 'hato': 3251, 'airada': 3252, 'tomaros': 3253, 'subid': 3254, 'arrimada': 3255, 'arrendada': 3256, 'blandiendo': 3257, 'túvose': 3258, 'castigando': 3259, 'ovejas': 3260, 'descuidado': 3261, 'descuido': 3262, 'bellaquería': 3263, 'pagalle': 3264, 'ánima': 3265, 'ruin': 3266, 'alumbra': 3267, 'pasaros': 3268, 'pagadle': 3269, 'rige': 3270, 'concluya': 3271, 'aniquile': 3272, 'desatadlo': 3273, 'bajó': 3274, 'cuánto': 3275, 'meses': 3276, 'siete': 3277, 'montaban': 3278, 'setenta': 3279, 'desembolsase': 3280, 'descontar': 3281, 'quédense': 3282, 'rompió': 3283, 'cuero': 3284, 'pagastes': 3285, 'rompido': 3286, 'sanidad': 3287, 'sacado': 3288, 'véngase': 3289, 'pagaré': 3290, 'viéndose': 3291, 'desuelle': 3292, 'bartolomé': 3293, 'mande': 3294, 'jure': 3295, 'dejaré': 3296, 'aseguraré': 3297, 'haldudo': 3298, 'rico': 3299, 'quintanar': 3300, 'haldudos': 3301, 'niego': 3302, 'hacedme': 3303, 'placer': 3304, 'veniros': 3305, 'pagaros': 3306, 'sahumados': 3307, 'sahumerio': 3308, 'dádselos': 3309, 'mirad': 3310, 'cumpláis': 3311, 'buscaros': 3312, 'castigaros': 3313, 'escondáis': 3314, 'lagartija': 3315, 'veras': 3316, 'cumplirlo': 3317, 'quedad': 3318, 'parta': 3319, 'breve': 3320, 'apartó': 3321, 'siguióle': 3322, 'traspuesto': 3323, 'deshacedor': 3324, 'andará': 3325, 'mandamiento': 3326, 'roque': 3327, 'vuelva': 3328, 'ejecute': 3329, 'deuda': 3330, 'atar': 3331, 'llamad': 3332, 'desface': 3333, 'aquéste': 3334, 'acabado': 3335, 'desollaros': 3336, 'temíades': 3337, 'ejecutase': 3338, 'mohíno': 3339, 'jurando': 3340, 'contalle': 3341, 'setenas': 3342, 'llorando': 3343, 'riendo': 3344, 'contentísimo': 3345, 'sucedido': 3346, 'satisfación': 3347, 'viven': 3348, 'bellas': 3349, 'bella': 3350, 'cupo': 3351, 'ayer': 3352, 'rescibió': 3353, 'desfecho': 3354, 'cometió': 3355, 'crueldad': 3356, 'látigo': 3357, 'despiadado': 3358, 'vapulaba': 3359, 'infante': 3360, 'dividía': 3361, 'encrucejadas': 3362, 'ponían': 3363, 'tomarían': 3364, 'imitarlos': 3365, 'rato': 3366, 'quedo': 3367, 'haberlo': 3368, 'pensado': 3369, 'intento': 3370, 'millas': 3371, 'descubrió': 3372, 'tropel': 3373, 'toledanos': 3374, 'seda': 3375, 'criados': 3376, 'imaginó': 3377, 'imitar': 3378, 'afirmó': 3379, 'estribos': 3380, 'apretó': 3381, 'llegasen': 3382, 'juzgaba': 3383, 'confiesa': 3384, 'paráronse': 3385, 'echaron': 3386, 'confesión': 3387, 'burlón': 3388, 'conocemos': 3389, 'mostrádnosla': 3390, 'hermosura': 3391, 'significáis': 3392, 'apremio': 3393, 'confesaremos': 3394, 'pedida': 3395, 'mostrara': 3396, 'hiciérades': 3397, 'notoria': 3398, 'verla': 3399, 'afirmar': 3400, 'jurar': 3401, 'vengáis': 3402, 'pide': 3403, 'ora': 3404, 'ralea': 3405, 'aguardo': 3406, 'espero': 3407, 'confiado': 3408, 'encarguemos': 3409, 'conciencias': 3410, 'confesando': 3411, 'vista': 3412, 'oída': 3413, 'emperatrices': 3414, 'reinas': 3415, 'alcarria': 3416, 'estremadura': 3417, 'mostrarnos': 3418, 'tamaño': 3419, 'grano': 3420, 'hilo': 3421, 'sacará': 3422, 'ovillo': 3423, 'quedaremos': 3424, 'satisfechos': 3425, 'quedará': 3426, 'pagado': 3427, 'muestre': 3428, 'ojo': 3429, 'bermellón': 3430, 'azufre': 3431, 'complacer': 3432, 'diremos': 3433, 'infame': 3434, 'encendido': 3435, 'ámbar': 3436, 'algalia': 3437, 'algodones': 3438, 'corcovada': 3439, 'derecha': 3440, 'huso': 3441, 'guadarrama': 3442, 'pagaréis': 3443, 'blasfemia': 3444, 'beldad': 3445, 'tropezara': 3446, 'queriéndose': 3447, 'embarazo': 3448, 'causaban': 3449, 'antiguas': 3450, 'entretanto': 3451, 'pugnaba': 3452, 'fuyáis': 3453, 'cobarde': 3454, 'atended': 3455, 'intencionado': 3456, 'arrogancias': 3457, 'sufrir': 3458, 'costillas': 3459, 'haberla': 3460, 'despecho': 3461, 'molió': 3462, 'cibera': 3463, 'dábanle': 3464, 'amos': 3465, 'picado': 3466, 'juego': 3467, 'envidar': 3468, 'acudiendo': 3469, 'trozos': 3470, 'tempestad': 3471, 'vía': 3472, 'cerraba': 3473, 'amenazando': 3474, 'malandrines': 3475, 'deshecho': 3476, 'aquélla': 3477, 'propia': 3478, 'atribuía': 3479, 'brumado': 3480, 'v': 3481, 'prosigue': 3482, 'menearse': 3483, 'acogerse': 3484, 'carloto': 3485, 'montiña': 3486, 'sabida': 3487, 'niños': 3488, 'ignorada': 3489, 'celebrada': 3490, 'creída': 3491, 'sentimiento': 3492, 'volcar': 3493, 'duele': 3494, 'desleal': 3495, 'prosiguiendo': 3496, 'carnal': 3497, 'tristemente': 3498, 'proseguir': 3499, 'emperante': 3500, 'esposa': 3501, 'admirado': 3502, 'limpió': 3503, 'polvo': 3504, 'limpiado': 3505, 'seguía': 3506, 'preguntaba': 3507, 'procuró': 3508, 'levantarle': 3509, 'sosegada': 3510, 'astillas': 3511, 'liólas': 3512, 'cabestro': 3513, 'pensativo': 3514, 'borrico': 3515, 'suspiros': 3516, 'obligó': 3517, 'preguntase': 3518, 'acomodados': 3519, 'olvidándose': 3520, 'prendió': 3521, 'alcaidía': 3522, 'preguntar': 3523, 'mesmas': 3524, 'abencerraje': 3525, 'aprovechándose': 3526, 'dábale': 3527, 'escusar': 3528, 'enfado': 3529, 'causaba': 3530, 'arenga': 3531, 'jarifa': 3532, 'vean': 3533, 'verán': 3534, 'pecador': 3535, 'pedro': 3536, 'aventajarán': 3537, 'pláticas': 3538, 'viesen': 3539, 'llegada': 3540, 'alborotada': 3541, 'diciéndoles': 3542, 'desventurada': 3543, 'nací': 3544, 'mundos': 3545, 'encomendados': 3546, 'satanás': 3547, 'barrabás': 3548, 'echado': 3549, 'aconteció': 3550, 'desalmados': 3551, 'desventuras': 3552, 'arrojaba': 3553, 'paredes': 3554, 'sudaba': 3555, 'cansancio': 3556, 'bebíase': 3557, 'jarro': 3558, 'fría': 3559, 'preciosísima': 3560, 'esquife': 3561, 'avisé': 3562, 'remediaran': 3563, 'llegado': 3564, 'quemaran': 3565, 'descomulgados': 3566, 'abrasados': 3567, 'herejes': 3568, 'acto': 3569, 'público': 3570, 'leyere': 3571, 'abran': 3572, 'trae': 3573, 'conocieron': 3574, 'apeado': 3575, 'corrieron': 3576, 'abrazarle': 3577, 'ténganse': 3578, 'vengo': 3579, 'llévenme': 3580, 'llámese': 3581, 'cure': 3582, 'cate': 3583, 'mirá': 3584, 'maza': 3585, 'cojeaba': 3586, 'suba': 3587, 'hurgada': 3588, 'sabremos': 3589, 'ciento': 3590, 'parado': 3591, 'lleváronle': 3592, 'catándole': 3593, 'combatiéndose': 3594, 'atrevidos': 3595, 'pudieran': 3596, 'fallar': 3597, 'danza': 3598, 'santiguada': 3599, 'hiciéronle': 3600, 'preguntas': 3601, 'diesen': 3602, 'importaba': 3603, 'hízose': 3604, 'informó': 3605, 'hallarle': 3606, 'traerle': 3607, 'librería': 3608, 'todavía': 3609, 'dormía': 3610, 'llaves': 3611, 'entraron': 3612, 'cuerpos': 3613, 'encuadernados': 3614, 'escudilla': 3615, 'bendita': 3616, 'hisopo': 3617, 'tome': 3618, 'rocíe': 3619, 'encanten': 3620, 'queremos': 3621, 'echándolos': 3622, 'causó': 3623, 'mereciesen': 3624, 'dañadores': 3625, 'arrojarlos': 3626, 'ventanas': 3627, 'rimero': 3628, 'pegarles': 3629, 'llevarlos': 3630, 'ofenderá': 3631, 'inocentes': 3632, 'títulos': 3633, 'misterio': 3634, 'origen': 3635, 'déste': 3636, 'dogmatizador': 3637, 'secta': 3638, 'debemos': 3639, 'escusa': 3640, 'arte': 3641, 'otorga': 3642, 'veamos': 3643, 'sergas': 3644, 'legítimo': 3645, 'valer': 3646, 'abrid': 3647, 'echadle': 3648, 'montón': 3649, 'hízolo': 3650, 'amenazaba': 3651, 'vayan': 3652, 'pintiquiniestra': 3653, 'darinel': 3654, 'endiabladas': 3655, 'quemaré': 3656, 'anduviera': 3657, 'vengan': 3658, 'diéronselos': 3659, 'ahorró': 3660, 'escalera': 3661, 'abajo': 3662, 'tonel': 3663, 'olivante': 3664, 'laura': 3665, 'jardín': 3666, 'flores': 3667, 'determinar': 3668, 'mentiroso': 3669, 'irá': 3670, 'hircania': 3671, 'parar': 3672, 'dureza': 3673, 'sequedad': 3674, 'alegría': 3675, 'ejecutaba': 3676, 'platir': 3677, 'merezca': 3678, 'venia': 3679, 'abrióse': 3680, 'santo': 3681, 'tomando': 3682, 'historiador': 3683, 'condenarlos': 3684, 'destierro': 3685, 'perpetuo': 3686, 'mateo': 3687, 'boyardo': 3688, 'tejió': 3689, 'ludovico': 3690, 'ariosto': 3691, 'idioma': 3692, 'pondré': 3693, 'italiano': 3694, 'entendiérades': 3695, 'perdonáramos': 3696, 'capitán': 3697, 'quisieren': 3698, 'pongan': 3699, 'llegarán': 3700, 'hallaren': 3701, 'tratan': 3702, 'echen': 3703, 'depositen': 3704, 'ecetuando': 3705, 'remisión': 3706, 'confirmó': 3707, 'rajas': 3708, 'cenizas': 3709, 'palma': 3710, 'conserve': 3711, 'única': 3712, 'caja': 3713, 'dario': 3714, 'portugal': 3715, 'miraguarda': 3716, 'bonísimas': 3717, 'cortesanas': 3718, 'claras': 3719, 'guardan': 3720, 'miran': 3721, 'propriedad': 3722, 'salvo': 3723, 'libres': 3724, 'cala': 3725, 'perezcan': 3726, 'afamado': 3727, 'tercera': 3728, 'ruibarbo': 3729, 'purgar': 3730, 'demasiada': 3731, 'impertinencias': 3732, 'ultramarino': 3733, 'enmendaren': 3734, 'usará': 3735, 'tenedlos': 3736, 'dejéis': 3737, 'cansarse': 3738, 'tomase': 3739, 'tonta': 3740, 'sorda': 3741, 'quemallos': 3742, 'echar': 3743, 'delgada': 3744, 'asiendo': 3745, 'mina': 3746, 'pasatiempos': 3747, 'quirieleisón': 3748, 'tomás': 3749, 'alano': 3750, 'placerdemivida': 3751, 'embustes': 3752, 'viuda': 3753, 'enamorada': 3754, 'hipólito': 3755, 'dígoos': 3756, 'duermen': 3757, 'mueren': 3758, 'testamento': 3759, 'carecen': 3760, 'merecía': 3761, 'echaran': 3762, 'galeras': 3763, 'llevadle': 3764, 'leedle': 3765, 'haremos': 3766, 'quemados': 3767, 'tercero': 3768, 'ay': 3769, 'sanado': 3770, 'caballeresca': 3771, 'andarse': 3772, 'bosques': 3773, 'prados': 3774, 'cantando': 3775, 'tañendo': 3776, 'incurable': 3777, 'pegadiza': 3778, 'tropiezo': 3779, 'comenzamos': 3780, 'quite': 3781, 'felicia': 3782, 'encantada': 3783, 'quédesele': 3784, 'llamada': 3785, 'número': 3786, 'démonos': 3787, 'prisa': 3788, 'tarde': 3789, 'antonio': 3790, 'lofraso': 3791, 'sardo': 3792, 'recebí': 3793, 'salido': 3794, 'dieran': 3795, 'sotana': 3796, 'raja': 3797, 'florencia': 3798, 'púsole': 3799, 'aparte': 3800, 'siguen': 3801, 'iberia': 3802, 'ninfas': 3803, 'henares': 3804, 'desengaños': 3805, 'celos': 3806, 'entregarlos': 3807, 'seglar': 3808, 'pregunte': 3809, 'porqué': 3810, 'fílida': 3811, 'joya': 3812, 'preciosa': 3813, 'intitula': 3814, 'varias': 3815, 'poesías': 3816, 'estimadas': 3817, 'escarde': 3818, 'limpie': 3819, 'bajezas': 3820, 'grandezas': 3821, 'heroicas': 3822, 'levantadas': 3823, 'cancionero': 3824, 'lópez': 3825, 'maldonado': 3826, 'oye': 3827, 'suavidad': 3828, 'encanta': 3829, 'escogidos': 3830, 'galatea': 3831, 'versado': 3832, 'desdichas': 3833, 'propone': 3834, 'concluye': 3835, 'emienda': 3836, 'alcanzará': 3837, 'tenedle': 3838, 'recluso': 3839, 'araucana': 3840, 'ercilla': 3841, 'austríada': 3842, 'rufo': 3843, 'monserrato': 3844, 'cristóbal': 3845, 'virués': 3846, 'valenciano': 3847, 'mejores': 3848, 'heroico': 3849, 'escritos': 3850, 'pueden': 3851, 'italia': 3852, 'guárdense': 3853, 'ricas': 3854, 'prendas': 3855, 'cerrada': 3856, 'quemasen': 3857, 'abierto': 3858, 'lloráralas': 3859, 'tradución': 3860, 'vii': 3861, 'oídos': 3862, 'carolea': 3863, 'luis': 3864, 'ávila': 3865, 'debían': 3866, 'pasaran': 3867, 'levantado': 3868, 'proseguía': 3869, 'desatinos': 3870, 'reveses': 3871, 'despierto': 3872, 'abrazáronse': 3873, 'volvieron': 3874, 'volviéndose': 3875, 'arzobispo': 3876, 'mengua': 3877, 'llamamos': 3878, 'vitoria': 3879, 'aventureros': 3880, 'prez': 3881, 'antecedentes': 3882, 'calle': 3883, 'mude': 3884, 'pierde': 3885, 'gane': 3886, 'atienda': 3887, 'demasiadamente': 3888, 'ferido': 3889, 'bastardo': 3890, 'envidia': 3891, 'opuesto': 3892, 'valentías': 3893, 'llamaría': 3894, 'levantándome': 3895, 'pagare': 3896, 'tráiganme': 3897, 'yantar': 3898, 'quédese': 3899, 'vengarme': 3900, 'hiciéronlo': 3901, 'diéronle': 3902, 'quedóse': 3903, 'quemó': 3904, 'abrasó': 3905, 'debieron': 3906, 'arder': 3907, 'merecían': 3908, 'guardarse': 3909, 'perpetuos': 3910, 'permitió': 3911, 'escrutiñador': 3912, 'cumplió': 3913, 'refrán': 3914, 'pagan': 3915, 'justos': 3916, 'pecadores': 3917, 'remedios': 3918, 'murasen': 3919, 'tapiasen': 3920, 'hallase': 3921, 'quitando': 3922, 'cesaría': 3923, 'dijesen': 3924, 'presteza': 3925, 'solía': 3926, 'tentábala': 3927, 'revolvía': 3928, 'advertida': 3929, 'sierpe': 3930, 'tejado': 3931, 'acordamos': 3932, 'vimos': 3933, 'acuerda': 3934, 'partirse': 3935, 'secreta': 3936, 'muñatón': 3937, 'fritón': 3938, 'tón': 3939, 'ojeriza': 3940, 'vencer': 3941, 'estorbar': 3942, 'procura': 3943, 'hacerme': 3944, 'sinsabores': 3945, 'mándole': 3946, 'contradecir': 3947, 'evitar': 3948, 'ordenado': 3949, 'mete': 3950, 'trastrigo': 3951, 'considerar': 3952, 'van': 3953, 'lana': 3954, 'vuelven': 3955, 'tresquilados': 3956, 'tresquilen': 3957, 'peladas': 3958, 'quitadas': 3959, 'imaginaren': 3960, 'tocarme': 3961, 'punta': 3962, 'cabello': 3963, 'replicarle': 3964, 'encendía': 3965, 'segundar': 3966, 'primeros': 3967, 'devaneos': 3968, 'graciosísimos': 3969, 'compadres': 3970, 'resucitase': 3971, 'andantesca': 3972, 'contradecía': 3973, 'concedía': 3974, 'guardaba': 3975, 'averiguarse': 3976, 'solicitó': 3977, 'sal': 3978, 'mollera': 3979, 'persuadió': 3980, 'salirse': 3981, 'servirle': 3982, 'decíale': 3983, 'dispusiese': 3984, 'quítame': 3985, 'allá': 3986, 'pajas': 3987, 'promesas': 3988, 'asentó': 3989, 'vendiendo': 3990, 'empeñando': 3991, 'malbaratándolas': 3992, 'razonable': 3993, 'cantidad': 3994, 'acomodóse': 3995, 'asimesmo': 3996, 'prestada': 3997, 'pertrechando': 3998, 'rota': 3999, 'avisó': 4000, 'acomodase': 4001, 'encargó': 4002, 'llevaría': 4003, 'duecho': 4004, 'reparó': 4005, 'imaginando': 4006, 'asnalmente': 4007, 'presupuesto': 4008, 'acomodarle': 4009, 'honrada': 4010, 'proveyóse': 4011, 'despedirse': 4012, 'caminaron': 4013, 'amanecer': 4014, 'hallarían': 4015, 'buscasen': 4016, 'patriarca': 4017, 'derrota': 4018, 'viaje': 4019, 'herirles': 4020, 'soslayo': 4021, 'fatigaban': 4022, 'sabré': 4023, 'gobernar': 4024, 'usada': 4025, 'antiguos': 4026, 'gobernadores': 4027, 'ínsulas': 4028, 'ganaban': 4029, 'falte': 4030, 'agradecida': 4031, 'aventajarme': 4032, 'esperaban': 4033, 'hartos': 4034, 'peores': 4035, 'provincia': 4036, 'vives': 4037, 'viniesen': 4038, 'coronarte': 4039, 'casos': 4040, 'acontecen': 4041, 'modos': 4042, 'pensados': 4043, 'juana': 4044, 'oíslo': 4045, 'vendría': 4046, 'infantes': 4047, 'dudo': 4048, 'lloviese': 4049, 'asentaría': 4050, 'mari': 4051, 'condesa': 4052, 'caerá': 4053, 'encomiéndalo': 4054, 'convenga': 4055, 'apoques': 4056, 'vengas': 4057, 'contentar': 4058, 'adelantado': 4059, 'principal': 4060, 'sabrá': 4061, 'viii': 4062, 'espantable': 4063, 'imaginada': 4064, 'dignos': 4065, 'felice': 4066, 'recordación': 4067, 'guiando': 4068, 'acertáramos': 4069, 'descubren': 4070, 'comenzaremos': 4071, 'enriquecer': 4072, 'simiente': 4073, 'largos': 4074, 'leguas': 4075, 'volteadas': 4076, 'cursado': 4077, 'quítate': 4078, 'ponte': 4079, 'voy': 4080, 'fiera': 4081, 'atender': 4082, 'advirtiéndole': 4083, 'acometer': 4084, 'oía': 4085, 'echaba': 4086, 'fuyades': 4087, 'criaturas': 4088, 'acomete': 4089, 'levantóse': 4090, 'moverse': 4091, 'mováis': 4092, 'briareo': 4093, 'encomendándose': 4094, 'pidiéndole': 4095, 'socorriese': 4096, 'ristre': 4097, 'embistió': 4098, 'dándole': 4099, 'lanzada': 4100, 'aspa': 4101, 'llevándose': 4102, 'socorrerle': 4103, 'menear': 4104, 'ignorar': 4105, 'calla': 4106, 'sujetas': 4107, 'continua': 4108, 'mudanza': 4109, 'quitarme': 4110, 'vencimiento': 4111, 'ayudándole': 4112, 'despaldado': 4113, 'hallarse': 4114, 'pasajero': 4115, 'pesaroso': 4116, 'faltado': 4117, 'diciéndoselo': 4118, 'diego': 4119, 'habiéndosele': 4120, 'roto': 4121, 'pesado': 4122, 'machacó': 4123, 'moros': 4124, 'decendientes': 4125, 'llamaron': 4126, 'hete': 4127, 'roble': 4128, 'desgajar': 4129, 'imagino': 4130, 'afortunado': 4131, 'merecido': 4132, 'vellas': 4133, 'testigo': 4134, 'creídas': 4135, 'enderécese': 4136, 'salgan': 4137, 'replicar': 4138, 'holgara': 4139, 'quejara': 4140, 'doliera': 4141, 'pequeño': 4142, 'declaró': 4143, 'quisiese': 4144, 'respondióle': 4145, 'comiese': 4146, 'acomodó': 4147, 'sacando': 4148, 'comiendo': 4149, 'empinaba': 4150, 'envidiar': 4151, 'bodegonero': 4152, 'menudeando': 4153, 'tragos': 4154, 'peligrosas': 4155, 'árboles': 4156, 'quebrado': 4157, 'durmió': 4158, 'florestas': 4159, 'despoblados': 4160, 'entretenidos': 4161, 'estómago': 4162, 'chicoria': 4163, 'sueño': 4164, 'despertarle': 4165, 'llamara': 4166, 'canto': 4167, 'aves': 4168, 'regocijadamente': 4169, 'saludaban': 4170, 'tiento': 4171, 'hallóla': 4172, 'flaca': 4173, 'afligiósele': 4174, 'desayunarse': 4175, 'sustentarse': 4176, 'sabrosas': 4177, 'tornaron': 4178, 'podemos': 4179, 'meter': 4180, 'codos': 4181, 'veas': 4182, 'defenderme': 4183, 'ofenden': 4184, 'lícito': 4185, 'concedido': 4186, 'ayudes': 4187, 'obedicido': 4188, 'meterme': 4189, 'ruidos': 4190, 'tocare': 4191, 'divinas': 4192, 'permiten': 4193, 'defienda': 4194, 'agraviarle': 4195, 'naturales': 4196, 'ímpetus': 4197, 'preceto': 4198, 'domingo': 4199, 'asomaron': 4200, 'dromedarios': 4201, 'pequeñas': 4202, 'traían': 4203, 'antojos': 4204, 'bultos': 4205, 'negros': 4206, 'hurtada': 4207, 'poderío': 4208, 'pasajera': 4209, 'engañe': 4210, 'achaque': 4211, 'adelantó': 4212, 'podrían': 4213, 'endiablada': 4214, 'dejad': 4215, 'aparejaos': 4216, 'presta': 4217, 'justo': 4218, 'detuvieron': 4219, 'quedaron': 4220, 'respondieron': 4221, 'somos': 4222, 'endiablados': 4223, 'religiosos': 4224, 'vamos': 4225, 'sabemos': 4226, 'ningunas': 4227, 'blandas': 4228, 'fementida': 4229, 'dejara': 4230, 'grado': 4231, 'religioso': 4232, 'piernas': 4233, 'campaña': 4234, 'ligero': 4235, 'ligeramente': 4236, 'hábitos': 4237, 'desnudaba': 4238, 'respondióles': 4239, 'ligítimamente': 4240, 'sabían': 4241, 'entendían': 4242, 'desviado': 4243, 'arremetieron': 4244, 'dejarle': 4245, 'molieron': 4246, 'detenerse': 4247, 'temeroso': 4248, 'acobardado': 4249, 'color': 4250, 'aguardando': 4251, 'sobresalto': 4252, 'haciéndose': 4253, 'cruces': 4254, 'llevaran': 4255, 'espaldas': 4256, 'facer': 4257, 'viniere': 4258, 'robadores': 4259, 'yace': 4260, 'penéis': 4261, 'libertador': 4262, 'llamo': 4263, 'beneficio': 4264, 'volváis': 4265, 'presentéis': 4266, 'digáis': 4267, 'escuchaba': 4268, 'vuelta': 4269, 'andes': 4270, 'crióme': 4271, 'dejas': 4272, 'matas': 4273, 'entendióle': 4274, 'fueras': 4275, 'castigado': 4276, 'criatura': 4277, 'arrojas': 4278, 'sacas': 4279, 'gato': 4280, 'llevas': 4281, 'dices': 4282, 'veredes': 4283, 'agrajes': 4284, 'arrojando': 4285, 'apearse': 4286, 'alquiler': 4287, 'fiar': 4288, 'avínole': 4289, 'sirvió': 4290, 'enemigos': 4291, 'paz': 4292, 'trabadas': 4293, 'dejaban': 4294, 'matar': 4295, 'estorbase': 4296, 'admirada': 4297, 'temerosa': 4298, 'cochero': 4299, 'desviase': 4300, 'contienda': 4301, 'hombro': 4302, 'dársela': 4303, 'defensa': 4304, 'abriera': 4305, 'cintura': 4306, 'sintió': 4307, 'desaforado': 4308, 'flor': 4309, 'socorred': 4310, 'halla': 4311, 'apretar': 4312, 'cubrirse': 4313, 'arremeter': 4314, 'aventurarlo': 4315, 'entendió': 4316, 'coraje': 4317, 'rodear': 4318, 'cansada': 4319, 'niñerías': 4320, 'cauto': 4321, 'abrirle': 4322, 'aguardaba': 4323, 'levantada': 4324, 'aforrado': 4325, 'circunstantes': 4326, 'temerosos': 4327, 'colgados': 4328, 'tamaños': 4329, 'amenazaban': 4330, 'criadas': 4331, 'votos': 4332, 'ofrecimientos': 4333, 'imágenes': 4334, 'devoción': 4335, 'librase': 4336, 'hallaban': 4337, 'pendiente': 4338, 'disculpándose': 4339, 'curiosa': 4340, 'entregada': 4341, 'curiosos': 4342, 'ingenios': 4343, 'tuviesen': 4344, 'escritorios': 4345, 'papeles': 4346, 'desesperó': 4347, 'siéndole': 4348, 'favorable': 4349, 'contará': 4350}\n"
          ]
        }
      ],
      "source": [
        "# El índice para cada palabra\n",
        "# El sistema las ordena de las más populares a las menos populares\n",
        "print(tok.word_index)"
      ]
    },
    {
      "cell_type": "code",
      "execution_count": 27,
      "metadata": {
        "id": "nUDkjy80c77h",
        "colab": {
          "base_uri": "https://localhost:8080/"
        },
        "outputId": "1c8c5eb5-7d98-40bb-b951-52ddc4e51b76"
      },
      "outputs": [
        {
          "output_type": "stream",
          "name": "stdout",
          "text": [
            "defaultdict(<class 'int'>, {'quijote': 129, 'mancha': 29, 'la': 415, 'hidalgo': 17, 'ingenioso': 10, 'de': 694, 'don': 140, 'el': 423, 'tasa': 4, 'escribano': 2, 'del': 168, 'juan': 8, 'andrada': 3, 'gallo': 3, 'rey': 10, 'señor': 59, 'yo': 63, 'cámara': 3, 'nuestro': 22, 'por': 226, 'certifico': 1, 'habiendo': 5, 'un': 117, 'señores': 1, 'y': 666, 'residen': 2, 'su': 213, 'dél': 6, 'fe': 5, 'consejo': 8, 'libro': 49, 'los': 214, 'intitulado': 3, 'visto': 10, 'en': 380, 'doy': 4, 'que': 719, 'cervantes': 5, 'compuesto': 4, 'tasaron': 1, 'tres': 12, 'cada': 13, 'saavedra': 2, 'maravedís': 5, 'cual': 53, 'a': 400, 'tiene': 22, 'dicho': 29, 'miguel': 4, 'ochenta': 1, 'pliego': 3, 'pliegos': 2, 'medio': 7, 'docientos': 1, 'monta': 1, 'papel': 2, 'precio': 3, 'dieron': 4, 'licencia': 5, 'noventa': 1, 'para': 72, 'se': 253, 'al': 128, 'ha': 30, 'vender': 3, 'este': 42, 'sin': 78, 'mandaron': 1, 'no': 285, 'ponga': 4, 'pueda': 6, 'dello': 2, 'principio': 11, 'di': 4, 'conste': 1, 'esta': 23, 'ella': 25, 'presente': 2, 'veinte': 3, 'mes': 4, 'cuatro': 14, 'mil': 10, 'años': 12, 'días': 15, 'seiscientos': 2, 'deciembre': 1, 'valladolid': 2, 'las': 174, 'erratas': 3, 'testimonio': 2, 'digna': 1, 'original': 5, 'cosa': 32, 'corresponda': 1, 'diciembre': 1, 'dios': 25, 'universidad': 1, 'madre': 1, 'primero': 19, 'haber': 8, 'lo': 187, 'colegio': 1, 'alcalá': 1, 'correcto': 1, 'teólogos': 1, 'fee': 2, '1604': 1, 'licenciado': 6, 'francisco': 2, 'murcia': 2, 'llana': 2, 'parte': 23, 'nos': 12, 'relación': 1, 'fue': 47, 'habíades': 1, 'fecha': 3, 'cuanto': 17, 'vos': 23, 'útil': 1, 'costado': 1, 'le': 206, 'os': 38, 'dar': 20, 'muy': 40, 'pedistes': 1, 'era': 62, 'trabajo': 9, 'provechoso': 1, 'facultad': 2, 'había': 72, 'mucho': 24, 'suplicastes': 1, 'mandásemos': 1, 'poder': 10, 'previlegio': 1, 'imprimir': 5, 'fuésemos': 1, 'nuestra': 7, 'o': 48, 'merced': 40, 'fuese': 9, 'como': 119, 'tiempo': 15, 'servidos': 1, 'impresión': 4, 'últimamente': 1, 'acordado': 1, 'diligencias': 1, 'libros': 47, 'sobre': 32, 'premática': 1, 'hicieron': 5, 'dispone': 1, 'hacer': 33, 'bien': 59, 'tuvímoslo': 1, 'cédula': 4, 'dicha': 6, 'razón': 9, 'mandar': 3, 'damos': 1, 'debíamos': 1, 'alguna': 27, 'hubiere': 2, 'otra': 34, 'persona': 10, 'podáis': 1, 'vuestro': 17, 'todos': 47, 'desuso': 1, 'nuestros': 2, 'castilla': 3, 'reinos': 4, 'corran': 1, 'hace': 8, 'espacio': 6, 'mención': 1, 'diez': 4, 'estos': 14, 'desta': 13, 'vendiere': 1, 'imprimiere': 3, 'personas': 1, 'tener': 14, 'desde': 8, 'data': 1, 'pena': 6, 'día': 19, 'so': 3, 'cuenten': 1, 'hiciere': 2, 'mesmo': 22, 'pierda': 1, 'moldes': 1, 'más': 102, 'incurra': 1, 'aparejos': 1, 'caso': 10, 'della': 11, 'con': 218, 'contrario': 2, 'sea': 9, 'acusare': 1, 'tercia': 2, 'cincuenta': 2, 'vez': 11, 'todas': 17, 'tanto': 17, 'juez': 3, 'veces': 13, 'sentenciare': 1, 'hubiéredes': 2, 'durante': 1, 'juntamente': 1, 'él': 112, 'traigáis': 2, 'dichos': 2, 'va': 5, 'firmado': 1, 'rubricado': 1, 'saber': 8, 'fin': 11, 'si': 99, 'plana': 1, 'pública': 1, 'cómo': 12, 'conforme': 4, 'vio': 26, 'mandado': 5, 'corretor': 1, 'nombrado': 2, 'está': 21, 'corrigió': 1, 'forma': 1, 'apuntadas': 1, 'fueren': 2, 'imprimió': 2, 'quedan': 2, 'impresas': 1, 'así': 68, 'tase': 1, 'impresor': 1, 'impresos': 1, 'mandamos': 2, 'imprima': 1, 'volume': 1, 'otro': 22, 'costa': 2, 'solo': 10, 'alguno': 12, 'autor': 11, 'ni': 62, 'primer': 6, 'cuya': 3, 'entregue': 1, 'efeto': 8, 'correción': 1, 'corregido': 1, 'antes': 15, 'tasado': 1, 'hasta': 15, 'estando': 8, 'esté': 4, 'manera': 23, 'sucesivamente': 1, 'aprobación': 1, 'hecho': 21, 'e': 5, 'leyes': 4, 'incurrir': 1, 'premáticas': 1, 'destos': 3, 'caer': 2, 'contenidas': 1, 'penas': 1, 'justicias': 1, 'contenido': 1, 'dellos': 12, 'otras': 16, 'guarden': 1, 'cumplan': 1, 'cualesquier': 1, 'seis': 3, 'setiembre': 1, 'amezqueta': 1, 'béjar': 2, 'duque': 1, 'gibraleón': 1, 'benalcázar': 1, 'capilla': 4, 'puebla': 1, 'conde': 2, 'bañares': 1, 'curiel': 1, 'vizconde': 1, 'burguillos': 1, 'marqués': 7, 'villas': 1, 'alcocer': 1, 'acogimiento': 1, 'buen': 25, 'vuestra': 59, 'excelencia': 3, 'toda': 23, 'honra': 5, 'inclinado': 2, 'tan': 75, 'buenas': 3, 'nobleza': 1, 'favorecer': 1, 'suerte': 11, 'granjerías': 1, 'servicio': 6, 'abaten': 1, 'príncipe': 1, 'mayormente': 1, 'artes': 3, 'abrigo': 1, 'vulgo': 3, 'clarísimo': 1, 'he': 17, 'sacar': 4, 'determinado': 2, 'nombre': 28, 'luz': 7, 'quien': 33, 'aunque': 27, 'sombra': 3, 'tanta': 9, 'suplico': 2, 'agradablemente': 1, 'desnudo': 2, 'acatamiento': 1, 'debo': 4, 'precioso': 1, 'grandeza': 4, 'reciba': 1, 'aquel': 35, 'protección': 1, 'parecer': 12, 'componen': 1, 'ose': 1, 'vestidas': 1, 'casas': 2, 'saben': 1, 'erudición': 2, 'andar': 4, 'suelen': 5, 'elegancia': 1, 'obras': 8, 'hombres': 2, 'ornamento': 1, 'rigor': 1, 'menos': 20, 'juicio': 7, 'justicia': 2, 'seguramente': 2, 'continiéndose': 1, 'condenar': 2, 'límites': 1, 'trabajos': 1, 'ignorancia': 2, 'algunos': 9, 'poniendo': 2, 'desdeñará': 1, 'prudencia': 2, 'cortedad': 1, 'mi': 57, 'humilde': 2, 'ojos': 12, 'ajenos': 1, 'fío': 1, 'deseo': 9, 'prólogo': 4, 'creer': 4, 'me': 76, 'quisiera': 6, 'juramento': 3, 'podrás': 1, 'desocupado': 1, 'lector': 3, 'entendimiento': 5, 'hijo': 11, 'fuera': 15, 'pero': 54, 'hermoso': 1, 'pudiera': 3, 'gallardo': 2, 'contravenir': 1, 'podido': 2, 'discreto': 6, 'imaginarse': 1, 'mío': 18, 'mal': 27, 'naturaleza': 1, 'cultivado': 1, 'ingenio': 2, 'engendra': 1, 'qué': 32, 'estéril': 1, 'engendrar': 1, 'sino': 34, 'orden': 14, 'semejante': 2, 'podrá': 2, 'pensamientos': 6, 'engendró': 2, 'lleno': 3, 'avellanado': 1, 'imaginados': 1, 'antojadizo': 1, 'seco': 5, 'varios': 1, 'nunca': 12, 'historia': 21, 'lugar': 12, 'cárcel': 1, 'amenidad': 1, 'ruido': 3, 'incomodidad': 1, 'todo': 69, 'asiento': 1, 'una': 65, 'habitación': 1, 'apacible': 2, 'donde': 34, 'sosiego': 3, 'triste': 2, 'cielos': 2, 'espíritu': 1, 'grande': 18, 'campos': 2, 'murmurar': 1, 'muestren': 2, 'fuentes': 1, 'serenidad': 1, 'estériles': 1, 'quietud': 2, 'son': 18, 'musas': 2, 'acontece': 2, 'contento': 10, 'padre': 4, 'gracia': 2, 'feo': 1, 'partos': 1, 'ofrezcan': 1, 'fecundas': 1, 'mundo': 28, 'colmen': 1, 'maravilla': 1, 'faltas': 3, 'amor': 7, 'venda': 1, 'vea': 4, 'juzga': 1, 'pone': 2, 'sus': 66, 'discreciones': 1, 'lindezas': 1, 'amigos': 5, 'cuenta': 13, 'irme': 2, 'parezco': 1, 'casi': 13, 'corriente': 1, 'soy': 14, 'quiero': 8, 'suplicarte': 1, 'padrastro': 1, 'uso': 2, 'agudezas': 2, 'donaires': 1, 'disimules': 1, 'otros': 16, 'vieres': 2, 'carísimo': 1, 'hacen': 7, 'perdones': 1, 'eres': 5, 'lágrimas': 2, 'libre': 3, 'albedrío': 1, 'pintado': 2, 'amigo': 23, 'estás': 5, 'tienes': 2, 'cuerpo': 8, 'pariente': 1, 'casa': 16, 'alma': 4, 'tu': 15, 'debajo': 2, 'respecto': 1, 'comúnmente': 1, 'dice': 7, 'sabes': 3, 'esenta': 1, 'te': 24, 'mato': 1, 'alcabalas': 1, 'manto': 1, 'aquello': 10, 'pareciere': 1, 'temor': 3, 'decir': 18, 'obligación': 1, 'premien': 1, 'puedes': 3, 'calunien': 1, 'dijeres': 1, 'inumerabilidad': 1, 'sonetos': 3, 'epigramas': 2, 'desnuda': 1, 'dártela': 1, 'acostumbrados': 1, 'ornato': 1, 'monda': 1, 'catálogo': 2, 'sólo': 14, 'elogios': 2, 'sé': 13, 'algún': 19, 'componerla': 1, 'mayor': 3, 'ponerse': 2, 'tuve': 3, 'costó': 1, 'ninguno': 9, 'porque': 79, 'escribiría': 1, 'dejé': 2, 'leyendo': 6, 'tomé': 1, 'muchas': 12, 'prefación': 1, 'pluma': 3, 'vas': 1, 'suspenso': 1, 'escribille': 1, 'deshora': 1, 'mano': 11, 'mejilla': 1, 'delante': 7, 'pensando': 2, 'oreja': 1, 'entró': 4, 'bufete': 1, 'diría': 3, 'codo': 1, 'dije': 3, 'imaginativo': 1, 'pensaba': 9, 'causa': 6, 'viéndome': 1, 'entendido': 2, 'preguntó': 5, 'gracioso': 2, 'encubriéndosela': 1, 'hacerle': 1, 'hazañas': 6, 'noble': 4, 'caballero': 78, 'tenía': 27, 'quería': 6, 'tenga': 5, 'confuso': 2, 'antiguo': 3, 'dirá': 4, 'queréis': 4, 'duermo': 1, 'llaman': 5, 'cabo': 10, 'mis': 10, 'ahora': 12, 'salgo': 1, 'olvido': 3, 'tantos': 8, 'cuando': 51, 'silencio': 2, 'legislador': 1, 'menguada': 1, 'doctrina': 1, 'pobre': 9, 'ajena': 1, 'seca': 1, 'falta': 9, 'invención': 4, 'esparto': 1, 'concetos': 1, 'cuestas': 1, 'leyenda': 2, 'estilo': 3, 'acotaciones': 2, 'anotaciones': 3, 'profanos': 1, 'sean': 6, 'están': 5, 'llenos': 2, 'márgenes': 3, 'fabulosos': 2, 'veo': 2, 'caterva': 2, 'platón': 1, 'autores': 12, 'filósofos': 2, 'admiran': 2, 'leídos': 1, 'eruditos': 1, 'tienen': 8, 'aristóteles': 4, 'leyentes': 1, 'sentencias': 4, 'divina': 3, 'santos': 2, 'citan': 1, 'elocuentes': 1, 'escritura': 4, 'doctores': 1, 'tomases': 1, 'unos': 7, 'iglesia': 1, 'guardando': 1, 'pues': 42, 'dirán': 1, 'enamorado': 5, 'es': 94, 'esto': 60, 'cristiano': 5, 'han': 13, 'destraído': 1, 'sermoncico': 1, 'renglón': 1, 'decoro': 3, 'carecer': 2, 'leelle': 1, 'tengo': 16, 'anotar': 1, 'acotar': 1, 'margen': 2, 'regalo': 1, 'oílle': 1, 'letras': 4, 'acabando': 1, 'sigo': 1, 'ponerlos': 2, 'zoílo': 1, 'c': 1, 'xenofonte': 1, 'b': 6, 'comenzando': 1, 'cuyos': 2, 'también': 16, 'pintor': 1, 'zeuxis': 1, 'uno': 19, 'maldiciente': 1, 'condes': 1, 'duques': 1, 'obispos': 1, 'celebérrimos': 1, 'oficiales': 1, 'pidiese': 1, 'marqueses': 1, 'dos': 27, 'poetas': 5, 'damas': 8, 'aquellos': 16, 'proseguí': 1, 'tales': 12, 'les': 12, 'igualasen': 1, 'darían': 1, 'españa': 8, 'depare': 2, 'tantas': 5, 'sepultado': 1, 'cielo': 9, 'cosas': 15, 'quede': 1, 'determino': 1, 'adorne': 1, 'archivos': 3, 'poltrón': 1, 'pocas': 2, 'faltan': 3, 'remediarlas': 1, 'andarme': 1, 'insuficiencia': 1, 'hallo': 3, 'naturalmente': 1, 'incapaz': 1, 'perezoso': 1, 'bastante': 3, 'nace': 3, 'aquí': 20, 'elevamiento': 1, 'digan': 1, 'buscando': 5, 'hallastes': 1, 'ellos': 19, 'suspensión': 1, 'oído': 5, 'ponerme': 1, 'mí': 17, 'habéis': 12, 'carga': 3, 'risa': 9, 'frente': 1, 'dándose': 2, 'palmada': 1, 'disparando': 1, 'dijo': 100, 'oyendo': 6, 'desengañar': 1, 'engaño': 2, 'hermano': 6, 'acabo': 1, 'agora': 4, 'conozco': 3, 'prudente': 2, 'tenido': 3, 'aciones': 1, 'vuestras': 8, 'estado': 3, 'siempre': 4, 'poco': 23, 'serlo': 3, 'puedan': 1, 'remediar': 4, 'momento': 2, 'estáis': 5, 'fáciles': 1, 'tierra': 13, 'posible': 8, 'lejos': 5, 'atropellar': 1, 'absortar': 1, 'maduro': 1, 'suspender': 1, 'fuerzas': 1, 'romper': 2, 'dificultades': 2, 'mayores': 5, 'pereza': 2, 'penuria': 1, 'estadme': 1, 'discurso': 3, 'ver': 17, 'verdad': 24, 'sobra': 1, 'digo': 13, 'habilidad': 2, 'veréis': 4, 'confundo': 1, 'atento': 1, 'decís': 5, 'remedio': 3, 'cerrar': 3, 'abrir': 1, 'suspenden': 1, 'famoso': 15, 'caballería': 18, 'dejar': 8, 'espejo': 2, 'acobardan': 1, 'andante': 13, 'decía': 24, 'repliqué': 1, 'modo': 11, 'pensáis': 1, 'decid': 1, 'vacío': 1, 'llenar': 1, 'confusión': 1, 'caos': 1, 'reducir': 1, 'claridad': 3, 'graves': 1, 'título': 5, 'reparáis': 1, 'personajes': 1, 'después': 10, 'quisiéredes': 1, 'toméis': 1, 'poner': 11, 'puede': 12, 'hacerlos': 1, 'bautizar': 1, 'podéis': 4, 'ahijándolos': 1, 'trapisonda': 2, 'sido': 11, 'hay': 18, 'famosos': 5, 'emperador': 2, 'indias': 2, 'hayan': 1, 'fueron': 3, 'noticia': 2, 'preste': 1, 'murmuren': 1, 'bachilleres': 1, 'pedantes': 1, 'dé': 4, 'averigüen': 1, 'mentira': 2, 'ya': 37, 'detrás': 3, 'muerdan': 1, 'cortar': 1, 'escribistes': 1, 'sacáredes': 1, 'pusiéredes': 1, 'citar': 2, 'sepáis': 3, 'algunas': 7, 'pelo': 2, 'latines': 2, 'venga': 3, 'buscalle': 1, 'cuesten': 1, 'memoria': 8, 'cautiverio': 1, 'libertad': 2, 'será': 11, 'tratando': 1, 'auro': 1, 'bene': 1, 'libertas': 1, 'non': 5, 'venditur': 1, 'toto': 1, 'pro': 4, 'luego': 26, 'muerte': 4, 'horacio': 1, 'acudir': 2, 'tratáredes': 4, 'pede': 1, 'pulsat': 1, 'aequo': 1, 'pallida': 1, 'pauperum': 1, 'tabernas': 1, 'mors': 1, 'regumque': 1, 'turres': 1, 'punto': 16, 'amistad': 1, 'enemigo': 4, 'entraros': 1, 'manda': 2, 'tantico': 1, 'ego': 1, 'malos': 3, 'palabras': 6, 'mismo': 11, 'autem': 1, 'dico': 1, 'diligite': 1, 'inimicos': 1, 'vobis': 1, 'vestros': 1, 'curiosidad': 2, 'corde': 1, 'malae': 1, 'ahí': 8, 'exeunt': 1, 'acudid': 1, 'dístico': 1, 'instabilidad': 1, 'evangelio': 1, 'catón': 1, 'dará': 4, 'cogitationes': 1, 'numerabis': 1, 'donec': 1, 'felix': 1, 'amicos': 1, 'multos': 1, 'eris': 2, 'solus': 1, 'fuerint': 1, 'nubila': 1, 'tempora': 1, 'poca': 5, 'siquiera': 3, 'tendrán': 1, 'gramático': 1, 'provecho': 1, 'hoy': 6, 'latinicos': 1, 'toca': 2, 'costará': 1, 'golías': 2, 'hacelde': 1, 'nombráis': 1, 'gigante': 7, 'pedrada': 1, 'nada': 10, 'goliat': 1, 'mató': 1, 'gran': 22, 'anotación': 3, 'tenéis': 2, 'david': 1, 'pastor': 6, 'filisteo': 1, 'mostraros': 1, 'reyes': 1, 'tras': 5, 'según': 13, 'terebinto': 1, 'capítulo': 9, 'halláredes': 1, 'valle': 2, 'escribe': 3, 'humanas': 2, 'famosa': 5, 'cosmógrafo': 1, 'tajo': 2, 'hombre': 9, 'erudito': 1, 'río': 2, 'veréisos': 1, 'haced': 1, 'muere': 2, 'mar': 2, 'tal': 29, 'océano': 1, 'besando': 1, 'nacimiento': 3, 'españas': 1, 'oro': 2, 'diré': 1, 'caco': 3, 'etc': 2, 'ciudad': 1, 'muros': 1, 'lisboa': 1, 'opinión': 3, 'arenas': 1, 'ladrones': 2, 'crédito': 1, 'prestará': 2, 'lamia': 1, 'flora': 1, 'coro': 1, 'laida': 1, 'obispo': 1, 'mujeres': 2, 'rameras': 2, 'mondoñedo': 1, 'encantadores': 2, 'ovidio': 3, 'hechiceras': 1, 'virgilio': 1, 'capitanes': 1, 'medea': 1, 'circe': 1, 'valerosos': 2, 'entregará': 1, 'homero': 2, 'crueles': 1, 'calipso': 1, 'alejandros': 1, 'onzas': 1, 'comentarios': 1, 'amores': 5, 'sí': 14, 'plutarco': 1, 'césar': 1, 'julio': 2, 'medidas': 2, 'león': 2, 'andaros': 1, 'toscana': 1, 'toparéis': 1, 'lengua': 7, 'hebreo': 1, 'extrañas': 1, 'tierras': 1, 'hincha': 1, 'acertare': 1, 'materia': 2, 'fonseca': 2, 'desear': 2, 'resolución': 4, 'cifra': 1, 'cargo': 4, 'nombres': 2, 'tocar': 3, 'nombrar': 1, 'historias': 3, 'estas': 11, 'procuréis': 1, 'dejadme': 1, 'gastar': 1, 'llenaros': 1, 'voto': 1, 'vengamos': 1, 'citación': 1, 'acote': 1, 'buscar': 8, 'fácil': 1, 'pondréis': 1, 'z': 1, 'ese': 9, 'abecedario': 1, 'clara': 2, 'puesto': 16, 'importa': 3, 'quizá': 5, 'simple': 4, 'teníades': 1, 'aprovecharos': 1, 'aprovechado': 1, 'crea': 1, 'necesidad': 7, 'habrá': 2, 'largo': 3, 'autoridad': 3, 'sirva': 1, 'improviso': 1, 'servirá': 1, 'sencilla': 1, 'seguistes': 1, 'caigo': 1, 'averiguar': 2, 'ello': 10, 'yéndole': 1, 'invectiva': 1, 'ninguna': 6, 'contra': 9, 'aquellas': 7, 'acordó': 3, 'basilio': 1, 'cicerón': 1, 'caballerías': 15, 'san': 5, 'alcanzó': 2, 'caen': 1, 'disparates': 7, 'puntualidades': 1, 'geométricas': 1, 'astrología': 1, 'observaciones': 1, 'importancia': 4, 'divino': 1, 'género': 8, 'retórica': 1, 'sirve': 2, 'confutación': 1, 'argumentos': 1, 'predicar': 1, 'humano': 2, 'mezclando': 1, 'imitación': 2, 'escribiendo': 1, 'ningún': 3, 'mezcla': 1, 'vestir': 1, 'aprovecharse': 1, 'fuere': 6, 'escribiere': 2, 'mira': 4, 'deshacer': 4, 'mejor': 20, 'perfecta': 1, 'mendigando': 1, 'consejos': 2, 'cabida': 1, 'andéis': 1, 'milagros': 2, 'honestas': 1, 'significantes': 1, 'retóricos': 1, 'fábulas': 2, 'procurar': 1, 'oraciones': 1, 'festivo': 1, 'salga': 3, 'intención': 3, 'alcanzáredes': 1, 'colocadas': 1, 'oración': 3, 'período': 1, 'sonoro': 2, 'pintando': 1, 'dando': 6, 'mueva': 1, 'melancólico': 1, 'entender': 7, 'conceptos': 1, 'escurecerlos': 1, 'intricarlos': 1, 'procurad': 1, 'vuestros': 3, 'enfade': 1, 'desprecie': 1, 'acreciente': 2, 'deje': 1, 'admire': 1, 'grave': 1, 'risueño': 1, 'aborrecidos': 1, 'alabados': 1, 'puesta': 5, 'efecto': 1, 'llevad': 1, 'fundada': 1, 'máquina': 4, 'alabarla': 1, 'caballerescos': 1, 'derribar': 1, 'muchos': 12, 'habríades': 1, 'alcanzásedes': 1, 'alcanzado': 1, 'disputa': 1, 'escuchando': 1, 'razones': 15, 'ponerlas': 1, 'imprimieron': 1, 'estuve': 1, 'aprobé': 1, 'verás': 4, 'buena': 16, 'quise': 1, 'mía': 8, 'suave': 1, 'ventura': 5, 'ellas': 6, 'mismas': 1, 'discreción': 2, 'tuyo': 1, 'revueltas': 2, 'sincera': 1, 'alivio': 1, 'necesitado': 1, 'hallar': 5, 'consejero': 1, 'distrito': 1, 'campo': 10, 'montiel': 3, 'valiente': 5, 'casto': 1, 'habitadores': 1, 'contornos': 2, 'hago': 6, 'darte': 1, 'encarecerte': 1, 'conocer': 3, 'escudero': 18, 'honrado': 3, 'conocimiento': 1, 'agradezcas': 1, 'panza': 19, 'tendrás': 2, 'sancho': 38, 'gracias': 2, 'cifradas': 1, 'esparcidas': 1, 'escuderiles': 1, 'vanos': 1, 'olvide': 2, 'salud': 3, 'vale': 2, 'desconocida': 1, 'urganda': 2, 'llegarte': 1, 'fueres': 1, 'bue': 1, 'letu': 2, 'pones': 1, 'boquirru': 1, 'cue': 1, 'ir': 8, 'idio': 1, 'mas': 30, 'pan': 5, 'manos': 10, 'bo': 2, 'aun': 16, 'cla': 1, 'curio': 1, 'mostrar': 2, 'comen': 2, 'ma': 3, 'arri': 1, 'expiriencia': 1, 'árbol': 3, 'ense': 1, 'cobi': 1, 'estre': 1, 'ofre': 1, 'fru': 1, 'real': 5, 'príncipes': 2, 'da': 4, 'alejandro': 3, 'du': 1, 'nuevo': 6, 'floreció': 1, 'favorece': 2, 'fortu': 2, 'osa': 1, 'llega': 1, 'manche': 1, 'aventu': 1, 'contarás': 1, 'cabe': 1, 'ociosas': 2, 'trastornaron': 1, 'armas': 28, 'mo': 1, 'caballe': 1, 'provocaron': 1, 'templado': 1, 'orlando': 3, 'furio': 1, 'enamora': 1, 'bra': 1, 'tobo': 1, 'fuerza': 5, 'dulcinea': 15, 'estampes': 1, 'indiscretos': 1, 'escu': 1, 'hieroglí': 1, 'figu': 1, 'puntos': 1, 'ruines': 1, 'envi': 1, 'dirección': 1, 'humi': 1, 'lu': 1, 'mofante': 1, 'algu': 1, \"''\": 3, 'álvaro': 1, 'anibal': 1, 'carta': 1, 'espa': 1, 'plu': 1, 'queja': 1, 'salieses': 1, 'lati': 1, 'negro': 2, 'ladi': 1, 'hablar': 3, 'agu': 1, 'despuntes': 1, 'rehú': 1, 'filó': 1, 'alegues': 1, 'torciendo': 1, 'palmo': 1, 'entiende': 3, 'ore': 1, 'dibu': 1, 'flo': 2, 'metas': 1, 'conmigo': 5, 'vie': 1, 'aje': 1, 'vidas': 2, 'pasar': 4, 'cordu': 1, 'caperu': 1, 'darles': 1, 'grace': 1, 'quémate': 1, 'ce': 1, 'fa': 1, 'tú': 11, 'cobrar': 1, 'imprime': 1, 'dalas': 1, 'censo': 1, 'perpe': 1, 'neceda': 1, 'teja': 1, 'siendo': 6, 'desati': 1, 'vidrio': 1, 'advierte': 2, 'tomar': 7, 'veci': 1, 'piedras': 2, 'tirar': 2, 'compo': 1, 'deja': 5, 'jui': 1, 'plo': 1, 'pape': 1, 'pies': 7, 'vaya': 2, 'saca': 1, 'tontas': 1, 'entretener': 1, 'donce': 1, 'amadís': 12, 'gaula': 8, 'soneto': 8, 'llorosa': 1, 'vida': 5, 'imitaste': 1, 'ausente': 2, 'desdeñado': 1, 'ribazo': 1, 'peña': 1, 'bebida': 2, 'reducida': 1, 'alegre': 2, 'penitencia': 1, 'cobre': 1, 'estaño': 1, 'salobre': 1, 'alzándote': 1, 'plata': 2, 'abundante': 1, 'licor': 1, 'dio': 20, 'seguro': 1, 'vive': 2, 'eternamente': 1, 'comida': 1, 'cuarta': 2, 'apolo': 4, 'caballos': 1, 'aguije': 1, 'rubio': 1, 'esfera': 1, 'claro': 3, 'patria': 3, 'primera': 7, 'renombre': 1, 'único': 4, 'sabio': 8, 'belianís': 3, 'grecia': 2, 'abollé': 1, 'orbe': 1, 'hice': 1, 'corté': 1, 'rompí': 1, 'diestro': 1, 'deshice': 1, 'vengué': 1, 'agravios': 5, 'arrogante': 3, 'cien': 2, 'fui': 3, 'amante': 2, 'comedido': 2, 'regalado': 2, 'eternice': 1, 'fama': 7, 'duelo': 1, 'enano': 4, 'satisfice': 1, 'cualquier': 1, 'postrada': 1, 'cordura': 1, 'trajo': 1, 'fortuna': 3, 'copete': 1, 'estricote': 1, 'cuerno': 2, 'calva': 1, 'ocasión': 8, 'luna': 3, 'tus': 5, 'proezas': 3, 'envidio': 2, 'oh': 14, 'encumbrada': 1, 'oriana': 1, 'señora': 27, 'toboso': 9, 'quién': 15, 'tuviera': 3, 'hermosa': 5, 'reposo': 2, 'comodidad': 1, 'miraflores': 1, 'librea': 1, 'deseos': 2, 'londres': 1, 'aldea': 4, 'trocara': 1, 'adornara': 1, 'venturoso': 2, 'hiciste': 2, 'mirara': 1, 'castamente': 1, 'pelea': 1, 'desigual': 2, 'escapara': 1, 'envidiada': 1, 'envidiara': 1, 'gozara': 1, 'gustos': 1, 'escote': 1, 'gandalín': 1, 'puso': 6, 'varón': 1, 'escuderil': 2, 'trato': 1, 'salve': 2, 'dispuso': 1, 'pasaste': 1, 'desgracia': 7, 'blanda': 2, 'cuerdamente': 1, 'repugna': 1, 'hoz': 1, 'ejercicio': 5, 'azada': 1, 'llaneza': 1, 'escudera': 1, 'acuso': 1, 'hollar': 1, 'soberbio': 2, 'intenta': 1, 'igualmente': 1, 'jumento': 5, 'invidio': 1, 'alforjas': 6, 'providencia': 1, 'mostraron': 1, 'cuerda': 1, 'reverencia': 1, 'buzcorona': 1, 'español': 3, 'poeta': 6, 'donoso': 2, 'entreverado': 1, 'rocinante': 26, 'escude': 1, 'manchego': 2, 'quijo': 2, 'polvoro': 1, 'puse': 1, 'vivir': 1, 'discre': 1, 'tácito': 1, 'villadie': 1, 'cifró': 1, 'retira': 1, 'celesti': 1, 'divi': 1, 'siente': 1, 'encubriera': 1, 'huma': 1, 'bisnieto': 1, 'babie': 1, 'famo': 1, 'pecados': 2, 'flaque': 1, 'corrí': 1, 'uña': 1, 'parejas': 1, 'caba': 1, 'saqué': 1, 'ceba': 1, 'escapó': 1, 'lazari': 1, 'vi': 3, 'hurtar': 1, 'ciego': 1, 'pa': 1, 'furioso': 1, 'par': 4, 'has': 5, 'tampoco': 2, 'ser': 33, 'haberle': 6, 'entre': 15, 'pares': 5, 'pudieras': 1, 'hallares': 1, 'vencedor': 1, 'jamás': 13, 'vencido': 1, 'perdido': 1, 'invito': 1, 'altares': 1, 'ofreciendo': 1, 'remotos': 1, 'angélica': 2, 'mares': 1, 'igual': 1, 'puedo': 2, 'valor': 7, 'respetó': 1, 'perdiste': 1, 'debe': 9, 'seso': 1, 'llama': 1, 'moro': 3, 'cita': 1, 'fiero': 1, 'domas': 1, 'suceso': 3, 'iguales': 1, 'febo': 3, 'cortesano': 2, 'curioso': 1, 'igualó': 1, 'espada': 18, 'gloria': 2, 'do': 1, 'rayo': 1, 'alta': 3, 'imperios': 1, 'ofreció': 1, 'oriente': 1, 'rojo': 1, 'monarquía': 1, 'vano': 1, 'desprecié': 1, 'rostro': 9, 'aurora': 2, 'soberano': 1, 'claridiana': 1, 'infierno': 1, 'propio': 2, 'raro': 1, 'améla': 1, 'milagro': 2, 'temió': 1, 'godo': 1, 'brazo': 8, 'ilustre': 1, 'domó': 1, 'rabia': 1, 'honesta': 1, 'eterno': 3, 'sois': 2, 'sabia': 3, 'solisdán': 1, 'sandeces': 1, 'maguer': 1, 'cerbelo': 1, 'reprochado': 1, 'derrumbado': 1, 'seréis': 1, 'tengan': 1, 'vuesas': 2, 'fazañas': 3, 'joeces': 1, 'soeces': 1, 'viles': 2, 'serán': 2, 'home': 1, 'vegadas': 1, 'apaleado': 2, 'tuertos': 3, 'andado': 3, 'desfaciendo': 1, 'vuesa': 1, 'cautivos': 1, 'follones': 1, 'linda': 2, 'raheces': 1, 'comete': 1, 'talante': 5, 'desaguisado': 2, 'muestra': 1, 'cuitas': 2, 'alcagüete': 1, 'vueso': 1, 'conorte': 1, 'desmán': 1, 'necio': 1, 'dura': 1, 'babieca': 2, 'diálogo': 1, 'delgado': 1, 'r': 5, 'come': 1, 'trabaja': 1, 'bocado': 1, 'amo': 17, 'paja': 2, 'cebada': 2, 'ultraja': 1, 'criado': 5, 'asno': 7, 'andá': 1, 'cuna': 1, 'queréislo': 1, 'miraldo': 1, 'mortaja': 1, 'necedad': 1, 'amar': 1, 'metafísico': 1, 'quejar': 2, 'quejaos': 1, 'dolencia': 1, 'mayordomo': 1, 'rocines': 2, 'trata': 3, 'condición': 3, 'acordarme': 1, 'cuyo': 3, 'flaco': 1, 'adarga': 12, 'vivía': 3, 'vaca': 2, 'algo': 6, 'corredor': 1, 'galgo': 1, 'antigua': 1, 'rocín': 8, 'lanza': 27, 'astillero': 1, 'carnero': 1, 'olla': 1, 'duelos': 1, 'lantejas': 1, 'noches': 5, 'salpicón': 1, 'consumían': 1, 'viernes': 2, 'sábados': 1, 'añadidura': 2, 'quebrantos': 1, 'domingos': 1, 'palomino': 1, 'calzas': 1, 'fiestas': 1, 'velludo': 1, 'resto': 2, 'velarte': 1, 'hacienda': 3, 'sayo': 1, 'pantuflos': 1, 'concluían': 1, 'partes': 8, 'entresemana': 1, 'cuarenta': 2, 'vellorí': 1, 'fino': 1, 'pasaba': 3, 'honraba': 2, 'sobrina': 11, 'llegaba': 5, 'ama': 22, 'ensillaba': 1, 'frisaba': 1, 'edad': 3, 'tomaba': 1, 'mozo': 4, 'plaza': 1, 'podadera': 1, 'recia': 1, 'sobrenombre': 3, 'complexión': 1, 'enjuto': 1, 'quijada': 2, 'madrugador': 1, 'quieren': 1, 'caza': 2, 'quesada': 2, 'carnes': 1, 'verosímiles': 1, 'diferencia': 1, 'llamaba': 10, 'deste': 13, 'escriben': 1, 'conjeturas': 1, 'quejana': 1, 'narración': 2, 'basta': 3, 'cuento': 1, 'sobredicho': 1, 'ratos': 1, 'estaba': 34, 'daba': 13, 'ocioso': 1, 'afición': 2, 'eran': 18, 'leer': 8, 'olvidó': 1, 'gusto': 6, 'año': 3, 'desatino': 1, 'sembradura': 1, 'llegó': 12, 'vendió': 1, 'hanegas': 1, 'administración': 1, 'parecían': 4, 'comprar': 2, 'llevó': 4, 'cuantos': 6, 'pudo': 12, 'ningunos': 1, 'suyas': 3, 'prosa': 2, 'feliciano': 1, 'silva': 1, 'entricadas': 1, 'perlas': 1, 'compuso': 4, 'requiebros': 2, 'desafíos': 2, 'hallaba': 4, 'sinrazón': 2, 'escrito': 4, 'cartas': 1, 'enflaquece': 1, 'fermosura': 5, 'altos': 1, 'leía': 3, 'quejo': 2, 'estrellas': 1, 'fortifican': 1, 'divinamente': 1, 'merece': 1, 'divinidad': 1, 'merecedora': 1, 'merecimiento': 1, 'perdía': 1, 'desvelábase': 1, 'desentrañarles': 1, 'entendiera': 1, 'resucitara': 1, 'entenderlas': 1, 'sentido': 2, 'sacara': 1, 'dejaría': 2, 'hubiesen': 3, 'recebía': 2, 'imaginaba': 3, 'grandes': 5, 'maestros': 1, 'heridas': 4, 'curado': 1, 'cicatrices': 1, 'promesa': 2, 'señales': 1, 'aquella': 20, 'acabar': 3, 'alababa': 1, 'letra': 1, 'promete': 2, 'dalle': 2, 'vino': 16, 'duda': 11, 'aventura': 9, 'pie': 6, 'hiciera': 4, 'allí': 23, 'inacabable': 1, 'competencia': 1, 'saliera': 2, 'estorbaran': 1, 'cura': 39, 'tuvo': 5, 'continuos': 1, 'graduado': 1, 'sigüenza': 1, 'palmerín': 2, 'barbero': 31, 'cuál': 3, 'ingalaterra': 3, 'nicolás': 5, 'docto': 1, 'maese': 5, 'comparar': 1, 'podía': 22, 'pueblo': 4, 'galaor': 1, 'acomodada': 1, 'valentía': 1, 'llorón': 1, 'melindroso': 1, 'zaga': 1, 'iba': 16, 'pasaban': 2, 'turbio': 1, 'enfrascó': 1, 'letura': 1, 'celebro': 1, 'secó': 1, 'llenósele': 1, 'fantasía': 1, 'dormir': 5, 'perder': 2, 'tormentas': 1, 'imposibles': 1, 'batallas': 2, 'encantamentos': 2, 'pendencias': 3, 'sonadas': 2, 'asentósele': 1, 'invenciones': 1, 'imaginación': 4, 'soñadas': 1, 'cid': 2, 'cierta': 1, 'ruy': 1, 'díaz': 1, 'gigantes': 9, 'bernardo': 2, 'descomunales': 2, 'carpio': 2, 'partido': 2, 'fieros': 1, 'revés': 1, 'ardiente': 1, 'encantado': 1, 'valiéndose': 1, 'muerto': 5, 'industria': 3, 'hércules': 1, 'roldán': 2, 'ahogó': 1, 'anteo': 1, 'roncesvalles': 2, 'morgante': 1, 'gigantea': 1, 'generación': 1, 'brazos': 5, 'descomedidos': 1, 'soberbios': 1, 'veía': 3, 'robar': 1, 'castillo': 19, 'montalbán': 4, 'reinaldos': 3, 'salir': 3, 'afable': 1, 'coces': 2, 'mahoma': 2, 'ídolo': 1, 'diera': 2, 'robó': 2, 'topaba': 1, 'traidor': 1, 'allende': 1, 'galalón': 1, 'convenible': 1, 'pareció': 12, 'pensamiento': 7, 'loco': 4, 'rematado': 1, 'estraño': 5, 'aumento': 1, 'irse': 4, 'hacerse': 6, 'necesario': 1, 'república': 1, 'aventuras': 13, 'caballo': 22, 'leído': 10, 'deshaciendo': 2, 'ejercitaban': 1, 'andantes': 15, 'caballeros': 27, 'ejercitarse': 1, 'ocasiones': 3, 'agravio': 4, 'acabándolos': 1, 'peligros': 2, 'imaginábase': 1, 'poniéndose': 1, 'cobrase': 2, 'coronado': 1, 'sentía': 4, 'agradables': 1, 'llevado': 2, 'imperio': 1, 'deseaba': 3, 'priesa': 5, 'orín': 1, 'moho': 1, 'limpiar': 1, 'habían': 7, 'hizo': 14, 'siglos': 1, 'llenas': 2, 'bisabuelos': 1, 'luengos': 1, 'tomadas': 1, 'unas': 7, 'olvidadas': 1, 'estaban': 14, 'celada': 12, 'aderezólas': 1, 'rincón': 1, 'limpiólas': 1, 'puestas': 1, 'tenían': 5, 'hacían': 1, 'encajada': 1, 'morrión': 2, 'media': 2, 'encaje': 2, 'cartones': 1, 'suplió': 1, 'cuchillada': 2, 'apariencia': 1, 'entera': 1, 'sacó': 3, 'riesgo': 1, 'estar': 4, 'probar': 2, 'fuerte': 3, 'semana': 1, 'parecerle': 3, 'facilidad': 3, 'golpes': 2, 'dejó': 9, 'deshizo': 3, 'tornó': 9, 'quedó': 4, 'barras': 1, 'pedazos': 5, 'hierro': 2, 'dentro': 3, 'peligro': 2, 'asegurarse': 1, 'poniéndole': 1, 'satisfecho': 1, 'querer': 4, 'nueva': 3, 'fortaleza': 2, 'experiencia': 2, 'diputó': 2, 'finísima': 1, 'cuartos': 1, 'bucéfalo': 1, 'gonela': 1, 'tachas': 1, 'pellis': 1, 'ossa': 1, 'tantum': 1, 'igualaban': 1, 'et': 1, 'fuit': 1, 'pondría': 1, 'imaginar': 1, 'pasaron': 2, 'acomodársele': 1, 'procuraba': 1, 'bueno': 8, 'conocido': 2, 'declarase': 1, 'estuviese': 3, 'ansí': 5, 'mudando': 1, 'entonces': 4, 'mudase': 1, 'estruendo': 2, 'convenía': 1, 'profesaba': 1, 'formó': 2, 'borró': 1, 'quitó': 5, 'añadió': 4, 'alto': 3, 'llamar': 7, 'significativo': 2, 'quiso': 11, 'ponérsele': 1, 'queda': 2, 'duró': 1, 'tomaron': 1, 'ocho': 3, 'valeroso': 10, 'verdadera': 3, 'debía': 5, 'acordándose': 1, 'quisieron': 3, 'secas': 1, 'llamarse': 2, 'contentado': 1, 'reino': 2, 'hepila': 1, 'llamó': 2, 'declaraba': 1, 'suya': 4, 'añadir': 1, 'suyo': 7, 'linaje': 2, 'vivo': 3, 'faltaba': 1, 'limpias': 2, 'confirmándose': 1, 'decíase': 1, 'enamorarse': 1, 'hojas': 1, 'fruto': 2, 'dama': 2, 'encuentro': 2, 'ordinario': 3, 'finalmente': 2, 'rindo': 1, 'mitad': 7, 'derribo': 1, 'enviarle': 1, 'venzo': 1, 'parto': 1, 'dulce': 2, \"''yo\": 1, 'caraculiambro': 1, 'diga': 1, 'rodillas': 3, 'ante': 5, 'rendido': 2, 'voz': 10, 'presentado': 1, 'hinque': 1, 'venció': 1, 'ínsula': 4, 'singular': 2, 'alabado': 1, 'batalla': 11, 'malindrania': 1, 'disponga': 1, \"talante''\": 1, 'mandó': 5, 'presentase': 1, 'hubo': 5, 'holgó': 1, 'moza': 1, 'cerca': 4, 'cree': 2, 'labradora': 1, 'halló': 8, 'llamábase': 1, 'cata': 2, 'aldonza': 1, 'anduvo': 2, 'supo': 3, 'lorenzo': 1, 'desdijese': 1, 'tirase': 1, 'buscándole': 3, 'darle': 5, 'ésta': 5, 'princesa': 3, 'encaminase': 1, 'músico': 1, 'llamarla': 1, 'natural': 4, 'peregrino': 1, 'demás': 15, 'salida': 3, 'ii': 1, 'aguardar': 2, 'hechas': 3, 'prevenciones': 3, 'apretándole': 1, 'hacía': 5, 'tardanza': 1, 'emendar': 1, 'abusos': 1, 'enderezar': 1, 'mejorar': 1, 'sinrazones': 2, 'deudas': 1, 'satisfacer': 2, 'calurosos': 1, 'nadie': 2, 'mañana': 9, 'subió': 4, 'viese': 4, 'armó': 1, 'compuesta': 1, 'tomó': 4, 'embrazó': 3, 'puerta': 6, 'salió': 4, 'falsa': 2, 'grandísimo': 2, 'corral': 13, 'cuánta': 1, 'apenas': 8, 'alborozo': 1, 'dado': 8, 'asaltó': 1, 'terrible': 2, 'ley': 2, 'armado': 9, 'empresa': 2, 'comenzada': 1, 'blancas': 2, 'llevar': 10, 'novel': 3, 'propósito': 4, 'esfuerzo': 2, 'titubear': 1, 'pudiendo': 1, 'escudo': 2, 'ganase': 3, 'propuso': 1, 'armar': 2, 'topase': 2, 'locura': 6, 'teniendo': 2, 'fuesen': 7, 'limpiarlas': 1, 'creyendo': 2, 'quietó': 1, 'camino': 20, 'consistía': 2, 'armiño': 1, 'prosiguió': 2, 'hablando': 5, 'aventurero': 3, 'yendo': 1, 'flamante': 1, 'caminando': 3, 'diciendo': 17, 'consigo': 2, 'venideros': 1, 'tiempos': 2, 'hechos': 3, 'contar': 3, 'llegue': 2, 'salidad': 1, 'tendido': 4, 'hebras': 1, 'espaciosa': 1, 'hermosos': 1, 'doradas': 1, 'ancha': 1, 'cabellos': 1, 'rubicundo': 1, 'faz': 2, 'pequeños': 3, 'pajarillos': 1, 'arpadas': 1, 'venida': 3, 'meliflua': 1, 'saludado': 1, 'armonía': 1, 'rosada': 1, 'pintados': 1, 'lenguas': 1, 'marido': 2, 'puertas': 1, 'celoso': 1, 'cama': 3, 'balcones': 1, 'horizonte': 1, 'mortales': 2, 'dejando': 3, 'mostraba': 2, 'plumas': 1, 'comenzó': 9, 'caminar': 3, 'caminaba': 3, 'dichoso': 2, 'dichosa': 2, 'famosas': 1, 'adonde': 5, 'mármoles': 1, 'saldrán': 1, 'dignas': 1, 'bronces': 1, 'mías': 3, 'esculpirse': 1, 'entallarse': 1, 'siglo': 1, 'peregrina': 1, 'encantador': 7, 'futuro': 1, 'seas': 3, 'tablas': 1, 'coronista': 1, 'pintarse': 1, 'quienquiera': 2, 'carreras': 1, 'ruégote': 1, 'compañero': 3, 'caminos': 1, 'olvides': 1, 'verdaderamente': 1, 'volvía': 2, 'cautivo': 6, 'corazón': 6, 'plégaos': 1, 'mandarme': 1, 'afincamiento': 1, 'fecho': 2, 'reprocharme': 1, 'habedes': 1, 'riguroso': 2, 'despedirme': 1, 'membraros': 1, 'sujeto': 2, 'padece': 1, 'ensartando': 1, 'éstos': 5, 'enseñado': 1, 'sol': 4, 'imitando': 1, 'apriesa': 1, 'ardor': 1, 'lenguaje': 2, 'despacio': 2, 'entraba': 1, 'sesos': 1, 'derretirle': 1, 'caminó': 1, 'topar': 1, 'acontecerle': 1, 'desesperaba': 1, 'lápice': 3, 'dicen': 4, 'avino': 1, 'puerto': 3, 'hallado': 4, 'molinos': 8, 'anales': 1, 'viento': 11, 'cansados': 1, 'mirando': 1, 'descubriría': 1, 'anochecer': 1, 'hambre': 2, 'muertos': 1, 'hallaron': 3, 'recogerse': 1, 'pastores': 1, 'mucha': 12, 'majada': 1, 'pudiese': 4, 'redención': 1, 'estrella': 1, 'alcázares': 1, 'venta': 19, 'encaminaba': 1, 'viera': 2, 'diose': 1, 'portales': 1, 'anochecía': 2, 'mozas': 4, 'cuales': 6, 'sevilla': 3, 'arrieros': 4, 'destas': 5, 'acaso': 3, 'iban': 4, 'noche': 16, 'acertaron': 1, 'jornada': 1, 'parecía': 6, 'torres': 2, 'luciente': 1, 'chapiteles': 1, 'representó': 2, 'faltarle': 1, 'cava': 1, 'pintan': 1, 'semejantes': 9, 'adherentes': 2, 'puente': 1, 'levadiza': 1, 'castillos': 1, 'llegando': 4, 'honda': 1, 'riendas': 3, 'esperando': 4, 'almenas': 1, 'pusiese': 3, 'trecho': 3, 'detuvo': 1, 'señal': 4, 'tardaban': 1, 'trompeta': 1, 'caballeriza': 4, 'llegar': 4, 'graciosas': 1, 'parecieron': 2, 'destraídas': 1, 'doncellas': 8, 'hermosas': 1, 'sucedió': 2, 'solazando': 1, 'porquero': 1, 'recogiendo': 2, 'rastrojos': 1, 'andaba': 4, 'recogen': 1, 'manada': 2, 'puercos': 2, 'perdón': 1, 'instante': 1, 'tocó': 1, 'vieron': 5, 'entrar': 2, 'venir': 7, 'miedo': 3, 'coligiendo': 1, 'reposada': 2, 'alzándose': 1, 'visera': 4, 'papelón': 1, 'polvoroso': 1, 'huida': 1, 'descubriendo': 1, 'gentil': 4, 'mercedes': 4, 'ca': 1, 'teman': 1, 'fuyan': 1, 'demuestran': 1, 'profeso': 1, 'facerle': 1, 'altas': 4, 'presencias': 1, 'atañe': 1, 'mirábanle': 1, 'andaban': 1, 'profesión': 2, 'encubría': 1, 'oyeron': 1, 'mala': 5, 'pudieron': 3, 'decirles': 1, 'correrse': 1, 'leve': 1, 'parece': 9, 'acuitedes': 1, 'procede': 1, 'además': 1, 'fermosas': 1, 'sandez': 3, 'mesura': 1, 'mostredes': 1, 'ál': 1, 'serviros': 2, 'acrecentaba': 1, 'señoras': 5, 'talle': 2, 'pasara': 2, 'enojo': 2, 'ventero': 16, 'gordo': 1, 'contrahecha': 2, 'figura': 7, 'pacífico': 3, 'viendo': 9, 'adelante': 10, 'armada': 1, 'acompañar': 1, 'muestras': 3, 'estuvo': 4, 'brida': 1, 'desiguales': 1, 'coselete': 1, 'determinó': 7, 'hablarle': 1, 'comedidamente': 1, 'temiendo': 1, 'pertrechos': 1, 'lecho': 4, 'amén': 1, 'posada': 3, 'busca': 2, 'abundancia': 1, 'hallará': 1, 'alcaide': 3, 'humildad': 2, 'respondió': 43, 'arreos': 1, 'cualquiera': 3, 'castellano': 5, 'descanso': 2, 'pelear': 2, 'huésped': 10, 'llamado': 3, 'sanos': 2, 'parecido': 2, 'pensó': 1, 'andaluz': 1, 'ladrón': 1, 'playa': 2, 'maleante': 1, 'paje': 1, 'estudiantado': 1, 'sanlúcar': 2, 'duras': 1, 'camas': 2, 'eso': 13, 'peñas': 1, 'velar': 4, 'seguridad': 1, 'choza': 1, 'apear': 1, 'estribo': 1, 'apeó': 1, 'dificultad': 1, 'desayunado': 1, 'cuidado': 3, 'tuviese': 3, 'comía': 1, 'miróle': 1, 'pieza': 5, 'acomodándole': 1, 'volvió': 3, 'mandaba': 1, 'quitado': 1, 'desarmando': 1, 'reconciliado': 1, 'supieron': 1, 'peto': 2, 'espaldar': 2, 'quitar': 5, 'verdes': 1, 'quitalle': 1, 'poderse': 1, 'cortarlas': 1, 'traía': 4, 'atada': 2, 'desencajarle': 1, 'gola': 1, 'menester': 13, 'cintas': 2, 'consentir': 1, 'graciosa': 2, 'estraña': 2, 'ñudos': 1, 'principales': 2, 'traídas': 1, 'desarmaban': 1, 'llevadas': 1, 'pensar': 3, 'desarmarle': 1, 'donaire': 1, 'servido': 4, 'princesas': 3, 'rocino': 1, 'curaban': 1, 'éste': 14, 'fasta': 2, 'descubrieran': 1, 'fechas': 1, 'descubrirme': 1, 'lanzarote': 1, 'acomodar': 1, 'sazón': 1, 'romance': 5, 'viejo': 2, 'vendrá': 1, 'señorías': 1, 'manden': 1, 'obedezca': 1, 'descubra': 1, 'retóricas': 2, 'respondían': 1, 'oír': 5, 'palabra': 4, 'preguntaron': 1, 'comer': 6, 'entiendo': 2, 'haría': 2, 'yantaría': 1, 'acertó': 3, 'bacallao': 2, 'abadejo': 2, 'andalucía': 1, 'truchuela': 2, 'raciones': 1, 'preguntáronle': 2, 'pescado': 2, 'curadillo': 1, 'comería': 1, 'haya': 2, 'truchuelas': 2, 'servir': 3, 'podrán': 2, 'reales': 4, 'trucha': 1, 'den': 2, 'sencillos': 1, 'podría': 5, 'cabrito': 1, 'cabrón': 1, 'peso': 2, 'ternera': 1, 'gobierno': 1, 'tripas': 2, 'mesa': 1, 'porción': 1, 'fresco': 1, 'cocido': 1, 'trújole': 2, 'peor': 4, 'pusiéronle': 1, 'remojado': 1, 'alzada': 1, 'mugriento': 1, 'verle': 2, 'ponía': 5, 'beber': 1, 'boca': 4, 'servía': 1, 'horadara': 1, 'echando': 1, 'caña': 1, 'trueco': 2, 'paciencia': 2, 'castrador': 1, 'silbato': 1, 'cañas': 1, 'sonó': 1, 'cinco': 2, 'servían': 1, 'música': 1, 'confirmar': 1, 'candeal': 1, 'acabó': 7, 'truchas': 1, 'empleada': 1, 'fatigaba': 1, 'determinación': 4, 'legítimamente': 1, 'recebir': 4, 'verse': 4, 'iii': 1, 'armarse': 1, 'fatigado': 1, 'limitada': 1, 'cena': 1, 'venteril': 1, 'abrevió': 1, 'acabada': 1, 'diciéndole': 2, 'hincó': 1, 'encerrándose': 1, 'estoy': 5, 'levantaré': 1, 'alabanza': 1, 'redundará': 1, 'otorgue': 1, 'pedirle': 2, 'cortesía': 1, 'oyó': 1, 'porfiaba': 1, 'decirle': 1, 'levantase': 2, 'mirándole': 1, 'otorgaba': 1, 'pedía': 3, 'pedido': 1, 'esperaba': 2, 'magnificencia': 1, 'liberalidad': 1, 'otorgado': 1, 'velaré': 1, 'cumplirá': 1, 'menesterosos': 1, 'socarrón': 1, 'creerlo': 1, 'barruntos': 1, 'seguirle': 1, 'acertado': 2, 'reír': 2, 'humor': 1, 'oírle': 1, 'prosupuesto': 1, 'presencia': 1, 'gallarda': 1, 'andando': 2, 'ansimesmo': 3, 'honroso': 2, 'diversas': 3, 'mocedad': 1, 'percheles': 1, 'olivera': 1, 'rondilla': 1, 'dejado': 2, 'azoguejo': 1, 'compás': 1, 'málaga': 2, 'riarán': 1, 'islas': 1, 'segovia': 1, 'hubiese': 4, 'valencia': 1, 'ligereza': 1, 'potro': 1, 'toledo': 2, 'granada': 1, 'córdoba': 2, 'ventillas': 1, 'ejercitado': 1, 'pupilos': 1, 'sutileza': 1, 'haciendo': 5, 'viudas': 1, 'engañando': 1, 'recuestando': 1, 'audiencias': 1, 'venido': 1, 'último': 1, 'recoger': 1, 'tribunales': 1, 'cuantas': 2, 'calidad': 1, 'ajenas': 1, 'partiesen': 1, 'haberes': 1, 'pago': 4, 'díjole': 5, 'dondequiera': 2, 'sabía': 1, 'derribada': 2, 'podían': 1, 'hacerla': 2, 'ceremonias': 3, 'debidas': 1, 'patio': 2, 'harían': 1, 'quedase': 1, 'blanca': 1, 'dineros': 7, 'preguntóle': 2, 'engañaba': 1, 'traído': 4, 'haberles': 1, 'dellas': 3, 'escrebir': 1, 'escribía': 1, 'camisas': 4, 'cierto': 3, 'averiguado': 1, 'trujeron': 1, 'traerse': 1, 'necesaria': 2, 'llevaban': 4, 'herradas': 1, 'bolsas': 1, 'atestados': 1, 'llena': 3, 'pequeña': 1, 'sucederles': 1, 'recebían': 1, 'curar': 2, 'asimismo': 1, 'ungüentos': 2, 'arqueta': 1, 'combatían': 1, 'heridos': 3, 'curase': 1, 'salían': 3, 'desiertos': 1, 'socorría': 1, 'nube': 2, 'agua': 9, 'gota': 1, 'virtud': 1, 'gustando': 1, 'aire': 1, 'redoma': 1, 'trayendo': 1, 'doncella': 4, 'quedaban': 4, 'llagas': 1, 'tuvieron': 2, 'escuderos': 5, 'hilas': 1, 'proveídos': 1, 'necesarias': 2, 'acertada': 2, 'pasados': 1, 'sucedía': 1, 'curarse': 2, 'raras': 1, 'mesmos': 1, 'sutiles': 1, 'ancas': 1, 'admitido': 1, 'aún': 7, 'referidas': 2, 'ahijado': 1, 'caminase': 1, 'presto': 5, 'cuán': 3, 'vería': 2, 'pensase': 1, 'aconsejaba': 1, 'prometióle': 1, 'puntualidad': 1, 'velase': 1, 'pozo': 2, 'lado': 3, 'junto': 5, 'embrazando': 1, 'pila': 5, 'recogiéndolas': 1, 'asió': 1, 'continente': 2, 'paseo': 1, 'comenzaba': 1, 'pasear': 1, 'contó': 2, 'fuéronselo': 1, 'admiráronse': 1, 'vela': 4, 'mirar': 3, 'armazón': 1, 'sosegado': 5, 'ademán': 2, 'quitarlos': 1, 'arrimado': 1, 'paseaba': 1, 'competir': 2, 'prestaba': 1, 'antojósele': 1, 'recua': 1, 'viéndole': 2, 'atrevido': 2, 'llegas': 1, 'atrevimiento': 3, 'quieres': 1, 'haces': 1, 'ciñó': 1, 'toques': 1, 'curó': 1, 'arriero': 4, 'curara': 2, 'trabando': 1, 'arrojó': 2, 'alzó': 4, 'correas': 1, 'ofrece': 1, 'avasallado': 1, 'desfallezca': 1, 'acorredme': 1, 'trance': 3, 'afrenta': 1, 'pecho': 2, 'amparo': 1, 'favor': 4, 'golpe': 5, 'soltando': 1, 'cabeza': 6, 'maestro': 1, 'suelo': 8, 'segundara': 1, 'recogió': 2, 'derribó': 1, 'maltrecho': 2, 'aturdido': 1, 'pasado': 3, 'saberse': 1, 'pasearse': 1, 'mesma': 3, 'mulos': 1, 'desembarazar': 1, 'soltó': 2, 'segundo': 3, 'pedir': 1, 'acudió': 2, 'gente': 10, 'abrió': 1, 'debilitado': 2, 'vuelvas': 1, 'vigor': 1, 'atendiendo': 1, 'tamaña': 2, 'acometieran': 1, 'compañeros': 2, 'ánimo': 2, 'atrás': 1, 'cobró': 1, 'volviera': 1, 'comenzaron': 2, 'reparaba': 1, 'llover': 1, 'apartar': 1, 'dejasen': 2, 'desamparar': 1, 'osaba': 1, 'voces': 15, 'alevosos': 1, 'llamándolos': 1, 'matase': 1, 'traidores': 1, 'libraría': 1, 'follón': 1, 'recebido': 5, 'tratasen': 2, 'hubiera': 5, 'nacido': 1, 'consentía': 1, 'alevosía': 1, 'ofendedme': 1, 'llegad': 1, 'tirad': 1, 'baja': 5, 'pudiéredes': 1, 'canalla': 4, 'venid': 2, 'soez': 1, 'vosotros': 3, 'lleváis': 2, 'demasía': 1, 'infundió': 1, 'brío': 1, 'persuasiones': 1, 'acometían': 1, 'denuedo': 4, 'misma': 2, 'dejaron': 2, 'retirar': 1, 'burlas': 2, 'negra': 1, 'llegándose': 2, 'insolencia': 1, 'sucediese': 1, 'desculpó': 1, 'abreviar': 1, 'supiese': 2, 'castigados': 1, 'usado': 1, 'toque': 1, 'quedar': 2, 'restaba': 1, 'ceremonial': 1, 'pescozada': 1, 'espaldarazo': 1, 'solas': 1, 'horas': 1, 'cumplía': 1, 'cumplido': 2, 'tocaba': 2, 'concluyese': 1, 'pronto': 1, 'brevedad': 1, 'obedecerle': 1, 'creyó': 2, 'eceto': 1, 'viva': 2, 'acometido': 1, 'respeto': 4, 'mandase': 1, 'advertido': 1, 'trujo': 1, 'medroso': 2, 'asentaba': 1, 'desto': 1, 'dichas': 1, 'muchacho': 6, 'hincar': 1, 'manual': 1, 'devota': 1, 'diole': 1, 'cuello': 1, 'espaldazaro': 1, 'dientes': 1, 'murmurando': 1, 'ciñese': 1, 'rezaba': 1, 'desenvoltura': 1, 'reventar': 1, 'ceñirle': 1, 'raya': 2, 'haga': 5, 'lides': 1, 'quedaba': 2, 'recebida': 1, 'obligado': 2, 'alcanzase': 1, 'tolosa': 2, 'hija': 2, 'remendón': 1, 'bienaya': 1, 'tendría': 1, 'tendillas': 1, 'serviría': 1, 'hiciese': 1, 'llamase': 2, 'prometió': 2, 'replicó': 12, 'doña': 3, 'molinera': 2, 'pasó': 4, 'calzó': 1, 'espuela': 1, 'coloquio': 1, 'ofreciéndole': 1, 'antequera': 3, 'nuevos': 1, 'molinero': 1, 'rogó': 1, 'servicios': 1, 'aprisa': 1, 'hora': 9, 'galope': 2, 'vistas': 1, 'agradeciéndole': 1, 'abrazando': 1, 'ensillando': 1, 'estrañas': 1, 'referirlas': 1, 'acertar': 1, 'breves': 1, 'iv': 1, 'sería': 4, 'alba': 1, 'cinchas': 1, 'viniéndole': 1, 'alborozado': 1, 'reventaba': 1, 'gozo': 1, 'volver': 3, 'especial': 1, 'vecino': 8, 'hijos': 4, 'acomodarse': 2, 'labrador': 20, 'guió': 1, 'oficio': 1, 'querencia': 1, 'conociendo': 1, 'hacia': 5, 'gana': 9, 'espesura': 1, 'bosque': 4, 'delicadas': 1, 'diestra': 1, 'quejaba': 2, 'cumplir': 2, 'coger': 1, 'menesterosa': 1, 'ayuda': 2, 'menesteroso': 1, 'buenos': 1, 'volviendo': 1, 'encaminó': 2, 'atado': 1, 'pocos': 2, 'yegua': 2, 'pasos': 2, 'encina': 5, 'quince': 2, 'pretina': 1, 'arriba': 1, 'azotes': 3, 'acompañaba': 1, 'reprehensión': 1, 'azote': 1, 'listos': 1, 'respondía': 3, 'haré': 5, 'pasión': 1, 'prometo': 2, 'hato': 1, 'airada': 1, 'descortés': 2, 'subid': 1, 'defender': 3, 'tomaros': 1, 'tomad': 2, 'arrimada': 1, 'arrendada': 1, 'encima': 2, 'cobardes': 2, 'blandiendo': 1, 'túvose': 1, 'guardar': 2, 'castigando': 1, 'ovejas': 1, 'bellaquería': 1, 'castigo': 3, 'descuidado': 1, 'pagalle': 1, 'miserable': 2, 'descuido': 1, 'soldada': 2, 'ánima': 1, 'miente': 2, 'pagadle': 1, 'alumbra': 1, 'ruin': 1, 'villano': 3, 'pasaros': 1, 'rige': 1, 'aniquile': 1, 'concluya': 1, 'desatadlo': 1, 'réplica': 2, 'responder': 3, 'bajó': 1, 'desató': 2, 'cuánto': 1, 'siete': 1, 'meses': 1, 'nueve': 2, 'setenta': 1, 'montaban': 1, 'morir': 2, 'desembolsase': 1, 'jurado': 4, 'descontar': 1, 'paso': 4, 'sangrías': 2, 'enfermo': 2, 'zapatos': 3, 'quédense': 1, 'rompido': 1, 'pagastes': 1, 'rompió': 1, 'culpa': 4, 'cuero': 1, 'sacado': 1, 'sanidad': 1, 'sangre': 3, 'véngase': 1, 'daño': 5, 'pagaré': 1, 'andrés': 7, 'pienso': 6, 'bartolomé': 1, 'desuelle': 1, 'viéndose': 1, 'hará': 3, 'mande': 1, 'paga': 3, 'jure': 1, 'aseguraré': 1, 'dejaré': 1, 'mire': 6, 'haldudo': 1, 'quintanar': 1, 'rico': 1, 'haldudos': 1, 'niega': 2, 'sudor': 2, 'placer': 1, 'niego': 1, 'hacedme': 1, 'pagaros': 1, 'juro': 5, 'órdenes': 2, 'veniros': 1, 'sahumados': 1, 'dádselos': 1, 'sahumerio': 1, 'cumpláis': 1, 'mirad': 1, 'castigaros': 1, 'lagartija': 1, 'escondáis': 1, 'buscaros': 1, 'sabed': 2, 'desfacedor': 2, 'cumplirlo': 1, 'veras': 1, 'prometido': 3, 'quedad': 1, 'parta': 1, 'pronunciada': 2, 'mientes': 3, 'breve': 1, 'apartó': 1, 'picó': 3, 'siguióle': 1, 'volvióse': 2, 'traspuesto': 1, 'pagar': 3, 'acá': 3, 'deshacedor': 1, 'andará': 1, 'mandamiento': 1, 'roque': 1, 'ejecute': 1, 'vuelva': 1, 'acrecentar': 1, 'deuda': 1, 'atar': 1, 'asiéndole': 2, 'creo': 4, 'acabado': 1, 'desface': 1, 'llamad': 1, 'aquéste': 1, 'viene': 5, 'desollaros': 1, 'temíades': 1, 'ejecutase': 1, 'partió': 3, 'sentencia': 2, 'mohíno': 1, 'contalle': 1, 'jurando': 1, 'riendo': 1, 'setenas': 1, 'llorando': 1, 'satisfación': 1, 'contentísimo': 1, 'pareciéndole': 2, 'felicísimo': 2, 'sucedido': 1, 'bella': 1, 'viven': 1, 'cupo': 1, 'bellas': 1, 'voluntad': 2, 'cometió': 1, 'tuerto': 2, 'desfecho': 1, 'sabe': 3, 'rescibió': 1, 'ayer': 1, 'delicado': 2, 'crueldad': 1, 'látigo': 1, 'despiadado': 1, 'vapulaba': 1, 'infante': 1, 'dividía': 1, 'ponían': 1, 'encrucejadas': 1, 'aquéllos': 2, 'rato': 1, 'imitarlos': 1, 'tomarían': 1, 'rienda': 2, 'haberlo': 1, 'quedo': 1, 'intento': 1, 'siguió': 2, 'pensado': 1, 'toledanos': 1, 'descubrió': 1, 'millas': 1, 'mercaderes': 3, 'tropel': 1, 'criados': 1, 'mozos': 5, 'seda': 1, 'venían': 6, 'quitasoles': 2, 'mulas': 4, 'imaginó': 1, 'imitar': 1, 'divisó': 2, 'apretó': 1, 'estribos': 1, 'molde': 3, 'afirmó': 1, 'llegasen': 1, 'juzgaba': 1, 'llegaron': 4, 'levantó': 2, 'confiesa': 1, 'emperatriz': 2, 'paráronse': 1, 'dueño': 2, 'echaron': 1, 'paraba': 2, 'confesión': 1, 'burlón': 1, 'esa': 7, 'conocemos': 1, 'nosotros': 4, 'mostrádnosla': 1, 'significáis': 1, 'hermosura': 1, 'confesaremos': 1, 'apremio': 1, 'pedida': 1, 'notoria': 1, 'hiciérades': 1, 'mostrara': 1, 'verla': 1, 'confesar': 2, 'jurar': 1, 'afirmar': 1, 'descomunal': 2, 'vengáis': 1, 'soberbia': 2, 'confiado': 1, 'usanza': 2, 'costumbre': 2, 'pide': 1, 'juntos': 4, 'ora': 1, 'ralea': 1, 'aguardo': 1, 'espero': 1, 'estamos': 2, 'mercader': 2, 'encarguemos': 1, 'nuestras': 2, 'perjuicio': 2, 'confesando': 1, 'oída': 1, 'alcarria': 1, 'conciencias': 1, 'reinas': 1, 'emperatrices': 1, 'vista': 1, 'tamaño': 1, 'estremadura': 1, 'trigo': 2, 'retrato': 2, 'mostrarnos': 1, 'hilo': 1, 'grano': 1, 'satisfechos': 1, 'seguros': 2, 'ovillo': 1, 'pagado': 1, 'quedaremos': 1, 'sacará': 1, 'quedará': 1, 'tuerta': 2, 'piedra': 2, 'azufre': 1, 'bermellón': 1, 'mana': 2, 'complacer': 1, 'ojo': 1, 'muestre': 1, 'quisiere': 2, 'diremos': 1, 'cólera': 4, 'encendido': 1, 'infame': 1, 'algalia': 1, 'algodones': 1, 'ámbar': 1, 'blasfemia': 1, 'huso': 1, 'guadarrama': 1, 'corcovada': 1, 'derecha': 1, 'beldad': 1, 'pagaréis': 1, 'arremetió': 5, 'furia': 3, 'cayó': 2, 'rodando': 2, 'tropezara': 1, 'cayera': 2, 'antiguas': 1, 'espuelas': 2, 'causaban': 1, 'queriéndose': 1, 'levantar': 2, 'embarazo': 1, 'entretanto': 1, 'levantarse': 4, 'pugnaba': 1, 'cautiva': 2, 'fuyáis': 1, 'cobarde': 1, 'atended': 1, 'arrogancias': 1, 'respuesta': 2, 'intencionado': 1, 'sufrir': 1, 'costillas': 1, 'caído': 2, 'despecho': 1, 'pesar': 3, 'haberla': 1, 'palos': 4, 'juego': 1, 'cibera': 1, 'molió': 1, 'picado': 1, 'dejase': 2, 'dábanle': 1, 'diese': 2, 'amos': 1, 'acudiendo': 1, 'envidar': 1, 'trozos': 1, 'cerraba': 1, 'amenazando': 1, 'malandrines': 1, 'vía': 1, 'tempestad': 1, 'llevando': 2, 'cansóse': 2, 'siguieron': 3, 'sano': 2, 'deshecho': 1, 'molido': 4, 'propia': 1, 'aquélla': 1, 'brumado': 1, 'atribuía': 1, 'v': 1, 'prosigue': 1, 'acogerse': 1, 'menearse': 1, 'valdovinos': 4, 'mantua': 5, 'celebrada': 1, 'viejos': 2, 'creída': 1, 'ignorada': 1, 'sabida': 1, 'montiña': 1, 'herido': 2, 'carloto': 1, 'niños': 1, 'venía': 5, 'volcar': 1, 'sentimiento': 1, 'aliento': 2, 'duele': 1, 'desleal': 1, 'versos': 4, 'prosiguiendo': 1, 'tío': 7, 'carnal': 1, 'verso': 3, 'molino': 3, 'tristemente': 1, 'aquél': 2, 'proseguir': 1, 'emperante': 1, 'canta': 2, 'esposa': 1, 'limpió': 1, 'admirado': 1, 'hecha': 2, 'quitándole': 2, 'limpiado': 1, 'polvo': 1, 'conoció': 2, 'cubierto': 3, 'quijana': 2, 'preguntaba': 1, 'seguía': 1, 'levantarle': 1, 'herida': 2, 'procuró': 1, 'sosegada': 1, 'astillas': 1, 'cabestro': 1, 'liólas': 1, 'pensativo': 1, 'puro': 2, 'quebrantado': 2, 'borrico': 1, 'suspiros': 1, 'dijese': 2, 'obligó': 1, 'preguntase': 1, 'abindarráez': 3, 'cuentos': 2, 'diablo': 8, 'acomodados': 1, 'sucesos': 2, 'olvidándose': 1, 'narváez': 5, 'prendió': 1, 'rodrigo': 5, 'alcaidía': 1, 'preguntar': 1, 'mesmas': 1, 'abencerraje': 1, 'diana': 4, 'jorge': 2, 'montemayor': 3, 'aprovechándose': 1, 'dábale': 1, 'necedades': 2, 'arenga': 1, 'causaba': 1, 'escusar': 1, 'larga': 2, 'enfado': 1, 'sepa': 4, 'jarifa': 1, 'vean': 1, 'verán': 1, 'alonso': 2, 'pedro': 1, 'pecador': 1, 'doce': 3, 'francia': 2, 'aventajarán': 1, 'pláticas': 1, 'aguardó': 2, 'viesen': 1, 'llegada': 1, 'diciéndoles': 1, 'alborotada': 1, 'pérez': 2, 'desventurada': 1, 'parecen': 3, 'nací': 1, 'malditos': 2, 'suele': 2, 'acuerdo': 3, 'vuelto': 2, 'echado': 1, 'mundos': 1, 'satanás': 1, 'encomendados': 1, 'esos': 2, 'barrabás': 1, 'aconteció': 1, 'estarse': 2, 'desalmados': 1, 'desventuras': 1, 'arrojaba': 1, 'sudaba': 1, 'paredes': 1, 'cuchilladas': 2, 'cansado': 2, 'fría': 1, 'jarro': 1, 'bebíase': 1, 'cansancio': 1, 'feridas': 3, 'esquife': 1, 'preciosísima': 1, 'remediaran': 1, 'avisé': 1, 'herejes': 1, 'abrasados': 1, 'merecen': 2, 'llegado': 1, 'quemaran': 1, 'descomulgados': 1, 'pase': 2, 'fuego': 9, 'condenados': 2, 'leyere': 1, 'acto': 1, 'público': 1, 'enfermedad': 3, 'malferido': 4, 'trae': 1, 'abran': 1, 'apeado': 1, 'conocieron': 1, 'salieron': 2, 'abrazarle': 1, 'corrieron': 1, 'ténganse': 1, 'cure': 1, 'vengo': 1, 'cate': 1, 'llámese': 1, 'llévenme': 1, 'suba': 1, 'maza': 1, 'mirá': 1, 'cojeaba': 1, 'hurgada': 1, 'ciento': 1, 'sabremos': 1, 'parado': 1, 'caída': 2, 'molimiento': 2, 'catándole': 1, 'lleváronle': 1, 'combatiéndose': 1, 'atrevidos': 1, 'pudieran': 1, 'fallar': 1, 'desaforados': 2, 'jayanes': 2, 'santiguada': 1, 'danza': 1, 'ta': 1, 'queme': 3, 'hiciéronle': 1, 'preguntas': 1, 'diesen': 1, 'importaba': 1, 'hízose': 1, 'informó': 1, 'hallarle': 1, 'traerle': 1, 'librería': 1, 'escrutinio': 2, 'pidió': 2, 'aposento': 12, 'todavía': 1, 'llaves': 1, 'dormía': 1, 'entraron': 1, 'cuerpos': 1, 'encuadernados': 1, 'escudilla': 1, 'hisopo': 1, 'bendita': 1, 'rocíe': 1, 'tome': 1, 'echándolos': 1, 'encanten': 1, 'queremos': 1, 'simplicidad': 2, 'causó': 1, 'trataban': 2, 'mereciesen': 1, 'perdonar': 3, 'pegarles': 1, 'llevarlos': 1, 'arrojarlos': 1, 'dañadores': 1, 'ventanas': 1, 'rimero': 1, 'hoguera': 2, 'humo': 2, 'ofenderá': 1, 'inocentes': 1, 'títulos': 1, 'misterio': 1, 'tomado': 2, 'dogmatizador': 1, 'origen': 1, 'déste': 1, 'secta': 1, 'debemos': 1, 'escusa': 1, 'arte': 1, 'otorga': 1, 'esotro': 2, 'veamos': 1, 'esplandián': 2, 'legítimo': 1, 'sergas': 1, 'abrid': 1, 'echadle': 1, 'ventana': 3, 'bondad': 3, 'valer': 1, 'montón': 1, 'hízolo': 1, 'volando': 2, 'amenazaba': 1, 'darinel': 1, 'quemar': 3, 'pintiquiniestra': 1, 'églogas': 2, 'vayan': 1, 'reina': 3, 'quemaré': 1, 'anduviera': 1, 'endiabladas': 1, 'vengan': 1, 'escalera': 1, 'diéronselos': 1, 'ahorró': 1, 'abajo': 1, 'tonel': 1, 'olivante': 1, 'laura': 1, 'determinar': 1, 'flores': 1, 'jardín': 1, 'verdadero': 2, 'disparatado': 2, 'mentiroso': 1, 'irá': 1, 'hircania': 1, 'florimorte': 2, 'sigue': 2, 'parar': 1, 'sequedad': 1, 'dureza': 1, 'place': 3, 'ejecutaba': 1, 'alegría': 1, 'platir': 1, 'merezca': 1, 'venia': 1, 'acompañe': 2, 'cruz': 2, 'abrióse': 1, 'santo': 1, 'tomando': 1, 'anda': 3, 'turpín': 2, 'historiador': 1, 'destierro': 1, 'tejió': 1, 'condenarlos': 1, 'boyardo': 1, 'tela': 2, 'perpetuo': 1, 'mateo': 1, 'ludovico': 1, 'habla': 2, 'guardaré': 2, 'ariosto': 1, 'idioma': 1, 'pondré': 1, 'italiano': 1, 'entendiérades': 1, 'capitán': 1, 'perdonáramos': 1, 'harán': 2, 'quisieren': 1, 'llegarán': 1, 'pongan': 1, 'echen': 1, 'hallaren': 1, 'depositen': 1, 'tratan': 1, 'ecetuando': 1, 'remisión': 1, 'confirmó': 1, 'oliva': 2, 'abriendo': 3, 'palma': 1, 'queden': 2, 'conserve': 1, 'guarde': 2, 'rajas': 1, 'cenizas': 1, 'única': 1, 'dario': 1, 'despojos': 4, 'caja': 1, 'compadre': 9, 'bonísimas': 1, 'claras': 1, 'artificio': 2, 'portugal': 1, 'miraguarda': 1, 'cortesanas': 1, 'salvo': 1, 'guardan': 1, 'miran': 1, 'propriedad': 1, 'libres': 1, 'cala': 1, 'perezcan': 1, 'afamado': 1, 'segunda': 5, 'ruibarbo': 1, 'tercera': 1, 'purgar': 1, 'demasiada': 1, 'ése': 4, 'quitarles': 2, 'término': 2, 'impertinencias': 1, 'misericordia': 2, 'tenedlos': 1, 'enmendaren': 1, 'ultramarino': 1, 'usará': 1, 'dejéis': 1, 'cansarse': 1, 'tonta': 1, 'tomase': 1, 'delgada': 1, 'asiendo': 1, 'quemallos': 1, 'sorda': 1, 'echar': 1, 'tirante': 3, 'blanco': 2, 'dádmele': 2, 'válame': 2, 'pasatiempos': 1, 'mina': 1, 'tesoro': 2, 'tomás': 1, 'quirieleisón': 1, 'alano': 1, 'placerdemivida': 1, 'dígoos': 1, 'hipólito': 1, 'viuda': 1, 'embustes': 1, 'enamorada': 1, 'duermen': 1, 'mueren': 1, 'testamento': 1, 'merecía': 1, 'carecen': 1, 'llevadle': 1, 'leedle': 1, 'galeras': 1, 'echaran': 1, 'haremos': 1, 'deben': 2, 'poesía': 2, 'quemados': 1, 'tercero': 1, 'ay': 1, 'antojase': 2, 'sanado': 1, 'caballeresca': 1, 'tañendo': 1, 'bosques': 1, 'incurable': 1, 'cantando': 1, 'andarse': 1, 'prados': 1, 'pegadiza': 1, 'tropiezo': 1, 'quitarle': 2, 'comenzamos': 1, 'felicia': 1, 'quite': 1, 'encantada': 1, 'quédesele': 1, 'llamada': 1, 'polo': 2, 'salmantino': 2, 'gil': 2, 'número': 1, 'tarde': 1, 'démonos': 1, 'prisa': 1, 'sardo': 1, 'antonio': 1, 'compuestos': 2, 'lofraso': 1, 'recebí': 1, 'salido': 1, 'dieran': 1, 'raja': 1, 'florencia': 1, 'sotana': 1, 'aparte': 1, 'púsole': 1, 'ninfas': 1, 'henares': 1, 'desengaños': 1, 'siguen': 1, 'celos': 1, 'iberia': 1, 'seglar': 1, 'entregarlos': 1, 'pregunte': 1, 'porqué': 1, 'fílida': 1, 'guárdese': 3, 'joya': 1, 'preciosa': 1, 'intitula': 1, 'varias': 1, 'poesías': 1, 'escarde': 1, 'limpie': 1, 'estimadas': 1, 'bajezas': 1, 'fueran': 3, 'heroicas': 1, 'levantadas': 1, 'grandezas': 1, 'maldonado': 1, 'lópez': 1, 'cancionero': 1, 'suavidad': 1, 'encanta': 1, 'oye': 1, 'escogidos': 1, 'galatea': 1, 'desdichas': 1, 'propone': 1, 'esperar': 2, 'versado': 1, 'concluye': 1, 've': 2, 'tenedle': 1, 'recluso': 1, 'emienda': 1, 'alcanzará': 1, 'rufo': 1, 'austríada': 1, 'araucana': 1, 'ercilla': 1, 'vienen': 2, 'virués': 1, 'cristóbal': 1, 'monserrato': 1, 'valenciano': 1, 'mejores': 1, 'pueden': 1, 'heroico': 1, 'escritos': 1, 'castellana': 2, 'prendas': 1, 'italia': 1, 'guárdense': 1, 'ricas': 1, 'cerrada': 1, 'abierto': 1, 'quemasen': 1, 'lloráralas': 1, 'tradución': 1, 'vii': 1, 'cortesanos': 2, 'llevan': 2, 'torneo': 2, 'vistos': 2, 'oídos': 1, 'carolea': 1, 'debían': 1, 'ávila': 1, 'luis': 1, 'pasaran': 1, 'rigurosa': 2, 'proseguía': 1, 'reveses': 1, 'levantado': 1, 'desatinos': 1, 'dormido': 2, 'despierto': 1, 'abrazáronse': 1, 'volvieron': 1, 'volviéndose': 1, 'arzobispo': 1, 'mengua': 1, 'vitoria': 1, 'llamamos': 1, 'prez': 1, 'ganado': 2, 'aventureros': 1, 'antecedentes': 1, 'calle': 1, 'pierde': 1, 'mude': 1, 'atienda': 1, 'gane': 1, 'demasiadamente': 1, 'ferido': 1, 'bastardo': 1, 'llamaría': 1, 'opuesto': 1, 'envidia': 1, 'tronco': 3, 'valentías': 1, 'levantándome': 1, 'yantar': 1, 'pagare': 1, 'tráiganme': 1, 'vengarme': 1, 'quédese': 1, 'diéronle': 1, 'hiciéronlo': 1, 'quedóse': 1, 'admirados': 2, 'abrasó': 1, 'quemó': 1, 'debieron': 1, 'guardarse': 1, 'arder': 1, 'perpetuos': 1, 'permitió': 1, 'escrutiñador': 1, 'merecían': 1, 'pagan': 1, 'refrán': 1, 'justos': 1, 'pecadores': 1, 'cumplió': 1, 'remedios': 1, 'cesaría': 1, 'quitando': 1, 'hallase': 1, 'tapiasen': 1, 'murasen': 1, 'dijesen': 1, 'presteza': 1, 'solía': 1, 'tentábala': 1, 'revolvía': 1, 'advertida': 1, 'sierpe': 1, 'apeándose': 2, 'tejado': 1, 'dejaba': 2, 'vimos': 1, 'acuerda': 1, 'acordamos': 1, 'secreta': 1, 'enemistad': 2, 'partirse': 1, 'muñatón': 1, 'frestón': 3, 'fritón': 1, 'tón': 1, 'ojeriza': 1, 'estorbar': 1, 'vencer': 1, 'hacerme': 1, 'procura': 1, 'evitar': 1, 'mándole': 1, 'ordenado': 1, 'sinsabores': 1, 'contradecir': 1, 'mete': 1, 'trastrigo': 1, 'considerar': 1, 'esas': 3, 'vuelven': 1, 'van': 1, 'tresquilados': 1, 'lana': 1, 'peladas': 1, 'tresquilen': 1, 'tendré': 2, 'quitadas': 1, 'imaginaren': 1, 'cabello': 1, 'punta': 1, 'barbas': 2, 'tocarme': 1, 'replicarle': 1, 'encendía': 1, 'segundar': 1, 'primeros': 1, 'devaneos': 1, 'compadres': 1, 'graciosísimos': 1, 'resucitase': 1, 'andantesca': 1, 'concedía': 1, 'guardaba': 1, 'contradecía': 1, 'averiguarse': 1, 'solicitó': 1, 'persuadió': 1, 'mollera': 1, 'sal': 1, 'dispusiese': 1, 'servirle': 1, 'decíale': 1, 'salirse': 1, 'quítame': 1, 'pajas': 1, 'gobernador': 2, 'suceder': 2, 'allá': 1, 'mujer': 2, 'promesas': 1, 'asentó': 1, 'vendiendo': 1, 'prestada': 1, 'acomodóse': 1, 'empeñando': 1, 'razonable': 1, 'malbaratándolas': 1, 'asimesmo': 1, 'rodela': 5, 'cantidad': 1, 'rota': 1, 'pertrechando': 1, 'acomodase': 1, 'avisó': 1, 'llevase': 3, 'encargó': 1, 'llevaría': 1, 'duecho': 1, 'reparó': 1, 'imaginando': 1, 'acordaba': 2, 'asnalmente': 1, 'presupuesto': 1, 'honrada': 1, 'acomodarle': 1, 'despedirse': 1, 'proveyóse': 1, 'caminaron': 1, 'buscasen': 1, 'hallarían': 1, 'amanecer': 1, 'patriarca': 1, 'bota': 3, 'derrota': 1, 'viaje': 1, 'pasada': 2, 'pesadumbre': 2, 'rayos': 2, 'herirles': 1, 'fatigaban': 1, 'soslayo': 1, 'gobernar': 1, 'sabré': 1, 'usada': 1, 'gobernadores': 1, 'falte': 1, 'ínsulas': 1, 'ganaban': 1, 'antiguos': 1, 'agradecida': 1, 'aventajarme': 1, 'esperaban': 1, 'hartos': 1, 'peores': 1, 'daban': 2, 'vives': 1, 'provincia': 1, 'tengas': 2, 'coronarte': 1, 'casos': 1, 'acontecen': 1, 'viniesen': 1, 'modos': 1, 'pensados': 1, 'vendría': 1, 'gutiérrez': 2, 'infantes': 1, 'oíslo': 1, 'juana': 1, 'dudo': 1, 'asentaría': 1, 'lloviese': 1, 'mari': 1, 'caerá': 1, 'condesa': 1, 'convenga': 1, 'vengas': 1, 'contentar': 1, 'apoques': 1, 'encomiéndalo': 1, 'adelantado': 1, 'principal': 1, 'sabrá': 1, 'imaginada': 1, 'espantable': 1, 'viii': 1, 'recordación': 1, 'felice': 1, 'dignos': 1, 'treinta': 2, 'descubrieron': 2, 'guiando': 1, 'acertáramos': 1, 'ves': 2, 'descubren': 1, 'enriquecer': 1, 'comenzaremos': 1, 'simiente': 1, 'guerra': 2, 'largos': 1, 'leguas': 1, 'aspas': 2, 'volteadas': 1, 'quítate': 1, 'ponte': 1, 'cursado': 1, 'voy': 1, 'fiera': 1, 'atender': 1, 'acometer': 1, 'advirtiéndole': 1, 'oía': 1, 'echaba': 1, 'fuyades': 1, 'criaturas': 1, 'acomete': 1, 'levantóse': 1, 'moverse': 1, 'mováis': 1, 'briareo': 1, 'encomendándose': 1, 'ristre': 1, 'embistió': 1, 'pidiéndole': 1, 'socorriese': 1, 'dándole': 1, 'lanzada': 1, 'aspa': 1, 'correr': 2, 'socorrerle': 1, 'llevándose': 1, 'menear': 1, 'mirase': 2, 'ignorar': 1, 'calla': 1, 'continua': 1, 'mudanza': 1, 'sujetas': 1, 'quitarme': 1, 'vencimiento': 1, 'malas': 3, 'ayudándole': 1, 'despaldado': 1, 'subir': 2, 'hallarse': 1, 'pasajero': 1, 'faltado': 1, 'pesaroso': 1, 'diciéndoselo': 1, 'diego': 1, 'roto': 1, 'vargas': 2, 'ramo': 2, 'pesado': 1, 'desgajó': 2, 'habiéndosele': 1, 'machacó': 1, 'machuca': 1, 'decendientes': 1, 'moros': 1, 'llamaron': 1, 'imagino': 1, 'roble': 1, 'desgajar': 1, 'hete': 1, 'merecido': 1, 'testigo': 1, 'vellas': 1, 'afortunado': 1, 'creídas': 1, 'enderécese': 1, 'dolor': 2, 'quejarse': 3, 'salgan': 1, 'replicar': 1, 'holgara': 1, 'quejara': 1, 'doliera': 1, 'pequeño': 1, 'declaró': 1, 'quisiese': 1, 'respondióle': 1, 'acomodó': 1, 'comiese': 1, 'sacando': 1, 'comiendo': 1, 'bodegonero': 1, 'empinaba': 1, 'envidiar': 1, 'tragos': 1, 'menudeando': 1, 'peligrosas': 1, 'árboles': 1, 'quebrado': 1, 'durmió': 1, 'florestas': 1, 'despoblados': 1, 'estómago': 1, 'entretenidos': 1, 'sueño': 1, 'memorias': 2, 'chicoria': 1, 'despertarle': 1, 'llamara': 1, 'aves': 1, 'canto': 1, 'tiento': 1, 'regocijadamente': 1, 'hallóla': 1, 'flaca': 1, 'saludaban': 1, 'desayunarse': 1, 'afligiósele': 1, 'sabrosas': 1, 'obra': 2, 'sustentarse': 1, 'comenzado': 2, 'tornaron': 1, 'meter': 1, 'codos': 1, 'podemos': 1, 'ofenden': 1, 'veas': 1, 'defenderme': 1, 'ayudarme': 2, 'concedido': 1, 'lícito': 1, 'ayudes': 1, 'obedicido': 1, 'tocare': 1, 'meterme': 1, 'ruidos': 1, 'agraviarle': 1, 'divinas': 1, 'permiten': 1, 'defienda': 1, 'naturales': 1, 'ímpetus': 1, 'domingo': 1, 'preceto': 1, 'frailes': 6, 'asomaron': 1, 'antojos': 1, 'traían': 1, 'benito': 3, 'dromedarios': 1, 'pequeñas': 1, 'coche': 13, 'acompañaban': 2, 'vizcaína': 2, 'bultos': 1, 'negros': 1, 'hurtada': 1, 'poderío': 1, 'pasajera': 1, 'engañe': 1, 'achaque': 1, 'adelantó': 1, 'podrían': 1, 'endiablada': 1, 'forzadas': 2, 'aparejaos': 1, 'dejad': 1, 'presta': 1, 'justo': 1, 'respondieron': 1, 'quedaron': 1, 'detuvieron': 1, 'endiablados': 1, 'somos': 1, 'ningunas': 1, 'sabemos': 1, 'religiosos': 1, 'vamos': 1, 'fementida': 1, 'blandas': 1, 'fraile': 3, 'religioso': 1, 'grado': 1, 'dejara': 1, 'mula': 4, 'piernas': 1, 'ligero': 1, 'campaña': 1, 'ligeramente': 1, 'desnudaba': 1, 'hábitos': 1, 'respondióles': 1, 'ligítimamente': 1, 'sabían': 1, 'entendían': 1, 'desviado': 1, 'dejarle': 1, 'molieron': 1, 'arremetieron': 1, 'detenerse': 1, 'color': 1, 'temeroso': 1, 'acobardado': 1, 'sobresalto': 1, 'aguardando': 1, 'espaldas': 1, 'cruces': 1, 'haciéndose': 1, 'llevaran': 1, 'robadores': 1, 'viniere': 1, 'yace': 1, 'facer': 1, 'libertador': 1, 'penéis': 1, 'llamo': 1, 'beneficio': 1, 'digáis': 1, 'volváis': 1, 'presentéis': 1, 'vizcaíno': 10, 'escuchaba': 1, 'vuelta': 1, 'dejas': 1, 'andes': 1, 'crióme': 1, 'matas': 1, 'entendióle': 1, 'castigado': 1, 'fueras': 1, 'criatura': 1, 'gato': 1, 'sacas': 1, 'llevas': 1, 'arrojas': 1, 'dices': 1, 'veredes': 1, 'agrajes': 1, 'arrojando': 1, 'apearse': 1, 'fiar': 1, 'avínole': 1, 'alquiler': 1, 'sirvió': 1, 'almohada': 3, 'enemigos': 1, 'trabadas': 1, 'dejaban': 1, 'paz': 1, 'temerosa': 1, 'estorbase': 1, 'admirada': 1, 'desviase': 1, 'cochero': 1, 'matar': 1, 'contienda': 1, 'abriera': 1, 'defensa': 1, 'cintura': 1, 'dársela': 1, 'sintió': 1, 'hombro': 1, 'desaforado': 1, 'socorred': 1, 'flor': 1, 'halla': 1, 'apretar': 1, 'cubrirse': 1, 'arremeter': 1, 'aventurarlo': 1, 'entendió': 1, 'coraje': 1, 'cansada': 1, 'rodear': 1, 'niñerías': 1, 'cauto': 1, 'abrirle': 1, 'aforrado': 1, 'levantada': 1, 'colgados': 1, 'temerosos': 1, 'circunstantes': 1, 'aguardaba': 1, 'tamaños': 1, 'amenazaban': 1, 'criadas': 1, 'votos': 1, 'ofrecimientos': 1, 'imágenes': 1, 'librase': 1, 'hallaban': 1, 'devoción': 1, 'pendiente': 1, 'disculpándose': 1, 'curiosa': 1, 'entregada': 1, 'tuviesen': 1, 'ingenios': 1, 'curiosos': 1, 'escritorios': 1, 'papeles': 1, 'siéndole': 1, 'favorable': 1, 'desesperó': 1, 'contará': 1})\n"
          ]
        }
      ],
      "source": [
        "# Cantidad de veces quea aparece cada palabra en cada \"documento\"\n",
        "# (1 documento = 1 caso de entrada)\n",
        "print(tok.word_docs)"
      ]
    },
    {
      "cell_type": "markdown",
      "source": [
        "### Funciones a utilizar"
      ],
      "metadata": {
        "id": "DZB8uaprMq2e"
      }
    },
    {
      "cell_type": "markdown",
      "metadata": {
        "id": "YWK3z85sQfUe"
      },
      "source": [
        "Dado que por el momento no hay implementaciones adecuadas de la perplejidad que puedan operar en tiempo de entrenamiento, armaremos un Callback *ad-hoc* que la calcule en cada epoch.\n",
        "\n",
        "**Nota**: un Callback es una rutina gatillada por algún evento, son muy útiles para relevar datos en diferentes momentos del desarrollo del modelo. En este caso queremos hacer un cálculo cada vez que termina una epoch de entrenamiento."
      ]
    },
    {
      "cell_type": "code",
      "execution_count": 28,
      "metadata": {
        "id": "zUHX3r5JD-MG"
      },
      "outputs": [],
      "source": [
        "class PplCallback(keras.callbacks.Callback):\n",
        "\n",
        "    '''\n",
        "    Este callback es una solución ad-hoc para calcular al final de cada epoch de\n",
        "    entrenamiento la métrica de Perplejidad sobre un conjunto de datos de validación.\n",
        "    La perplejidad es una métrica cuantitativa para evaluar la calidad de la generación de secuencias.\n",
        "    Además implementa la finalización del entrenamiento (Early Stopping)\n",
        "    si la perplejidad no mejora después de `patience` epochs.\n",
        "    '''\n",
        "\n",
        "    def __init__(self, val_data, history_ppl, model_name, patience=5):\n",
        "      # El callback lo inicializamos con secuencias de validación sobre las cuales\n",
        "      # mediremos la perplejidad y la paciencia para detener el entrenamiento.\n",
        "      self.val_data = val_data\n",
        "\n",
        "      self.target = []\n",
        "      self.padded = []\n",
        "\n",
        "      count = 0\n",
        "      self.info = []\n",
        "      self.history_ppl = history_ppl\n",
        "      self.min_score = np.inf\n",
        "      self.patience_counter = 0\n",
        "      self.patience = patience\n",
        "      self.model_name = model_name\n",
        "\n",
        "      # nos movemos en todas las secuencias de los datos de validación\n",
        "      for seq in self.val_data:\n",
        "\n",
        "        len_seq = len(seq)\n",
        "        # armamos todas las subsecuencias\n",
        "        subseq = [seq[:i] for i in range(len_seq)]\n",
        "        self.target.extend([seq[i] for i in range(len_seq)])\n",
        "\n",
        "        if len(subseq)!=0:\n",
        "\n",
        "          self.padded.append(pad_sequences(subseq, maxlen=max_context_size, padding='pre'))\n",
        "\n",
        "          self.info.append((count,count+len_seq))\n",
        "          count += len_seq\n",
        "\n",
        "      self.padded = np.vstack(self.padded)\n",
        "\n",
        "\n",
        "    def on_epoch_end(self, epoch, logs=None):\n",
        "\n",
        "        # en `scores` iremos guardando la perplejidad de cada secuencia\n",
        "        scores = []\n",
        "\n",
        "        predictions = self.model.predict(self.padded,verbose=0)\n",
        "\n",
        "        # para cada secuencia de validación\n",
        "        for start,end in self.info:\n",
        "\n",
        "          # en `probs` iremos guardando las probabilidades de los términos target\n",
        "          probs = [predictions[idx_seq,-1,idx_vocab] for idx_seq, idx_vocab in zip(range(start,end),self.target[start:end])]\n",
        "\n",
        "          # calculamos la perplejidad por medio de logaritmos\n",
        "          scores.append(np.exp(-np.sum(np.log(probs))/(end-start)))\n",
        "\n",
        "        # promediamos todos los scores e imprimimos el valor promedio\n",
        "        current_score = np.mean(scores)\n",
        "        self.history_ppl.append(current_score)\n",
        "        print(f'\\n mean perplexity: {current_score} \\n')\n",
        "\n",
        "        # chequeamos si tenemos que detener el entrenamiento\n",
        "        if current_score < self.min_score:\n",
        "          self.min_score = current_score\n",
        "          self.model.save(f\"{self.model_name}.keras\")\n",
        "          print(\"Saved new model!\")\n",
        "          self.patience_counter = 0\n",
        "        else:\n",
        "          self.patience_counter += 1\n",
        "          if self.patience_counter == self.patience:\n",
        "            print(\"Stopping training...\")\n",
        "            self.model.stop_training = True\n"
      ]
    },
    {
      "cell_type": "code",
      "source": [
        "def generate_seq(model, tokenizer, seed_text, max_length, n_words):\n",
        "    \"\"\"\n",
        "        Exec model sequence prediction\n",
        "\n",
        "        Args:\n",
        "            model (keras): modelo entrenado\n",
        "            tokenizer (keras tokenizer): tonenizer utilizado en el preprocesamiento\n",
        "            seed_text (string): texto de entrada (input_seq)\n",
        "            max_length (int): máxima longitud de la sequencia de entrada\n",
        "            n_words (int): números de palabras a agregar a la sequencia de entrada\n",
        "        returns:\n",
        "            output_text (string): sentencia con las \"n_words\" agregadas\n",
        "    \"\"\"\n",
        "    output_text = seed_text\n",
        "\t  # generate a fixed number of words\n",
        "    for _ in range(n_words):\n",
        "\t\t  # Tokenizamos\n",
        "      encoded = tokenizer.texts_to_sequences([output_text])[0]\n",
        "\n",
        "\t\t  # Si tienen distinto largo\n",
        "      encoded = pad_sequences([encoded], maxlen=max_length, padding='pre')\n",
        "\n",
        "\t\t  # Predicción softmax\n",
        "      y_hat = np.argmax(model.predict(encoded)[0,-1,:])\n",
        "\n",
        "      # Vamos concatenando las predicciones\n",
        "      out_word = ''\n",
        "\n",
        "      # Debemos buscar en el vocabulario la palabra\n",
        "      # que corresopnde al indice (y_hat) predicho por le modelo\n",
        "      for word, index in tokenizer.word_index.items():\n",
        "        if index == y_hat:\n",
        "          out_word = word\n",
        "          break\n",
        "\n",
        "\t\t  # Agrego las palabras a la frase predicha\n",
        "      output_text += ' ' + out_word\n",
        "\n",
        "    return output_text"
      ],
      "metadata": {
        "id": "fYmZwPrRFhEa"
      },
      "execution_count": 29,
      "outputs": []
    },
    {
      "cell_type": "code",
      "source": [
        "# funcionalidades para hacer encoding y decoding\n",
        "\n",
        "def encode(text,max_length=max_context_size):\n",
        "\n",
        "    encoded = tok.texts_to_sequences([text])[0]\n",
        "    encoded = pad_sequences([encoded], maxlen=max_length, padding='pre')\n",
        "\n",
        "    return encoded\n",
        "\n",
        "def decode(seq):\n",
        "    return tok.sequences_to_texts([seq])"
      ],
      "metadata": {
        "id": "WVZSoT0TGTto"
      },
      "execution_count": 30,
      "outputs": []
    },
    {
      "cell_type": "code",
      "source": [
        "from scipy.special import softmax\n",
        "\n",
        "# función que selecciona candidatos para el beam search\n",
        "def select_candidates(pred,num_beams,vocab_size,history_probs,history_tokens,temp,mode):\n",
        "\n",
        "  # colectar todas las probabilidades para la siguiente búsqueda\n",
        "  pred_large = []\n",
        "\n",
        "  for idx,pp in enumerate(pred):\n",
        "    pred_large.extend(np.log(pp+1E-10)+history_probs[idx])\n",
        "\n",
        "  pred_large = np.array(pred_large)\n",
        "\n",
        "  # criterio de selección\n",
        "  if mode == 'det':\n",
        "    idx_select = np.argsort(pred_large)[::-1][:num_beams] # beam search determinista\n",
        "  elif mode == 'sto':\n",
        "    idx_select = np.random.choice(np.arange(pred_large.shape[0]), num_beams, p=softmax(pred_large/temp)) # beam search con muestreo aleatorio\n",
        "  else:\n",
        "    raise ValueError(f'Wrong selection mode. {mode} was given. det and sto are supported.')\n",
        "\n",
        "  # traducir a índices de token en el vocabulario\n",
        "  new_history_tokens = np.concatenate((np.array(history_tokens)[idx_select//vocab_size],\n",
        "                        np.array([idx_select%vocab_size]).T),\n",
        "                      axis=1)\n",
        "\n",
        "  # devolver el producto de las probabilidades (log) y la secuencia de tokens seleccionados\n",
        "  return pred_large[idx_select.astype(int)], new_history_tokens.astype(int)\n",
        "\n",
        "\n",
        "def beam_search(model,num_beams,num_words,input,temp=1,mode='det'):\n",
        "\n",
        "    # first iteration\n",
        "\n",
        "    # encode\n",
        "    encoded = encode(input)\n",
        "\n",
        "    # first prediction\n",
        "    y_hat = model.predict(encoded,verbose=0)[0,-1,:]\n",
        "\n",
        "    # get vocabulary size\n",
        "    vocab_size = y_hat.shape[0]\n",
        "\n",
        "    # initialize history\n",
        "    history_probs = [0]*num_beams\n",
        "    history_tokens = [encoded[0]]*num_beams\n",
        "\n",
        "    # select num_beams candidates\n",
        "    history_probs, history_tokens = select_candidates([y_hat],\n",
        "                                        num_beams,\n",
        "                                        vocab_size,\n",
        "                                        history_probs,\n",
        "                                        history_tokens,\n",
        "                                        temp,\n",
        "                                        mode)\n",
        "\n",
        "    # beam search loop\n",
        "    for i in range(num_words-1):\n",
        "\n",
        "      preds = []\n",
        "\n",
        "      for hist in history_tokens:\n",
        "\n",
        "        # actualizar secuencia de tokens\n",
        "        input_update = np.array([hist[i+1:]]).copy()\n",
        "\n",
        "        # predicción\n",
        "        y_hat = model.predict(input_update,verbose=0)[0,-1,:]\n",
        "\n",
        "        preds.append(y_hat)\n",
        "\n",
        "      history_probs, history_tokens = select_candidates(preds,\n",
        "                                                        num_beams,\n",
        "                                                        vocab_size,\n",
        "                                                        history_probs,\n",
        "                                                        history_tokens,\n",
        "                                                        temp,\n",
        "                                                        mode)\n",
        "\n",
        "    return history_tokens"
      ],
      "metadata": {
        "id": "v-wU8o3SGUJ5"
      },
      "execution_count": 31,
      "outputs": []
    },
    {
      "cell_type": "code",
      "source": [
        "import matplotlib.pyplot as plt\n",
        "import seaborn as sns\n",
        "\n",
        "# Podemos graficar la evolución de la perplejidad con las épocas.\n",
        "# Recordar que el valor de perplejidad del modelo trivial es el tamaño del vocabulario.\n",
        "def plot_model_history(history_ppl, model_name):\n",
        "  epoch_count = range(1, len(history_ppl) + 1)\n",
        "  sns.lineplot(x=epoch_count,  y=history_ppl)\n",
        "  plt.title(model_name)\n",
        "  plt.xlabel('Epoch')\n",
        "  plt.ylabel('Perplexity')\n",
        "  plt.show()"
      ],
      "metadata": {
        "id": "FIZ2btpgH2tY"
      },
      "execution_count": 32,
      "outputs": []
    },
    {
      "cell_type": "code",
      "source": [
        "import gradio as gr\n",
        "\n",
        "def model_response(model, human_text):\n",
        "\n",
        "    # Encodeamos\n",
        "    encoded = tok.texts_to_sequences([human_text])[0]\n",
        "    # Si tienen distinto largo\n",
        "    encoded = pad_sequences([encoded], maxlen=max_context_size, padding='pre')\n",
        "\n",
        "    # Predicción softmax\n",
        "    y_hat = np.argmax(model.predict(encoded)[0,-1,:])\n",
        "\n",
        "\n",
        "    # Debemos buscar en el vocabulario la palabra\n",
        "    # que corresopnde al indice (y_hat) predicho por le modelo\n",
        "    out_word = ''\n",
        "    for word, index in tok.word_index.items():\n",
        "        if index == y_hat:\n",
        "            out_word = word\n",
        "            break\n",
        "\n",
        "    # Agrego la palabra a la frase predicha\n",
        "    return human_text + ' ' + out_word\n",
        "\n",
        "def predict_with_gradio(model):\n",
        "    iface = gr.Interface(\n",
        "        fn=lambda text: model_response(model, text),\n",
        "        inputs=[\"textbox\"],\n",
        "        outputs=\"text\")\n",
        "\n",
        "    iface.launch(debug=True)"
      ],
      "metadata": {
        "id": "EYFMNT7vKqE5"
      },
      "execution_count": 33,
      "outputs": []
    },
    {
      "cell_type": "markdown",
      "source": [
        "\n",
        "### Definir el modelo 1: SimpleRNN"
      ],
      "metadata": {
        "id": "uYfhWVLLzKVO"
      }
    },
    {
      "cell_type": "code",
      "source": [
        "model1 = Sequential()\n",
        "\n",
        "# Capa de embedding entrenable\n",
        "model1.add(Embedding(input_dim=vocab_size+1, output_dim=64, input_shape=(None,)))\n",
        "\n",
        "# SimpleRNN\n",
        "model1.add(SimpleRNN(128, return_sequences=True))\n",
        "model1.add(Dropout(0.2))\n",
        "model1.add(SimpleRNN(128, return_sequences=True))\n",
        "model1.add(Dropout(0.2))\n",
        "\n",
        "# Predicción de clasificación con softmax\n",
        "model1.add(Dense(vocab_size+1, activation='softmax'))\n",
        "\n",
        "model1.compile(loss=SparseCategoricalCrossentropy(), optimizer='rmsprop')\n",
        "\n",
        "model1.summary()"
      ],
      "metadata": {
        "colab": {
          "base_uri": "https://localhost:8080/",
          "height": 395
        },
        "id": "859abt47IkMh",
        "outputId": "2f933a5d-f713-4308-ad06-b1bb93b95705"
      },
      "execution_count": 34,
      "outputs": [
        {
          "output_type": "stream",
          "name": "stderr",
          "text": [
            "/usr/local/lib/python3.10/dist-packages/keras/src/layers/core/embedding.py:93: UserWarning: Do not pass an `input_shape`/`input_dim` argument to a layer. When using Sequential models, prefer using an `Input(shape)` object as the first layer in the model instead.\n",
            "  super().__init__(**kwargs)\n"
          ]
        },
        {
          "output_type": "display_data",
          "data": {
            "text/plain": [
              "\u001b[1mModel: \"sequential\"\u001b[0m\n"
            ],
            "text/html": [
              "<pre style=\"white-space:pre;overflow-x:auto;line-height:normal;font-family:Menlo,'DejaVu Sans Mono',consolas,'Courier New',monospace\"><span style=\"font-weight: bold\">Model: \"sequential\"</span>\n",
              "</pre>\n"
            ]
          },
          "metadata": {}
        },
        {
          "output_type": "display_data",
          "data": {
            "text/plain": [
              "┏━━━━━━━━━━━━━━━━━━━━━━━━━━━━━━━━━━━━━━┳━━━━━━━━━━━━━━━━━━━━━━━━━━━━━┳━━━━━━━━━━━━━━━━━┓\n",
              "┃\u001b[1m \u001b[0m\u001b[1mLayer (type)                        \u001b[0m\u001b[1m \u001b[0m┃\u001b[1m \u001b[0m\u001b[1mOutput Shape               \u001b[0m\u001b[1m \u001b[0m┃\u001b[1m \u001b[0m\u001b[1m        Param #\u001b[0m\u001b[1m \u001b[0m┃\n",
              "┡━━━━━━━━━━━━━━━━━━━━━━━━━━━━━━━━━━━━━━╇━━━━━━━━━━━━━━━━━━━━━━━━━━━━━╇━━━━━━━━━━━━━━━━━┩\n",
              "│ embedding (\u001b[38;5;33mEmbedding\u001b[0m)                │ (\u001b[38;5;45mNone\u001b[0m, \u001b[38;5;45mNone\u001b[0m, \u001b[38;5;34m64\u001b[0m)            │         \u001b[38;5;34m278,464\u001b[0m │\n",
              "├──────────────────────────────────────┼─────────────────────────────┼─────────────────┤\n",
              "│ simple_rnn (\u001b[38;5;33mSimpleRNN\u001b[0m)               │ (\u001b[38;5;45mNone\u001b[0m, \u001b[38;5;45mNone\u001b[0m, \u001b[38;5;34m128\u001b[0m)           │          \u001b[38;5;34m24,704\u001b[0m │\n",
              "├──────────────────────────────────────┼─────────────────────────────┼─────────────────┤\n",
              "│ dropout (\u001b[38;5;33mDropout\u001b[0m)                    │ (\u001b[38;5;45mNone\u001b[0m, \u001b[38;5;45mNone\u001b[0m, \u001b[38;5;34m128\u001b[0m)           │               \u001b[38;5;34m0\u001b[0m │\n",
              "├──────────────────────────────────────┼─────────────────────────────┼─────────────────┤\n",
              "│ simple_rnn_1 (\u001b[38;5;33mSimpleRNN\u001b[0m)             │ (\u001b[38;5;45mNone\u001b[0m, \u001b[38;5;45mNone\u001b[0m, \u001b[38;5;34m128\u001b[0m)           │          \u001b[38;5;34m32,896\u001b[0m │\n",
              "├──────────────────────────────────────┼─────────────────────────────┼─────────────────┤\n",
              "│ dropout_1 (\u001b[38;5;33mDropout\u001b[0m)                  │ (\u001b[38;5;45mNone\u001b[0m, \u001b[38;5;45mNone\u001b[0m, \u001b[38;5;34m128\u001b[0m)           │               \u001b[38;5;34m0\u001b[0m │\n",
              "├──────────────────────────────────────┼─────────────────────────────┼─────────────────┤\n",
              "│ dense (\u001b[38;5;33mDense\u001b[0m)                        │ (\u001b[38;5;45mNone\u001b[0m, \u001b[38;5;45mNone\u001b[0m, \u001b[38;5;34m4351\u001b[0m)          │         \u001b[38;5;34m561,279\u001b[0m │\n",
              "└──────────────────────────────────────┴─────────────────────────────┴─────────────────┘\n"
            ],
            "text/html": [
              "<pre style=\"white-space:pre;overflow-x:auto;line-height:normal;font-family:Menlo,'DejaVu Sans Mono',consolas,'Courier New',monospace\">┏━━━━━━━━━━━━━━━━━━━━━━━━━━━━━━━━━━━━━━┳━━━━━━━━━━━━━━━━━━━━━━━━━━━━━┳━━━━━━━━━━━━━━━━━┓\n",
              "┃<span style=\"font-weight: bold\"> Layer (type)                         </span>┃<span style=\"font-weight: bold\"> Output Shape                </span>┃<span style=\"font-weight: bold\">         Param # </span>┃\n",
              "┡━━━━━━━━━━━━━━━━━━━━━━━━━━━━━━━━━━━━━━╇━━━━━━━━━━━━━━━━━━━━━━━━━━━━━╇━━━━━━━━━━━━━━━━━┩\n",
              "│ embedding (<span style=\"color: #0087ff; text-decoration-color: #0087ff\">Embedding</span>)                │ (<span style=\"color: #00d7ff; text-decoration-color: #00d7ff\">None</span>, <span style=\"color: #00d7ff; text-decoration-color: #00d7ff\">None</span>, <span style=\"color: #00af00; text-decoration-color: #00af00\">64</span>)            │         <span style=\"color: #00af00; text-decoration-color: #00af00\">278,464</span> │\n",
              "├──────────────────────────────────────┼─────────────────────────────┼─────────────────┤\n",
              "│ simple_rnn (<span style=\"color: #0087ff; text-decoration-color: #0087ff\">SimpleRNN</span>)               │ (<span style=\"color: #00d7ff; text-decoration-color: #00d7ff\">None</span>, <span style=\"color: #00d7ff; text-decoration-color: #00d7ff\">None</span>, <span style=\"color: #00af00; text-decoration-color: #00af00\">128</span>)           │          <span style=\"color: #00af00; text-decoration-color: #00af00\">24,704</span> │\n",
              "├──────────────────────────────────────┼─────────────────────────────┼─────────────────┤\n",
              "│ dropout (<span style=\"color: #0087ff; text-decoration-color: #0087ff\">Dropout</span>)                    │ (<span style=\"color: #00d7ff; text-decoration-color: #00d7ff\">None</span>, <span style=\"color: #00d7ff; text-decoration-color: #00d7ff\">None</span>, <span style=\"color: #00af00; text-decoration-color: #00af00\">128</span>)           │               <span style=\"color: #00af00; text-decoration-color: #00af00\">0</span> │\n",
              "├──────────────────────────────────────┼─────────────────────────────┼─────────────────┤\n",
              "│ simple_rnn_1 (<span style=\"color: #0087ff; text-decoration-color: #0087ff\">SimpleRNN</span>)             │ (<span style=\"color: #00d7ff; text-decoration-color: #00d7ff\">None</span>, <span style=\"color: #00d7ff; text-decoration-color: #00d7ff\">None</span>, <span style=\"color: #00af00; text-decoration-color: #00af00\">128</span>)           │          <span style=\"color: #00af00; text-decoration-color: #00af00\">32,896</span> │\n",
              "├──────────────────────────────────────┼─────────────────────────────┼─────────────────┤\n",
              "│ dropout_1 (<span style=\"color: #0087ff; text-decoration-color: #0087ff\">Dropout</span>)                  │ (<span style=\"color: #00d7ff; text-decoration-color: #00d7ff\">None</span>, <span style=\"color: #00d7ff; text-decoration-color: #00d7ff\">None</span>, <span style=\"color: #00af00; text-decoration-color: #00af00\">128</span>)           │               <span style=\"color: #00af00; text-decoration-color: #00af00\">0</span> │\n",
              "├──────────────────────────────────────┼─────────────────────────────┼─────────────────┤\n",
              "│ dense (<span style=\"color: #0087ff; text-decoration-color: #0087ff\">Dense</span>)                        │ (<span style=\"color: #00d7ff; text-decoration-color: #00d7ff\">None</span>, <span style=\"color: #00d7ff; text-decoration-color: #00d7ff\">None</span>, <span style=\"color: #00af00; text-decoration-color: #00af00\">4351</span>)          │         <span style=\"color: #00af00; text-decoration-color: #00af00\">561,279</span> │\n",
              "└──────────────────────────────────────┴─────────────────────────────┴─────────────────┘\n",
              "</pre>\n"
            ]
          },
          "metadata": {}
        },
        {
          "output_type": "display_data",
          "data": {
            "text/plain": [
              "\u001b[1m Total params: \u001b[0m\u001b[38;5;34m897,343\u001b[0m (3.42 MB)\n"
            ],
            "text/html": [
              "<pre style=\"white-space:pre;overflow-x:auto;line-height:normal;font-family:Menlo,'DejaVu Sans Mono',consolas,'Courier New',monospace\"><span style=\"font-weight: bold\"> Total params: </span><span style=\"color: #00af00; text-decoration-color: #00af00\">897,343</span> (3.42 MB)\n",
              "</pre>\n"
            ]
          },
          "metadata": {}
        },
        {
          "output_type": "display_data",
          "data": {
            "text/plain": [
              "\u001b[1m Trainable params: \u001b[0m\u001b[38;5;34m897,343\u001b[0m (3.42 MB)\n"
            ],
            "text/html": [
              "<pre style=\"white-space:pre;overflow-x:auto;line-height:normal;font-family:Menlo,'DejaVu Sans Mono',consolas,'Courier New',monospace\"><span style=\"font-weight: bold\"> Trainable params: </span><span style=\"color: #00af00; text-decoration-color: #00af00\">897,343</span> (3.42 MB)\n",
              "</pre>\n"
            ]
          },
          "metadata": {}
        },
        {
          "output_type": "display_data",
          "data": {
            "text/plain": [
              "\u001b[1m Non-trainable params: \u001b[0m\u001b[38;5;34m0\u001b[0m (0.00 B)\n"
            ],
            "text/html": [
              "<pre style=\"white-space:pre;overflow-x:auto;line-height:normal;font-family:Menlo,'DejaVu Sans Mono',consolas,'Courier New',monospace\"><span style=\"font-weight: bold\"> Non-trainable params: </span><span style=\"color: #00af00; text-decoration-color: #00af00\">0</span> (0.00 B)\n",
              "</pre>\n"
            ]
          },
          "metadata": {}
        }
      ]
    },
    {
      "cell_type": "markdown",
      "metadata": {
        "id": "8HBZIwR0gruA"
      },
      "source": [
        "#### Entrenamiento"
      ]
    },
    {
      "cell_type": "code",
      "execution_count": 35,
      "metadata": {
        "id": "oQq1PHDkxDvN",
        "colab": {
          "base_uri": "https://localhost:8080/"
        },
        "outputId": "be37e14b-0569-4439-ba65-aa50a2433b09"
      },
      "outputs": [
        {
          "output_type": "stream",
          "name": "stdout",
          "text": [
            "Epoch 1/20\n",
            "\u001b[1m300/300\u001b[0m \u001b[32m━━━━━━━━━━━━━━━━━━━━\u001b[0m\u001b[37m\u001b[0m \u001b[1m0s\u001b[0m 23ms/step - loss: 4.1098\n",
            " mean perplexity: 18021.798028665267 \n",
            "\n",
            "Saved new model!\n",
            "\u001b[1m300/300\u001b[0m \u001b[32m━━━━━━━━━━━━━━━━━━━━\u001b[0m\u001b[37m\u001b[0m \u001b[1m18s\u001b[0m 41ms/step - loss: 4.1072\n",
            "Epoch 2/20\n",
            "\u001b[1m297/300\u001b[0m \u001b[32m━━━━━━━━━━━━━━━━━━━\u001b[0m\u001b[37m━\u001b[0m \u001b[1m0s\u001b[0m 14ms/step - loss: 2.9315\n",
            " mean perplexity: 50400.6236578428 \n",
            "\n",
            "\u001b[1m300/300\u001b[0m \u001b[32m━━━━━━━━━━━━━━━━━━━━\u001b[0m\u001b[37m\u001b[0m \u001b[1m13s\u001b[0m 31ms/step - loss: 2.9306\n",
            "Epoch 3/20\n",
            "\u001b[1m298/300\u001b[0m \u001b[32m━━━━━━━━━━━━━━━━━━━\u001b[0m\u001b[37m━\u001b[0m \u001b[1m0s\u001b[0m 14ms/step - loss: 2.7208\n",
            " mean perplexity: 109973.52856449745 \n",
            "\n",
            "\u001b[1m300/300\u001b[0m \u001b[32m━━━━━━━━━━━━━━━━━━━━\u001b[0m\u001b[37m\u001b[0m \u001b[1m7s\u001b[0m 24ms/step - loss: 2.7204\n",
            "Epoch 4/20\n",
            "\u001b[1m298/300\u001b[0m \u001b[32m━━━━━━━━━━━━━━━━━━━\u001b[0m\u001b[37m━\u001b[0m \u001b[1m0s\u001b[0m 15ms/step - loss: 2.5729\n",
            " mean perplexity: 75030.99777331692 \n",
            "\n",
            "\u001b[1m300/300\u001b[0m \u001b[32m━━━━━━━━━━━━━━━━━━━━\u001b[0m\u001b[37m\u001b[0m \u001b[1m10s\u001b[0m 32ms/step - loss: 2.5726\n",
            "Epoch 5/20\n",
            "\u001b[1m296/300\u001b[0m \u001b[32m━━━━━━━━━━━━━━━━━━━\u001b[0m\u001b[37m━\u001b[0m \u001b[1m0s\u001b[0m 14ms/step - loss: 2.4396\n",
            " mean perplexity: 68437.75126834489 \n",
            "\n",
            "\u001b[1m300/300\u001b[0m \u001b[32m━━━━━━━━━━━━━━━━━━━━\u001b[0m\u001b[37m\u001b[0m \u001b[1m14s\u001b[0m 48ms/step - loss: 2.4391\n",
            "Epoch 6/20\n",
            "\u001b[1m299/300\u001b[0m \u001b[32m━━━━━━━━━━━━━━━━━━━\u001b[0m\u001b[37m━\u001b[0m \u001b[1m0s\u001b[0m 13ms/step - loss: 2.3162\n",
            " mean perplexity: 56789.77344832479 \n",
            "\n",
            "Stopping training...\n",
            "\u001b[1m300/300\u001b[0m \u001b[32m━━━━━━━━━━━━━━━━━━━━\u001b[0m\u001b[37m\u001b[0m \u001b[1m15s\u001b[0m 31ms/step - loss: 2.3160\n"
          ]
        }
      ],
      "source": [
        "# fiteamos, nótese el agregado del callback con su inicialización. El batch_size lo podemos seleccionar a mano\n",
        "# en general, lo mejor es escoger el batch más grande posible que minimice el tiempo de cada época.\n",
        "# En la variable `history_ppl` se guardarán los valores de perplejidad para cada época.\n",
        "history_ppl1 = []\n",
        "model1_name = \"SimpleRNN\"\n",
        "hist1 = model1.fit(X, y, epochs=20, callbacks=[PplCallback(tokenized_sentences_val, history_ppl1, model1_name)], batch_size=64)"
      ]
    },
    {
      "cell_type": "code",
      "source": [
        "plot_model_history(history_ppl1, model1_name)"
      ],
      "metadata": {
        "id": "K30JHB3Dv-mx",
        "colab": {
          "base_uri": "https://localhost:8080/",
          "height": 472
        },
        "outputId": "c9cb0d4a-fbe1-4bb5-f927-f6ac89fd4640"
      },
      "execution_count": 36,
      "outputs": [
        {
          "output_type": "display_data",
          "data": {
            "text/plain": [
              "<Figure size 640x480 with 1 Axes>"
            ],
            "image/png": "[encoded data removed]"
          },
          "metadata": {}
        }
      ]
    },
    {
      "cell_type": "code",
      "source": [
        "# Cargamos el mejor modelo guardado del entrenamiento para hacer inferencia\n",
        "model1 = keras.models.load_model(f'{model1_name}.keras')"
      ],
      "metadata": {
        "id": "Rhy5hZN38qfO"
      },
      "execution_count": 37,
      "outputs": []
    },
    {
      "cell_type": "markdown",
      "metadata": {
        "id": "KN6Fg_BsxJe6"
      },
      "source": [
        "\n",
        "#### Predicción de próxima palabra"
      ]
    },
    {
      "cell_type": "code",
      "execution_count": 38,
      "metadata": {
        "id": "HNyBykvhzs7-",
        "colab": {
          "base_uri": "https://localhost:8080/",
          "height": 698
        },
        "outputId": "d0c88591-8e2b-417f-df01-68955c361dc8"
      },
      "outputs": [
        {
          "output_type": "stream",
          "name": "stdout",
          "text": [
            "Running Gradio in a Colab notebook requires sharing enabled. Automatically setting `share=True` (you can turn this off by setting `share=False` in `launch()` explicitly).\n",
            "\n",
            "Colab notebook detected. This cell will run indefinitely so that you can see errors and logs. To turn off, set debug=False in launch().\n",
            "* Running on public URL: https://e112c13813ee2deb8f.gradio.live\n",
            "\n",
            "This share link expires in 72 hours. For free permanent hosting and GPU upgrades, run `gradio deploy` from the terminal in the working directory to deploy to Hugging Face Spaces (https://huggingface.co/spaces)\n"
          ]
        },
        {
          "output_type": "display_data",
          "data": {
            "text/plain": [
              "<IPython.core.display.HTML object>"
            ],
            "text/html": [
              "<div><iframe src=\"https://e112c13813ee2deb8f.gradio.live\" width=\"100%\" height=\"500\" allow=\"autoplay; camera; microphone; clipboard-read; clipboard-write;\" frameborder=\"0\" allowfullscreen></iframe></div>"
            ]
          },
          "metadata": {}
        },
        {
          "output_type": "stream",
          "name": "stdout",
          "text": [
            "\u001b[1m1/1\u001b[0m \u001b[32m━━━━━━━━━━━━━━━━━━━━\u001b[0m\u001b[37m\u001b[0m \u001b[1m1s\u001b[0m 848ms/step\n",
            "Keyboard interruption in main thread... closing server.\n",
            "Killing tunnel 127.0.0.1:7860 <> https://e112c13813ee2deb8f.gradio.live\n"
          ]
        }
      ],
      "source": [
        "predict_with_gradio(model1)"
      ]
    },
    {
      "cell_type": "markdown",
      "metadata": {
        "id": "mCeMWWupxN1-"
      },
      "source": [
        "#### Generación de secuencias"
      ]
    },
    {
      "cell_type": "code",
      "execution_count": 39,
      "metadata": {
        "id": "JoFqRC5pxzqS",
        "colab": {
          "base_uri": "https://localhost:8080/",
          "height": 209
        },
        "outputId": "2bbb8c01-8723-4ff1-ec62-bfec302f71c5"
      },
      "outputs": [
        {
          "output_type": "stream",
          "name": "stdout",
          "text": [
            "\u001b[1m1/1\u001b[0m \u001b[32m━━━━━━━━━━━━━━━━━━━━\u001b[0m\u001b[37m\u001b[0m \u001b[1m0s\u001b[0m 16ms/step\n",
            "\u001b[1m1/1\u001b[0m \u001b[32m━━━━━━━━━━━━━━━━━━━━\u001b[0m\u001b[37m\u001b[0m \u001b[1m0s\u001b[0m 15ms/step\n",
            "\u001b[1m1/1\u001b[0m \u001b[32m━━━━━━━━━━━━━━━━━━━━\u001b[0m\u001b[37m\u001b[0m \u001b[1m0s\u001b[0m 15ms/step\n",
            "\u001b[1m1/1\u001b[0m \u001b[32m━━━━━━━━━━━━━━━━━━━━\u001b[0m\u001b[37m\u001b[0m \u001b[1m0s\u001b[0m 16ms/step\n",
            "\u001b[1m1/1\u001b[0m \u001b[32m━━━━━━━━━━━━━━━━━━━━\u001b[0m\u001b[37m\u001b[0m \u001b[1m0s\u001b[0m 15ms/step\n",
            "\u001b[1m1/1\u001b[0m \u001b[32m━━━━━━━━━━━━━━━━━━━━\u001b[0m\u001b[37m\u001b[0m \u001b[1m0s\u001b[0m 26ms/step\n",
            "\u001b[1m1/1\u001b[0m \u001b[32m━━━━━━━━━━━━━━━━━━━━\u001b[0m\u001b[37m\u001b[0m \u001b[1m0s\u001b[0m 15ms/step\n",
            "\u001b[1m1/1\u001b[0m \u001b[32m━━━━━━━━━━━━━━━━━━━━\u001b[0m\u001b[37m\u001b[0m \u001b[1m0s\u001b[0m 17ms/step\n",
            "\u001b[1m1/1\u001b[0m \u001b[32m━━━━━━━━━━━━━━━━━━━━\u001b[0m\u001b[37m\u001b[0m \u001b[1m0s\u001b[0m 24ms/step\n",
            "\u001b[1m1/1\u001b[0m \u001b[32m━━━━━━━━━━━━━━━━━━━━\u001b[0m\u001b[37m\u001b[0m \u001b[1m0s\u001b[0m 23ms/step\n"
          ]
        },
        {
          "output_type": "execute_result",
          "data": {
            "text/plain": [
              "'en un lugar de que que que que que que que que que que'"
            ],
            "application/vnd.google.colaboratory.intrinsic+json": {
              "type": "string"
            }
          },
          "metadata": {},
          "execution_count": 39
        }
      ],
      "source": [
        "input_text='en un lugar de'\n",
        "\n",
        "generate_seq(model1, tok, input_text, max_length=max_context_size, n_words=10)"
      ]
    },
    {
      "cell_type": "markdown",
      "metadata": {
        "id": "drJ6xn5qW1Hl"
      },
      "source": [
        "####  Beam search y muestreo aleatorio"
      ]
    },
    {
      "cell_type": "code",
      "execution_count": 41,
      "metadata": {
        "id": "GeLqAoOYW1Hm",
        "colab": {
          "base_uri": "https://localhost:8080/"
        },
        "outputId": "5f7231a5-e65a-42cb-bdbd-2e780b99d0af"
      },
      "outputs": [
        {
          "output_type": "stream",
          "name": "stdout",
          "text": [
            "Temperatura: 1\n",
            "Salida 1: ['si vuestra merced los del un su le he']\n",
            "Salida 2: ['si vuestra merced los del un su le poco']\n",
            "Salida 3: ['si vuestra merced los del un su le prometo']\n",
            "\n",
            "Temperatura: 5\n",
            "Salida 1: ['si vuestra merced don respondió del mocedad quisieron revolvía']\n",
            "Salida 2: ['si vuestra merced don respondió del mocedad viuda saber']\n",
            "Salida 3: ['si vuestra merced don respondió del mocedad viuda vuesa']\n",
            "\n",
            "Temperatura: 10\n",
            "Salida 1: ['si vuestra merced alcanzáredes placerdemivida llorando aparejos pasaba enderécese']\n",
            "Salida 2: ['si vuestra merced doncellas tolosa procurar trapisonda llaneza dices']\n",
            "Salida 3: ['si vuestra merced doncellas tolosa procurar trapisonda llaneza sudor']\n",
            "\n"
          ]
        }
      ],
      "source": [
        "temps = [1, 5, 10]\n",
        "for temp in temps:\n",
        "  print(f\"Temperatura: {temp}\")\n",
        "  salidas = beam_search(model1, num_beams=3, num_words=6, input=\"si vuestra merced\", temp=temp, mode='sto')\n",
        "  for idx, salida in enumerate(salidas):\n",
        "    print(f\"Salida {idx + 1}: {decode(salida)}\")\n",
        "  print()"
      ]
    },
    {
      "cell_type": "markdown",
      "source": [
        "\n",
        "### Definir el modelo 2: LSTM"
      ],
      "metadata": {
        "id": "matMTx4jV2xj"
      }
    },
    {
      "cell_type": "code",
      "source": [
        "model2 = Sequential()\n",
        "\n",
        "# Capa de embedding entrenable\n",
        "model2.add(Embedding(input_dim=vocab_size+1, output_dim=64, input_shape=(None,)))\n",
        "\n",
        "# SimpleRNN\n",
        "model2.add(LSTM(128, return_sequences=True))\n",
        "model2.add(Dropout(0.2))\n",
        "model2.add(LSTM(128, return_sequences=True))\n",
        "model2.add(Dropout(0.2))\n",
        "\n",
        "# Predicción de clasificación con softmax\n",
        "model2.add(Dense(vocab_size+1, activation='softmax'))\n",
        "\n",
        "model2.compile(loss=SparseCategoricalCrossentropy(), optimizer='rmsprop')\n",
        "\n",
        "model2.summary()"
      ],
      "metadata": {
        "colab": {
          "base_uri": "https://localhost:8080/",
          "height": 395
        },
        "outputId": "5796e946-a973-474f-e842-029a20cbe6e9",
        "id": "v0d_70j1V2xl"
      },
      "execution_count": 50,
      "outputs": [
        {
          "output_type": "stream",
          "name": "stderr",
          "text": [
            "/usr/local/lib/python3.10/dist-packages/keras/src/layers/core/embedding.py:93: UserWarning: Do not pass an `input_shape`/`input_dim` argument to a layer. When using Sequential models, prefer using an `Input(shape)` object as the first layer in the model instead.\n",
            "  super().__init__(**kwargs)\n"
          ]
        },
        {
          "output_type": "display_data",
          "data": {
            "text/plain": [
              "\u001b[1mModel: \"sequential_4\"\u001b[0m\n"
            ],
            "text/html": [
              "<pre style=\"white-space:pre;overflow-x:auto;line-height:normal;font-family:Menlo,'DejaVu Sans Mono',consolas,'Courier New',monospace\"><span style=\"font-weight: bold\">Model: \"sequential_4\"</span>\n",
              "</pre>\n"
            ]
          },
          "metadata": {}
        },
        {
          "output_type": "display_data",
          "data": {
            "text/plain": [
              "┏━━━━━━━━━━━━━━━━━━━━━━━━━━━━━━━━━━━━━━┳━━━━━━━━━━━━━━━━━━━━━━━━━━━━━┳━━━━━━━━━━━━━━━━━┓\n",
              "┃\u001b[1m \u001b[0m\u001b[1mLayer (type)                        \u001b[0m\u001b[1m \u001b[0m┃\u001b[1m \u001b[0m\u001b[1mOutput Shape               \u001b[0m\u001b[1m \u001b[0m┃\u001b[1m \u001b[0m\u001b[1m        Param #\u001b[0m\u001b[1m \u001b[0m┃\n",
              "┡━━━━━━━━━━━━━━━━━━━━━━━━━━━━━━━━━━━━━━╇━━━━━━━━━━━━━━━━━━━━━━━━━━━━━╇━━━━━━━━━━━━━━━━━┩\n",
              "│ embedding_4 (\u001b[38;5;33mEmbedding\u001b[0m)              │ (\u001b[38;5;45mNone\u001b[0m, \u001b[38;5;45mNone\u001b[0m, \u001b[38;5;34m64\u001b[0m)            │         \u001b[38;5;34m278,464\u001b[0m │\n",
              "├──────────────────────────────────────┼─────────────────────────────┼─────────────────┤\n",
              "│ lstm_6 (\u001b[38;5;33mLSTM\u001b[0m)                        │ (\u001b[38;5;45mNone\u001b[0m, \u001b[38;5;45mNone\u001b[0m, \u001b[38;5;34m128\u001b[0m)           │          \u001b[38;5;34m98,816\u001b[0m │\n",
              "├──────────────────────────────────────┼─────────────────────────────┼─────────────────┤\n",
              "│ dropout_5 (\u001b[38;5;33mDropout\u001b[0m)                  │ (\u001b[38;5;45mNone\u001b[0m, \u001b[38;5;45mNone\u001b[0m, \u001b[38;5;34m128\u001b[0m)           │               \u001b[38;5;34m0\u001b[0m │\n",
              "├──────────────────────────────────────┼─────────────────────────────┼─────────────────┤\n",
              "│ lstm_7 (\u001b[38;5;33mLSTM\u001b[0m)                        │ (\u001b[38;5;45mNone\u001b[0m, \u001b[38;5;45mNone\u001b[0m, \u001b[38;5;34m128\u001b[0m)           │         \u001b[38;5;34m131,584\u001b[0m │\n",
              "├──────────────────────────────────────┼─────────────────────────────┼─────────────────┤\n",
              "│ dropout_6 (\u001b[38;5;33mDropout\u001b[0m)                  │ (\u001b[38;5;45mNone\u001b[0m, \u001b[38;5;45mNone\u001b[0m, \u001b[38;5;34m128\u001b[0m)           │               \u001b[38;5;34m0\u001b[0m │\n",
              "├──────────────────────────────────────┼─────────────────────────────┼─────────────────┤\n",
              "│ dense_4 (\u001b[38;5;33mDense\u001b[0m)                      │ (\u001b[38;5;45mNone\u001b[0m, \u001b[38;5;45mNone\u001b[0m, \u001b[38;5;34m4351\u001b[0m)          │         \u001b[38;5;34m561,279\u001b[0m │\n",
              "└──────────────────────────────────────┴─────────────────────────────┴─────────────────┘\n"
            ],
            "text/html": [
              "<pre style=\"white-space:pre;overflow-x:auto;line-height:normal;font-family:Menlo,'DejaVu Sans Mono',consolas,'Courier New',monospace\">┏━━━━━━━━━━━━━━━━━━━━━━━━━━━━━━━━━━━━━━┳━━━━━━━━━━━━━━━━━━━━━━━━━━━━━┳━━━━━━━━━━━━━━━━━┓\n",
              "┃<span style=\"font-weight: bold\"> Layer (type)                         </span>┃<span style=\"font-weight: bold\"> Output Shape                </span>┃<span style=\"font-weight: bold\">         Param # </span>┃\n",
              "┡━━━━━━━━━━━━━━━━━━━━━━━━━━━━━━━━━━━━━━╇━━━━━━━━━━━━━━━━━━━━━━━━━━━━━╇━━━━━━━━━━━━━━━━━┩\n",
              "│ embedding_4 (<span style=\"color: #0087ff; text-decoration-color: #0087ff\">Embedding</span>)              │ (<span style=\"color: #00d7ff; text-decoration-color: #00d7ff\">None</span>, <span style=\"color: #00d7ff; text-decoration-color: #00d7ff\">None</span>, <span style=\"color: #00af00; text-decoration-color: #00af00\">64</span>)            │         <span style=\"color: #00af00; text-decoration-color: #00af00\">278,464</span> │\n",
              "├──────────────────────────────────────┼─────────────────────────────┼─────────────────┤\n",
              "│ lstm_6 (<span style=\"color: #0087ff; text-decoration-color: #0087ff\">LSTM</span>)                        │ (<span style=\"color: #00d7ff; text-decoration-color: #00d7ff\">None</span>, <span style=\"color: #00d7ff; text-decoration-color: #00d7ff\">None</span>, <span style=\"color: #00af00; text-decoration-color: #00af00\">128</span>)           │          <span style=\"color: #00af00; text-decoration-color: #00af00\">98,816</span> │\n",
              "├──────────────────────────────────────┼─────────────────────────────┼─────────────────┤\n",
              "│ dropout_5 (<span style=\"color: #0087ff; text-decoration-color: #0087ff\">Dropout</span>)                  │ (<span style=\"color: #00d7ff; text-decoration-color: #00d7ff\">None</span>, <span style=\"color: #00d7ff; text-decoration-color: #00d7ff\">None</span>, <span style=\"color: #00af00; text-decoration-color: #00af00\">128</span>)           │               <span style=\"color: #00af00; text-decoration-color: #00af00\">0</span> │\n",
              "├──────────────────────────────────────┼─────────────────────────────┼─────────────────┤\n",
              "│ lstm_7 (<span style=\"color: #0087ff; text-decoration-color: #0087ff\">LSTM</span>)                        │ (<span style=\"color: #00d7ff; text-decoration-color: #00d7ff\">None</span>, <span style=\"color: #00d7ff; text-decoration-color: #00d7ff\">None</span>, <span style=\"color: #00af00; text-decoration-color: #00af00\">128</span>)           │         <span style=\"color: #00af00; text-decoration-color: #00af00\">131,584</span> │\n",
              "├──────────────────────────────────────┼─────────────────────────────┼─────────────────┤\n",
              "│ dropout_6 (<span style=\"color: #0087ff; text-decoration-color: #0087ff\">Dropout</span>)                  │ (<span style=\"color: #00d7ff; text-decoration-color: #00d7ff\">None</span>, <span style=\"color: #00d7ff; text-decoration-color: #00d7ff\">None</span>, <span style=\"color: #00af00; text-decoration-color: #00af00\">128</span>)           │               <span style=\"color: #00af00; text-decoration-color: #00af00\">0</span> │\n",
              "├──────────────────────────────────────┼─────────────────────────────┼─────────────────┤\n",
              "│ dense_4 (<span style=\"color: #0087ff; text-decoration-color: #0087ff\">Dense</span>)                      │ (<span style=\"color: #00d7ff; text-decoration-color: #00d7ff\">None</span>, <span style=\"color: #00d7ff; text-decoration-color: #00d7ff\">None</span>, <span style=\"color: #00af00; text-decoration-color: #00af00\">4351</span>)          │         <span style=\"color: #00af00; text-decoration-color: #00af00\">561,279</span> │\n",
              "└──────────────────────────────────────┴─────────────────────────────┴─────────────────┘\n",
              "</pre>\n"
            ]
          },
          "metadata": {}
        },
        {
          "output_type": "display_data",
          "data": {
            "text/plain": [
              "\u001b[1m Total params: \u001b[0m\u001b[38;5;34m1,070,143\u001b[0m (4.08 MB)\n"
            ],
            "text/html": [
              "<pre style=\"white-space:pre;overflow-x:auto;line-height:normal;font-family:Menlo,'DejaVu Sans Mono',consolas,'Courier New',monospace\"><span style=\"font-weight: bold\"> Total params: </span><span style=\"color: #00af00; text-decoration-color: #00af00\">1,070,143</span> (4.08 MB)\n",
              "</pre>\n"
            ]
          },
          "metadata": {}
        },
        {
          "output_type": "display_data",
          "data": {
            "text/plain": [
              "\u001b[1m Trainable params: \u001b[0m\u001b[38;5;34m1,070,143\u001b[0m (4.08 MB)\n"
            ],
            "text/html": [
              "<pre style=\"white-space:pre;overflow-x:auto;line-height:normal;font-family:Menlo,'DejaVu Sans Mono',consolas,'Courier New',monospace\"><span style=\"font-weight: bold\"> Trainable params: </span><span style=\"color: #00af00; text-decoration-color: #00af00\">1,070,143</span> (4.08 MB)\n",
              "</pre>\n"
            ]
          },
          "metadata": {}
        },
        {
          "output_type": "display_data",
          "data": {
            "text/plain": [
              "\u001b[1m Non-trainable params: \u001b[0m\u001b[38;5;34m0\u001b[0m (0.00 B)\n"
            ],
            "text/html": [
              "<pre style=\"white-space:pre;overflow-x:auto;line-height:normal;font-family:Menlo,'DejaVu Sans Mono',consolas,'Courier New',monospace\"><span style=\"font-weight: bold\"> Non-trainable params: </span><span style=\"color: #00af00; text-decoration-color: #00af00\">0</span> (0.00 B)\n",
              "</pre>\n"
            ]
          },
          "metadata": {}
        }
      ]
    },
    {
      "cell_type": "markdown",
      "metadata": {
        "id": "SJq7oLjAV2xm"
      },
      "source": [
        "#### Entrenamiento"
      ]
    },
    {
      "cell_type": "code",
      "execution_count": 51,
      "metadata": {
        "colab": {
          "base_uri": "https://localhost:8080/"
        },
        "outputId": "d19ea555-f2d9-4c37-c7aa-20d8a3615bdf",
        "id": "ffOFrnXXV2xm"
      },
      "outputs": [
        {
          "output_type": "stream",
          "name": "stdout",
          "text": [
            "Epoch 1/20\n",
            "\u001b[1m299/300\u001b[0m \u001b[32m━━━━━━━━━━━━━━━━━━━\u001b[0m\u001b[37m━\u001b[0m \u001b[1m0s\u001b[0m 13ms/step - loss: 4.4199\n",
            " mean perplexity: 15517.900792176504 \n",
            "\n",
            "Saved new model!\n",
            "\u001b[1m300/300\u001b[0m \u001b[32m━━━━━━━━━━━━━━━━━━━━\u001b[0m\u001b[37m\u001b[0m \u001b[1m14s\u001b[0m 32ms/step - loss: 4.4141\n",
            "Epoch 2/20\n",
            "\u001b[1m299/300\u001b[0m \u001b[32m━━━━━━━━━━━━━━━━━━━\u001b[0m\u001b[37m━\u001b[0m \u001b[1m0s\u001b[0m 12ms/step - loss: 3.0003\n",
            " mean perplexity: 16298.57899962221 \n",
            "\n",
            "\u001b[1m300/300\u001b[0m \u001b[32m━━━━━━━━━━━━━━━━━━━━\u001b[0m\u001b[37m\u001b[0m \u001b[1m16s\u001b[0m 29ms/step - loss: 3.0003\n",
            "Epoch 3/20\n",
            "\u001b[1m298/300\u001b[0m \u001b[32m━━━━━━━━━━━━━━━━━━━\u001b[0m\u001b[37m━\u001b[0m \u001b[1m0s\u001b[0m 13ms/step - loss: 2.9786\n",
            " mean perplexity: 13114.162191966401 \n",
            "\n",
            "Saved new model!\n",
            "\u001b[1m300/300\u001b[0m \u001b[32m━━━━━━━━━━━━━━━━━━━━\u001b[0m\u001b[37m\u001b[0m \u001b[1m9s\u001b[0m 31ms/step - loss: 2.9786\n",
            "Epoch 4/20\n",
            "\u001b[1m297/300\u001b[0m \u001b[32m━━━━━━━━━━━━━━━━━━━\u001b[0m\u001b[37m━\u001b[0m \u001b[1m0s\u001b[0m 12ms/step - loss: 2.9706\n",
            " mean perplexity: 17331.46354005819 \n",
            "\n",
            "\u001b[1m300/300\u001b[0m \u001b[32m━━━━━━━━━━━━━━━━━━━━\u001b[0m\u001b[37m\u001b[0m \u001b[1m7s\u001b[0m 24ms/step - loss: 2.9704\n",
            "Epoch 5/20\n",
            "\u001b[1m296/300\u001b[0m \u001b[32m━━━━━━━━━━━━━━━━━━━\u001b[0m\u001b[37m━\u001b[0m \u001b[1m0s\u001b[0m 12ms/step - loss: 2.9458\n",
            " mean perplexity: 16246.22595531107 \n",
            "\n",
            "\u001b[1m300/300\u001b[0m \u001b[32m━━━━━━━━━━━━━━━━━━━━\u001b[0m\u001b[37m\u001b[0m \u001b[1m7s\u001b[0m 22ms/step - loss: 2.9458\n",
            "Epoch 6/20\n",
            "\u001b[1m297/300\u001b[0m \u001b[32m━━━━━━━━━━━━━━━━━━━\u001b[0m\u001b[37m━\u001b[0m \u001b[1m0s\u001b[0m 12ms/step - loss: 2.9624\n",
            " mean perplexity: 16796.83225360492 \n",
            "\n",
            "\u001b[1m300/300\u001b[0m \u001b[32m━━━━━━━━━━━━━━━━━━━━\u001b[0m\u001b[37m\u001b[0m \u001b[1m9s\u001b[0m 30ms/step - loss: 2.9620\n",
            "Epoch 7/20\n",
            "\u001b[1m300/300\u001b[0m \u001b[32m━━━━━━━━━━━━━━━━━━━━\u001b[0m\u001b[37m\u001b[0m \u001b[1m0s\u001b[0m 12ms/step - loss: 2.9215\n",
            " mean perplexity: 15534.145612914277 \n",
            "\n",
            "\u001b[1m300/300\u001b[0m \u001b[32m━━━━━━━━━━━━━━━━━━━━\u001b[0m\u001b[37m\u001b[0m \u001b[1m10s\u001b[0m 29ms/step - loss: 2.9215\n",
            "Epoch 8/20\n",
            "\u001b[1m297/300\u001b[0m \u001b[32m━━━━━━━━━━━━━━━━━━━\u001b[0m\u001b[37m━\u001b[0m \u001b[1m0s\u001b[0m 12ms/step - loss: 2.9118\n",
            " mean perplexity: 22518.02236417409 \n",
            "\n",
            "Stopping training...\n",
            "\u001b[1m300/300\u001b[0m \u001b[32m━━━━━━━━━━━━━━━━━━━━\u001b[0m\u001b[37m\u001b[0m \u001b[1m8s\u001b[0m 22ms/step - loss: 2.9113\n"
          ]
        }
      ],
      "source": [
        "# fiteamos, nótese el agregado del callback con su inicialización. El batch_size lo podemos seleccionar a mano\n",
        "# en general, lo mejor es escoger el batch más grande posible que minimice el tiempo de cada época.\n",
        "# En la variable `history_ppl` se guardarán los valores de perplejidad para cada época.\n",
        "history_ppl2 = []\n",
        "model2_name = \"LSTM\"\n",
        "hist2 = model2.fit(X, y, epochs=20, callbacks=[PplCallback(tokenized_sentences_val, history_ppl2, model2_name)], batch_size=64)"
      ]
    },
    {
      "cell_type": "code",
      "source": [
        "plot_model_history(history_ppl2, model2_name)"
      ],
      "metadata": {
        "colab": {
          "base_uri": "https://localhost:8080/",
          "height": 472
        },
        "outputId": "dde1da88-9b24-420d-abc1-e8961d8e3ba5",
        "id": "5mWkDMMoV2xn"
      },
      "execution_count": 52,
      "outputs": [
        {
          "output_type": "display_data",
          "data": {
            "text/plain": [
              "<Figure size 640x480 with 1 Axes>"
            ],
            "image/png": "[encoded data removed]"
          },
          "metadata": {}
        }
      ]
    },
    {
      "cell_type": "code",
      "source": [
        "# Cargamos el mejor modelo guardado del entrenamiento para hacer inferencia\n",
        "model2 = keras.models.load_model(f'{model2_name}.keras')"
      ],
      "metadata": {
        "id": "hb9RsEp6V2xo"
      },
      "execution_count": 53,
      "outputs": []
    },
    {
      "cell_type": "markdown",
      "metadata": {
        "id": "4ctsyfHmV2xo"
      },
      "source": [
        "\n",
        "#### Predicción de próxima palabra"
      ]
    },
    {
      "cell_type": "code",
      "execution_count": 54,
      "metadata": {
        "colab": {
          "base_uri": "https://localhost:8080/",
          "height": 698
        },
        "outputId": "0262426b-4c51-4007-bb54-203fd1f86dc2",
        "id": "7SKoc8w0V2xo"
      },
      "outputs": [
        {
          "output_type": "stream",
          "name": "stdout",
          "text": [
            "Running Gradio in a Colab notebook requires sharing enabled. Automatically setting `share=True` (you can turn this off by setting `share=False` in `launch()` explicitly).\n",
            "\n",
            "Colab notebook detected. This cell will run indefinitely so that you can see errors and logs. To turn off, set debug=False in launch().\n",
            "* Running on public URL: https://4be192dc007c377c3d.gradio.live\n",
            "\n",
            "This share link expires in 72 hours. For free permanent hosting and GPU upgrades, run `gradio deploy` from the terminal in the working directory to deploy to Hugging Face Spaces (https://huggingface.co/spaces)\n"
          ]
        },
        {
          "output_type": "display_data",
          "data": {
            "text/plain": [
              "<IPython.core.display.HTML object>"
            ],
            "text/html": [
              "<div><iframe src=\"https://4be192dc007c377c3d.gradio.live\" width=\"100%\" height=\"500\" allow=\"autoplay; camera; microphone; clipboard-read; clipboard-write;\" frameborder=\"0\" allowfullscreen></iframe></div>"
            ]
          },
          "metadata": {}
        },
        {
          "output_type": "stream",
          "name": "stdout",
          "text": [
            "\u001b[1m1/1\u001b[0m \u001b[32m━━━━━━━━━━━━━━━━━━━━\u001b[0m\u001b[37m\u001b[0m \u001b[1m0s\u001b[0m 177ms/step\n",
            "Keyboard interruption in main thread... closing server.\n",
            "Killing tunnel 127.0.0.1:7860 <> https://4be192dc007c377c3d.gradio.live\n"
          ]
        }
      ],
      "source": [
        "predict_with_gradio(model2)"
      ]
    },
    {
      "cell_type": "markdown",
      "metadata": {
        "id": "jCMdJFH6V2xp"
      },
      "source": [
        "#### Generación de secuencias"
      ]
    },
    {
      "cell_type": "code",
      "execution_count": 55,
      "metadata": {
        "colab": {
          "base_uri": "https://localhost:8080/",
          "height": 209
        },
        "outputId": "8c814e5c-e1fe-4633-c9a4-23c46c83be31",
        "id": "eceEtN7_V2xp"
      },
      "outputs": [
        {
          "output_type": "stream",
          "name": "stdout",
          "text": [
            "\u001b[1m1/1\u001b[0m \u001b[32m━━━━━━━━━━━━━━━━━━━━\u001b[0m\u001b[37m\u001b[0m \u001b[1m0s\u001b[0m 18ms/step\n",
            "\u001b[1m1/1\u001b[0m \u001b[32m━━━━━━━━━━━━━━━━━━━━\u001b[0m\u001b[37m\u001b[0m \u001b[1m0s\u001b[0m 16ms/step\n",
            "\u001b[1m1/1\u001b[0m \u001b[32m━━━━━━━━━━━━━━━━━━━━\u001b[0m\u001b[37m\u001b[0m \u001b[1m0s\u001b[0m 16ms/step\n",
            "\u001b[1m1/1\u001b[0m \u001b[32m━━━━━━━━━━━━━━━━━━━━\u001b[0m\u001b[37m\u001b[0m \u001b[1m0s\u001b[0m 17ms/step\n",
            "\u001b[1m1/1\u001b[0m \u001b[32m━━━━━━━━━━━━━━━━━━━━\u001b[0m\u001b[37m\u001b[0m \u001b[1m0s\u001b[0m 16ms/step\n",
            "\u001b[1m1/1\u001b[0m \u001b[32m━━━━━━━━━━━━━━━━━━━━\u001b[0m\u001b[37m\u001b[0m \u001b[1m0s\u001b[0m 17ms/step\n",
            "\u001b[1m1/1\u001b[0m \u001b[32m━━━━━━━━━━━━━━━━━━━━\u001b[0m\u001b[37m\u001b[0m \u001b[1m0s\u001b[0m 17ms/step\n",
            "\u001b[1m1/1\u001b[0m \u001b[32m━━━━━━━━━━━━━━━━━━━━\u001b[0m\u001b[37m\u001b[0m \u001b[1m0s\u001b[0m 18ms/step\n",
            "\u001b[1m1/1\u001b[0m \u001b[32m━━━━━━━━━━━━━━━━━━━━\u001b[0m\u001b[37m\u001b[0m \u001b[1m0s\u001b[0m 17ms/step\n",
            "\u001b[1m1/1\u001b[0m \u001b[32m━━━━━━━━━━━━━━━━━━━━\u001b[0m\u001b[37m\u001b[0m \u001b[1m0s\u001b[0m 17ms/step\n"
          ]
        },
        {
          "output_type": "execute_result",
          "data": {
            "text/plain": [
              "'en un lugar de de de de que que que que que que que'"
            ],
            "application/vnd.google.colaboratory.intrinsic+json": {
              "type": "string"
            }
          },
          "metadata": {},
          "execution_count": 55
        }
      ],
      "source": [
        "input_text='en un lugar de'\n",
        "\n",
        "generate_seq(model2, tok, input_text, max_length=max_context_size, n_words=10)"
      ]
    },
    {
      "cell_type": "markdown",
      "metadata": {
        "id": "xeFshOKkV2xp"
      },
      "source": [
        "####  Beam search y muestreo aleatorio"
      ]
    },
    {
      "cell_type": "code",
      "execution_count": 56,
      "metadata": {
        "colab": {
          "base_uri": "https://localhost:8080/"
        },
        "outputId": "37c3ed08-ebed-4aca-949f-83866ce11930",
        "id": "luZstexnV2xp"
      },
      "outputs": [
        {
          "output_type": "stream",
          "name": "stdout",
          "text": [
            "Temperatura: 1\n",
            "Salida 1: ['si vuestra merced si se que de juan fatigaban']\n",
            "Salida 2: ['si vuestra merced si se que de ofenden hacer']\n",
            "Salida 3: ['si vuestra merced si se que de ofenden podía']\n",
            "\n",
            "Temperatura: 5\n",
            "Salida 1: ['si vuestra merced su dicha saber ése resucitara hacelde']\n",
            "Salida 2: ['si vuestra merced su dicha saber andante melindroso esos']\n",
            "Salida 3: ['si vuestra merced su dicha saber ése resucitara encima']\n",
            "\n",
            "Temperatura: 10\n",
            "Salida 1: ['si vuestra merced defenderme su vida mía no conocimiento']\n",
            "Salida 2: ['si vuestra merced defenderme su vida mía no denuedo']\n",
            "Salida 3: ['si vuestra merced defenderme su vida mía no cosmógrafo']\n",
            "\n"
          ]
        }
      ],
      "source": [
        "temps = [1, 5, 10]\n",
        "for temp in temps:\n",
        "  print(f\"Temperatura: {temp}\")\n",
        "  salidas = beam_search(model2, num_beams=3, num_words=6, input=\"si vuestra merced\", temp=temp, mode='sto')\n",
        "  for idx, salida in enumerate(salidas):\n",
        "    print(f\"Salida {idx + 1}: {decode(salida)}\")\n",
        "  print()"
      ]
    },
    {
      "cell_type": "markdown",
      "source": [
        "\n",
        "### Definir el modelo 3: GRU"
      ],
      "metadata": {
        "id": "OOxXBwXFYJVC"
      }
    },
    {
      "cell_type": "code",
      "source": [
        "model3 = Sequential()\n",
        "\n",
        "# Capa de embedding entrenable\n",
        "model3.add(Embedding(input_dim=vocab_size+1, output_dim=64, input_shape=(None,)))\n",
        "\n",
        "# SimpleRNN\n",
        "model3.add(LSTM(128, return_sequences=True))\n",
        "model3.add(Dropout(0.2))\n",
        "model3.add(LSTM(128, return_sequences=True))\n",
        "model3.add(Dropout(0.2))\n",
        "\n",
        "# Predicción de clasificación con softmax\n",
        "model3.add(Dense(vocab_size+1, activation='softmax'))\n",
        "\n",
        "model3.compile(loss=SparseCategoricalCrossentropy(), optimizer='rmsprop')\n",
        "\n",
        "model3.summary()"
      ],
      "metadata": {
        "colab": {
          "base_uri": "https://localhost:8080/",
          "height": 395
        },
        "outputId": "af5a8827-b79b-430c-fb6d-37c6a0a2fb86",
        "id": "XbFbtIB8YJVD"
      },
      "execution_count": 57,
      "outputs": [
        {
          "output_type": "stream",
          "name": "stderr",
          "text": [
            "/usr/local/lib/python3.10/dist-packages/keras/src/layers/core/embedding.py:93: UserWarning: Do not pass an `input_shape`/`input_dim` argument to a layer. When using Sequential models, prefer using an `Input(shape)` object as the first layer in the model instead.\n",
            "  super().__init__(**kwargs)\n"
          ]
        },
        {
          "output_type": "display_data",
          "data": {
            "text/plain": [
              "\u001b[1mModel: \"sequential_5\"\u001b[0m\n"
            ],
            "text/html": [
              "<pre style=\"white-space:pre;overflow-x:auto;line-height:normal;font-family:Menlo,'DejaVu Sans Mono',consolas,'Courier New',monospace\"><span style=\"font-weight: bold\">Model: \"sequential_5\"</span>\n",
              "</pre>\n"
            ]
          },
          "metadata": {}
        },
        {
          "output_type": "display_data",
          "data": {
            "text/plain": [
              "┏━━━━━━━━━━━━━━━━━━━━━━━━━━━━━━━━━━━━━━┳━━━━━━━━━━━━━━━━━━━━━━━━━━━━━┳━━━━━━━━━━━━━━━━━┓\n",
              "┃\u001b[1m \u001b[0m\u001b[1mLayer (type)                        \u001b[0m\u001b[1m \u001b[0m┃\u001b[1m \u001b[0m\u001b[1mOutput Shape               \u001b[0m\u001b[1m \u001b[0m┃\u001b[1m \u001b[0m\u001b[1m        Param #\u001b[0m\u001b[1m \u001b[0m┃\n",
              "┡━━━━━━━━━━━━━━━━━━━━━━━━━━━━━━━━━━━━━━╇━━━━━━━━━━━━━━━━━━━━━━━━━━━━━╇━━━━━━━━━━━━━━━━━┩\n",
              "│ embedding_5 (\u001b[38;5;33mEmbedding\u001b[0m)              │ (\u001b[38;5;45mNone\u001b[0m, \u001b[38;5;45mNone\u001b[0m, \u001b[38;5;34m64\u001b[0m)            │         \u001b[38;5;34m278,464\u001b[0m │\n",
              "├──────────────────────────────────────┼─────────────────────────────┼─────────────────┤\n",
              "│ lstm_8 (\u001b[38;5;33mLSTM\u001b[0m)                        │ (\u001b[38;5;45mNone\u001b[0m, \u001b[38;5;45mNone\u001b[0m, \u001b[38;5;34m128\u001b[0m)           │          \u001b[38;5;34m98,816\u001b[0m │\n",
              "├──────────────────────────────────────┼─────────────────────────────┼─────────────────┤\n",
              "│ dropout_7 (\u001b[38;5;33mDropout\u001b[0m)                  │ (\u001b[38;5;45mNone\u001b[0m, \u001b[38;5;45mNone\u001b[0m, \u001b[38;5;34m128\u001b[0m)           │               \u001b[38;5;34m0\u001b[0m │\n",
              "├──────────────────────────────────────┼─────────────────────────────┼─────────────────┤\n",
              "│ lstm_9 (\u001b[38;5;33mLSTM\u001b[0m)                        │ (\u001b[38;5;45mNone\u001b[0m, \u001b[38;5;45mNone\u001b[0m, \u001b[38;5;34m128\u001b[0m)           │         \u001b[38;5;34m131,584\u001b[0m │\n",
              "├──────────────────────────────────────┼─────────────────────────────┼─────────────────┤\n",
              "│ dropout_8 (\u001b[38;5;33mDropout\u001b[0m)                  │ (\u001b[38;5;45mNone\u001b[0m, \u001b[38;5;45mNone\u001b[0m, \u001b[38;5;34m128\u001b[0m)           │               \u001b[38;5;34m0\u001b[0m │\n",
              "├──────────────────────────────────────┼─────────────────────────────┼─────────────────┤\n",
              "│ dense_5 (\u001b[38;5;33mDense\u001b[0m)                      │ (\u001b[38;5;45mNone\u001b[0m, \u001b[38;5;45mNone\u001b[0m, \u001b[38;5;34m4351\u001b[0m)          │         \u001b[38;5;34m561,279\u001b[0m │\n",
              "└──────────────────────────────────────┴─────────────────────────────┴─────────────────┘\n"
            ],
            "text/html": [
              "<pre style=\"white-space:pre;overflow-x:auto;line-height:normal;font-family:Menlo,'DejaVu Sans Mono',consolas,'Courier New',monospace\">┏━━━━━━━━━━━━━━━━━━━━━━━━━━━━━━━━━━━━━━┳━━━━━━━━━━━━━━━━━━━━━━━━━━━━━┳━━━━━━━━━━━━━━━━━┓\n",
              "┃<span style=\"font-weight: bold\"> Layer (type)                         </span>┃<span style=\"font-weight: bold\"> Output Shape                </span>┃<span style=\"font-weight: bold\">         Param # </span>┃\n",
              "┡━━━━━━━━━━━━━━━━━━━━━━━━━━━━━━━━━━━━━━╇━━━━━━━━━━━━━━━━━━━━━━━━━━━━━╇━━━━━━━━━━━━━━━━━┩\n",
              "│ embedding_5 (<span style=\"color: #0087ff; text-decoration-color: #0087ff\">Embedding</span>)              │ (<span style=\"color: #00d7ff; text-decoration-color: #00d7ff\">None</span>, <span style=\"color: #00d7ff; text-decoration-color: #00d7ff\">None</span>, <span style=\"color: #00af00; text-decoration-color: #00af00\">64</span>)            │         <span style=\"color: #00af00; text-decoration-color: #00af00\">278,464</span> │\n",
              "├──────────────────────────────────────┼─────────────────────────────┼─────────────────┤\n",
              "│ lstm_8 (<span style=\"color: #0087ff; text-decoration-color: #0087ff\">LSTM</span>)                        │ (<span style=\"color: #00d7ff; text-decoration-color: #00d7ff\">None</span>, <span style=\"color: #00d7ff; text-decoration-color: #00d7ff\">None</span>, <span style=\"color: #00af00; text-decoration-color: #00af00\">128</span>)           │          <span style=\"color: #00af00; text-decoration-color: #00af00\">98,816</span> │\n",
              "├──────────────────────────────────────┼─────────────────────────────┼─────────────────┤\n",
              "│ dropout_7 (<span style=\"color: #0087ff; text-decoration-color: #0087ff\">Dropout</span>)                  │ (<span style=\"color: #00d7ff; text-decoration-color: #00d7ff\">None</span>, <span style=\"color: #00d7ff; text-decoration-color: #00d7ff\">None</span>, <span style=\"color: #00af00; text-decoration-color: #00af00\">128</span>)           │               <span style=\"color: #00af00; text-decoration-color: #00af00\">0</span> │\n",
              "├──────────────────────────────────────┼─────────────────────────────┼─────────────────┤\n",
              "│ lstm_9 (<span style=\"color: #0087ff; text-decoration-color: #0087ff\">LSTM</span>)                        │ (<span style=\"color: #00d7ff; text-decoration-color: #00d7ff\">None</span>, <span style=\"color: #00d7ff; text-decoration-color: #00d7ff\">None</span>, <span style=\"color: #00af00; text-decoration-color: #00af00\">128</span>)           │         <span style=\"color: #00af00; text-decoration-color: #00af00\">131,584</span> │\n",
              "├──────────────────────────────────────┼─────────────────────────────┼─────────────────┤\n",
              "│ dropout_8 (<span style=\"color: #0087ff; text-decoration-color: #0087ff\">Dropout</span>)                  │ (<span style=\"color: #00d7ff; text-decoration-color: #00d7ff\">None</span>, <span style=\"color: #00d7ff; text-decoration-color: #00d7ff\">None</span>, <span style=\"color: #00af00; text-decoration-color: #00af00\">128</span>)           │               <span style=\"color: #00af00; text-decoration-color: #00af00\">0</span> │\n",
              "├──────────────────────────────────────┼─────────────────────────────┼─────────────────┤\n",
              "│ dense_5 (<span style=\"color: #0087ff; text-decoration-color: #0087ff\">Dense</span>)                      │ (<span style=\"color: #00d7ff; text-decoration-color: #00d7ff\">None</span>, <span style=\"color: #00d7ff; text-decoration-color: #00d7ff\">None</span>, <span style=\"color: #00af00; text-decoration-color: #00af00\">4351</span>)          │         <span style=\"color: #00af00; text-decoration-color: #00af00\">561,279</span> │\n",
              "└──────────────────────────────────────┴─────────────────────────────┴─────────────────┘\n",
              "</pre>\n"
            ]
          },
          "metadata": {}
        },
        {
          "output_type": "display_data",
          "data": {
            "text/plain": [
              "\u001b[1m Total params: \u001b[0m\u001b[38;5;34m1,070,143\u001b[0m (4.08 MB)\n"
            ],
            "text/html": [
              "<pre style=\"white-space:pre;overflow-x:auto;line-height:normal;font-family:Menlo,'DejaVu Sans Mono',consolas,'Courier New',monospace\"><span style=\"font-weight: bold\"> Total params: </span><span style=\"color: #00af00; text-decoration-color: #00af00\">1,070,143</span> (4.08 MB)\n",
              "</pre>\n"
            ]
          },
          "metadata": {}
        },
        {
          "output_type": "display_data",
          "data": {
            "text/plain": [
              "\u001b[1m Trainable params: \u001b[0m\u001b[38;5;34m1,070,143\u001b[0m (4.08 MB)\n"
            ],
            "text/html": [
              "<pre style=\"white-space:pre;overflow-x:auto;line-height:normal;font-family:Menlo,'DejaVu Sans Mono',consolas,'Courier New',monospace\"><span style=\"font-weight: bold\"> Trainable params: </span><span style=\"color: #00af00; text-decoration-color: #00af00\">1,070,143</span> (4.08 MB)\n",
              "</pre>\n"
            ]
          },
          "metadata": {}
        },
        {
          "output_type": "display_data",
          "data": {
            "text/plain": [
              "\u001b[1m Non-trainable params: \u001b[0m\u001b[38;5;34m0\u001b[0m (0.00 B)\n"
            ],
            "text/html": [
              "<pre style=\"white-space:pre;overflow-x:auto;line-height:normal;font-family:Menlo,'DejaVu Sans Mono',consolas,'Courier New',monospace\"><span style=\"font-weight: bold\"> Non-trainable params: </span><span style=\"color: #00af00; text-decoration-color: #00af00\">0</span> (0.00 B)\n",
              "</pre>\n"
            ]
          },
          "metadata": {}
        }
      ]
    },
    {
      "cell_type": "markdown",
      "metadata": {
        "id": "vm3n14FJYJVD"
      },
      "source": [
        "#### Entrenamiento"
      ]
    },
    {
      "cell_type": "code",
      "execution_count": 58,
      "metadata": {
        "colab": {
          "base_uri": "https://localhost:8080/"
        },
        "outputId": "5559b8a9-ca08-47e9-b603-2c48461ef880",
        "id": "QQQjipM6YJVD"
      },
      "outputs": [
        {
          "output_type": "stream",
          "name": "stdout",
          "text": [
            "Epoch 1/20\n",
            "\u001b[1m298/300\u001b[0m \u001b[32m━━━━━━━━━━━━━━━━━━━\u001b[0m\u001b[37m━\u001b[0m \u001b[1m0s\u001b[0m 17ms/step - loss: 4.4313\n",
            " mean perplexity: 16320.653083873542 \n",
            "\n",
            "Saved new model!\n",
            "\u001b[1m300/300\u001b[0m \u001b[32m━━━━━━━━━━━━━━━━━━━━\u001b[0m\u001b[37m\u001b[0m \u001b[1m12s\u001b[0m 35ms/step - loss: 4.4223\n",
            "Epoch 2/20\n",
            "\u001b[1m298/300\u001b[0m \u001b[32m━━━━━━━━━━━━━━━━━━━\u001b[0m\u001b[37m━\u001b[0m \u001b[1m0s\u001b[0m 12ms/step - loss: 2.9972\n",
            " mean perplexity: 21698.438915313684 \n",
            "\n",
            "\u001b[1m300/300\u001b[0m \u001b[32m━━━━━━━━━━━━━━━━━━━━\u001b[0m\u001b[37m\u001b[0m \u001b[1m14s\u001b[0m 46ms/step - loss: 2.9972\n",
            "Epoch 3/20\n",
            "\u001b[1m298/300\u001b[0m \u001b[32m━━━━━━━━━━━━━━━━━━━\u001b[0m\u001b[37m━\u001b[0m \u001b[1m0s\u001b[0m 12ms/step - loss: 2.9929\n",
            " mean perplexity: 12015.637295667942 \n",
            "\n",
            "Saved new model!\n",
            "\u001b[1m300/300\u001b[0m \u001b[32m━━━━━━━━━━━━━━━━━━━━\u001b[0m\u001b[37m\u001b[0m \u001b[1m13s\u001b[0m 22ms/step - loss: 2.9927\n",
            "Epoch 4/20\n",
            "\u001b[1m297/300\u001b[0m \u001b[32m━━━━━━━━━━━━━━━━━━━\u001b[0m\u001b[37m━\u001b[0m \u001b[1m0s\u001b[0m 13ms/step - loss: 2.9731\n",
            " mean perplexity: 27410.019681029196 \n",
            "\n",
            "\u001b[1m300/300\u001b[0m \u001b[32m━━━━━━━━━━━━━━━━━━━━\u001b[0m\u001b[37m\u001b[0m \u001b[1m10s\u001b[0m 23ms/step - loss: 2.9729\n",
            "Epoch 5/20\n",
            "\u001b[1m297/300\u001b[0m \u001b[32m━━━━━━━━━━━━━━━━━━━\u001b[0m\u001b[37m━\u001b[0m \u001b[1m0s\u001b[0m 13ms/step - loss: 2.9581\n",
            " mean perplexity: 17835.64053893186 \n",
            "\n",
            "\u001b[1m300/300\u001b[0m \u001b[32m━━━━━━━━━━━━━━━━━━━━\u001b[0m\u001b[37m\u001b[0m \u001b[1m10s\u001b[0m 24ms/step - loss: 2.9579\n",
            "Epoch 6/20\n",
            "\u001b[1m298/300\u001b[0m \u001b[32m━━━━━━━━━━━━━━━━━━━\u001b[0m\u001b[37m━\u001b[0m \u001b[1m0s\u001b[0m 12ms/step - loss: 2.9318\n",
            " mean perplexity: 78052.31231539046 \n",
            "\n",
            "\u001b[1m300/300\u001b[0m \u001b[32m━━━━━━━━━━━━━━━━━━━━\u001b[0m\u001b[37m\u001b[0m \u001b[1m12s\u001b[0m 29ms/step - loss: 2.9318\n",
            "Epoch 7/20\n",
            "\u001b[1m296/300\u001b[0m \u001b[32m━━━━━━━━━━━━━━━━━━━\u001b[0m\u001b[37m━\u001b[0m \u001b[1m0s\u001b[0m 12ms/step - loss: 2.8784\n",
            " mean perplexity: 24362.04582895811 \n",
            "\n",
            "\u001b[1m300/300\u001b[0m \u001b[32m━━━━━━━━━━━━━━━━━━━━\u001b[0m\u001b[37m\u001b[0m \u001b[1m8s\u001b[0m 22ms/step - loss: 2.8782\n",
            "Epoch 8/20\n",
            "\u001b[1m296/300\u001b[0m \u001b[32m━━━━━━━━━━━━━━━━━━━\u001b[0m\u001b[37m━\u001b[0m \u001b[1m0s\u001b[0m 13ms/step - loss: 2.8457\n",
            " mean perplexity: 50024.0921796122 \n",
            "\n",
            "Stopping training...\n",
            "\u001b[1m300/300\u001b[0m \u001b[32m━━━━━━━━━━━━━━━━━━━━\u001b[0m\u001b[37m\u001b[0m \u001b[1m7s\u001b[0m 24ms/step - loss: 2.8451\n"
          ]
        }
      ],
      "source": [
        "# fiteamos, nótese el agregado del callback con su inicialización. El batch_size lo podemos seleccionar a mano\n",
        "# en general, lo mejor es escoger el batch más grande posible que minimice el tiempo de cada época.\n",
        "# En la variable `history_ppl` se guardarán los valores de perplejidad para cada época.\n",
        "history_ppl3 = []\n",
        "model3_name = \"GRU\"\n",
        "hist3 = model3.fit(X, y, epochs=20, callbacks=[PplCallback(tokenized_sentences_val, history_ppl3, model3_name)], batch_size=64)"
      ]
    },
    {
      "cell_type": "code",
      "source": [
        "plot_model_history(history_ppl3, model3_name)"
      ],
      "metadata": {
        "colab": {
          "base_uri": "https://localhost:8080/",
          "height": 472
        },
        "outputId": "925ca493-3ce0-470d-903f-a755fd8ba5f3",
        "id": "KlA_mchKYJVE"
      },
      "execution_count": 59,
      "outputs": [
        {
          "output_type": "display_data",
          "data": {
            "text/plain": [
              "<Figure size 640x480 with 1 Axes>"
            ],
            "image/png": "[encoded data removed]"
          },
          "metadata": {}
        }
      ]
    },
    {
      "cell_type": "code",
      "source": [
        "# Cargamos el mejor modelo guardado del entrenamiento para hacer inferencia\n",
        "model3 = keras.models.load_model(f'{model3_name}.keras')"
      ],
      "metadata": {
        "id": "HK6LCBFEYJVE"
      },
      "execution_count": 60,
      "outputs": []
    },
    {
      "cell_type": "markdown",
      "metadata": {
        "id": "CLXiqLT0YJVE"
      },
      "source": [
        "\n",
        "#### Predicción de próxima palabra"
      ]
    },
    {
      "cell_type": "code",
      "execution_count": 61,
      "metadata": {
        "colab": {
          "base_uri": "https://localhost:8080/",
          "height": 698
        },
        "outputId": "38177861-3cd9-4615-a0ed-460bc3427489",
        "id": "xRfA8YX_YJVE"
      },
      "outputs": [
        {
          "output_type": "stream",
          "name": "stdout",
          "text": [
            "Running Gradio in a Colab notebook requires sharing enabled. Automatically setting `share=True` (you can turn this off by setting `share=False` in `launch()` explicitly).\n",
            "\n",
            "Colab notebook detected. This cell will run indefinitely so that you can see errors and logs. To turn off, set debug=False in launch().\n",
            "* Running on public URL: https://aa52d67f7b0cf6b040.gradio.live\n",
            "\n",
            "This share link expires in 72 hours. For free permanent hosting and GPU upgrades, run `gradio deploy` from the terminal in the working directory to deploy to Hugging Face Spaces (https://huggingface.co/spaces)\n"
          ]
        },
        {
          "output_type": "display_data",
          "data": {
            "text/plain": [
              "<IPython.core.display.HTML object>"
            ],
            "text/html": [
              "<div><iframe src=\"https://aa52d67f7b0cf6b040.gradio.live\" width=\"100%\" height=\"500\" allow=\"autoplay; camera; microphone; clipboard-read; clipboard-write;\" frameborder=\"0\" allowfullscreen></iframe></div>"
            ]
          },
          "metadata": {}
        },
        {
          "output_type": "stream",
          "name": "stdout",
          "text": [
            "\u001b[1m1/1\u001b[0m \u001b[32m━━━━━━━━━━━━━━━━━━━━\u001b[0m\u001b[37m\u001b[0m \u001b[1m0s\u001b[0m 159ms/step\n",
            "Keyboard interruption in main thread... closing server.\n",
            "Killing tunnel 127.0.0.1:7860 <> https://aa52d67f7b0cf6b040.gradio.live\n"
          ]
        }
      ],
      "source": [
        "predict_with_gradio(model3)"
      ]
    },
    {
      "cell_type": "markdown",
      "metadata": {
        "id": "aqLOMDFvYJVE"
      },
      "source": [
        "#### Generación de secuencias"
      ]
    },
    {
      "cell_type": "code",
      "execution_count": 62,
      "metadata": {
        "colab": {
          "base_uri": "https://localhost:8080/",
          "height": 209
        },
        "outputId": "90342809-8f9f-4bdb-8771-85bf0d1b0bce",
        "id": "1i3eWwOOYJVF"
      },
      "outputs": [
        {
          "output_type": "stream",
          "name": "stdout",
          "text": [
            "\u001b[1m1/1\u001b[0m \u001b[32m━━━━━━━━━━━━━━━━━━━━\u001b[0m\u001b[37m\u001b[0m \u001b[1m0s\u001b[0m 20ms/step\n",
            "\u001b[1m1/1\u001b[0m \u001b[32m━━━━━━━━━━━━━━━━━━━━\u001b[0m\u001b[37m\u001b[0m \u001b[1m0s\u001b[0m 19ms/step\n",
            "\u001b[1m1/1\u001b[0m \u001b[32m━━━━━━━━━━━━━━━━━━━━\u001b[0m\u001b[37m\u001b[0m \u001b[1m0s\u001b[0m 18ms/step\n",
            "\u001b[1m1/1\u001b[0m \u001b[32m━━━━━━━━━━━━━━━━━━━━\u001b[0m\u001b[37m\u001b[0m \u001b[1m0s\u001b[0m 18ms/step\n",
            "\u001b[1m1/1\u001b[0m \u001b[32m━━━━━━━━━━━━━━━━━━━━\u001b[0m\u001b[37m\u001b[0m \u001b[1m0s\u001b[0m 18ms/step\n",
            "\u001b[1m1/1\u001b[0m \u001b[32m━━━━━━━━━━━━━━━━━━━━\u001b[0m\u001b[37m\u001b[0m \u001b[1m0s\u001b[0m 17ms/step\n",
            "\u001b[1m1/1\u001b[0m \u001b[32m━━━━━━━━━━━━━━━━━━━━\u001b[0m\u001b[37m\u001b[0m \u001b[1m0s\u001b[0m 17ms/step\n",
            "\u001b[1m1/1\u001b[0m \u001b[32m━━━━━━━━━━━━━━━━━━━━\u001b[0m\u001b[37m\u001b[0m \u001b[1m0s\u001b[0m 18ms/step\n",
            "\u001b[1m1/1\u001b[0m \u001b[32m━━━━━━━━━━━━━━━━━━━━\u001b[0m\u001b[37m\u001b[0m \u001b[1m0s\u001b[0m 22ms/step\n",
            "\u001b[1m1/1\u001b[0m \u001b[32m━━━━━━━━━━━━━━━━━━━━\u001b[0m\u001b[37m\u001b[0m \u001b[1m0s\u001b[0m 23ms/step\n"
          ]
        },
        {
          "output_type": "execute_result",
          "data": {
            "text/plain": [
              "'en un lugar de que que que que que que que que que que'"
            ],
            "application/vnd.google.colaboratory.intrinsic+json": {
              "type": "string"
            }
          },
          "metadata": {},
          "execution_count": 62
        }
      ],
      "source": [
        "input_text='en un lugar de'\n",
        "\n",
        "generate_seq(model3, tok, input_text, max_length=max_context_size, n_words=10)"
      ]
    },
    {
      "cell_type": "markdown",
      "metadata": {
        "id": "1jlZDjBIYJVF"
      },
      "source": [
        "####  Beam search y muestreo aleatorio"
      ]
    },
    {
      "cell_type": "code",
      "execution_count": 63,
      "metadata": {
        "colab": {
          "base_uri": "https://localhost:8080/"
        },
        "outputId": "0432e2d4-2692-4938-b4b7-33372bce4bd5",
        "id": "nJeKqDO4YJVF"
      },
      "outputs": [
        {
          "output_type": "stream",
          "name": "stdout",
          "text": [
            "Temperatura: 1\n",
            "Salida 1: ['si vuestra merced sus que las y y della']\n",
            "Salida 2: ['si vuestra merced sus que las y y se']\n",
            "Salida 3: ['si vuestra merced sus que las y y viento']\n",
            "\n",
            "Temperatura: 5\n",
            "Salida 1: ['si vuestra merced batalla atar llena cala morgante babieca']\n",
            "Salida 2: ['si vuestra merced batalla atar llena cala ercilla señorías']\n",
            "Salida 3: ['si vuestra merced batalla atar llena cala ercilla villadie']\n",
            "\n",
            "Temperatura: 10\n",
            "Salida 1: ['si vuestra merced tasado mereciesen querer andar cuenta desdeñado']\n",
            "Salida 2: ['si vuestra merced tasado mereciesen liberalidad acertó voy borró']\n",
            "Salida 3: ['si vuestra merced tasado mereciesen querer andar cuenta autores']\n",
            "\n"
          ]
        }
      ],
      "source": [
        "temps = [1, 5, 10]\n",
        "for temp in temps:\n",
        "  print(f\"Temperatura: {temp}\")\n",
        "  salidas = beam_search(model3, num_beams=3, num_words=6, input=\"si vuestra merced\", temp=temp, mode='sto')\n",
        "  for idx, salida in enumerate(salidas):\n",
        "    print(f\"Salida {idx + 1}: {decode(salida)}\")\n",
        "  print()"
      ]
    },
    {
      "cell_type": "markdown",
      "source": [
        "### Conclusiones\n",
        "\n",
        "Por limitaciones de la GPU no se pudo utilizar un corpus con un vocabulario más amplio por lo que los resultados no parecen tener demasiado sentido. Lo ideal era utilizar el libro completo pero la GPU se quedaba sin memoria. Sin embargo, se puede observar que tanto LSTM como GRU parecen generar secuencias más coherentes. Se puede ver también que generar la secuencia sin Beam Search no parece ser muy útil ya que siempre genera las mismas palabras. Algo parecido ocurre cuando se usa temperatura 1 en Beam Search ya que pareciera elegir siempre las palabras con mayor probabilidad del vocabulario."
      ],
      "metadata": {
        "id": "DKvhffe3ZQKY"
      }
    }
  ],
  "metadata": {
    "colab": {
      "provenance": [],
      "gpuType": "T4"
    },
    "kernelspec": {
      "display_name": "Python 3",
      "name": "python3"
    },
    "language_info": {
      "name": "python"
    },
    "accelerator": "GPU"
  },
  "nbformat": 4,
  "nbformat_minor": 0
}